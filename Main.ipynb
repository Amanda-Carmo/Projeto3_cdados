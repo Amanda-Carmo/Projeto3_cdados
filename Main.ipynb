{
 "cells": [
  {
   "cell_type": "code",
   "execution_count": 1,
   "metadata": {},
   "outputs": [],
   "source": [
    "%matplotlib inline\n",
    "import pandas as pd\n",
    "import matplotlib.pyplot as plt\n",
    "import numpy as np"
   ]
  },
  {
   "cell_type": "code",
   "execution_count": 2,
   "metadata": {},
   "outputs": [],
   "source": [
    "dados = pd.read_csv('matchinfo.csv')"
   ]
  },
  {
   "cell_type": "code",
   "execution_count": 3,
   "metadata": {},
   "outputs": [
    {
     "data": {
      "text/html": [
       "<div>\n",
       "<style scoped>\n",
       "    .dataframe tbody tr th:only-of-type {\n",
       "        vertical-align: middle;\n",
       "    }\n",
       "\n",
       "    .dataframe tbody tr th {\n",
       "        vertical-align: top;\n",
       "    }\n",
       "\n",
       "    .dataframe thead th {\n",
       "        text-align: right;\n",
       "    }\n",
       "</style>\n",
       "<table border=\"1\" class=\"dataframe\">\n",
       "  <thead>\n",
       "    <tr style=\"text-align: right;\">\n",
       "      <th></th>\n",
       "      <th>League</th>\n",
       "      <th>Year</th>\n",
       "      <th>Season</th>\n",
       "      <th>Type</th>\n",
       "      <th>blueTeamTag</th>\n",
       "      <th>bResult</th>\n",
       "      <th>rResult</th>\n",
       "      <th>redTeamTag</th>\n",
       "      <th>gamelength</th>\n",
       "      <th>blueTop</th>\n",
       "      <th>...</th>\n",
       "      <th>redTopChamp</th>\n",
       "      <th>redJungle</th>\n",
       "      <th>redJungleChamp</th>\n",
       "      <th>redMiddle</th>\n",
       "      <th>redMiddleChamp</th>\n",
       "      <th>redADC</th>\n",
       "      <th>redADCChamp</th>\n",
       "      <th>redSupport</th>\n",
       "      <th>redSupportChamp</th>\n",
       "      <th>Address</th>\n",
       "    </tr>\n",
       "  </thead>\n",
       "  <tbody>\n",
       "    <tr>\n",
       "      <th>0</th>\n",
       "      <td>NALCS</td>\n",
       "      <td>2015</td>\n",
       "      <td>Spring</td>\n",
       "      <td>Season</td>\n",
       "      <td>TSM</td>\n",
       "      <td>1</td>\n",
       "      <td>0</td>\n",
       "      <td>C9</td>\n",
       "      <td>40</td>\n",
       "      <td>Dyrus</td>\n",
       "      <td>...</td>\n",
       "      <td>Gnar</td>\n",
       "      <td>Meteos</td>\n",
       "      <td>Elise</td>\n",
       "      <td>Hai</td>\n",
       "      <td>Fizz</td>\n",
       "      <td>Sneaky</td>\n",
       "      <td>Sivir</td>\n",
       "      <td>LemonNation</td>\n",
       "      <td>Thresh</td>\n",
       "      <td>http://matchhistory.na.leagueoflegends.com/en/...</td>\n",
       "    </tr>\n",
       "  </tbody>\n",
       "</table>\n",
       "<p>1 rows × 30 columns</p>\n",
       "</div>"
      ],
      "text/plain": [
       "  League  Year  Season    Type blueTeamTag  bResult  rResult redTeamTag  \\\n",
       "0  NALCS  2015  Spring  Season         TSM        1        0         C9   \n",
       "\n",
       "   gamelength blueTop                        ...                          \\\n",
       "0          40   Dyrus                        ...                           \n",
       "\n",
       "  redTopChamp redJungle redJungleChamp redMiddle redMiddleChamp  redADC  \\\n",
       "0        Gnar    Meteos          Elise       Hai           Fizz  Sneaky   \n",
       "\n",
       "  redADCChamp   redSupport redSupportChamp  \\\n",
       "0       Sivir  LemonNation          Thresh   \n",
       "\n",
       "                                             Address  \n",
       "0  http://matchhistory.na.leagueoflegends.com/en/...  \n",
       "\n",
       "[1 rows x 30 columns]"
      ]
     },
     "execution_count": 3,
     "metadata": {},
     "output_type": "execute_result"
    }
   ],
   "source": [
    "dados.head(1)"
   ]
  },
  {
   "cell_type": "code",
   "execution_count": 4,
   "metadata": {},
   "outputs": [
    {
     "data": {
      "text/plain": [
       "Index(['League', 'Year', 'Season', 'Type', 'blueTeamTag', 'bResult', 'rResult',\n",
       "       'redTeamTag', 'gamelength', 'blueTop', 'blueTopChamp', 'blueJungle',\n",
       "       'blueJungleChamp', 'blueMiddle', 'blueMiddleChamp', 'blueADC',\n",
       "       'blueADCChamp', 'blueSupport', 'blueSupportChamp', 'redTop',\n",
       "       'redTopChamp', 'redJungle', 'redJungleChamp', 'redMiddle',\n",
       "       'redMiddleChamp', 'redADC', 'redADCChamp', 'redSupport',\n",
       "       'redSupportChamp', 'Address'],\n",
       "      dtype='object')"
      ]
     },
     "execution_count": 4,
     "metadata": {},
     "output_type": "execute_result"
    }
   ],
   "source": [
    "dados.columns"
   ]
  },
  {
   "cell_type": "code",
   "execution_count": null,
   "metadata": {},
   "outputs": [],
   "source": []
  },
  {
   "cell_type": "code",
   "execution_count": 16,
   "metadata": {},
   "outputs": [],
    "    matchs=len(dados[dados.blueTeamTag==k])+ len(dados[dados.redTeamTag==k])\n",
    "    if matchs!=0:\n",
    "        team[k]=wins/matchs\n",
    "#print (team)"
   ]
  },
  {
   "cell_type": "markdown",
   "metadata": {},
   "source": [
    "_____________"
    "#print (team)"
  },
  {
   "cell_type": "markdown",
   "metadata": {},
   "source": [
    "### <font color='#99003d'>Win rate dos campeões de cada posição: </font>"
   ]
  },
  {
   "cell_type": "markdown",
   "metadata": {},
   "source": [
    "__________________________________________________________________________________________________________________"
   ]
  },
  {
   "cell_type": "markdown",
   "metadata": {},
   "source": [
    "#### Top"
   ]
  },
  {
   "cell_type": "code",
   "execution_count": 6,
   "metadata": {},
   "outputs": [],
   "source": [
    "top_champ = {}\n",
    "for i in dados.blueTopChamp:\n",
    "    top_champ[i]=0\n",
    "for i in dados.redTopChamp:\n",
   "execution_count": 6,
    "for k,v in  top_champ.items():\n",
   "outputs": [],
   "metadata": {},
    "#porcentagem de wins per champ no top\n",
    "top = {}\n",
    "#### Jungle"
   ]
  },
  {
   "cell_type": "code",
   "execution_count": 7,
   "metadata": {},
   "outputs": [],
   "source": [
    "#print(top_champ)"
    "for i in dados.blueJungleChamp:\n",
    "    jg_champ[i]=0\n",
    "for i in dados.redJungleChamp:\n",
    "    jg_champ[i]=0\n",
    "for k,v in  jg_champ.items():\n",
    "    wins=len(dados[(dados.blueJungleChamp==k) & (dados.bResult==1)])+len(dados[(dados.redJungleChamp==k) & (dados.rResult==1)])\n",
    "    matchs=len(dados[dados.blueJungleChamp==k])+ len(dados[dados.redJungleChamp==k])      \n",
    "    if matchs!=0:\n",
    "        jg_champ[k]=wins/matchs\n",
    "#print(jg_champ)"
   ]
<<<<<<< HEAD
   "execution_count": 7,
   "metadata": {},
   "outputs": [],
=======
<<<<<<< HEAD
   "execution_count": 28,
=======
  },
>>>>>>> 1cfe717be5a9f436f71562d86bb68b2d091490f9
  {
   "cell_type": "markdown",
   "metadata": {},
   "source": [
    "#### Middle"
   ]
<<<<<<< HEAD
      "{'TSM': 0.6509433962264151, 'CST': 0.375, 'WFX': 0.36363636363636365, 'TIP': 0.5, 'CLG': 0.559322033898305, 'DIG': 0.4388888888888889, 'TL': 0.47509578544061304, 'C9': 0.5836065573770491, 'T8': 0.44680851063829785, 'GV': 0.52, 'TDK': 0.2903225806451613, 'NME': 0.24, 'REN': 0.4090909090909091, 'FOX': 0.34375, 'IMT': 0.6197916666666666, 'NRG': 0.3188405797101449, 'NV': 0.4069264069264069, 'APX': 0.4716981132075472, 'P1': 0.463855421686747, 'FLY': 0.45045045045045046, 'EL': 0.37037037037037035, 'GIA': 0.41361256544502617, 'CW': 0.3617021276595745, 'SK': 0.5, 'GMB': 0.5555555555555556, 'MYM': 0.2631578947368421, 'ROC': 0.42021276595744683, 'FNC': 0.5765124555160143, 'UOL': 0.5095785440613027, 'H2K': 0.6124031007751938, 'OG': 0.4382716049382716, 'SPY': 0.5096774193548387, 'VIT': 0.4426229508196721, 'G2': 0.6327433628318584, 'S04': 0.43548387096774194, 'MSF': 0.5181818181818182, 'NIP': 0.28205128205128205, 'MM': 0.19444444444444445, 'CJE': 0.4528301886792453, 'JAG': 0.47735191637630664, 'SKT': 0.7121588089330024, 'GET': 0.7105263157894737, 'NJE': 0.4745762711864407, 'IM': 0.2702702702702703, 'SSG': 0.562111801242236, 'kt': 0.6058631921824105, 'ANC': 0.38, 'SBENU': 0.0, 'Longzhu': 0.6666666666666666, 'SSB': 0.27722772277227725, 'KOO': 0.6176470588235294, 'LZ': 0.48484848484848486, 'NJF': 0.52, 'CJ': 0.40816326530612246, 'AFs': 0.5, 'EMF': 0.16666666666666666, 'ROX': 0.5311355311355311, 'KDM': 0.36885245901639346, 'ESC': 0.43478260869565216, 'MVP': 0.4105960264900662, 'bbq': 0.37272727272727274, 'EEW': 0.32727272727272727, 'ahq': 0.7741935483870968, 'Crew': 0.0, 'TPA': 0.4883720930232558, 'LOG': 0.35714285714285715, 'DLY': 0.5, 'MSE': 0.38613861386138615, 'NGU': 0.23076923076923078, 'DoR': 0.0, 'HKES': 0.6470588235294118, 'yoeFW': 0.8, nan: 0, 'LGS': 0.21428571428571427, 'as': 0.0, 'HKE': 0.5034965034965035, 'FW': 0.6762295081967213, 'Mac': 0.35714285714285715, 'AS': 0.25925925925925924, 'M17': 0.4782608695652174, 'CGE': 0.03225806451612903, 'XG': 0.2608695652173913, 'JT': 0.6228070175438597, 'TM': 0.28703703703703703, 'FB': 0.43333333333333335, 'WS': 0.35714285714285715, 'RG': 0.5405405405405406, 'HKA': 0.5, 'AHQ': 0.45901639344262296, 'PNG': 0.5393258426966292, 'ITZ': 0.6333333333333333, 'CNB': 0.4142857142857143, 'OPK': 0.3877551020408163, 'VFK': 0.5945945945945946, 'KBM': 0.3620689655172414, 'RED': 0.5888888888888889, 'g3x': 0.3125, 'BGG': 0.3125, 'KST': 0.5454545454545454, 'REM': 0.21428571428571427, 'TSW': 0.0, 'PRG': 0.5789473684210527, 'ONE': 0.6071428571428571, 'BJK': 0.5471698113207547, 'TT': 0.43617021276595747, 'A': 0.36363636363636365, 'ZONE': 0.14285714285714285, 'HWA': 0.5384615384615384, 'NR1': 0.28846153846153844, 'DP': 0.5260115606936416, 'BPI': 0.2857142857142857, 'OHM': 0.4, 'CREW': 0.14285714285714285, 'SUP': 0.6558441558441559, 'AUR': 0.5692307692307692, 'CLK': 0.2571428571428571, 'CRW': 0.5315315315315315, 'GS': 0.2857142857142857, 'GAL': 0.38235294117647056, 'P3P': 0.47058823529411764, 'INF': 0.46987951807228917, 'DW': 0.6370967741935484, 'LGC': 0.6875, 'SIN': 0.49264705882352944, 'TRI': 0.4166666666666667, 'CHF': 0.6717557251908397, 'HLN': 0.16279069767441862, 'AV': 0.48739495798319327, 'AE': 0.36, 'X5': 0.09090909090909091, 'RGC': 0.22727272727272727, 'ISG': 0.6307692307692307, 'HAF': 0.391304347826087, 'FG': 0.5633802816901409, 'RBT': 0.42, 'LK': 0.5490196078431373, 'KLG': 0.52, 'B2K': 0.25, 'PDS': 0.5079365079365079, 'IFG': 0.07407407407407407, 'JTH': 0.4794520547945205, 'LYN': 0.8933333333333333, 'D9': 0.5087719298245614, 'ZTG': 0.3103448275862069, 'GG': 0.46296296296296297, 'SCW': 0.10714285714285714, '7h': 0.44594594594594594, 'USG': 0.5925925925925926, 'DFM': 0.7974683544303798, 'RPG': 0.654320987654321, 'CRJ': 0.3181818181818182, 'BE': 0.047619047619047616, 'SZ': 0.19047619047619047, 'RJ': 0.34, 'BC': 0.13043478260869565, 'HR': 0.85, 'DF': 0.07142857142857142, 'VEG': 0.5111111111111111, 'JST': 0.3103448275862069, 'VS': 0.4794520547945205, 'EMP': 0.4, 'ANX': 0.71875, 'M19': 0.46938775510204084, 'VP': 0.5555555555555556, 'JSA': 0.45454545454545453, 'EDG': 0.509090909090909, 'SSW': 0.8823529411764706, 'SHR': 0.6, 'LMQ': 0.3333333333333333, 'NWS': 0.5, 'OMG': 0.5, 'ALL': 0.5, 'IG': 0.3333333333333333, 'BKT': 0.0, 'KT': 0.6363636363636364, 'LGD': 0.25, 'RNG': 0.6041666666666666, 'GAM': 0.4166666666666667, 'WE': 0.5581395348837209, 'QG': 0.5, 'H2k': 0.5, 'INTZ': 0.0, 'JTM': 0.5, 'GlA': 0.2, 'MSK': 0.0, 'ASC': 0.0, '100': 0.75, 'CG': 0.3333333333333333, 'KZ': 0.75, 'KSV': 0.6666666666666666, 'ORD': 1.0, 'TTC': 0.0, 'BMR': 0.0, 'MAD': 0.2, 'VK': 0.5, 'YC': 0.2, 'OPT': 0.25, 'GGS': 0.0, 'CA': 0.6428571428571429, 'EG': 1.0, 'COL': 0.4, 'F5': 0.5384615384615384, 'ZEN': 0.0, 'CLB': 0.0, 'COW': 0.4, 'MKZ': 0.3333333333333333, 'PRO': 0.5, 'FIS': 0.0, 'NTR': 0.0, 'FSN': 0.47619047619047616, 'SKP': 0.2857142857142857, 'MIL': 0.38461538461538464, 'MC': 0.6666666666666666, 'CF': 0.0, 'TS': 0.0, 'TRC': 0.3333333333333333, 'FAC': 0.3333333333333333, 'SPA': 0.0, 'DD': 0.5, 'MOU': 0.0, 'IMG': 0.25, 'TLA': 0.4, 'C9C': 1.0, 'GCU': 0.4090909090909091, 'EUN': 0.29411764705882354, 'HMA': 0.25, 'FNA': 0.6666666666666666, 'MFA': 0.75, 'Winners': 0.2, 'Prime': 0.4, 'Xenics': 0.2, 'EVR': 0.25, 'SBK': 0.25, 'FH': 1.0, 'WOR': 0.25, 'NH': 0.25, 'TY': 0.2857142857142857, '17A': 0.3333333333333333, 'AF': 0.6, 'DH': 0.5, 'AFR': 0.2, 'GRX': 1.0, 'RBE': 0.8, 'CWA': 0.0, 'TPB': 0.25, 'LGT': 0.5, 'UC': 0.0}\n"
=======
  },
>>>>>>> 1cfe717be5a9f436f71562d86bb68b2d091490f9
  {
   "cell_type": "code",
   "execution_count": 8,
>>>>>>> f13300f9b9a2b5109994a45457d91d1816a27b97
   "metadata": {},
<<<<<<< HEAD
    "#porcentagem de wins per team\n",
    "dic={}\n",
    "for i in dados.blueTeamTag:\n",
    "    dic[i]=0\n",
    "for i in dados.redTeamTag:\n",
    "    dic[i]=0\n",
    "for k,v in dic.items():\n",
    "    wins=len(dados[(dados.blueTeamTag==k) & (dados.bResult==1)])+len(dados[(dados.redTeamTag==k) & (dados.rResult==1)])\n",
    "    matchs=len(dados[dados.blueTeamTag==k])+ len(dados[dados.redTeamTag==k])\n",
    "    if matchs!=0:\n",
    "        dic[k]=wins/matchs\n",
    "print (dic)"
=======
   "outputs": [],
   "source": [
    "mid_champ = {}\n",
    "for i in dados.blueMiddleChamp:\n",
    "    mid_champ[i]=0\n",
    "for i in dados.redMiddleChamp:\n",
    "    mid_champ[i]=0\n",
    "for k,v in  mid_champ.items():\n",
    "    wins=len(dados[(dados.blueMiddleChamp==k) & (dados.bResult==1)])+len(dados[(dados.redMiddleChamp==k) & (dados.rResult==1)])\n",
    "    matchs=len(dados[dados.blueMiddleChamp==k])+ len(dados[dados.redMiddleChamp==k])      \n",
    "#print(jg_champ)"
    "        mid_champ[k]=wins/matchs\n",
    "#print(mid_champ)"
   ]
  },
  {
   "cell_type": "markdown",
   "metadata": {},
   "source": [
    "#### ADC"
   ]
  },
   "execution_count": 8,
   "cell_type": "code",
   "outputs": [],
    "for k,v in  adc_champ.items():\n",
    "    wins=len(dados[(dados.blueADCChamp==k) & (dados.bResult==1)])+len(dados[(dados.redADCChamp==k) & (dados.rResult==1)])\n",
    "    matchs=len(dados[dados.blueADCChamp==k])+ len(dados[dados.redADCChamp==k])      \n",
    "    if matchs!=0:\n",
    "        adc_champ[k]=wins/matchs\n",
    "#print(adc_champ)"
   ]
  },
  {
   "cell_type": "markdown",
   "metadata": {},
    "#print(mid_champ)"
    "#### Sopport"
   ]
  },
  {
   "cell_type": "code",
   "execution_count": 10,
   "metadata": {},
   "outputs": [],
   "source": [
    "sup_champ = {}\n",
    "for i in dados.blueSupportChamp:\n",
   "execution_count": 9,
    "for i in dados.redSupportChamp:\n",
   "outputs": [],
  {
   "cell_type": "markdown",
   "metadata": {},
   "source": [
    "_________________"
   ]
  },
  {
   "cell_type": "markdown",
   "metadata": {},
   "source": [
    "#print(adc_champ)"
   ]
  },
  {
   "cell_type": "markdown",
   "metadata": {},
   "source": [
    "_______________________________________________________________________________________________________________"
   ]
  },
  {
   "cell_type": "markdown",
   "execution_count": 10,
   "source": [
   "outputs": [],
    "top_player = {}\n",
    "for i in dados.blueTop:\n",
    "    top_player[i]=0\n",
    "for i in dados.redTop:\n",
    "    top_player[i]=0\n",
    "for k,v in  top_player.items():\n",
    "    wins=len(dados[(dados.blueTop==k) & (dados.bResult==1)])+len(dados[(dados.redTop==k) & (dados.rResult==1)])\n",
    "    matchs=len(dados[dados.blueTop==k])+ len(dados[dados.redTop==k])      \n",
    "    if matchs!=0:\n",
    "        top_player[k]=wins/matchs\n",
    "#print(top_player)"
    "#print(sup_champ)"
  },
  {
   "cell_type": "markdown",
   "metadata": {},
   "source": [
    "#### Jungle"
   ]
  },
  {
   "cell_type": "code",
   "execution_count": 12,
   "metadata": {},
   "outputs": [],
   "source": [
    "jg_player = {}\n",
    "for i in dados.blueJungle:\n",
    "    jg_player[i]=0\n",
    "for i in dados.redJungle:\n",
    "    jg_player[i]=0\n",
    "for k,v in  jg_player.items():\n",
    "    wins=len(dados[(dados.blueJungle==k) & (dados.bResult==1)])+len(dados[(dados.redJungle==k) & (dados.rResult==1)])\n",
    "    matchs=len(dados[dados.blueJungle==k])+ len(dados[dados.redJungle==k])      \n",
    "    if matchs!=0:\n",
    "        jg_player[k]=wins/matchs\n",
    "#print(jg_player)"
   ]
  },
  {
   "cell_type": "markdown",
   "metadata": {},
   "source": [
    "#### Middle"
   "execution_count": 11,
  },
   "outputs": [],
    "for i in dados.redMiddle:\n",
    "    mid_player[i]=0\n",
    "for k,v in  mid_player.items():\n",
    "    wins=len(dados[(dados.blueMiddle==k) & (dados.bResult==1)])+len(dados[(dados.redMiddle==k) & (dados.rResult==1)])\n",
    "    matchs=len(dados[dados.blueMiddle==k])+ len(dados[dados.redMiddle==k])      \n",
    "    if matchs!=0:\n",
    "        mid_player[k]=wins/matchs\n",
    "#print(mid_player)"
   ]
  },
  {
    "#print(top_player)"
   "metadata": {},
   "source": [
    "#### ADC"
   ]
  },
  {
   "cell_type": "code",
   "execution_count": 14,
   "metadata": {},
   "outputs": [],
   "source": [
   "execution_count": 12,
    "for i in dados.blueADC:\n",
   "outputs": [],
   ]
  },
  {
   "cell_type": "markdown",
   "metadata": {},
   "source": [
    "#### Support"
   ]
  },
  {
   "cell_type": "code",
    "#print(jg_player)"
   "metadata": {},
   "outputs": [],
   "source": [
    "sup_player = {}\n",
    "for i in dados.blueSupport:\n",
    "    sup_player[i]=0\n",
    "for i in dados.redSupport:\n",
    "    sup_player[i]=0\n",
    "for k,v in  sup_player.items():\n",
    "    wins=len(dados[(dados.blueSupport==k) & (dados.bResult==1)])+len(dados[(dados.redSupport==k) & (dados.rResult==1)])\n",
    "    matchs=len(dados[dados.blueSupport==k])+ len(dados[dados.redSupport==k])      \n",
   "execution_count": 13,
    "        sup_player[k]=wins/matchs\n",
   "outputs": [],
  }
 ],
 "metadata": {
  "kernelspec": {
   "display_name": "Python 3",
   "language": "python",
   "name": "python3"
  },
  "language_info": {
   "codemirror_mode": {
    "name": "ipython",
    "#print(mid_player)"
   },
   "file_extension": ".py",
   "mimetype": "text/x-python",
   "name": "python",
   "nbconvert_exporter": "python",
   "pygments_lexer": "ipython3",
   "version": "3.7.1"
  }
 },
 "nbformat": 4,
 "nbformat_minor": 2
   "execution_count": 14,
   "outputs": [],
    "#print(adc_player)"
   "execution_count": 15,
   "outputs": [],
<<<<<<< HEAD
    "#print(sup_player)"
=======
>>>>>>> 1cfe717be5a9f436f71562d86bb68b2d091490f9
>>>>>>> f13300f9b9a2b5109994a45457d91d1816a27b97
