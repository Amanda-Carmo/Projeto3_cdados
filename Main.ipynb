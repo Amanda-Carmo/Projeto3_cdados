{
 "cells": [
  {
   "cell_type": "code",
   "execution_count": 556,
   "metadata": {},
   "outputs": [],
   "source": [
    "%matplotlib inline\n",
    "import pandas as pd\n",
    "import matplotlib.pyplot as plt\n",
    "import numpy as np\n",
    "from sklearn.preprocessing import OneHotEncoder\n",
    "from sklearn.metrics import accuracy_score, confusion_matrix\n",
    "from sklearn.ensemble import RandomForestClassifier\n",
    "from sklearn.linear_model import LogisticRegression\n",
    "import warnings"
   ]
  },
  {
   "cell_type": "code",
   "execution_count": 557,
   "metadata": {},
   "outputs": [],
   "source": [
    "dados = pd.read_excel('matchinfo-treinamento.xlsx')\n",
    "dados_testes = pd.read_excel('matchinfo-testes.xlsx')\n",
    "# dados = pd.read_csv('matchinfo.csv')"
   ]
  },
  {
   "cell_type": "code",
   "execution_count": 498,
   "metadata": {},
   "outputs": [
    {
     "data": {
      "text/html": [
       "<div>\n",
       "<style scoped>\n",
       "    .dataframe tbody tr th:only-of-type {\n",
       "        vertical-align: middle;\n",
       "    }\n",
       "\n",
       "    .dataframe tbody tr th {\n",
       "        vertical-align: top;\n",
       "    }\n",
       "\n",
       "    .dataframe thead th {\n",
       "        text-align: right;\n",
       "    }\n",
       "</style>\n",
       "<table border=\"1\" class=\"dataframe\">\n",
       "  <thead>\n",
       "    <tr style=\"text-align: right;\">\n",
       "      <th></th>\n",
       "      <th>League</th>\n",
       "      <th>Year</th>\n",
       "      <th>Season</th>\n",
       "      <th>Type</th>\n",
       "      <th>blueTeamTag</th>\n",
       "      <th>bResult</th>\n",
       "      <th>rResult</th>\n",
       "      <th>redTeamTag</th>\n",
       "      <th>gamelength</th>\n",
       "      <th>blueTop</th>\n",
       "      <th>...</th>\n",
       "      <th>redTopChamp</th>\n",
       "      <th>redJungle</th>\n",
       "      <th>redJungleChamp</th>\n",
       "      <th>redMiddle</th>\n",
       "      <th>redMiddleChamp</th>\n",
       "      <th>redADC</th>\n",
       "      <th>redADCChamp</th>\n",
       "      <th>redSupport</th>\n",
       "      <th>redSupportChamp</th>\n",
       "      <th>Address</th>\n",
       "    </tr>\n",
       "  </thead>\n",
       "  <tbody>\n",
       "    <tr>\n",
       "      <th>0</th>\n",
       "      <td>NALCS</td>\n",
       "      <td>2016</td>\n",
       "      <td>Spring</td>\n",
       "      <td>Season</td>\n",
       "      <td>TSM</td>\n",
       "      <td>0</td>\n",
       "      <td>1</td>\n",
       "      <td>REN</td>\n",
       "      <td>30</td>\n",
       "      <td>Hauntzer</td>\n",
       "      <td>...</td>\n",
       "      <td>Graves</td>\n",
       "      <td>Crumbz</td>\n",
       "      <td>Gragas</td>\n",
       "      <td>Ninja</td>\n",
       "      <td>Lissandra</td>\n",
       "      <td>Freeze</td>\n",
       "      <td>Caitlyn</td>\n",
       "      <td>Hakuho</td>\n",
       "      <td>Bard</td>\n",
       "      <td>http://matchhistory.na.leagueoflegends.com/en/...</td>\n",
       "    </tr>\n",
       "  </tbody>\n",
       "</table>\n",
       "<p>1 rows × 30 columns</p>\n",
       "</div>"
      ],
      "text/plain": [
       "  League  Year  Season    Type blueTeamTag  bResult  rResult redTeamTag  \\\n",
       "0  NALCS  2016  Spring  Season         TSM        0        1        REN   \n",
       "\n",
       "   gamelength   blueTop                        ...                          \\\n",
       "0          30  Hauntzer                        ...                           \n",
       "\n",
       "  redTopChamp redJungle redJungleChamp redMiddle redMiddleChamp  redADC  \\\n",
       "0      Graves    Crumbz         Gragas     Ninja      Lissandra  Freeze   \n",
       "\n",
       "  redADCChamp redSupport redSupportChamp  \\\n",
       "0     Caitlyn     Hakuho            Bard   \n",
       "\n",
       "                                             Address  \n",
       "0  http://matchhistory.na.leagueoflegends.com/en/...  \n",
       "\n",
       "[1 rows x 30 columns]"
      ]
     },
     "execution_count": 498,
     "metadata": {},
     "output_type": "execute_result"
    }
   ],
   "source": [
    "dados.head(1)"
   ]
  },
  {
   "cell_type": "code",
   "execution_count": 499,
   "metadata": {},
   "outputs": [
    {
     "data": {
      "text/html": [
       "<div>\n",
       "<style scoped>\n",
       "    .dataframe tbody tr th:only-of-type {\n",
       "        vertical-align: middle;\n",
       "    }\n",
       "\n",
       "    .dataframe tbody tr th {\n",
       "        vertical-align: top;\n",
       "    }\n",
       "\n",
       "    .dataframe thead th {\n",
       "        text-align: right;\n",
       "    }\n",
       "</style>\n",
       "<table border=\"1\" class=\"dataframe\">\n",
       "  <thead>\n",
       "    <tr style=\"text-align: right;\">\n",
       "      <th></th>\n",
       "      <th>League</th>\n",
       "      <th>Year</th>\n",
       "      <th>Season</th>\n",
       "      <th>Type</th>\n",
       "      <th>blueTeamTag</th>\n",
       "      <th>bResult</th>\n",
       "      <th>rResult</th>\n",
       "      <th>redTeamTag</th>\n",
       "      <th>gamelength</th>\n",
       "      <th>blueTop</th>\n",
       "      <th>...</th>\n",
       "      <th>redTopChamp</th>\n",
       "      <th>redJungle</th>\n",
       "      <th>redJungleChamp</th>\n",
       "      <th>redMiddle</th>\n",
       "      <th>redMiddleChamp</th>\n",
       "      <th>redADC</th>\n",
       "      <th>redADCChamp</th>\n",
       "      <th>redSupport</th>\n",
       "      <th>redSupportChamp</th>\n",
       "      <th>Address</th>\n",
       "    </tr>\n",
       "  </thead>\n",
       "  <tbody>\n",
       "    <tr>\n",
       "      <th>0</th>\n",
       "      <td>NALCS</td>\n",
       "      <td>2018</td>\n",
       "      <td>Spring</td>\n",
       "      <td>Promotion</td>\n",
       "      <td>GCU</td>\n",
       "      <td>1</td>\n",
       "      <td>0</td>\n",
       "      <td>P1</td>\n",
       "      <td>35</td>\n",
       "      <td>Solo</td>\n",
       "      <td>...</td>\n",
       "      <td>Kled</td>\n",
       "      <td>MikeYeung</td>\n",
       "      <td>Elise</td>\n",
       "      <td>Ryu</td>\n",
       "      <td>Lucian</td>\n",
       "      <td>Arrow</td>\n",
       "      <td>Tristana</td>\n",
       "      <td>Xpecial</td>\n",
       "      <td>Taric</td>\n",
       "      <td>http://matchhistory.na.leagueoflegends.com/en/...</td>\n",
       "    </tr>\n",
       "    <tr>\n",
       "      <th>1</th>\n",
       "      <td>CBLoL</td>\n",
       "      <td>2017</td>\n",
       "      <td>Spring</td>\n",
       "      <td>Season</td>\n",
       "      <td>CNB</td>\n",
       "      <td>1</td>\n",
       "      <td>0</td>\n",
       "      <td>KBM</td>\n",
       "      <td>45</td>\n",
       "      <td>Lep</td>\n",
       "      <td>...</td>\n",
       "      <td>Nautilus</td>\n",
       "      <td>Danagorn</td>\n",
       "      <td>RekSai</td>\n",
       "      <td>Vash</td>\n",
       "      <td>Jayce</td>\n",
       "      <td>TheFoxz</td>\n",
       "      <td>Ziggs</td>\n",
       "      <td>Riyev</td>\n",
       "      <td>MissFortune</td>\n",
       "      <td>http://matchhistory.br.leagueoflegends.com/pt/...</td>\n",
       "    </tr>\n",
       "  </tbody>\n",
       "</table>\n",
       "<p>2 rows × 30 columns</p>\n",
       "</div>"
      ],
      "text/plain": [
       "  League  Year  Season       Type blueTeamTag  bResult  rResult redTeamTag  \\\n",
       "0  NALCS  2018  Spring  Promotion         GCU        1        0         P1   \n",
       "1  CBLoL  2017  Spring     Season         CNB        1        0        KBM   \n",
       "\n",
       "   gamelength blueTop                        ...                          \\\n",
       "0          35    Solo                        ...                           \n",
       "1          45     Lep                        ...                           \n",
       "\n",
       "  redTopChamp  redJungle redJungleChamp redMiddle redMiddleChamp   redADC  \\\n",
       "0        Kled  MikeYeung          Elise       Ryu         Lucian    Arrow   \n",
       "1    Nautilus   Danagorn         RekSai      Vash          Jayce  TheFoxz   \n",
       "\n",
       "  redADCChamp redSupport redSupportChamp  \\\n",
       "0    Tristana    Xpecial           Taric   \n",
       "1       Ziggs      Riyev     MissFortune   \n",
       "\n",
       "                                             Address  \n",
       "0  http://matchhistory.na.leagueoflegends.com/en/...  \n",
       "1  http://matchhistory.br.leagueoflegends.com/pt/...  \n",
       "\n",
       "[2 rows x 30 columns]"
      ]
     },
     "execution_count": 499,
     "metadata": {},
     "output_type": "execute_result"
    }
   ],
   "source": [
    "dados_testes.head(2)"
   ]
  },
  {
   "cell_type": "code",
   "execution_count": 500,
   "metadata": {},
   "outputs": [
    {
     "data": {
      "text/plain": [
       "Index(['League', 'Year', 'Season', 'Type', 'blueTeamTag', 'bResult', 'rResult',\n",
       "       'redTeamTag', 'gamelength', 'blueTop', 'blueTopChamp', 'blueJungle',\n",
       "       'blueJungleChamp', 'blueMiddle', 'blueMiddleChamp', 'blueADC',\n",
       "       'blueADCChamp', 'blueSupport', 'blueSupportChamp', 'redTop',\n",
       "       'redTopChamp', 'redJungle', 'redJungleChamp', 'redMiddle',\n",
       "       'redMiddleChamp', 'redADC', 'redADCChamp', 'redSupport',\n",
       "       'redSupportChamp', 'Address'],\n",
       "      dtype='object')"
      ]
     },
     "execution_count": 500,
     "metadata": {},
     "output_type": "execute_result"
    }
   ],
   "source": [
    "dados.columns"
   ]
  },
  {
   "cell_type": "code",
   "execution_count": 649,
   "metadata": {},
   "outputs": [
    {
     "name": "stdout",
     "output_type": "stream",
     "text": [
      "<class 'pandas.core.frame.DataFrame'>\n",
      "RangeIndex: 6499 entries, 0 to 6498\n",
      "Data columns (total 30 columns):\n",
      "League              6499 non-null object\n",
      "Year                6499 non-null int64\n",
      "Season              6499 non-null object\n",
      "Type                6499 non-null object\n",
      "blueTeamTag         6466 non-null object\n",
      "bResult             6499 non-null int64\n",
      "rResult             6499 non-null int64\n",
      "redTeamTag          6467 non-null object\n",
      "gamelength          6499 non-null int64\n",
      "blueTop             6467 non-null object\n",
      "blueTopChamp        6499 non-null object\n",
      "blueJungle          6476 non-null object\n",
      "blueJungleChamp     6499 non-null object\n",
      "blueMiddle          6467 non-null object\n",
      "blueMiddleChamp     6499 non-null object\n",
      "blueADC             6467 non-null object\n",
      "blueADCChamp        6499 non-null object\n",
      "blueSupport         6467 non-null object\n",
      "blueSupportChamp    6499 non-null object\n",
      "redTop              6467 non-null object\n",
      "redTopChamp         6499 non-null object\n",
      "redJungle           6478 non-null object\n",
      "redJungleChamp      6499 non-null object\n",
      "redMiddle           6467 non-null object\n",
      "redMiddleChamp      6499 non-null object\n",
      "redADC              6467 non-null object\n",
      "redADCChamp         6499 non-null object\n",
      "redSupport          6467 non-null object\n",
      "redSupportChamp     6499 non-null object\n",
      "Address             6499 non-null object\n",
      "dtypes: int64(4), object(26)\n",
      "memory usage: 1.5+ MB\n"
     ]
    }
   ],
   "source": [
    "dados.info()"
   ]
  },
  {
   "cell_type": "code",
   "execution_count": 648,
   "metadata": {},
   "outputs": [
    {
     "name": "stdout",
     "output_type": "stream",
     "text": [
      "<class 'pandas.core.frame.DataFrame'>\n",
      "RangeIndex: 1121 entries, 0 to 1120\n",
      "Data columns (total 30 columns):\n",
      "League              1121 non-null object\n",
      "Year                1121 non-null int64\n",
      "Season              1121 non-null object\n",
      "Type                1121 non-null object\n",
      "blueTeamTag         1116 non-null object\n",
      "bResult             1121 non-null int64\n",
      "rResult             1121 non-null int64\n",
      "redTeamTag          1116 non-null object\n",
      "gamelength          1121 non-null int64\n",
      "blueTop             1116 non-null object\n",
      "blueTopChamp        1121 non-null object\n",
      "blueJungle          1116 non-null object\n",
      "blueJungleChamp     1121 non-null object\n",
      "blueMiddle          1116 non-null object\n",
      "blueMiddleChamp     1121 non-null object\n",
      "blueADC             1116 non-null object\n",
      "blueADCChamp        1121 non-null object\n",
      "blueSupport         1116 non-null object\n",
      "blueSupportChamp    1121 non-null object\n",
      "redTop              1116 non-null object\n",
      "redTopChamp         1121 non-null object\n",
      "redJungle           1118 non-null object\n",
      "redJungleChamp      1121 non-null object\n",
      "redMiddle           1116 non-null object\n",
      "redMiddleChamp      1121 non-null object\n",
      "redADC              1116 non-null object\n",
      "redADCChamp         1121 non-null object\n",
      "redSupport          1116 non-null object\n",
      "redSupportChamp     1121 non-null object\n",
      "Address             1121 non-null object\n",
      "dtypes: int64(4), object(26)\n",
      "memory usage: 262.8+ KB\n"
     ]
    }
   ],
   "source": [
    "dados_testes.info()"
   ]
  },
  {
   "cell_type": "code",
   "execution_count": 501,
   "metadata": {},
   "outputs": [],
   "source": [
    "team={}\n",
    "for i in dados.blueTeamTag:\n",
    "    team[i]=0\n",
    "for i in dados.redTeamTag:\n",
    "    team[i]=0\n",
    "for k,v in team.items():\n",
    "    wins=len(dados[(dados.blueTeamTag==k) & (dados.bResult==1)])+len(dados[(dados.redTeamTag==k) & (dados.rResult==1)])\n",
    "    matchs=len(dados[dados.blueTeamTag==k])+ len(dados[dados.redTeamTag==k])\n",
    "    if matchs!=0:\n",
    "        team[k]=wins/matchs\n",
    "#print (team)"
   ]
  },
  {
   "cell_type": "code",
   "execution_count": 502,
   "metadata": {},
   "outputs": [],
   "source": [
    "top = {}\n",
    "for i in dados.blueTopChamp:\n",
    "    top[i]=0\n",
    "for i in dados.redTopChamp:\n",
    "    top[i]=0\n",
    "for k,v in  top.items():\n",
    "    wins=len(dados[(dados.blueTopChamp==k) & (dados.bResult==1)])+len(dados[(dados.redTopChamp==k) & (dados.rResult==1)])\n",
    "    matchs=len(dados[dados.blueTopChamp==k])+ len(dados[dados.redTopChamp==k])      \n",
    "    if matchs!=0:\n",
    "        top[k]=wins/matchs\n",
    "#print(top)"
   ]
  },
  {
   "cell_type": "code",
   "execution_count": 503,
   "metadata": {},
   "outputs": [
    {
     "name": "stdout",
     "output_type": "stream",
     "text": [
      "{'Elise': 0.5022727272727273, 'JarvanIV': 0.488013698630137, 'Nidalee': 0.5273010920436817, 'RekSai': 0.4894894894894895, 'Gragas': 0.5360536612632756, 'Hecarim': 0.4755244755244755, 'Kindred': 0.4579710144927536, 'Ivern': 0.5358851674641149, 'Khazix': 0.5119726339794755, 'Graves': 0.46424870466321244, 'LeeSin': 0.47002398081534774, 'Warwick': 0.5348837209302325, 'Evelynn': 0.4189189189189189, 'Zac': 0.5896414342629482, 'Olaf': 0.48880597014925375, 'Pantheon': 0.47619047619047616, 'Sejuani': 0.5186813186813187, 'Rengar': 0.52734375, 'Vi': 0.5416666666666666, 'Draven': 1.0, 'Rumble': 0.4411764705882353, 'Nunu': 0.49586776859504134, 'Maokai': 0.464, 'Rammus': 0.7777777777777778, 'Nocturne': 0.52, 'Ekko': 0.4666666666666667, 'Kayn': 0.46153846153846156, 'Sion': 0.3333333333333333, 'Syndra': 0.0, 'Shyvana': 0.30434782608695654, 'Chogath': 0.48717948717948717, 'Amumu': 0.2857142857142857, 'Nautilus': 0.3333333333333333, 'Udyr': 0.4375, 'Ezreal': 0.0, 'Skarner': 0.5, 'Trundle': 0.4, 'Bard': 0.6666666666666666, 'Camille': 0.42857142857142855, 'Jax': 0.6428571428571429, 'XinZhao': 0.6666666666666666, 'Malphite': 0.0, 'DrMundo': 0.5, 'Shaco': 0.25, 'Karthus': 0.5, 'Poppy': 0.5909090909090909, 'FiddleSticks': 0.5, 'Lulu': 0.4, 'Darius': 0.0, 'Fiddlesticks': 0.0, 'Illaoi': 0.0, 'Kassadin': 0.0, 'Fizz': 0.25, 'Shen': 1.0, 'MasterYi': 0.0, 'MonkeyKing': 0.6666666666666666, 'Galio': 0.0, 'Volibear': 0.0, 'Gnar': 1.0, 'Aatrox': 1.0, 'Malzahar': 1.0, 'Quinn': 1.0, 'Jayce': 0.5, 'MissFortune': 0.0, 'Riven': 1.0, 'Rakan': 0.0, 'Karma': 0.0}\n"
     ]
    }
   ],
   "source": [
    "jg = {}\n",
    "for i in dados.blueJungleChamp:\n",
    "    jg[i]=0\n",
    "for i in dados.redJungleChamp:\n",
    "    jg[i]=0\n",
    "for k,v in  jg.items():\n",
    "    wins=len(dados[(dados.blueJungleChamp==k) & (dados.bResult==1)])+len(dados[(dados.redJungleChamp==k) & (dados.rResult==1)])\n",
    "    matchs=len(dados[dados.blueJungleChamp==k])+ len(dados[dados.redJungleChamp==k])      \n",
    "    if matchs!=0:\n",
    "        jg[k]=wins/matchs\n",
    "print(jg)"
   ]
  },
  {
   "cell_type": "code",
   "execution_count": 504,
   "metadata": {},
   "outputs": [],
   "source": [
    "mid = {}\n",
    "for i in dados.blueMiddleChamp:\n",
    "    mid[i]=0\n",
    "for i in dados.redMiddleChamp:\n",
    "    mid[i]=0\n",
    "for k,v in  mid.items():\n",
    "    wins=len(dados[(dados.blueMiddleChamp==k) & (dados.bResult==1)])+len(dados[(dados.redMiddleChamp==k) & (dados.rResult==1)])\n",
    "    matchs=len(dados[dados.blueMiddleChamp==k])+ len(dados[dados.redMiddleChamp==k])      \n",
    "    if matchs!=0:\n",
    "        mid[k]=wins/matchs\n",
    "#print(mid)"
   ]
  },
  {
   "cell_type": "code",
   "execution_count": 505,
   "metadata": {},
   "outputs": [
    {
     "name": "stdout",
     "output_type": "stream",
     "text": [
      "{'Jhin': 0.51010101010101, 'Graves': 0.47093023255813954, 'Ziggs': 0.46511627906976744, 'Lucian': 0.47333333333333333, 'Kalista': 0.5429087624209575, 'Caitlyn': 0.49742002063983487, 'MissFortune': 0.4189189189189189, 'Sivir': 0.5239417071478141, 'Jinx': 0.4811320754716981, 'Ezreal': 0.4820936639118457, 'Ashe': 0.5119940029985007, 'Xayah': 0.5067264573991032, 'Tristana': 0.4986149584487535, 'Varus': 0.4826666666666667, 'Twitch': 0.5570776255707762, 'KogMaw': 0.45788336933045354, 'Vayne': 0.4857142857142857, 'Heimerdinger': 1.0, 'Corki': 0.48604992657856094, 'Draven': 0.5283018867924528, 'Kennen': 0.46, 'Janna': 0.0, 'Urgot': 0.5535714285714286, 'Mordekaiser': 0.8333333333333334, 'Irelia': 1.0, 'Quinn': 0.5, 'Viktor': 0.0, 'Blitzcrank': 0.0, 'Alistar': 1.0, 'Karma': 0.0, 'Kindred': 0.5, 'Lulu': 0.0, 'Nunu': 1.0, 'Thresh': 0.0, 'Karthus': 1.0, 'Jayce': 0.0, 'Teemo': 0.0, 'Kled': 0.0, 'Taliyah': 0.0}\n"
     ]
    }
   ],
   "source": [
    "adc = {}\n",
    "for i in dados.blueADCChamp:\n",
    "    adc[i]=0\n",
    "for i in dados.redADCChamp:\n",
    "    adc[i]=0\n",
    "for k,v in  adc.items():\n",
    "    wins=len(dados[(dados.blueADCChamp==k) & (dados.bResult==1)])+len(dados[(dados.redADCChamp==k) & (dados.rResult==1)])\n",
    "    matchs=len(dados[dados.blueADCChamp==k])+ len(dados[dados.redADCChamp==k])      \n",
    "    if matchs!=0:\n",
    "        adc[k]=wins/matchs\n",
    "print(adc)"
   ]
  },
  {
   "cell_type": "code",
   "execution_count": 216,
   "metadata": {},
   "outputs": [
    {
     "name": "stdout",
     "output_type": "stream",
     "text": [
      "{'Braum': 0.47768595041322315, 'Annie': 0.5474137931034483, 'Lulu': 0.45648854961832064, 'TahmKench': 0.5105008077544426, 'Alistar': 0.4869753979739508, 'Janna': 0.5380507343124166, 'Karma': 0.4694560669456067, 'Thresh': 0.526060606060606, 'Blitzcrank': 0.5590062111801242, 'Nautilus': 0.4697986577181208, 'Nami': 0.46037735849056605, 'Morgana': 0.5300925925925926, 'Taric': 0.5170940170940171, 'Leona': 0.44285714285714284, 'Malzahar': 0.581039755351682, 'Zyra': 0.48450244698205547, 'Bard': 0.5338078291814946, 'LeeSin': 0.5, 'Trundle': 0.5331632653061225, 'Shen': 0.59375, 'Kennen': 0.5454545454545454, 'Rakan': 0.5062111801242236, 'Zilean': 0.3888888888888889, 'MissFortune': 0.5158730158730159, 'Soraka': 0.512, 'Poppy': 0.4, 'Ashe': 0.6666666666666666, 'Brand': 0.5102040816326531, 'Kayle': 0.0, 'Lissandra': 0.2, 'Sona': 0.3902439024390244, 'DrMundo': 0.0, 'Veigar': 0.625, 'Maokai': 0.42857142857142855, 'Irelia': 0.0, 'Zac': 1.0, 'Fiddlesticks': 0.2, 'Malphite': 0.5, 'Camille': 0.5, 'Galio': 0.5263157894736842, 'Sejuani': 0.2, 'Gragas': 0.625, 'Ornn': 0.5, 'Velkoz': 0.6666666666666666, 'Lux': 0.6666666666666666, 'Garen': 0.0, 'Kalista': 0.5, 'Ahri': 0.0, 'Cassiopeia': 1.0, 'Elise': 0.75, 'Sion': 0.0, 'Taliyah': 0.0, 'Kled': 0.0, 'Nunu': 0.0, 'Ziggs': 0.5, 'TwistedFate': 0.0, 'Vayne': 1.0, 'Syndra': 0.3333333333333333, 'Ivern': 0.0, 'Udyr': 1.0, 'Jinx': 0.0, 'Rengar': 1.0}\n"
     ]
    }
   ],
   "source": [
    "sup = {}\n",
    "for i in dados.blueSupportChamp:\n",
    "    sup[i]=0\n",
    "for i in dados.redSupportChamp:\n",
    "    sup[i]=0\n",
    "for k,v in  sup.items():\n",
    "    wins=len(dados[(dados.blueSupportChamp==k) & (dados.bResult==1)])+len(dados[(dados.redSupportChamp==k) & (dados.rResult==1)])\n",
    "    matchs=len(dados[dados.blueSupportChamp==k])+ len(dados[dados.redSupportChamp==k])      \n",
    "    if matchs!=0:\n",
    "        sup[k]=wins/matchs\n",
    "print(sup)"
   ]
  },
  {
   "cell_type": "code",
   "execution_count": 217,
   "metadata": {},
   "outputs": [],
   "source": [
    "top_player = {}\n",
    "for i in dados.blueTop:\n",
    "    top_player[i]=0\n",
    "for i in dados.redTop:\n",
    "    top_player[i]=0\n",
    "for k,v in  top_player.items():\n",
    "    wins=len(dados[(dados.blueTop==k) & (dados.bResult==1)])+len(dados[(dados.redTop==k) & (dados.rResult==1)])\n",
    "    matchs=len(dados[dados.blueTop==k])+ len(dados[dados.redTop==k])      \n",
    "    if matchs!=0:\n",
    "        top_player[k]=wins/matchs\n",
    "#print(top_player)"
   ]
  },
  {
   "cell_type": "code",
   "execution_count": 218,
   "metadata": {},
   "outputs": [],
   "source": [
    "jg_player = {}\n",
    "for i in dados.blueJungle:\n",
    "    jg_player[i]=0\n",
    "for i in dados.redJungle:\n",
    "    jg_player[i]=0\n",
    "for k,v in  jg_player.items():\n",
    "    wins=len(dados[(dados.blueJungle==k) & (dados.bResult==1)])+len(dados[(dados.redJungle==k) & (dados.rResult==1)])\n",
    "    matchs=len(dados[dados.blueJungle==k])+ len(dados[dados.redJungle==k])      \n",
    "    if matchs!=0:\n",
    "        jg_player[k]=wins/matchs\n",
    "#print(jg_player)"
   ]
  },
  {
   "cell_type": "code",
   "execution_count": 219,
   "metadata": {},
   "outputs": [],
   "source": [
    "mid_player = {}\n",
    "for i in dados.blueMiddle:\n",
    "    mid_player[i]=0\n",
    "for i in dados.redMiddle:\n",
    "    mid_player[i]=0\n",
    "for k,v in  mid_player.items():\n",
    "    wins=len(dados[(dados.blueMiddle==k) & (dados.bResult==1)])+len(dados[(dados.redMiddle==k) & (dados.rResult==1)])\n",
    "    matchs=len(dados[dados.blueMiddle==k])+ len(dados[dados.redMiddle==k])      \n",
    "    if matchs!=0:\n",
    "        mid_player[k]=wins/matchs\n",
    "#print(mid_player)"
   ]
  },
  {
   "cell_type": "code",
   "execution_count": 220,
   "metadata": {},
   "outputs": [],
   "source": [
    "adc_player = {}\n",
    "for i in dados.blueADC:\n",
    "    adc_player[i]=0\n",
    "for i in dados.redADC:\n",
    "    adc_player[i]=0\n",
    "for k,v in  adc_player.items():\n",
    "    wins=len(dados[(dados.blueADC==k) & (dados.bResult==1)])+len(dados[(dados.redADC==k) & (dados.rResult==1)])\n",
    "    matchs=len(dados[dados.blueADC==k])+ len(dados[dados.redADC==k])      \n",
    "    if matchs!=0:\n",
    "        adc_player[k]=wins/matchs\n",
    "#print(adc_player)"
   ]
  },
  {
   "cell_type": "code",
   "execution_count": 221,
   "metadata": {},
   "outputs": [],
   "source": [
    "sup_player = {}\n",
    "for i in dados.blueSupport:\n",
    "    sup_player[i]=0\n",
    "for i in dados.redSupport:\n",
    "    sup_player[i]=0\n",
    "for k,v in  sup_player.items():\n",
    "    wins=len(dados[(dados.blueSupport==k) & (dados.bResult==1)])+len(dados[(dados.redSupport==k) & (dados.rResult==1)])\n",
    "    matchs=len(dados[dados.blueSupport==k])+ len(dados[dados.redSupport==k])      \n",
    "    if matchs!=0:\n",
    "        sup_player[k]=wins/matchs\n",
    "#print(sup_player)"
   ]
  },
  {
   "cell_type": "markdown",
   "metadata": {},
   "source": [
    "Naive baiyes\n",
    "\n"
   ]
  },
  {
   "cell_type": "code",
   "execution_count": 222,
   "metadata": {},
   "outputs": [
    {
     "data": {
      "text/plain": [
       "1975"
      ]
     },
     "execution_count": 222,
     "metadata": {},
     "output_type": "execute_result"
    }
   ],
   "source": [
    "#dicionarios juntos\n",
    "alls={}\n",
    "\n",
    "for k,v in team.items():\n",
    "    alls[k]=v\n",
    "\n",
    "for k,v in top.items():\n",
    "    alls[k]=v\n",
    "\n",
    "for k,v in mid.items():\n",
    "    if k not in mid.keys():\n",
    "        alls[k]=v\n",
    "    else:\n",
    "        alls[k]=(v+mid[k])/2\n",
    "\n",
    "for k,v in jg.items():\n",
    "    if k not in jg.keys():\n",
    "        alls[k]=v\n",
    "    else:\n",
    "        alls[k]=(v+jg[k])/2\n",
    "\n",
    "for k,v in adc.items():\n",
    "    if k not in adc.keys():\n",
    "        alls[k]=v\n",
    "    else:\n",
    "        alls[k]=(v+adc[k])/2\n",
    "\n",
    "for k,v in sup.items():\n",
    "    if k not in sup.keys():\n",
    "        alls[k]=v\n",
    "    else:\n",
    "        alls[k]=(v+sup[k])/2\n",
    "\n",
    "for k,v in top_player.items():\n",
    "    if k not in top_player.keys():\n",
    "        alls[k]=v\n",
    "    else:\n",
    "        alls[k]=(v+top_player[k])/2\n",
    "\n",
    "for k,v in jg_player.items():\n",
    "    if k not in jg_player.keys():\n",
    "        alls[k]=v\n",
    "    else:\n",
    "        alls[k]=(v+jg_player[k])/2\n",
    "\n",
    "for k,v in mid_player.items():\n",
    "    if k not in mid_player.keys():\n",
    "        alls[k]=v\n",
    "    else:\n",
    "        alls[k]=(v+mid_player[k])/2\n",
    "\n",
    "for k,v in adc_player.items():\n",
    "    if k not in adc_player.keys():\n",
    "        alls[k]=v\n",
    "    else:\n",
    "        alls[k]=(v+adc_player[k])/2\n",
    "\n",
    "for k,v in sup_player.items():\n",
    "    if k not in sup_player.keys():\n",
    "        alls[k]=v\n",
    "    else:\n",
    "        alls[k]=(v+sup_player[k])/2\n",
    "    \n",
    "#print(alls)\n",
    "len(alls)"
   ]
  },
  {
   "cell_type": "markdown",
   "metadata": {},
   "source": [
    "___"
   ]
  },
  {
   "cell_type": "markdown",
   "metadata": {},
   "source": [
    "## <font color='#00878A'> Classificador - random forest</font>"
   ]
  },
  {
   "cell_type": "markdown",
   "metadata": {},
   "source": [
    "### Unindo os dados dos times"
   ]
  },
  {
   "cell_type": "markdown",
   "metadata": {},
   "source": [
    "Descobrir a acurácia"
   ]
  },
  {
   "cell_type": "code",
   "execution_count": 692,
   "metadata": {},
   "outputs": [],
   "source": [
    "columnsb=['bResult', 'blueTeamTag', 'blueTop', 'blueTopChamp', 'blueJungle','blueJungleChamp', 'blueMiddle', 'blueMiddleChamp', 'blueADC','blueADCChamp', 'blueSupport', 'blueSupportChamp']\n",
    "columnsr=['rResult', 'redTeamTag', 'redTop','redTopChamp', 'redJungle', 'redJungleChamp', 'redMiddle','redMiddleChamp', 'redADC', 'redADCChamp', 'redSupport','redSupportChamp']\n",
    "columns=['Result', 'TeamTag', 'Top','TopChamp', 'Jungle', 'JungleChamp', 'Middle','MiddleChamp', 'ADC', 'ADCChamp', 'Support','SupportChamp']\n"
   ]
  },
  {
   "cell_type": "code",
   "execution_count": 693,
   "metadata": {},
   "outputs": [],
   "source": [
    "dados_b = dados[columnsb]\n",
    "dados_b.columns = columns\n",
    "dados_r = dados[columnsr]\n",
    "dados_r.columns = columns"
   ]
  },
  {
   "cell_type": "code",
   "execution_count": 694,
   "metadata": {
    "scrolled": true
   },
   "outputs": [
    {
     "data": {
      "text/html": [
       "<div>\n",
       "<style scoped>\n",
       "    .dataframe tbody tr th:only-of-type {\n",
       "        vertical-align: middle;\n",
       "    }\n",
       "\n",
       "    .dataframe tbody tr th {\n",
       "        vertical-align: top;\n",
       "    }\n",
       "\n",
       "    .dataframe thead th {\n",
       "        text-align: right;\n",
       "    }\n",
       "</style>\n",
       "<table border=\"1\" class=\"dataframe\">\n",
       "  <thead>\n",
       "    <tr style=\"text-align: right;\">\n",
       "      <th></th>\n",
       "      <th>Result</th>\n",
       "      <th>TeamTag</th>\n",
       "      <th>Top</th>\n",
       "      <th>TopChamp</th>\n",
       "      <th>Jungle</th>\n",
       "      <th>JungleChamp</th>\n",
       "      <th>Middle</th>\n",
       "      <th>MiddleChamp</th>\n",
       "      <th>ADC</th>\n",
       "      <th>ADCChamp</th>\n",
       "      <th>Support</th>\n",
       "      <th>SupportChamp</th>\n",
       "    </tr>\n",
       "  </thead>\n",
       "  <tbody>\n",
       "    <tr>\n",
       "      <th>0</th>\n",
       "      <td>0</td>\n",
       "      <td>TSM</td>\n",
       "      <td>Hauntzer</td>\n",
       "      <td>Trundle</td>\n",
       "      <td>Svenskeren</td>\n",
       "      <td>Elise</td>\n",
       "      <td>Bjergsen</td>\n",
       "      <td>Lulu</td>\n",
       "      <td>Doublelift</td>\n",
       "      <td>Jhin</td>\n",
       "      <td>Yellowstar</td>\n",
       "      <td>Braum</td>\n",
       "    </tr>\n",
       "    <tr>\n",
       "      <th>1</th>\n",
       "      <td>1</td>\n",
       "      <td>BJK</td>\n",
       "      <td>Thaldrin</td>\n",
       "      <td>Gnar</td>\n",
       "      <td>Theokoles</td>\n",
       "      <td>JarvanIV</td>\n",
       "      <td>Energy</td>\n",
       "      <td>Xerath</td>\n",
       "      <td>Nardeus</td>\n",
       "      <td>Graves</td>\n",
       "      <td>Dumbledoge</td>\n",
       "      <td>Annie</td>\n",
       "    </tr>\n",
       "    <tr>\n",
       "      <th>2</th>\n",
       "      <td>1</td>\n",
       "      <td>NV</td>\n",
       "      <td>Seraph</td>\n",
       "      <td>Maokai</td>\n",
       "      <td>LirA</td>\n",
       "      <td>Nidalee</td>\n",
       "      <td>Ninja</td>\n",
       "      <td>Jayce</td>\n",
       "      <td>Apollo</td>\n",
       "      <td>Ziggs</td>\n",
       "      <td>Hakuho</td>\n",
       "      <td>Lulu</td>\n",
       "    </tr>\n",
       "    <tr>\n",
       "      <th>3</th>\n",
       "      <td>0</td>\n",
       "      <td>OG</td>\n",
       "      <td>Soaz</td>\n",
       "      <td>Trundle</td>\n",
       "      <td>Amazing</td>\n",
       "      <td>Elise</td>\n",
       "      <td>PowerOfEvil</td>\n",
       "      <td>Talon</td>\n",
       "      <td>Zven</td>\n",
       "      <td>Lucian</td>\n",
       "      <td>Mithy</td>\n",
       "      <td>Braum</td>\n",
       "    </tr>\n",
       "    <tr>\n",
       "      <th>4</th>\n",
       "      <td>1</td>\n",
       "      <td>SIN</td>\n",
       "      <td>Dhokla</td>\n",
       "      <td>Rumble</td>\n",
       "      <td>Juves</td>\n",
       "      <td>RekSai</td>\n",
       "      <td>ry0ma</td>\n",
       "      <td>Zed</td>\n",
       "      <td>FBI</td>\n",
       "      <td>Kalista</td>\n",
       "      <td>Rogue</td>\n",
       "      <td>Braum</td>\n",
       "    </tr>\n",
       "  </tbody>\n",
       "</table>\n",
       "</div>"
      ],
      "text/plain": [
       "   Result TeamTag       Top TopChamp      Jungle JungleChamp       Middle  \\\n",
       "0       0     TSM  Hauntzer  Trundle  Svenskeren       Elise     Bjergsen   \n",
       "1       1     BJK  Thaldrin     Gnar   Theokoles    JarvanIV       Energy   \n",
       "2       1      NV    Seraph   Maokai        LirA     Nidalee        Ninja   \n",
       "3       0      OG      Soaz  Trundle     Amazing       Elise  PowerOfEvil   \n",
       "4       1     SIN    Dhokla   Rumble       Juves      RekSai        ry0ma   \n",
       "\n",
       "  MiddleChamp         ADC ADCChamp     Support SupportChamp  \n",
       "0        Lulu  Doublelift     Jhin  Yellowstar        Braum  \n",
       "1      Xerath     Nardeus   Graves  Dumbledoge        Annie  \n",
       "2       Jayce      Apollo    Ziggs      Hakuho         Lulu  \n",
       "3       Talon        Zven   Lucian       Mithy        Braum  \n",
       "4         Zed         FBI  Kalista       Rogue        Braum  "
      ]
     },
     "execution_count": 694,
     "metadata": {},
     "output_type": "execute_result"
    }
   ],
   "source": [
    "dados_concat = pd.concat([dados_b, dados_r]).dropna()\n",
    "dados_concat.head()"
   ]
  },
  {
   "cell_type": "code",
   "execution_count": 695,
   "metadata": {},
   "outputs": [],
   "source": [
    "y_train = dados_concat['Result']\n",
    "x_train = dados_concat.drop(columns='Result')"
   ]
  },
  {
   "cell_type": "code",
   "execution_count": 696,
   "metadata": {},
   "outputs": [],
   "source": [
    "encoder = OneHotEncoder(handle_unknown='ignore')\n",
    "x_train_encoded = encoder.fit_transform(x_train.astype(str).values)"
   ]
  },
  {
   "cell_type": "code",
   "execution_count": 697,
   "metadata": {},
   "outputs": [
    {
     "data": {
      "text/plain": [
       "<12933x2306 sparse matrix of type '<class 'numpy.float64'>'\n",
       "\twith 142263 stored elements in Compressed Sparse Row format>"
      ]
     },
     "execution_count": 697,
     "metadata": {},
     "output_type": "execute_result"
    }
   ],
   "source": [
    "x_train_encoded"
   ]
  },
  {
   "cell_type": "code",
   "execution_count": 698,
   "metadata": {},
   "outputs": [
    {
     "name": "stderr",
     "output_type": "stream",
     "text": [
      "C:\\Users\\User\\Anaconda3\\lib\\site-packages\\sklearn\\ensemble\\forest.py:246: FutureWarning: The default value of n_estimators will change from 10 in version 0.20 to 100 in 0.22.\n",
      "  \"10 in version 0.20 to 100 in 0.22.\", FutureWarning)\n"
     ]
    },
    {
     "data": {
      "text/plain": [
       "RandomForestClassifier(bootstrap=True, class_weight=None, criterion='gini',\n",
       "            max_depth=None, max_features='auto', max_leaf_nodes=None,\n",
       "            min_impurity_decrease=0.0, min_impurity_split=None,\n",
       "            min_samples_leaf=1, min_samples_split=2,\n",
       "            min_weight_fraction_leaf=0.0, n_estimators=10, n_jobs=None,\n",
       "            oob_score=False, random_state=0, verbose=0, warm_start=False)"
      ]
     },
     "execution_count": 698,
     "metadata": {},
     "output_type": "execute_result"
    }
   ],
   "source": [
    "model = RandomForestClassifier(random_state = 0)\n",
    "model.fit(x_train_encoded, y_train)"
   ]
  },
  {
   "cell_type": "code",
   "execution_count": 699,
   "metadata": {},
   "outputs": [
    {
     "data": {
      "text/plain": [
       "0.9798190675017397"
      ]
     },
     "execution_count": 699,
     "metadata": {},
     "output_type": "execute_result"
    }
   ],
   "source": [
    "model.score(x_train_encoded, y_train)"
   ]
  },
  {
   "cell_type": "markdown",
   "metadata": {},
   "source": [
    "#### <font color='#00878A'>Testes</font>"
   ]
  },
  {
   "cell_type": "code",
   "execution_count": 700,
   "metadata": {},
   "outputs": [],
   "source": [
    "dados_bt = dados_testes[columnsb]\n",
    "dados_bt.columns = columns\n",
    "dados_rt = dados_testes[columnsr]\n",
    "dados_rt.columns = columns"
   ]
  },
  {
   "cell_type": "code",
   "execution_count": 701,
   "metadata": {
    "scrolled": true
   },
   "outputs": [
    {
     "data": {
      "text/html": [
       "<div>\n",
       "<style scoped>\n",
       "    .dataframe tbody tr th:only-of-type {\n",
       "        vertical-align: middle;\n",
       "    }\n",
       "\n",
       "    .dataframe tbody tr th {\n",
       "        vertical-align: top;\n",
       "    }\n",
       "\n",
       "    .dataframe thead th {\n",
       "        text-align: right;\n",
       "    }\n",
       "</style>\n",
       "<table border=\"1\" class=\"dataframe\">\n",
       "  <thead>\n",
       "    <tr style=\"text-align: right;\">\n",
       "      <th></th>\n",
       "      <th>Result</th>\n",
       "      <th>TeamTag</th>\n",
       "      <th>Top</th>\n",
       "      <th>TopChamp</th>\n",
       "      <th>Jungle</th>\n",
       "      <th>JungleChamp</th>\n",
       "      <th>Middle</th>\n",
       "      <th>MiddleChamp</th>\n",
       "      <th>ADC</th>\n",
       "      <th>ADCChamp</th>\n",
       "      <th>Support</th>\n",
       "      <th>SupportChamp</th>\n",
       "    </tr>\n",
       "  </thead>\n",
       "  <tbody>\n",
       "    <tr>\n",
       "      <th>0</th>\n",
       "      <td>1</td>\n",
       "      <td>GCU</td>\n",
       "      <td>Solo</td>\n",
       "      <td>Shen</td>\n",
       "      <td>Santorin</td>\n",
       "      <td>JarvanIV</td>\n",
       "      <td>Fly</td>\n",
       "      <td>Orianna</td>\n",
       "      <td>Rikara</td>\n",
       "      <td>Sivir</td>\n",
       "      <td>Whyin</td>\n",
       "      <td>Thresh</td>\n",
       "    </tr>\n",
       "    <tr>\n",
       "      <th>1</th>\n",
       "      <td>1</td>\n",
       "      <td>CNB</td>\n",
       "      <td>Lep</td>\n",
       "      <td>Maokai</td>\n",
       "      <td>Minerva</td>\n",
       "      <td>Graves</td>\n",
       "      <td>Tinowns</td>\n",
       "      <td>Syndra</td>\n",
       "      <td>pbO</td>\n",
       "      <td>Jhin</td>\n",
       "      <td>Woswos</td>\n",
       "      <td>Malzahar</td>\n",
       "    </tr>\n",
       "    <tr>\n",
       "      <th>2</th>\n",
       "      <td>0</td>\n",
       "      <td>MSE</td>\n",
       "      <td>Ninuo</td>\n",
       "      <td>Maokai</td>\n",
       "      <td>Wulala</td>\n",
       "      <td>Gragas</td>\n",
       "      <td>M1ssion</td>\n",
       "      <td>Vladimir</td>\n",
       "      <td>CorGi</td>\n",
       "      <td>Sivir</td>\n",
       "      <td>Kaiwing</td>\n",
       "      <td>Braum</td>\n",
       "    </tr>\n",
       "    <tr>\n",
       "      <th>3</th>\n",
       "      <td>1</td>\n",
       "      <td>PDS</td>\n",
       "      <td>jer0m</td>\n",
       "      <td>Gnar</td>\n",
       "      <td>RafaL0L</td>\n",
       "      <td>Gragas</td>\n",
       "      <td>Icytower</td>\n",
       "      <td>Vladimir</td>\n",
       "      <td>xpng</td>\n",
       "      <td>Varus</td>\n",
       "      <td>Choisix</td>\n",
       "      <td>Thresh</td>\n",
       "    </tr>\n",
       "    <tr>\n",
       "      <th>4</th>\n",
       "      <td>0</td>\n",
       "      <td>JAG</td>\n",
       "      <td>TrAce</td>\n",
       "      <td>TahmKench</td>\n",
       "      <td>Winged</td>\n",
       "      <td>Elise</td>\n",
       "      <td>Kuzan</td>\n",
       "      <td>Cassiopeia</td>\n",
       "      <td>Pilot</td>\n",
       "      <td>Lucian</td>\n",
       "      <td>Chei</td>\n",
       "      <td>Alistar</td>\n",
       "    </tr>\n",
       "  </tbody>\n",
       "</table>\n",
       "</div>"
      ],
      "text/plain": [
       "   Result TeamTag    Top   TopChamp    Jungle JungleChamp    Middle  \\\n",
       "0       1     GCU   Solo       Shen  Santorin    JarvanIV       Fly   \n",
       "1       1     CNB    Lep     Maokai   Minerva      Graves   Tinowns   \n",
       "2       0     MSE  Ninuo     Maokai    Wulala      Gragas   M1ssion   \n",
       "3       1     PDS  jer0m       Gnar   RafaL0L      Gragas  Icytower   \n",
       "4       0     JAG  TrAce  TahmKench    Winged       Elise     Kuzan   \n",
       "\n",
       "  MiddleChamp     ADC ADCChamp  Support SupportChamp  \n",
       "0     Orianna  Rikara    Sivir    Whyin       Thresh  \n",
       "1      Syndra     pbO     Jhin   Woswos     Malzahar  \n",
       "2    Vladimir   CorGi    Sivir  Kaiwing        Braum  \n",
       "3    Vladimir    xpng    Varus  Choisix       Thresh  \n",
       "4  Cassiopeia   Pilot   Lucian     Chei      Alistar  "
      ]
     },
     "execution_count": 701,
     "metadata": {},
     "output_type": "execute_result"
    }
   ],
   "source": [
    "teste_concat = pd.concat([dados_bt, dados_rt]).dropna()\n",
    "teste_concat.head()"
   ]
  },
  {
   "cell_type": "code",
   "execution_count": 702,
   "metadata": {},
   "outputs": [],
   "source": [
    "y_test = teste_concat['Result']\n",
    "x_test = teste_concat.drop(columns='Result')"
   ]
  },
  {
   "cell_type": "code",
   "execution_count": 703,
   "metadata": {},
   "outputs": [],
   "source": [
    "x_test_encoded = encoder.transform(x_test)"
   ]
  },
  {
   "cell_type": "code",
   "execution_count": 704,
   "metadata": {},
   "outputs": [],
   "source": [
    "y_predict = model.predict(x_test_encoded)"
   ]
  },
  {
   "cell_type": "code",
   "execution_count": 706,
   "metadata": {},
   "outputs": [
    {
     "data": {
      "text/plain": [
       "array([0, 0, 0, ..., 0, 1, 0], dtype=int64)"
      ]
     },
     "execution_count": 706,
     "metadata": {},
     "output_type": "execute_result"
    }
   ],
   "source": [
    "y_predict"
   ]
  },
  {
   "cell_type": "code",
   "execution_count": 707,
   "metadata": {},
   "outputs": [],
   "source": [
    "acc = accuracy_score(y_test, y_predict)"
   ]
  },
  {
   "cell_type": "code",
   "execution_count": 633,
   "metadata": {},
   "outputs": [
    {
     "data": {
      "text/plain": [
       "0.5698924731182796"
      ]
     },
     "execution_count": 633,
     "metadata": {},
     "output_type": "execute_result"
    }
   ],
   "source": [
    "acc"
   ]
  },
  {
   "cell_type": "markdown",
   "metadata": {},
   "source": [
    "________"
   ]
  },
  {
   "cell_type": "markdown",
   "metadata": {},
   "source": [
    "### Considerando os dois times"
   ]
  },
  {
   "cell_type": "markdown",
   "metadata": {},
   "source": [
    "#### Segunda iteração - random forest"
   ]
  },
  {
   "cell_type": "code",
   "execution_count": 708,
   "metadata": {},
   "outputs": [],
   "source": [
    "y_train = dados['bResult']\n",
    "x_train = dados.drop(columns=['bResult', 'rResult'])"
   ]
  },
  {
   "cell_type": "code",
   "execution_count": 709,
   "metadata": {},
   "outputs": [],
   "source": [
    "encoder = OneHotEncoder(handle_unknown='ignore')\n",
    "x_train_encoded = encoder.fit_transform(x_train.astype(str).values)"
   ]
  },
  {
   "cell_type": "code",
   "execution_count": 710,
   "metadata": {},
   "outputs": [
    {
     "data": {
      "text/plain": [
       "<6499x10952 sparse matrix of type '<class 'numpy.float64'>'\n",
       "\twith 181972 stored elements in Compressed Sparse Row format>"
      ]
     },
     "execution_count": 710,
     "metadata": {},
     "output_type": "execute_result"
    }
   ],
   "source": [
    "x_train_encoded"
   ]
  },
  {
   "cell_type": "code",
   "execution_count": 711,
   "metadata": {},
   "outputs": [
    {
     "data": {
      "text/plain": [
       "RandomForestClassifier(bootstrap=True, class_weight=None, criterion='gini',\n",
       "            max_depth=None, max_features='auto', max_leaf_nodes=None,\n",
       "            min_impurity_decrease=0.0, min_impurity_split=None,\n",
       "            min_samples_leaf=1, min_samples_split=2,\n",
       "            min_weight_fraction_leaf=0.0, n_estimators=100, n_jobs=None,\n",
       "            oob_score=False, random_state=0, verbose=0, warm_start=False)"
      ]
     },
     "execution_count": 711,
     "metadata": {},
     "output_type": "execute_result"
    }
   ],
   "source": [
    "model = RandomForestClassifier(n_estimators = 100, random_state = 0)\n",
    "model.fit(x_train_encoded, y_train)"
   ]
  },
  {
   "cell_type": "code",
   "execution_count": 712,
   "metadata": {},
   "outputs": [
    {
     "data": {
      "text/plain": [
       "1.0"
      ]
     },
     "execution_count": 712,
     "metadata": {},
     "output_type": "execute_result"
    }
   ],
   "source": [
    "model.score(x_train_encoded, y_train)"
   ]
  },
  {
   "cell_type": "markdown",
   "metadata": {},
   "source": [
    "#### <font color='#00878A'>Testes</font>"
   ]
  },
  {
   "cell_type": "code",
   "execution_count": 713,
   "metadata": {},
   "outputs": [],
   "source": [
    "dados_testes.dropna(inplace=True)"
   ]
  },
  {
   "cell_type": "code",
   "execution_count": 669,
   "metadata": {},
   "outputs": [],
   "source": [
    "y_test = dados_testes['bResult']\n",
    "x_test = dados_testes.drop(columns=['bResult', 'rResult'])"
   ]
  },
  {
   "cell_type": "code",
   "execution_count": 670,
   "metadata": {},
   "outputs": [],
   "source": [
    "x_test_encoded = encoder.transform(x_test)"
   ]
  },
  {
   "cell_type": "code",
   "execution_count": 671,
   "metadata": {},
   "outputs": [],
   "source": [
    "y_predict = model.predict(x_test_encoded)"
   ]
  },
  {
   "cell_type": "code",
   "execution_count": 672,
   "metadata": {},
   "outputs": [],
   "source": [
    "#model.score(x_test_encoded, y_test)"
   ]
  },
  {
   "cell_type": "code",
   "execution_count": 673,
   "metadata": {},
   "outputs": [
    {
     "data": {
      "text/plain": [
       "array([0, 1, 0, ..., 1, 0, 1], dtype=int64)"
      ]
     },
     "execution_count": 673,
     "metadata": {},
     "output_type": "execute_result"
    }
   ],
   "source": [
    "y_predict"
   ]
  },
  {
   "cell_type": "code",
   "execution_count": 674,
   "metadata": {},
   "outputs": [],
   "source": [
    "acc = accuracy_score(y_test, y_predict)"
   ]
  },
  {
   "cell_type": "code",
   "execution_count": 675,
   "metadata": {},
   "outputs": [
    {
     "data": {
      "text/plain": [
       "0.6442652329749103"
      ]
     },
     "execution_count": 675,
     "metadata": {},
     "output_type": "execute_result"
    }
   ],
   "source": [
    "acc"
   ]
  },
  {
   "cell_type": "code",
   "execution_count": 660,
   "metadata": {},
   "outputs": [],
   "source": [
    "matrix = confusion_matrix(y_test, y_predict, labels=None, sample_weight=None)"
   ]
  },
  {
   "cell_type": "code",
   "execution_count": 661,
   "metadata": {},
   "outputs": [
    {
     "data": {
      "text/plain": [
       "array([[253, 249],\n",
       "       [148, 466]], dtype=int64)"
      ]
     },
     "execution_count": 661,
     "metadata": {},
     "output_type": "execute_result"
    }
   ],
   "source": [
    "matrix"
   ]
  },
  {
   "cell_type": "code",
   "execution_count": 677,
   "metadata": {},
   "outputs": [],
   "source": [
    "dados_testes['bPredict'] = y_predict"
   ]
  },
  {
   "cell_type": "code",
   "execution_count": 685,
   "metadata": {},
   "outputs": [],
   "source": [
    "y_predict_proba = model.predict_proba(x_test_encoded)"
   ]
  },
  {
   "cell_type": "code",
   "execution_count": 687,
   "metadata": {},
   "outputs": [
    {
     "data": {
      "text/plain": [
       "array([[0.55, 0.45],\n",
       "       [0.32, 0.68],\n",
       "       [0.58, 0.42],\n",
       "       ...,\n",
       "       [0.42, 0.58],\n",
       "       [0.59, 0.41],\n",
       "       [0.4 , 0.6 ]])"
      ]
     },
     "execution_count": 687,
     "metadata": {},
     "output_type": "execute_result"
    }
   ],
   "source": [
    "y_predict_proba"
   ]
  },
  {
   "cell_type": "code",
   "execution_count": 688,
   "metadata": {},
   "outputs": [],
   "source": [
    "dados_testes['bPredictProba'] = y_predict_proba[:,1]"
   ]
  },
  {
   "cell_type": "code",
   "execution_count": 716,
   "metadata": {},
   "outputs": [
    {
     "data": {
      "text/html": [
       "<div>\n",
       "<style scoped>\n",
       "    .dataframe tbody tr th:only-of-type {\n",
       "        vertical-align: middle;\n",
       "    }\n",
       "\n",
       "    .dataframe tbody tr th {\n",
       "        vertical-align: top;\n",
       "    }\n",
       "\n",
       "    .dataframe thead th {\n",
       "        text-align: right;\n",
       "    }\n",
       "</style>\n",
       "<table border=\"1\" class=\"dataframe\">\n",
       "  <thead>\n",
       "    <tr style=\"text-align: right;\">\n",
       "      <th></th>\n",
       "      <th>blueTeamTag</th>\n",
       "      <th>redTeamTag</th>\n",
       "      <th>bPredictProba</th>\n",
       "      <th>bResult</th>\n",
       "    </tr>\n",
       "  </thead>\n",
       "  <tbody>\n",
       "    <tr>\n",
       "      <th>941</th>\n",
       "      <td>GG</td>\n",
       "      <td>LYN</td>\n",
       "      <td>0.07</td>\n",
       "      <td>0</td>\n",
       "    </tr>\n",
       "    <tr>\n",
       "      <th>198</th>\n",
       "      <td>LGS</td>\n",
       "      <td>ahq</td>\n",
       "      <td>0.08</td>\n",
       "      <td>0</td>\n",
       "    </tr>\n",
       "    <tr>\n",
       "      <th>869</th>\n",
       "      <td>CJ</td>\n",
       "      <td>ROX</td>\n",
       "      <td>0.09</td>\n",
       "      <td>0</td>\n",
       "    </tr>\n",
       "    <tr>\n",
       "      <th>400</th>\n",
       "      <td>JTH</td>\n",
       "      <td>LYN</td>\n",
       "      <td>0.10</td>\n",
       "      <td>0</td>\n",
       "    </tr>\n",
       "    <tr>\n",
       "      <th>726</th>\n",
       "      <td>FB</td>\n",
       "      <td>FW</td>\n",
       "      <td>0.10</td>\n",
       "      <td>0</td>\n",
       "    </tr>\n",
       "    <tr>\n",
       "      <th>221</th>\n",
       "      <td>NRG</td>\n",
       "      <td>IMT</td>\n",
       "      <td>0.10</td>\n",
       "      <td>1</td>\n",
       "    </tr>\n",
       "    <tr>\n",
       "      <th>886</th>\n",
       "      <td>P1</td>\n",
       "      <td>IMT</td>\n",
       "      <td>0.11</td>\n",
       "      <td>1</td>\n",
       "    </tr>\n",
       "    <tr>\n",
       "      <th>631</th>\n",
       "      <td>GG</td>\n",
       "      <td>LYN</td>\n",
       "      <td>0.12</td>\n",
       "      <td>0</td>\n",
       "    </tr>\n",
       "    <tr>\n",
       "      <th>548</th>\n",
       "      <td>MM</td>\n",
       "      <td>S04</td>\n",
       "      <td>0.12</td>\n",
       "      <td>1</td>\n",
       "    </tr>\n",
       "    <tr>\n",
       "      <th>151</th>\n",
       "      <td>M17</td>\n",
       "      <td>ahq</td>\n",
       "      <td>0.12</td>\n",
       "      <td>0</td>\n",
       "    </tr>\n",
       "    <tr>\n",
       "      <th>16</th>\n",
       "      <td>HKE</td>\n",
       "      <td>FW</td>\n",
       "      <td>0.12</td>\n",
       "      <td>0</td>\n",
       "    </tr>\n",
       "    <tr>\n",
       "      <th>325</th>\n",
       "      <td>LZ</td>\n",
       "      <td>ROX</td>\n",
       "      <td>0.13</td>\n",
       "      <td>0</td>\n",
       "    </tr>\n",
       "    <tr>\n",
       "      <th>828</th>\n",
       "      <td>REN</td>\n",
       "      <td>IMT</td>\n",
       "      <td>0.14</td>\n",
       "      <td>0</td>\n",
       "    </tr>\n",
       "    <tr>\n",
       "      <th>1046</th>\n",
       "      <td>HKA</td>\n",
       "      <td>AHQ</td>\n",
       "      <td>0.16</td>\n",
       "      <td>1</td>\n",
       "    </tr>\n",
       "    <tr>\n",
       "      <th>1069</th>\n",
       "      <td>AHQ</td>\n",
       "      <td>FW</td>\n",
       "      <td>0.16</td>\n",
       "      <td>0</td>\n",
       "    </tr>\n",
       "    <tr>\n",
       "      <th>440</th>\n",
       "      <td>CGE</td>\n",
       "      <td>FW</td>\n",
       "      <td>0.16</td>\n",
       "      <td>0</td>\n",
       "    </tr>\n",
       "    <tr>\n",
       "      <th>835</th>\n",
       "      <td>CLG</td>\n",
       "      <td>IMT</td>\n",
       "      <td>0.16</td>\n",
       "      <td>1</td>\n",
       "    </tr>\n",
       "    <tr>\n",
       "      <th>430</th>\n",
       "      <td>XG</td>\n",
       "      <td>FW</td>\n",
       "      <td>0.17</td>\n",
       "      <td>0</td>\n",
       "    </tr>\n",
       "    <tr>\n",
       "      <th>510</th>\n",
       "      <td>AS</td>\n",
       "      <td>ahq</td>\n",
       "      <td>0.17</td>\n",
       "      <td>0</td>\n",
       "    </tr>\n",
       "    <tr>\n",
       "      <th>188</th>\n",
       "      <td>DP</td>\n",
       "      <td>SUP</td>\n",
       "      <td>0.17</td>\n",
       "      <td>1</td>\n",
       "    </tr>\n",
       "    <tr>\n",
       "      <th>1010</th>\n",
       "      <td>MVP</td>\n",
       "      <td>SSG</td>\n",
       "      <td>0.18</td>\n",
       "      <td>0</td>\n",
       "    </tr>\n",
       "    <tr>\n",
       "      <th>14</th>\n",
       "      <td>M17</td>\n",
       "      <td>FW</td>\n",
       "      <td>0.18</td>\n",
       "      <td>0</td>\n",
       "    </tr>\n",
       "    <tr>\n",
       "      <th>202</th>\n",
       "      <td>TM</td>\n",
       "      <td>JT</td>\n",
       "      <td>0.19</td>\n",
       "      <td>0</td>\n",
       "    </tr>\n",
       "    <tr>\n",
       "      <th>981</th>\n",
       "      <td>AE</td>\n",
       "      <td>LGC</td>\n",
       "      <td>0.19</td>\n",
       "      <td>1</td>\n",
       "    </tr>\n",
       "    <tr>\n",
       "      <th>317</th>\n",
       "      <td>TPA</td>\n",
       "      <td>ahq</td>\n",
       "      <td>0.19</td>\n",
       "      <td>0</td>\n",
       "    </tr>\n",
       "    <tr>\n",
       "      <th>47</th>\n",
       "      <td>SSG</td>\n",
       "      <td>KOO</td>\n",
       "      <td>0.20</td>\n",
       "      <td>0</td>\n",
       "    </tr>\n",
       "    <tr>\n",
       "      <th>592</th>\n",
       "      <td>DW</td>\n",
       "      <td>CHF</td>\n",
       "      <td>0.20</td>\n",
       "      <td>0</td>\n",
       "    </tr>\n",
       "    <tr>\n",
       "      <th>582</th>\n",
       "      <td>SSB</td>\n",
       "      <td>CJE</td>\n",
       "      <td>0.20</td>\n",
       "      <td>0</td>\n",
       "    </tr>\n",
       "    <tr>\n",
       "      <th>556</th>\n",
       "      <td>HLN</td>\n",
       "      <td>AE</td>\n",
       "      <td>0.20</td>\n",
       "      <td>0</td>\n",
       "    </tr>\n",
       "    <tr>\n",
       "      <th>35</th>\n",
       "      <td>GIA</td>\n",
       "      <td>S04</td>\n",
       "      <td>0.20</td>\n",
       "      <td>1</td>\n",
       "    </tr>\n",
       "    <tr>\n",
       "      <th>410</th>\n",
       "      <td>bbq</td>\n",
       "      <td>SKT</td>\n",
       "      <td>0.20</td>\n",
       "      <td>0</td>\n",
       "    </tr>\n",
       "    <tr>\n",
       "      <th>126</th>\n",
       "      <td>ESC</td>\n",
       "      <td>SKT</td>\n",
       "      <td>0.20</td>\n",
       "      <td>0</td>\n",
       "    </tr>\n",
       "    <tr>\n",
       "      <th>269</th>\n",
       "      <td>SSG</td>\n",
       "      <td>SKT</td>\n",
       "      <td>0.20</td>\n",
       "      <td>0</td>\n",
       "    </tr>\n",
       "    <tr>\n",
       "      <th>1016</th>\n",
       "      <td>TM</td>\n",
       "      <td>DW</td>\n",
       "      <td>0.20</td>\n",
       "      <td>0</td>\n",
       "    </tr>\n",
       "    <tr>\n",
       "      <th>313</th>\n",
       "      <td>CLG</td>\n",
       "      <td>IMT</td>\n",
       "      <td>0.20</td>\n",
       "      <td>1</td>\n",
       "    </tr>\n",
       "    <tr>\n",
       "      <th>473</th>\n",
       "      <td>SZ</td>\n",
       "      <td>USG</td>\n",
       "      <td>0.21</td>\n",
       "      <td>0</td>\n",
       "    </tr>\n",
       "    <tr>\n",
       "      <th>632</th>\n",
       "      <td>SCW</td>\n",
       "      <td>PDS</td>\n",
       "      <td>0.21</td>\n",
       "      <td>0</td>\n",
       "    </tr>\n",
       "    <tr>\n",
       "      <th>301</th>\n",
       "      <td>TM</td>\n",
       "      <td>AV</td>\n",
       "      <td>0.21</td>\n",
       "      <td>0</td>\n",
       "    </tr>\n",
       "    <tr>\n",
       "      <th>716</th>\n",
       "      <td>ROX</td>\n",
       "      <td>SKT</td>\n",
       "      <td>0.22</td>\n",
       "      <td>0</td>\n",
       "    </tr>\n",
       "    <tr>\n",
       "      <th>172</th>\n",
       "      <td>HKE</td>\n",
       "      <td>ahq</td>\n",
       "      <td>0.22</td>\n",
       "      <td>0</td>\n",
       "    </tr>\n",
       "    <tr>\n",
       "      <th>86</th>\n",
       "      <td>WS</td>\n",
       "      <td>ahq</td>\n",
       "      <td>0.22</td>\n",
       "      <td>0</td>\n",
       "    </tr>\n",
       "    <tr>\n",
       "      <th>787</th>\n",
       "      <td>MSF</td>\n",
       "      <td>SKT</td>\n",
       "      <td>0.22</td>\n",
       "      <td>1</td>\n",
       "    </tr>\n",
       "    <tr>\n",
       "      <th>710</th>\n",
       "      <td>WE</td>\n",
       "      <td>TSM</td>\n",
       "      <td>0.22</td>\n",
       "      <td>0</td>\n",
       "    </tr>\n",
       "    <tr>\n",
       "      <th>191</th>\n",
       "      <td>XG</td>\n",
       "      <td>HKE</td>\n",
       "      <td>0.22</td>\n",
       "      <td>0</td>\n",
       "    </tr>\n",
       "    <tr>\n",
       "      <th>649</th>\n",
       "      <td>GIA</td>\n",
       "      <td>G2</td>\n",
       "      <td>0.23</td>\n",
       "      <td>0</td>\n",
       "    </tr>\n",
       "    <tr>\n",
       "      <th>671</th>\n",
       "      <td>C9</td>\n",
       "      <td>IMT</td>\n",
       "      <td>0.23</td>\n",
       "      <td>1</td>\n",
       "    </tr>\n",
       "    <tr>\n",
       "      <th>820</th>\n",
       "      <td>NIP</td>\n",
       "      <td>MM</td>\n",
       "      <td>0.23</td>\n",
       "      <td>1</td>\n",
       "    </tr>\n",
       "    <tr>\n",
       "      <th>734</th>\n",
       "      <td>ROC</td>\n",
       "      <td>G2</td>\n",
       "      <td>0.23</td>\n",
       "      <td>0</td>\n",
       "    </tr>\n",
       "    <tr>\n",
       "      <th>990</th>\n",
       "      <td>MSE</td>\n",
       "      <td>ahq</td>\n",
       "      <td>0.24</td>\n",
       "      <td>1</td>\n",
       "    </tr>\n",
       "    <tr>\n",
       "      <th>453</th>\n",
       "      <td>kt</td>\n",
       "      <td>ROX</td>\n",
       "      <td>0.24</td>\n",
       "      <td>0</td>\n",
       "    </tr>\n",
       "  </tbody>\n",
       "</table>\n",
       "</div>"
      ],
      "text/plain": [
       "     blueTeamTag redTeamTag  bPredictProba  bResult\n",
       "941           GG        LYN           0.07        0\n",
       "198          LGS        ahq           0.08        0\n",
       "869           CJ        ROX           0.09        0\n",
       "400          JTH        LYN           0.10        0\n",
       "726           FB         FW           0.10        0\n",
       "221          NRG        IMT           0.10        1\n",
       "886           P1        IMT           0.11        1\n",
       "631           GG        LYN           0.12        0\n",
       "548           MM        S04           0.12        1\n",
       "151          M17        ahq           0.12        0\n",
       "16           HKE         FW           0.12        0\n",
       "325           LZ        ROX           0.13        0\n",
       "828          REN        IMT           0.14        0\n",
       "1046         HKA        AHQ           0.16        1\n",
       "1069         AHQ         FW           0.16        0\n",
       "440          CGE         FW           0.16        0\n",
       "835          CLG        IMT           0.16        1\n",
       "430           XG         FW           0.17        0\n",
       "510           AS        ahq           0.17        0\n",
       "188           DP        SUP           0.17        1\n",
       "1010         MVP        SSG           0.18        0\n",
       "14           M17         FW           0.18        0\n",
       "202           TM         JT           0.19        0\n",
       "981           AE        LGC           0.19        1\n",
       "317          TPA        ahq           0.19        0\n",
       "47           SSG        KOO           0.20        0\n",
       "592           DW        CHF           0.20        0\n",
       "582          SSB        CJE           0.20        0\n",
       "556          HLN         AE           0.20        0\n",
       "35           GIA        S04           0.20        1\n",
       "410          bbq        SKT           0.20        0\n",
       "126          ESC        SKT           0.20        0\n",
       "269          SSG        SKT           0.20        0\n",
       "1016          TM         DW           0.20        0\n",
       "313          CLG        IMT           0.20        1\n",
       "473           SZ        USG           0.21        0\n",
       "632          SCW        PDS           0.21        0\n",
       "301           TM         AV           0.21        0\n",
       "716          ROX        SKT           0.22        0\n",
       "172          HKE        ahq           0.22        0\n",
       "86            WS        ahq           0.22        0\n",
       "787          MSF        SKT           0.22        1\n",
       "710           WE        TSM           0.22        0\n",
       "191           XG        HKE           0.22        0\n",
       "649          GIA         G2           0.23        0\n",
       "671           C9        IMT           0.23        1\n",
       "820          NIP         MM           0.23        1\n",
       "734          ROC         G2           0.23        0\n",
       "990          MSE        ahq           0.24        1\n",
       "453           kt        ROX           0.24        0"
      ]
     },
     "execution_count": 716,
     "metadata": {},
     "output_type": "execute_result"
    }
   ],
   "source": [
    "dados_testes.sort_values(by='bPredictProba')[['blueTeamTag', 'redTeamTag', 'bPredictProba', 'bResult']].head(50)"
   ]
  },
  {
   "cell_type": "code",
   "execution_count": 717,
   "metadata": {},
   "outputs": [],
   "source": [
    "comp_erros = dados_testes[dados_testes['bResult'] != dados_testes[\"bPredict\"]]\n",
    "comp_acertos = dados_testes[dados_testes['bResult'] == dados_testes[\"bPredict\"]]"
   ]
  },
  {
   "cell_type": "code",
   "execution_count": 684,
   "metadata": {},
   "outputs": [
    {
     "data": {
      "text/plain": [
       "FNC      21\n",
       "SKT      20\n",
       "TSM      18\n",
       "SSG      18\n",
       "ROX      17\n",
       "JAG      16\n",
       "C9       14\n",
       "kt       13\n",
       "DIG      12\n",
       "LZ       12\n",
       "DP       11\n",
       "MVP      11\n",
       "ahq      11\n",
       "IMT      11\n",
       "G2       10\n",
       "TL       10\n",
       "FW       10\n",
       "H2K      10\n",
       "SIN       9\n",
       "OG        9\n",
       "AFs       9\n",
       "UOL       9\n",
       "CLG       9\n",
       "P1        9\n",
       "HKE       9\n",
       "SPY       8\n",
       "CHF       8\n",
       "TM        8\n",
       "FB        8\n",
       "GMB       8\n",
       "         ..\n",
       "yoeFW     1\n",
       "AE        1\n",
       "100       1\n",
       "VS        1\n",
       "EMP       1\n",
       "SCW       1\n",
       "IFG       1\n",
       "CW        1\n",
       "NJE       1\n",
       "CLK       1\n",
       "NJF       1\n",
       "BGG       1\n",
       "MIL       1\n",
       "NME       1\n",
       "SHR       1\n",
       "PRO       1\n",
       "GAL       1\n",
       "X5        1\n",
       "HAF       1\n",
       "CG        1\n",
       "LGD       1\n",
       "JST       1\n",
       "PDS       1\n",
       "EG        1\n",
       "OPT       1\n",
       "CRJ       1\n",
       "DD        1\n",
       "TIP       1\n",
       "GET       1\n",
       "ESC       1\n",
       "Name: blueTeamTag, Length: 159, dtype: int64"
      ]
     },
     "execution_count": 684,
     "metadata": {},
     "output_type": "execute_result"
    }
   ],
   "source": [
    "comp_acertos['blueTeamTag'].value_counts()"
   ]
  },
  {
   "cell_type": "code",
   "execution_count": 683,
   "metadata": {},
   "outputs": [
    {
     "data": {
      "text/plain": [
       "CLG     12\n",
       "C9      11\n",
       "TL      10\n",
       "AFs     10\n",
       "JAG      9\n",
       "SKT      9\n",
       "G2       9\n",
       "FW       8\n",
       "H2K      8\n",
       "ROX      7\n",
       "SSG      7\n",
       "DIG      7\n",
       "ROC      7\n",
       "NV       7\n",
       "LZ       7\n",
       "CJE      6\n",
       "SIN      6\n",
       "MVP      6\n",
       "MSF      6\n",
       "SUP      5\n",
       "kt       5\n",
       "DP       5\n",
       "P1       5\n",
       "TSM      5\n",
       "BJK      5\n",
       "AE       4\n",
       "GAL      4\n",
       "VS       4\n",
       "AUR      4\n",
       "IMT      4\n",
       "        ..\n",
       "S04      1\n",
       "OHM      1\n",
       "CREW     1\n",
       "NIP      1\n",
       "BC       1\n",
       "JTH      1\n",
       "ZONE     1\n",
       "INF      1\n",
       "AF       1\n",
       "WE       1\n",
       "AS       1\n",
       "B2K      1\n",
       "COL      1\n",
       "CA       1\n",
       "PNG      1\n",
       "BPI      1\n",
       "FSN      1\n",
       "D9       1\n",
       "LGC      1\n",
       "HR       1\n",
       "GCU      1\n",
       "X5       1\n",
       "HAF      1\n",
       "GET      1\n",
       "TPA      1\n",
       "VP       1\n",
       "CJ       1\n",
       "EVR      1\n",
       "17A      1\n",
       "SSW      1\n",
       "Name: blueTeamTag, Length: 140, dtype: int64"
      ]
     },
     "execution_count": 683,
     "metadata": {},
     "output_type": "execute_result"
    }
   ],
   "source": [
    "comp_erros['blueTeamTag'].value_counts()"
   ]
  },
  {
   "cell_type": "markdown",
   "metadata": {},
   "source": [
    "___"
   ]
  },
  {
   "cell_type": "markdown",
   "metadata": {},
   "source": [
    "## <font color='#00878A'>Logistic regression</font>"
   ]
  },
  {
   "cell_type": "code",
   "execution_count": 595,
   "metadata": {},
   "outputs": [],
   "source": [
    "model2 = LogisticRegression(solver='lbfgs', multi_class='auto')"
   ]
  },
  {
   "cell_type": "code",
   "execution_count": 596,
   "metadata": {
    "scrolled": true
   },
   "outputs": [
    {
     "name": "stderr",
     "output_type": "stream",
     "text": [
      "C:\\Users\\User\\Anaconda3\\lib\\site-packages\\sklearn\\linear_model\\logistic.py:758: ConvergenceWarning: lbfgs failed to converge. Increase the number of iterations.\n",
      "  \"of iterations.\", ConvergenceWarning)\n"
     ]
    },
    {
     "data": {
      "text/plain": [
       "LogisticRegression(C=1.0, class_weight=None, dual=False, fit_intercept=True,\n",
       "          intercept_scaling=1, max_iter=100, multi_class='auto',\n",
       "          n_jobs=None, penalty='l2', random_state=None, solver='lbfgs',\n",
       "          tol=0.0001, verbose=0, warm_start=False)"
      ]
     },
     "execution_count": 596,
     "metadata": {},
     "output_type": "execute_result"
    }
   ],
   "source": [
    "model2.fit(x_train_encoded, y_train)"
   ]
  },
  {
   "cell_type": "code",
   "execution_count": 597,
   "metadata": {},
   "outputs": [
    {
     "ename": "ValueError",
     "evalue": "X has 1796 features per sample; expecting 2306",
     "output_type": "error",
     "traceback": [
      "\u001b[1;31m---------------------------------------------------------------------------\u001b[0m",
      "\u001b[1;31mValueError\u001b[0m                                Traceback (most recent call last)",
      "\u001b[1;32m<ipython-input-597-263fcfa6a2a2>\u001b[0m in \u001b[0;36m<module>\u001b[1;34m\u001b[0m\n\u001b[1;32m----> 1\u001b[1;33m \u001b[0my_pred\u001b[0m \u001b[1;33m=\u001b[0m \u001b[0mmodel2\u001b[0m\u001b[1;33m.\u001b[0m\u001b[0mpredict\u001b[0m\u001b[1;33m(\u001b[0m\u001b[0mx_test_encoded\u001b[0m\u001b[1;33m)\u001b[0m\u001b[1;33m\u001b[0m\u001b[1;33m\u001b[0m\u001b[0m\n\u001b[0m",
      "\u001b[1;32m~\\Anaconda3\\lib\\site-packages\\sklearn\\linear_model\\base.py\u001b[0m in \u001b[0;36mpredict\u001b[1;34m(self, X)\u001b[0m\n\u001b[0;32m    279\u001b[0m             \u001b[0mPredicted\u001b[0m \u001b[1;32mclass\u001b[0m \u001b[0mlabel\u001b[0m \u001b[0mper\u001b[0m \u001b[0msample\u001b[0m\u001b[1;33m.\u001b[0m\u001b[1;33m\u001b[0m\u001b[1;33m\u001b[0m\u001b[0m\n\u001b[0;32m    280\u001b[0m         \"\"\"\n\u001b[1;32m--> 281\u001b[1;33m         \u001b[0mscores\u001b[0m \u001b[1;33m=\u001b[0m \u001b[0mself\u001b[0m\u001b[1;33m.\u001b[0m\u001b[0mdecision_function\u001b[0m\u001b[1;33m(\u001b[0m\u001b[0mX\u001b[0m\u001b[1;33m)\u001b[0m\u001b[1;33m\u001b[0m\u001b[1;33m\u001b[0m\u001b[0m\n\u001b[0m\u001b[0;32m    282\u001b[0m         \u001b[1;32mif\u001b[0m \u001b[0mlen\u001b[0m\u001b[1;33m(\u001b[0m\u001b[0mscores\u001b[0m\u001b[1;33m.\u001b[0m\u001b[0mshape\u001b[0m\u001b[1;33m)\u001b[0m \u001b[1;33m==\u001b[0m \u001b[1;36m1\u001b[0m\u001b[1;33m:\u001b[0m\u001b[1;33m\u001b[0m\u001b[1;33m\u001b[0m\u001b[0m\n\u001b[0;32m    283\u001b[0m             \u001b[0mindices\u001b[0m \u001b[1;33m=\u001b[0m \u001b[1;33m(\u001b[0m\u001b[0mscores\u001b[0m \u001b[1;33m>\u001b[0m \u001b[1;36m0\u001b[0m\u001b[1;33m)\u001b[0m\u001b[1;33m.\u001b[0m\u001b[0mastype\u001b[0m\u001b[1;33m(\u001b[0m\u001b[0mnp\u001b[0m\u001b[1;33m.\u001b[0m\u001b[0mint\u001b[0m\u001b[1;33m)\u001b[0m\u001b[1;33m\u001b[0m\u001b[1;33m\u001b[0m\u001b[0m\n",
      "\u001b[1;32m~\\Anaconda3\\lib\\site-packages\\sklearn\\linear_model\\base.py\u001b[0m in \u001b[0;36mdecision_function\u001b[1;34m(self, X)\u001b[0m\n\u001b[0;32m    260\u001b[0m         \u001b[1;32mif\u001b[0m \u001b[0mX\u001b[0m\u001b[1;33m.\u001b[0m\u001b[0mshape\u001b[0m\u001b[1;33m[\u001b[0m\u001b[1;36m1\u001b[0m\u001b[1;33m]\u001b[0m \u001b[1;33m!=\u001b[0m \u001b[0mn_features\u001b[0m\u001b[1;33m:\u001b[0m\u001b[1;33m\u001b[0m\u001b[1;33m\u001b[0m\u001b[0m\n\u001b[0;32m    261\u001b[0m             raise ValueError(\"X has %d features per sample; expecting %d\"\n\u001b[1;32m--> 262\u001b[1;33m                              % (X.shape[1], n_features))\n\u001b[0m\u001b[0;32m    263\u001b[0m \u001b[1;33m\u001b[0m\u001b[0m\n\u001b[0;32m    264\u001b[0m         scores = safe_sparse_dot(X, self.coef_.T,\n",
      "\u001b[1;31mValueError\u001b[0m: X has 1796 features per sample; expecting 2306"
     ]
    }
   ],
   "source": [
    "y_pred = model2.predict(x_test_encoded)"
   ]
  },
  {
   "cell_type": "code",
   "execution_count": 573,
   "metadata": {},
   "outputs": [
    {
     "ename": "NameError",
     "evalue": "name 'y_pred' is not defined",
     "output_type": "error",
     "traceback": [
      "\u001b[1;31m---------------------------------------------------------------------------\u001b[0m",
      "\u001b[1;31mNameError\u001b[0m                                 Traceback (most recent call last)",
      "\u001b[1;32m<ipython-input-573-1936c63f57aa>\u001b[0m in \u001b[0;36m<module>\u001b[1;34m\u001b[0m\n\u001b[1;32m----> 1\u001b[1;33m \u001b[0macc\u001b[0m \u001b[1;33m=\u001b[0m \u001b[0maccuracy_score\u001b[0m\u001b[1;33m(\u001b[0m\u001b[0my_test\u001b[0m\u001b[1;33m,\u001b[0m \u001b[0my_pred\u001b[0m\u001b[1;33m)\u001b[0m\u001b[1;33m\u001b[0m\u001b[1;33m\u001b[0m\u001b[0m\n\u001b[0m",
      "\u001b[1;31mNameError\u001b[0m: name 'y_pred' is not defined"
     ]
    }
   ],
   "source": [
    "acc = accuracy_score(y_test, y_pred)"
   ]
  },
  {
   "cell_type": "code",
   "execution_count": null,
   "metadata": {},
   "outputs": [],
   "source": []
  },
  {
   "cell_type": "markdown",
   "metadata": {},
   "source": [
    "___"
   ]
  },
  {
   "cell_type": "markdown",
   "metadata": {},
   "source": [
    "## <font color='#00878A'> Classificador do luciao </font>"
   ]
  },
  {
   "cell_type": "code",
   "execution_count": 373,
   "metadata": {},
   "outputs": [],
   "source": [
    "wins=[]\n",
    "for i in range(len(dados_testes)):\n",
    "    probblue=1\n",
    "    probred=1\n",
    "    \n",
    "    for f in columnsb:\n",
    "        if dados_testes.loc[i,f] not in alls.keys():\n",
    "            probblue*=0.5\n",
    "        else:\n",
    "            if alls[dados_testes.loc[i,f]]==0 or alls[dados_testes.loc[i,f]]==1:\n",
    "                probblue*=0.5\n",
    "            else:\n",
    "                probblue*=alls[dados_testes.loc[i,f]]\n",
    "    for f in columnsr:\n",
    "        if dados_testes.loc[i,f] not in alls.keys():\n",
    "            probred*=0.5\n",
    "        else:\n",
    "            if alls[dados_testes.loc[i,f]]==0 or alls[dados_testes.loc[i,f]]==1:\n",
    "                probred*=0.5\n",
    "            else:\n",
    "                probred*=alls[dados_testes.loc[i,f]]\n",
    "    if probblue<probred:\n",
    "        wins.append(0)\n",
    "    else:\n",
    "        wins.append(1)"
   ]
  },
  {
   "cell_type": "code",
   "execution_count": 374,
   "metadata": {},
   "outputs": [
    {
     "name": "stdout",
     "output_type": "stream",
     "text": [
      "64.58519179304193 %\n"
     ]
    }
   ],
   "source": [
    "#teste de qualidade\n",
    "certo=0\n",
    "total=0\n",
    "for i in range(len(dados_testes)):\n",
    "    if dados_testes.loc[i,'bResult']==wins[i]:\n",
    "        certo+=1\n",
    "        total+=1\n",
    "    else:\n",
    "        total+=1\n",
    "print(100*certo/total,'%')\n",
    "        "
   ]
  }
 ],
 "metadata": {
  "kernelspec": {
   "display_name": "Python 3",
   "language": "python",
   "name": "python3"
  },
  "language_info": {
   "codemirror_mode": {
    "name": "ipython",
    "version": 3
   },
   "file_extension": ".py",
   "mimetype": "text/x-python",
   "name": "python",
   "nbconvert_exporter": "python",
   "pygments_lexer": "ipython3",
   "version": "3.7.1"
  }
 },
 "nbformat": 4,
 "nbformat_minor": 2
}
