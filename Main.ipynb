{
 "cells": [
  {
   "cell_type": "code",
   "execution_count": 1,
   "metadata": {},
   "outputs": [],
   "source": [
    "%matplotlib inline\n",
    "import pandas as pd\n",
    "import matplotlib.pyplot as plt\n",
    "import numpy as np"
   ]
  },
  {
   "cell_type": "code",
   "execution_count": 13,
   "metadata": {},
   "outputs": [],
   "source": [
    "\n",
    "dados = pd.read_csv('matchinfo.csv')"
   ]
  },
  {
   "cell_type": "code",
   "execution_count": 14,
   "metadata": {},
   "outputs": [
    {
     "data": {
      "text/html": [
       "<div>\n",
       "<style scoped>\n",
       "    .dataframe tbody tr th:only-of-type {\n",
       "        vertical-align: middle;\n",
       "    }\n",
       "\n",
       "    .dataframe tbody tr th {\n",
       "        vertical-align: top;\n",
       "    }\n",
       "\n",
       "    .dataframe thead th {\n",
       "        text-align: right;\n",
       "    }\n",
       "</style>\n",
       "<table border=\"1\" class=\"dataframe\">\n",
       "  <thead>\n",
       "    <tr style=\"text-align: right;\">\n",
       "      <th></th>\n",
       "      <th>League</th>\n",
       "      <th>Year</th>\n",
       "      <th>Season</th>\n",
       "      <th>Type</th>\n",
       "      <th>blueTeamTag</th>\n",
       "      <th>bResult</th>\n",
       "      <th>rResult</th>\n",
       "      <th>redTeamTag</th>\n",
       "      <th>gamelength</th>\n",
       "      <th>blueTop</th>\n",
       "      <th>...</th>\n",
       "      <th>redTopChamp</th>\n",
       "      <th>redJungle</th>\n",
       "      <th>redJungleChamp</th>\n",
       "      <th>redMiddle</th>\n",
       "      <th>redMiddleChamp</th>\n",
       "      <th>redADC</th>\n",
       "      <th>redADCChamp</th>\n",
       "      <th>redSupport</th>\n",
       "      <th>redSupportChamp</th>\n",
       "      <th>Address</th>\n",
       "    </tr>\n",
       "  </thead>\n",
       "  <tbody>\n",
       "    <tr>\n",
       "      <th>0</th>\n",
       "      <td>NALCS</td>\n",
       "      <td>2015</td>\n",
       "      <td>Spring</td>\n",
       "      <td>Season</td>\n",
       "      <td>TSM</td>\n",
       "      <td>1</td>\n",
       "      <td>0</td>\n",
       "      <td>C9</td>\n",
       "      <td>40</td>\n",
       "      <td>Dyrus</td>\n",
       "      <td>...</td>\n",
       "      <td>Gnar</td>\n",
       "      <td>Meteos</td>\n",
       "      <td>Elise</td>\n",
       "      <td>Hai</td>\n",
       "      <td>Fizz</td>\n",
       "      <td>Sneaky</td>\n",
       "      <td>Sivir</td>\n",
       "      <td>LemonNation</td>\n",
       "      <td>Thresh</td>\n",
       "      <td>http://matchhistory.na.leagueoflegends.com/en/...</td>\n",
       "    </tr>\n",
       "  </tbody>\n",
       "</table>\n",
       "<p>1 rows × 30 columns</p>\n",
       "</div>"
      ],
      "text/plain": [
       "  League  Year  Season    Type blueTeamTag  bResult  rResult redTeamTag  \\\n",
       "0  NALCS  2015  Spring  Season         TSM        1        0         C9   \n",
       "\n",
       "   gamelength blueTop  ... redTopChamp redJungle redJungleChamp redMiddle  \\\n",
       "0          40   Dyrus  ...        Gnar    Meteos          Elise       Hai   \n",
       "\n",
       "  redMiddleChamp  redADC redADCChamp   redSupport redSupportChamp  \\\n",
       "0           Fizz  Sneaky       Sivir  LemonNation          Thresh   \n",
       "\n",
       "                                             Address  \n",
       "0  http://matchhistory.na.leagueoflegends.com/en/...  \n",
       "\n",
       "[1 rows x 30 columns]"
      ]
     },
     "execution_count": 14,
     "metadata": {},
     "output_type": "execute_result"
    }
   ],
   "source": [
    "dados.head(1)"
   ]
  },
  {
   "cell_type": "code",
   "execution_count": 15,
   "metadata": {},
   "outputs": [
    {
     "data": {
      "text/plain": [
       "Index(['League', 'Year', 'Season', 'Type', 'blueTeamTag', 'bResult', 'rResult',\n",
       "       'redTeamTag', 'gamelength', 'blueTop', 'blueTopChamp', 'blueJungle',\n",
       "       'blueJungleChamp', 'blueMiddle', 'blueMiddleChamp', 'blueADC',\n",
       "       'blueADCChamp', 'blueSupport', 'blueSupportChamp', 'redTop',\n",
       "       'redTopChamp', 'redJungle', 'redJungleChamp', 'redMiddle',\n",
       "       'redMiddleChamp', 'redADC', 'redADCChamp', 'redSupport',\n",
       "       'redSupportChamp', 'Address'],\n",
       "      dtype='object')"
      ]
     },
     "execution_count": 15,
     "metadata": {},
     "output_type": "execute_result"
    }
   ],
   "source": [
    "dados.columns"
   ]
  },
  {
   "cell_type": "code",
   "execution_count": 21,
   "metadata": {},
   "outputs": [
    {
     "data": {
      "text/plain": [
       "Maokai          880\n",
       "Gnar            665\n",
       "Shen            604\n",
       "Rumble          526\n",
       "Nautilus        396\n",
       "Poppy           384\n",
       "Renekton        326\n",
       "Trundle         324\n",
       "Fiora           284\n",
       "JarvanIV        232\n",
       "Irelia          229\n",
       "Ekko            229\n",
       "Gragas          226\n",
       "Gangplank       213\n",
       "Camille         166\n",
       "Kennen          149\n",
       "Kled            133\n",
       "Hecarim         128\n",
       "Chogath         115\n",
       "Jayce           111\n",
       "Fizz            109\n",
       "Lissandra        98\n",
       "Jax              97\n",
       "Lulu             83\n",
       "Malphite         76\n",
       "Galio            75\n",
       "Ryze             69\n",
       "DrMundo          52\n",
       "TahmKench        51\n",
       "Sion             51\n",
       "               ... \n",
       "Aatrox            6\n",
       "Pantheon          5\n",
       "Nasus             5\n",
       "Urgot             5\n",
       "Zac               5\n",
       "Mordekaiser       4\n",
       "RekSai            4\n",
       "Rengar            4\n",
       "Zed               3\n",
       "Yorick            3\n",
       "Teemo             2\n",
       "Talon             2\n",
       "LeeSin            2\n",
       "Malzahar          2\n",
       "Taliyah           2\n",
       "Warwick           2\n",
       "Karma             2\n",
       "Azir              2\n",
       "Khazix            2\n",
       "MasterYi          1\n",
       "Heimerdinger      1\n",
       "MonkeyKing        1\n",
       "Shaco             1\n",
       "Kayn              1\n",
       "Viktor            1\n",
       "Diana             1\n",
       "Ashe              1\n",
       "Tryndamere        1\n",
       "Annie             1\n",
       "XinZhao           1\n",
       "Name: redTopChamp, Length: 81, dtype: int64"
      ]
     },
     "execution_count": 21,
     "metadata": {},
     "output_type": "execute_result"
    }
   ],
   "source": [
    "dados['redTopChamp'].value_counts()\n"
   ]
  },
  {
   "cell_type": "code",
   "execution_count": 22,
   "metadata": {},
   "outputs": [
    {
     "data": {
      "text/plain": [
       "Maokai         827\n",
       "Shen           657\n",
       "Gnar           625\n",
       "Rumble         571\n",
       "Nautilus       400\n",
       "Poppy          386\n",
       "Trundle        329\n",
       "Renekton       307\n",
       "Fiora          247\n",
       "JarvanIV       237\n",
       "Camille        221\n",
       "Gragas         216\n",
       "Irelia         214\n",
       "Gangplank      212\n",
       "Ekko           205\n",
       "Kennen         160\n",
       "Jayce          146\n",
       "Hecarim        135\n",
       "Chogath        123\n",
       "Kled           116\n",
       "Ryze           113\n",
       "Jax            111\n",
       "Lulu            99\n",
       "Fizz            97\n",
       "Galio           88\n",
       "Lissandra       83\n",
       "Malphite        71\n",
       "Sion            59\n",
       "TahmKench       55\n",
       "Swain           47\n",
       "              ... \n",
       "Sejuani          7\n",
       "Akali            5\n",
       "Yorick           5\n",
       "Alistar          5\n",
       "RekSai           4\n",
       "Nidalee          4\n",
       "Azir             4\n",
       "Pantheon         3\n",
       "Nasus            3\n",
       "Malzahar         3\n",
       "LeeSin           3\n",
       "Mordekaiser      2\n",
       "Talon            2\n",
       "Rengar           2\n",
       "Nocturne         2\n",
       "Teemo            2\n",
       "Zac              2\n",
       "Urgot            2\n",
       "Nunu             1\n",
       "Warwick          1\n",
       "XinZhao          1\n",
       "Taliyah          1\n",
       "Khazix           1\n",
       "Blitzcrank       1\n",
       "Bard             1\n",
       "Katarina         1\n",
       "Varus            1\n",
       "Karma            1\n",
       "Zed              1\n",
       "Diana            1\n",
       "Name: blueTopChamp, Length: 78, dtype: int64"
      ]
     },
     "execution_count": 22,
     "metadata": {},
     "output_type": "execute_result"
    }
   ],
   "source": [
    "dados['blueTopChamp'].value_counts()"
   ]
  },
  {
   "cell_type": "code",
   "execution_count": 26,
   "metadata": {},
   "outputs": [
    {
     "name": "stdout",
     "output_type": "stream",
     "text": [
      "{'Irelia': 0.4966139954853273, 'Gnar': 0.5, 'Renekton': 0.4597156398104265, 'Kassadin': 0.5555555555555556, 'Sion': 0.5454545454545454, 'Jax': 0.4807692307692308, 'Lulu': 0.45054945054945056, 'Maokai': 0.5125951962507322, 'Rumble': 0.5050136736554239, 'Lissandra': 0.48066298342541436, 'RekSai': 0.25, 'Fizz': 0.5436893203883495, 'Morgana': 0.5263157894736842, 'Kennen': 0.4336569579288026, 'Gragas': 0.45701357466063347, 'DrMundo': 0.27586206896551724, 'Vladimir': 0.43529411764705883, 'Hecarim': 0.4600760456273764, 'Ryze': 0.5, 'Ekko': 0.5184331797235023, 'Shen': 0.4964314036478985, 'Nautilus': 0.5012562814070352, 'Khazix': 0.3333333333333333, 'Riven': 0.5, 'Olaf': 0.4473684210526316, 'Shyvana': 0.47368421052631576, 'Yasuo': 0.5517241379310345, 'Malphite': 0.47619047619047616, 'Fiora': 0.5009416195856874, 'TahmKench': 0.5471698113207547, 'Poppy': 0.4883116883116883, 'Gangplank': 0.52, 'Graves': 0.47540983606557374, 'Quinn': 0.5, 'Trundle': 0.5252679938744257, 'Pantheon': 0.75, 'Rammus': 0.6078431372549019, 'Swain': 0.4578313253012048, 'JarvanIV': 0.5522388059701493, 'Illaoi': 0.5135135135135135, 'Lucian': 0.64, 'Jayce': 0.48638132295719844, 'Camille': 0.5813953488372093, 'Singed': 0.5806451612903226, 'Kled': 0.5220883534136547, 'Galio': 0.44171779141104295, 'Chogath': 0.5294117647058824, 'Nasus': 0.375, 'Cassiopeia': 0.5217391304347826, 'Azir': 0.6666666666666666, 'Yorick': 0.25, 'Diana': 0.0, 'Nocturne': 1.0, 'LeeSin': 0.2, 'Zac': 0.42857142857142855, 'Taliyah': 0.6666666666666666, 'Malzahar': 0.8, 'Akali': 0.36363636363636365, 'Teemo': 0.0, 'Bard': 0.0, 'Nidalee': 0.38461538461538464, 'Nunu': 1.0, 'Rengar': 0.16666666666666666, 'Sejuani': 0.5294117647058824, 'Mordekaiser': 0.3333333333333333, 'Varus': 0.0, 'Kayle': 0.43478260869565216, 'Darius': 0.5102040816326531, 'Zed': 0.75, 'XinZhao': 1.0, 'Blitzcrank': 0.0, 'Talon': 0.25, 'Urgot': 0.5714285714285714, 'Alistar': 0.6, 'Warwick': 0.0, 'Ornn': 0.6181818181818182, 'Karma': 0.6666666666666666, 'Katarina': 0.0, 'Aatrox': 0.3333333333333333, 'Shaco': 1.0, 'Heimerdinger': 0.0, 'Ashe': 0.0, 'MasterYi': 0.0, 'Tryndamere': 1.0, 'MonkeyKing': 0.0, 'Kayn': 0.0, 'Viktor': 1.0, 'Annie': 0.0}\n"
     ]
    }
   ],
   "source": [
    "top = {}\n",
    "for i in dados.blueTopChamp:\n",
    "    top[i]=0\n",
    "for i in dados.redTopChamp:\n",
    "    top[i]=0\n",
    "for k,v in  top.items():\n",
    "    wins=len(dados[(dados.blueTopChamp==k) & (dados.bResult==1)])+len(dados[(dados.redTopChamp==k) & (dados.rResult==1)])\n",
    "    matchs=len(dados[dados.blueTopChamp==k])+ len(dados[dados.redTopChamp==k])      \n",
    "    if matchs!=0:\n",
    "        top[k]=wins/matchs\n",
    "print(top)"
   ]
  },
  {
   "cell_type": "code",
   "execution_count": null,
   "metadata": {},
   "outputs": [],
   "source": []
  },
  {
   "cell_type": "code",
   "execution_count": null,
   "metadata": {},
   "outputs": [],
   "source": []
  }
 ],
 "metadata": {
  "kernelspec": {
   "display_name": "Python 3",
   "language": "python",
   "name": "python3"
  },
  "language_info": {
   "codemirror_mode": {
    "name": "ipython",
    "version": 3
   },
   "file_extension": ".py",
   "mimetype": "text/x-python",
   "name": "python",
   "nbconvert_exporter": "python",
   "pygments_lexer": "ipython3",
   "version": "3.7.3"
  }
 },
 "nbformat": 4,
 "nbformat_minor": 2
}
