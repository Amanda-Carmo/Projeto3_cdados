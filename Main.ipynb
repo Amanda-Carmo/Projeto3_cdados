{
 "cells": [
  {
   "cell_type": "markdown",
   "metadata": {},
   "source": [
    "# <font color='#00878A'>Ciência dos Dados</font>\n",
    "## Projeto 3\n",
    "Amanda Carmo    | \n",
    "Lucio Hallage    |\n",
    "Nicole Costa    |\n",
    "Vitor Miada"
   ]
  },
  {
   "cell_type": "code",
   "execution_count": 1,
   "metadata": {},
   "outputs": [],
   "source": [
    "import sklearn "
   ]
  },
  {
   "cell_type": "code",
   "execution_count": 2,
   "metadata": {},
   "outputs": [
    {
     "data": {
      "text/plain": [
       "'0.21.3'"
      ]
     },
     "execution_count": 2,
     "metadata": {},
     "output_type": "execute_result"
    }
   ],
   "source": [
    "sklearn.__version__"
   ]
  },
  {
   "cell_type": "markdown",
   "metadata": {},
   "source": [
    "### Objetivo\n",
    "- Conduzir análise de dados com grau elevado de autonomia utilizando técnicas como: regressão linear, regression tree, random forest regression, multinomial naive bayes, regressão logística, decision tree, random forest e clusterização (k-means).\n"
   ]
  },
  {
   "cell_type": "markdown",
   "metadata": {},
   "source": [
    "Em nosso projeto iremos analizar a base de dados do jogo League of Legends, para fazer a previsão de vitórias de uma partida baseando-se em um time.\n",
    ".# ARRUMAR AQUI EM CIMA\n",
    "\n",
    "Para o nosso projeto utilizamos técnicas como _random forest_, _regressão logística_ e _decision tree_ para criar nosso classificador."
   ]
  },
  {
   "cell_type": "markdown",
   "metadata": {},
   "source": [
    "## Preparando o ambiente no jupyter:"
   ]
  },
  {
   "cell_type": "code",
   "execution_count": 3,
   "metadata": {},
   "outputs": [],
   "source": [
    "%matplotlib inline\n",
    "import pandas as pd\n",
    "import matplotlib.pyplot as plt\n",
    "import numpy as np\n",
    "from sklearn.preprocessing import OneHotEncoder\n",
    "from sklearn.metrics import accuracy_score, confusion_matrix\n",
    "from sklearn.ensemble import RandomForestClassifier\n",
    "from sklearn.linear_model import LogisticRegression\n",
    "import warnings"
   ]
  },
  {
   "cell_type": "markdown",
   "metadata": {},
   "source": [
    "## <font color='red'>colocar o porque dessa base de dados</font>\n"
   ]
  },
  {
   "cell_type": "markdown",
   "metadata": {},
   "source": [
    "Lendo a base de dados:"
   ]
  },
  {
   "cell_type": "code",
   "execution_count": 4,
   "metadata": {},
   "outputs": [],
   "source": [
    "dados = pd.read_excel('matchinfo-treinamento.xlsx')\n",
    "dados_testes = pd.read_excel('matchinfo-testes.xlsx')"
   ]
  },
  {
   "cell_type": "code",
   "execution_count": 5,
   "metadata": {},
   "outputs": [
    {
     "data": {
      "text/html": [
       "<div>\n",
       "<style scoped>\n",
       "    .dataframe tbody tr th:only-of-type {\n",
       "        vertical-align: middle;\n",
       "    }\n",
       "\n",
       "    .dataframe tbody tr th {\n",
       "        vertical-align: top;\n",
       "    }\n",
       "\n",
       "    .dataframe thead th {\n",
       "        text-align: right;\n",
       "    }\n",
       "</style>\n",
       "<table border=\"1\" class=\"dataframe\">\n",
       "  <thead>\n",
       "    <tr style=\"text-align: right;\">\n",
       "      <th></th>\n",
       "      <th>League</th>\n",
       "      <th>Year</th>\n",
       "      <th>Season</th>\n",
       "      <th>Type</th>\n",
       "      <th>blueTeamTag</th>\n",
       "      <th>bResult</th>\n",
       "      <th>rResult</th>\n",
       "      <th>redTeamTag</th>\n",
       "      <th>gamelength</th>\n",
       "      <th>blueTop</th>\n",
       "      <th>...</th>\n",
       "      <th>redTopChamp</th>\n",
       "      <th>redJungle</th>\n",
       "      <th>redJungleChamp</th>\n",
       "      <th>redMiddle</th>\n",
       "      <th>redMiddleChamp</th>\n",
       "      <th>redADC</th>\n",
       "      <th>redADCChamp</th>\n",
       "      <th>redSupport</th>\n",
       "      <th>redSupportChamp</th>\n",
       "      <th>Address</th>\n",
       "    </tr>\n",
       "  </thead>\n",
       "  <tbody>\n",
       "    <tr>\n",
       "      <th>0</th>\n",
       "      <td>NALCS</td>\n",
       "      <td>2016</td>\n",
       "      <td>Spring</td>\n",
       "      <td>Season</td>\n",
       "      <td>TSM</td>\n",
       "      <td>0</td>\n",
       "      <td>1</td>\n",
       "      <td>REN</td>\n",
       "      <td>30</td>\n",
       "      <td>Hauntzer</td>\n",
       "      <td>...</td>\n",
       "      <td>Graves</td>\n",
       "      <td>Crumbz</td>\n",
       "      <td>Gragas</td>\n",
       "      <td>Ninja</td>\n",
       "      <td>Lissandra</td>\n",
       "      <td>Freeze</td>\n",
       "      <td>Caitlyn</td>\n",
       "      <td>Hakuho</td>\n",
       "      <td>Bard</td>\n",
       "      <td>http://matchhistory.na.leagueoflegends.com/en/...</td>\n",
       "    </tr>\n",
       "    <tr>\n",
       "      <th>1</th>\n",
       "      <td>TCL</td>\n",
       "      <td>2015</td>\n",
       "      <td>Spring</td>\n",
       "      <td>Season</td>\n",
       "      <td>BJK</td>\n",
       "      <td>1</td>\n",
       "      <td>0</td>\n",
       "      <td>NR1</td>\n",
       "      <td>43</td>\n",
       "      <td>Thaldrin</td>\n",
       "      <td>...</td>\n",
       "      <td>Maokai</td>\n",
       "      <td>Decagon Moon</td>\n",
       "      <td>RekSai</td>\n",
       "      <td>LEYL U NEHAR</td>\n",
       "      <td>Ahri</td>\n",
       "      <td>Revanche</td>\n",
       "      <td>Sivir</td>\n",
       "      <td>Swanepoel</td>\n",
       "      <td>Janna</td>\n",
       "      <td>http://matchhistory.tr.leagueoflegends.com/tr/...</td>\n",
       "    </tr>\n",
       "    <tr>\n",
       "      <th>2</th>\n",
       "      <td>NALCS</td>\n",
       "      <td>2017</td>\n",
       "      <td>Spring</td>\n",
       "      <td>Season</td>\n",
       "      <td>NV</td>\n",
       "      <td>1</td>\n",
       "      <td>0</td>\n",
       "      <td>C9</td>\n",
       "      <td>38</td>\n",
       "      <td>Seraph</td>\n",
       "      <td>...</td>\n",
       "      <td>Nautilus</td>\n",
       "      <td>Contractz</td>\n",
       "      <td>LeeSin</td>\n",
       "      <td>Jensen</td>\n",
       "      <td>Cassiopeia</td>\n",
       "      <td>Sneaky</td>\n",
       "      <td>Ezreal</td>\n",
       "      <td>Smoothie</td>\n",
       "      <td>Malzahar</td>\n",
       "      <td>http://matchhistory.na.leagueoflegends.com/en/...</td>\n",
       "    </tr>\n",
       "    <tr>\n",
       "      <th>3</th>\n",
       "      <td>IEM</td>\n",
       "      <td>2016</td>\n",
       "      <td>Spring</td>\n",
       "      <td>International</td>\n",
       "      <td>OG</td>\n",
       "      <td>0</td>\n",
       "      <td>1</td>\n",
       "      <td>TSM</td>\n",
       "      <td>33</td>\n",
       "      <td>Soaz</td>\n",
       "      <td>...</td>\n",
       "      <td>Fiora</td>\n",
       "      <td>Svenskeren</td>\n",
       "      <td>LeeSin</td>\n",
       "      <td>Bjergsen</td>\n",
       "      <td>TwistedFate</td>\n",
       "      <td>Doublelift</td>\n",
       "      <td>Ezreal</td>\n",
       "      <td>Yellowstar</td>\n",
       "      <td>Alistar</td>\n",
       "      <td>http://matchhistory.euw.leagueoflegends.com/en...</td>\n",
       "    </tr>\n",
       "  </tbody>\n",
       "</table>\n",
       "<p>4 rows × 30 columns</p>\n",
       "</div>"
      ],
      "text/plain": [
       "  League  Year  Season           Type blueTeamTag  bResult  rResult  \\\n",
       "0  NALCS  2016  Spring         Season         TSM        0        1   \n",
       "1    TCL  2015  Spring         Season         BJK        1        0   \n",
       "2  NALCS  2017  Spring         Season          NV        1        0   \n",
       "3    IEM  2016  Spring  International          OG        0        1   \n",
       "\n",
       "  redTeamTag  gamelength   blueTop  \\\n",
       "0        REN          30  Hauntzer   \n",
       "1        NR1          43  Thaldrin   \n",
       "2         C9          38    Seraph   \n",
       "3        TSM          33      Soaz   \n",
       "\n",
       "                         ...                         redTopChamp  \\\n",
       "0                        ...                              Graves   \n",
       "1                        ...                              Maokai   \n",
       "2                        ...                            Nautilus   \n",
       "3                        ...                               Fiora   \n",
       "\n",
       "      redJungle redJungleChamp     redMiddle redMiddleChamp      redADC  \\\n",
       "0        Crumbz         Gragas         Ninja      Lissandra      Freeze   \n",
       "1  Decagon Moon         RekSai  LEYL U NEHAR           Ahri    Revanche   \n",
       "2     Contractz         LeeSin        Jensen     Cassiopeia      Sneaky   \n",
       "3    Svenskeren         LeeSin      Bjergsen    TwistedFate  Doublelift   \n",
       "\n",
       "  redADCChamp  redSupport redSupportChamp  \\\n",
       "0     Caitlyn      Hakuho            Bard   \n",
       "1       Sivir   Swanepoel           Janna   \n",
       "2      Ezreal    Smoothie        Malzahar   \n",
       "3      Ezreal  Yellowstar         Alistar   \n",
       "\n",
       "                                             Address  \n",
       "0  http://matchhistory.na.leagueoflegends.com/en/...  \n",
       "1  http://matchhistory.tr.leagueoflegends.com/tr/...  \n",
       "2  http://matchhistory.na.leagueoflegends.com/en/...  \n",
       "3  http://matchhistory.euw.leagueoflegends.com/en...  \n",
       "\n",
       "[4 rows x 30 columns]"
      ]
     },
     "execution_count": 5,
     "metadata": {},
     "output_type": "execute_result"
    }
   ],
   "source": [
    "dados.head(4)"
   ]
  },
  {
   "cell_type": "code",
   "execution_count": 6,
   "metadata": {},
   "outputs": [
    {
     "data": {
      "text/html": [
       "<div>\n",
       "<style scoped>\n",
       "    .dataframe tbody tr th:only-of-type {\n",
       "        vertical-align: middle;\n",
       "    }\n",
       "\n",
       "    .dataframe tbody tr th {\n",
       "        vertical-align: top;\n",
       "    }\n",
       "\n",
       "    .dataframe thead th {\n",
       "        text-align: right;\n",
       "    }\n",
       "</style>\n",
       "<table border=\"1\" class=\"dataframe\">\n",
       "  <thead>\n",
       "    <tr style=\"text-align: right;\">\n",
       "      <th></th>\n",
       "      <th>League</th>\n",
       "      <th>Year</th>\n",
       "      <th>Season</th>\n",
       "      <th>Type</th>\n",
       "      <th>blueTeamTag</th>\n",
       "      <th>bResult</th>\n",
       "      <th>rResult</th>\n",
       "      <th>redTeamTag</th>\n",
       "      <th>gamelength</th>\n",
       "      <th>blueTop</th>\n",
       "      <th>...</th>\n",
       "      <th>redTopChamp</th>\n",
       "      <th>redJungle</th>\n",
       "      <th>redJungleChamp</th>\n",
       "      <th>redMiddle</th>\n",
       "      <th>redMiddleChamp</th>\n",
       "      <th>redADC</th>\n",
       "      <th>redADCChamp</th>\n",
       "      <th>redSupport</th>\n",
       "      <th>redSupportChamp</th>\n",
       "      <th>Address</th>\n",
       "    </tr>\n",
       "  </thead>\n",
       "  <tbody>\n",
       "    <tr>\n",
       "      <th>0</th>\n",
       "      <td>NALCS</td>\n",
       "      <td>2018</td>\n",
       "      <td>Spring</td>\n",
       "      <td>Promotion</td>\n",
       "      <td>GCU</td>\n",
       "      <td>1</td>\n",
       "      <td>0</td>\n",
       "      <td>P1</td>\n",
       "      <td>35</td>\n",
       "      <td>Solo</td>\n",
       "      <td>...</td>\n",
       "      <td>Kled</td>\n",
       "      <td>MikeYeung</td>\n",
       "      <td>Elise</td>\n",
       "      <td>Ryu</td>\n",
       "      <td>Lucian</td>\n",
       "      <td>Arrow</td>\n",
       "      <td>Tristana</td>\n",
       "      <td>Xpecial</td>\n",
       "      <td>Taric</td>\n",
       "      <td>http://matchhistory.na.leagueoflegends.com/en/...</td>\n",
       "    </tr>\n",
       "    <tr>\n",
       "      <th>1</th>\n",
       "      <td>CBLoL</td>\n",
       "      <td>2017</td>\n",
       "      <td>Spring</td>\n",
       "      <td>Season</td>\n",
       "      <td>CNB</td>\n",
       "      <td>1</td>\n",
       "      <td>0</td>\n",
       "      <td>KBM</td>\n",
       "      <td>45</td>\n",
       "      <td>Lep</td>\n",
       "      <td>...</td>\n",
       "      <td>Nautilus</td>\n",
       "      <td>Danagorn</td>\n",
       "      <td>RekSai</td>\n",
       "      <td>Vash</td>\n",
       "      <td>Jayce</td>\n",
       "      <td>TheFoxz</td>\n",
       "      <td>Ziggs</td>\n",
       "      <td>Riyev</td>\n",
       "      <td>MissFortune</td>\n",
       "      <td>http://matchhistory.br.leagueoflegends.com/pt/...</td>\n",
       "    </tr>\n",
       "  </tbody>\n",
       "</table>\n",
       "<p>2 rows × 30 columns</p>\n",
       "</div>"
      ],
      "text/plain": [
       "  League  Year  Season       Type blueTeamTag  bResult  rResult redTeamTag  \\\n",
       "0  NALCS  2018  Spring  Promotion         GCU        1        0         P1   \n",
       "1  CBLoL  2017  Spring     Season         CNB        1        0        KBM   \n",
       "\n",
       "   gamelength blueTop                        ...                          \\\n",
       "0          35    Solo                        ...                           \n",
       "1          45     Lep                        ...                           \n",
       "\n",
       "  redTopChamp  redJungle redJungleChamp redMiddle redMiddleChamp   redADC  \\\n",
       "0        Kled  MikeYeung          Elise       Ryu         Lucian    Arrow   \n",
       "1    Nautilus   Danagorn         RekSai      Vash          Jayce  TheFoxz   \n",
       "\n",
       "  redADCChamp redSupport redSupportChamp  \\\n",
       "0    Tristana    Xpecial           Taric   \n",
       "1       Ziggs      Riyev     MissFortune   \n",
       "\n",
       "                                             Address  \n",
       "0  http://matchhistory.na.leagueoflegends.com/en/...  \n",
       "1  http://matchhistory.br.leagueoflegends.com/pt/...  \n",
       "\n",
       "[2 rows x 30 columns]"
      ]
     },
     "execution_count": 6,
     "metadata": {},
     "output_type": "execute_result"
    }
   ],
   "source": [
    "dados_testes.head(2)"
   ]
  },
  {
   "cell_type": "code",
   "execution_count": 7,
   "metadata": {},
   "outputs": [
    {
     "data": {
      "text/plain": [
       "Index(['League', 'Year', 'Season', 'Type', 'blueTeamTag', 'bResult', 'rResult',\n",
       "       'redTeamTag', 'gamelength', 'blueTop', 'blueTopChamp', 'blueJungle',\n",
       "       'blueJungleChamp', 'blueMiddle', 'blueMiddleChamp', 'blueADC',\n",
       "       'blueADCChamp', 'blueSupport', 'blueSupportChamp', 'redTop',\n",
       "       'redTopChamp', 'redJungle', 'redJungleChamp', 'redMiddle',\n",
       "       'redMiddleChamp', 'redADC', 'redADCChamp', 'redSupport',\n",
       "       'redSupportChamp', 'Address'],\n",
       "      dtype='object')"
      ]
     },
     "execution_count": 7,
     "metadata": {},
     "output_type": "execute_result"
    }
   ],
   "source": [
    "dados.columns"
   ]
  },
  {
   "cell_type": "code",
   "execution_count": 8,
   "metadata": {},
   "outputs": [
    {
     "name": "stdout",
     "output_type": "stream",
     "text": [
      "<class 'pandas.core.frame.DataFrame'>\n",
      "RangeIndex: 6499 entries, 0 to 6498\n",
      "Data columns (total 30 columns):\n",
      "League              6499 non-null object\n",
      "Year                6499 non-null int64\n",
      "Season              6499 non-null object\n",
      "Type                6499 non-null object\n",
      "blueTeamTag         6466 non-null object\n",
      "bResult             6499 non-null int64\n",
      "rResult             6499 non-null int64\n",
      "redTeamTag          6467 non-null object\n",
      "gamelength          6499 non-null int64\n",
      "blueTop             6467 non-null object\n",
      "blueTopChamp        6499 non-null object\n",
      "blueJungle          6476 non-null object\n",
      "blueJungleChamp     6499 non-null object\n",
      "blueMiddle          6467 non-null object\n",
      "blueMiddleChamp     6499 non-null object\n",
      "blueADC             6467 non-null object\n",
      "blueADCChamp        6499 non-null object\n",
      "blueSupport         6467 non-null object\n",
      "blueSupportChamp    6499 non-null object\n",
      "redTop              6467 non-null object\n",
      "redTopChamp         6499 non-null object\n",
      "redJungle           6478 non-null object\n",
      "redJungleChamp      6499 non-null object\n",
      "redMiddle           6467 non-null object\n",
      "redMiddleChamp      6499 non-null object\n",
      "redADC              6467 non-null object\n",
      "redADCChamp         6499 non-null object\n",
      "redSupport          6467 non-null object\n",
      "redSupportChamp     6499 non-null object\n",
      "Address             6499 non-null object\n",
      "dtypes: int64(4), object(26)\n",
      "memory usage: 1.5+ MB\n"
     ]
    }
   ],
   "source": [
    "dados.info()"
   ]
  },
  {
   "cell_type": "code",
   "execution_count": 9,
   "metadata": {},
   "outputs": [
    {
     "name": "stdout",
     "output_type": "stream",
     "text": [
      "<class 'pandas.core.frame.DataFrame'>\n",
      "RangeIndex: 1121 entries, 0 to 1120\n",
      "Data columns (total 30 columns):\n",
      "League              1121 non-null object\n",
      "Year                1121 non-null int64\n",
      "Season              1121 non-null object\n",
      "Type                1121 non-null object\n",
      "blueTeamTag         1116 non-null object\n",
      "bResult             1121 non-null int64\n",
      "rResult             1121 non-null int64\n",
      "redTeamTag          1116 non-null object\n",
      "gamelength          1121 non-null int64\n",
      "blueTop             1116 non-null object\n",
      "blueTopChamp        1121 non-null object\n",
      "blueJungle          1116 non-null object\n",
      "blueJungleChamp     1121 non-null object\n",
      "blueMiddle          1116 non-null object\n",
      "blueMiddleChamp     1121 non-null object\n",
      "blueADC             1116 non-null object\n",
      "blueADCChamp        1121 non-null object\n",
      "blueSupport         1116 non-null object\n",
      "blueSupportChamp    1121 non-null object\n",
      "redTop              1116 non-null object\n",
      "redTopChamp         1121 non-null object\n",
      "redJungle           1118 non-null object\n",
      "redJungleChamp      1121 non-null object\n",
      "redMiddle           1116 non-null object\n",
      "redMiddleChamp      1121 non-null object\n",
      "redADC              1116 non-null object\n",
      "redADCChamp         1121 non-null object\n",
      "redSupport          1116 non-null object\n",
      "redSupportChamp     1121 non-null object\n",
      "Address             1121 non-null object\n",
      "dtypes: int64(4), object(26)\n",
      "memory usage: 262.8+ KB\n"
     ]
    }
   ],
   "source": [
    "dados_testes.info()"
   ]
  },
  {
   "cell_type": "code",
   "execution_count": 10,
   "metadata": {},
   "outputs": [],
   "source": [
    "team={}\n",
    "for i in dados.blueTeamTag:\n",
    "    team[i]=0\n",
    "for i in dados.redTeamTag:\n",
    "    team[i]=0\n",
    "for k,v in team.items():\n",
    "    wins=len(dados[(dados.blueTeamTag==k) & (dados.bResult==1)])+len(dados[(dados.redTeamTag==k) & (dados.rResult==1)])\n",
    "    matchs=len(dados[dados.blueTeamTag==k])+ len(dados[dados.redTeamTag==k])\n",
    "    if matchs!=0:\n",
    "        team[k]=wins/matchs\n",
    "#print (team)"
   ]
  },
  {
   "cell_type": "code",
   "execution_count": 11,
   "metadata": {},
   "outputs": [],
   "source": [
    "top = {}\n",
    "for i in dados.blueTopChamp:\n",
    "    top[i]=0\n",
    "for i in dados.redTopChamp:\n",
    "    top[i]=0\n",
    "for k,v in  top.items():\n",
    "    wins=len(dados[(dados.blueTopChamp==k) & (dados.bResult==1)])+len(dados[(dados.redTopChamp==k) & (dados.rResult==1)])\n",
    "    matchs=len(dados[dados.blueTopChamp==k])+ len(dados[dados.redTopChamp==k])      \n",
    "    if matchs!=0:\n",
    "        top[k]=wins/matchs\n",
    "#print(top)"
   ]
  },
  {
   "cell_type": "code",
   "execution_count": 12,
   "metadata": {},
   "outputs": [
    {
     "name": "stdout",
     "output_type": "stream",
     "text": [
      "{'Elise': 0.5022727272727273, 'JarvanIV': 0.488013698630137, 'Nidalee': 0.5273010920436817, 'RekSai': 0.4894894894894895, 'Gragas': 0.5360536612632756, 'Hecarim': 0.4755244755244755, 'Kindred': 0.4579710144927536, 'Ivern': 0.5358851674641149, 'Khazix': 0.5119726339794755, 'Graves': 0.46424870466321244, 'LeeSin': 0.47002398081534774, 'Warwick': 0.5348837209302325, 'Evelynn': 0.4189189189189189, 'Zac': 0.5896414342629482, 'Olaf': 0.48880597014925375, 'Pantheon': 0.47619047619047616, 'Sejuani': 0.5186813186813187, 'Rengar': 0.52734375, 'Vi': 0.5416666666666666, 'Draven': 1.0, 'Rumble': 0.4411764705882353, 'Nunu': 0.49586776859504134, 'Maokai': 0.464, 'Rammus': 0.7777777777777778, 'Nocturne': 0.52, 'Ekko': 0.4666666666666667, 'Kayn': 0.46153846153846156, 'Sion': 0.3333333333333333, 'Syndra': 0.0, 'Shyvana': 0.30434782608695654, 'Chogath': 0.48717948717948717, 'Amumu': 0.2857142857142857, 'Nautilus': 0.3333333333333333, 'Udyr': 0.4375, 'Ezreal': 0.0, 'Skarner': 0.5, 'Trundle': 0.4, 'Bard': 0.6666666666666666, 'Camille': 0.42857142857142855, 'Jax': 0.6428571428571429, 'XinZhao': 0.6666666666666666, 'Malphite': 0.0, 'DrMundo': 0.5, 'Shaco': 0.25, 'Karthus': 0.5, 'Poppy': 0.5909090909090909, 'FiddleSticks': 0.5, 'Lulu': 0.4, 'Darius': 0.0, 'Fiddlesticks': 0.0, 'Illaoi': 0.0, 'Kassadin': 0.0, 'Fizz': 0.25, 'Shen': 1.0, 'MasterYi': 0.0, 'MonkeyKing': 0.6666666666666666, 'Galio': 0.0, 'Volibear': 0.0, 'Gnar': 1.0, 'Aatrox': 1.0, 'Malzahar': 1.0, 'Quinn': 1.0, 'Jayce': 0.5, 'MissFortune': 0.0, 'Riven': 1.0, 'Rakan': 0.0, 'Karma': 0.0}\n"
     ]
    }
   ],
   "source": [
    "jg = {}\n",
    "for i in dados.blueJungleChamp:\n",
    "    jg[i]=0\n",
    "for i in dados.redJungleChamp:\n",
    "    jg[i]=0\n",
    "for k,v in  jg.items():\n",
    "    wins=len(dados[(dados.blueJungleChamp==k) & (dados.bResult==1)])+len(dados[(dados.redJungleChamp==k) & (dados.rResult==1)])\n",
    "    matchs=len(dados[dados.blueJungleChamp==k])+ len(dados[dados.redJungleChamp==k])      \n",
    "    if matchs!=0:\n",
    "        jg[k]=wins/matchs\n",
    "print(jg)"
   ]
  },
  {
   "cell_type": "code",
   "execution_count": 13,
   "metadata": {},
   "outputs": [],
   "source": [
    "mid = {}\n",
    "for i in dados.blueMiddleChamp:\n",
    "    mid[i]=0\n",
    "for i in dados.redMiddleChamp:\n",
    "    mid[i]=0\n",
    "for k,v in  mid.items():\n",
    "    wins=len(dados[(dados.blueMiddleChamp==k) & (dados.bResult==1)])+len(dados[(dados.redMiddleChamp==k) & (dados.rResult==1)])\n",
    "    matchs=len(dados[dados.blueMiddleChamp==k])+ len(dados[dados.redMiddleChamp==k])      \n",
    "    if matchs!=0:\n",
    "        mid[k]=wins/matchs\n",
    "#print(mid)"
   ]
  },
  {
   "cell_type": "code",
   "execution_count": 14,
   "metadata": {},
   "outputs": [
    {
     "name": "stdout",
     "output_type": "stream",
     "text": [
      "{'Jhin': 0.51010101010101, 'Graves': 0.47093023255813954, 'Ziggs': 0.46511627906976744, 'Lucian': 0.47333333333333333, 'Kalista': 0.5429087624209575, 'Caitlyn': 0.49742002063983487, 'MissFortune': 0.4189189189189189, 'Sivir': 0.5239417071478141, 'Jinx': 0.4811320754716981, 'Ezreal': 0.4820936639118457, 'Ashe': 0.5119940029985007, 'Xayah': 0.5067264573991032, 'Tristana': 0.4986149584487535, 'Varus': 0.4826666666666667, 'Twitch': 0.5570776255707762, 'KogMaw': 0.45788336933045354, 'Vayne': 0.4857142857142857, 'Heimerdinger': 1.0, 'Corki': 0.48604992657856094, 'Draven': 0.5283018867924528, 'Kennen': 0.46, 'Janna': 0.0, 'Urgot': 0.5535714285714286, 'Mordekaiser': 0.8333333333333334, 'Irelia': 1.0, 'Quinn': 0.5, 'Viktor': 0.0, 'Blitzcrank': 0.0, 'Alistar': 1.0, 'Karma': 0.0, 'Kindred': 0.5, 'Lulu': 0.0, 'Nunu': 1.0, 'Thresh': 0.0, 'Karthus': 1.0, 'Jayce': 0.0, 'Teemo': 0.0, 'Kled': 0.0, 'Taliyah': 0.0}\n"
     ]
    }
   ],
   "source": [
    "adc = {}\n",
    "for i in dados.blueADCChamp:\n",
    "    adc[i]=0\n",
    "for i in dados.redADCChamp:\n",
    "    adc[i]=0\n",
    "for k,v in  adc.items():\n",
    "    wins=len(dados[(dados.blueADCChamp==k) & (dados.bResult==1)])+len(dados[(dados.redADCChamp==k) & (dados.rResult==1)])\n",
    "    matchs=len(dados[dados.blueADCChamp==k])+ len(dados[dados.redADCChamp==k])      \n",
    "    if matchs!=0:\n",
    "        adc[k]=wins/matchs\n",
    "print(adc)"
   ]
  },
  {
   "cell_type": "code",
   "execution_count": 15,
   "metadata": {},
   "outputs": [
    {
     "name": "stdout",
     "output_type": "stream",
     "text": [
      "{'Braum': 0.47768595041322315, 'Annie': 0.5474137931034483, 'Lulu': 0.45648854961832064, 'TahmKench': 0.5105008077544426, 'Alistar': 0.4869753979739508, 'Janna': 0.5380507343124166, 'Karma': 0.4694560669456067, 'Thresh': 0.526060606060606, 'Blitzcrank': 0.5590062111801242, 'Nautilus': 0.4697986577181208, 'Nami': 0.46037735849056605, 'Morgana': 0.5300925925925926, 'Taric': 0.5170940170940171, 'Leona': 0.44285714285714284, 'Malzahar': 0.581039755351682, 'Zyra': 0.48450244698205547, 'Bard': 0.5338078291814946, 'LeeSin': 0.5, 'Trundle': 0.5331632653061225, 'Shen': 0.59375, 'Kennen': 0.5454545454545454, 'Rakan': 0.5062111801242236, 'Zilean': 0.3888888888888889, 'MissFortune': 0.5158730158730159, 'Soraka': 0.512, 'Poppy': 0.4, 'Ashe': 0.6666666666666666, 'Brand': 0.5102040816326531, 'Kayle': 0.0, 'Lissandra': 0.2, 'Sona': 0.3902439024390244, 'DrMundo': 0.0, 'Veigar': 0.625, 'Maokai': 0.42857142857142855, 'Irelia': 0.0, 'Zac': 1.0, 'Fiddlesticks': 0.2, 'Malphite': 0.5, 'Camille': 0.5, 'Galio': 0.5263157894736842, 'Sejuani': 0.2, 'Gragas': 0.625, 'Ornn': 0.5, 'Velkoz': 0.6666666666666666, 'Lux': 0.6666666666666666, 'Garen': 0.0, 'Kalista': 0.5, 'Ahri': 0.0, 'Cassiopeia': 1.0, 'Elise': 0.75, 'Sion': 0.0, 'Taliyah': 0.0, 'Kled': 0.0, 'Nunu': 0.0, 'Ziggs': 0.5, 'TwistedFate': 0.0, 'Vayne': 1.0, 'Syndra': 0.3333333333333333, 'Ivern': 0.0, 'Udyr': 1.0, 'Jinx': 0.0, 'Rengar': 1.0}\n"
     ]
    }
   ],
   "source": [
    "sup = {}\n",
    "for i in dados.blueSupportChamp:\n",
    "    sup[i]=0\n",
    "for i in dados.redSupportChamp:\n",
    "    sup[i]=0\n",
    "for k,v in  sup.items():\n",
    "    wins=len(dados[(dados.blueSupportChamp==k) & (dados.bResult==1)])+len(dados[(dados.redSupportChamp==k) & (dados.rResult==1)])\n",
    "    matchs=len(dados[dados.blueSupportChamp==k])+ len(dados[dados.redSupportChamp==k])      \n",
    "    if matchs!=0:\n",
    "        sup[k]=wins/matchs\n",
    "print(sup)"
   ]
  },
  {
   "cell_type": "code",
   "execution_count": 16,
   "metadata": {},
   "outputs": [],
   "source": [
    "top_player = {}\n",
    "for i in dados.blueTop:\n",
    "    top_player[i]=0\n",
    "for i in dados.redTop:\n",
    "    top_player[i]=0\n",
    "for k,v in  top_player.items():\n",
    "    wins=len(dados[(dados.blueTop==k) & (dados.bResult==1)])+len(dados[(dados.redTop==k) & (dados.rResult==1)])\n",
    "    matchs=len(dados[dados.blueTop==k])+ len(dados[dados.redTop==k])      \n",
    "    if matchs!=0:\n",
    "        top_player[k]=wins/matchs\n",
    "#print(top_player)"
   ]
  },
  {
   "cell_type": "code",
   "execution_count": 17,
   "metadata": {},
   "outputs": [],
   "source": [
    "jg_player = {}\n",
    "for i in dados.blueJungle:\n",
    "    jg_player[i]=0\n",
    "for i in dados.redJungle:\n",
    "    jg_player[i]=0\n",
    "for k,v in  jg_player.items():\n",
    "    wins=len(dados[(dados.blueJungle==k) & (dados.bResult==1)])+len(dados[(dados.redJungle==k) & (dados.rResult==1)])\n",
    "    matchs=len(dados[dados.blueJungle==k])+ len(dados[dados.redJungle==k])      \n",
    "    if matchs!=0:\n",
    "        jg_player[k]=wins/matchs\n",
    "#print(jg_player)"
   ]
  },
  {
   "cell_type": "code",
   "execution_count": 18,
   "metadata": {},
   "outputs": [],
   "source": [
    "mid_player = {}\n",
    "for i in dados.blueMiddle:\n",
    "    mid_player[i]=0\n",
    "for i in dados.redMiddle:\n",
    "    mid_player[i]=0\n",
    "for k,v in  mid_player.items():\n",
    "    wins=len(dados[(dados.blueMiddle==k) & (dados.bResult==1)])+len(dados[(dados.redMiddle==k) & (dados.rResult==1)])\n",
    "    matchs=len(dados[dados.blueMiddle==k])+ len(dados[dados.redMiddle==k])      \n",
    "    if matchs!=0:\n",
    "        mid_player[k]=wins/matchs\n",
    "#print(mid_player)"
   ]
  },
  {
   "cell_type": "code",
   "execution_count": null,
   "metadata": {},
   "outputs": [],
   "source": [
    "adc_player = {}\n",
    "for i in dados.blueADC:\n",
    "    adc_player[i]=0\n",
    "for i in dados.redADC:\n",
    "    adc_player[i]=0\n",
    "for k,v in  adc_player.items():\n",
    "    wins=len(dados[(dados.blueADC==k) & (dados.bResult==1)])+len(dados[(dados.redADC==k) & (dados.rResult==1)])\n",
    "    matchs=len(dados[dados.blueADC==k])+ len(dados[dados.redADC==k])      \n",
    "    if matchs!=0:\n",
    "        adc_player[k]=wins/matchs\n",
    "#print(adc_player)"
   ]
  },
  {
   "cell_type": "code",
   "execution_count": null,
   "metadata": {},
   "outputs": [],
   "source": [
    "sup_player = {}\n",
    "for i in dados.blueSupport:\n",
    "    sup_player[i]=0\n",
    "for i in dados.redSupport:\n",
    "    sup_player[i]=0\n",
    "for k,v in  sup_player.items():\n",
    "    wins=len(dados[(dados.blueSupport==k) & (dados.bResult==1)])+len(dados[(dados.redSupport==k) & (dados.rResult==1)])\n",
    "    matchs=len(dados[dados.blueSupport==k])+ len(dados[dados.redSupport==k])      \n",
    "    if matchs!=0:\n",
    "        sup_player[k]=wins/matchs\n",
    "#print(sup_player)"
   ]
  },
  {
   "cell_type": "markdown",
   "metadata": {},
   "source": [
    "Naive baiyes\n",
    "\n"
   ]
  },
  {
   "cell_type": "code",
   "execution_count": null,
   "metadata": {},
   "outputs": [
    {
     "data": {
      "text/plain": [
       "1975"
      ]
     },
     "execution_count": 21,
     "metadata": {},
     "output_type": "execute_result"
    }
   ],
   "source": [
    "#dicionarios juntos\n",
    "alls={}\n",
    "\n",
    "for k,v in team.items():\n",
    "    alls[k]=v\n",
    "\n",
    "for k,v in top.items():\n",
    "    alls[k]=v\n",
    "\n",
    "for k,v in mid.items():\n",
    "    if k not in mid.keys():\n",
    "        alls[k]=v\n",
    "    else:\n",
    "        alls[k]=(v+mid[k])/2\n",
    "\n",
    "for k,v in jg.items():\n",
    "    if k not in jg.keys():\n",
    "        alls[k]=v\n",
    "    else:\n",
    "        alls[k]=(v+jg[k])/2\n",
    "\n",
    "for k,v in adc.items():\n",
    "    if k not in adc.keys():\n",
    "        alls[k]=v\n",
    "    else:\n",
    "        alls[k]=(v+adc[k])/2\n",
    "\n",
    "for k,v in sup.items():\n",
    "    if k not in sup.keys():\n",
    "        alls[k]=v\n",
    "    else:\n",
    "        alls[k]=(v+sup[k])/2\n",
    "\n",
    "for k,v in top_player.items():\n",
    "    if k not in top_player.keys():\n",
    "        alls[k]=v\n",
    "    else:\n",
    "        alls[k]=(v+top_player[k])/2\n",
    "\n",
    "for k,v in jg_player.items():\n",
    "    if k not in jg_player.keys():\n",
    "        alls[k]=v\n",
    "    else:\n",
    "        alls[k]=(v+jg_player[k])/2\n",
    "\n",
    "for k,v in mid_player.items():\n",
    "    if k not in mid_player.keys():\n",
    "        alls[k]=v\n",
    "    else:\n",
    "        alls[k]=(v+mid_player[k])/2\n",
    "\n",
    "for k,v in adc_player.items():\n",
    "    if k not in adc_player.keys():\n",
    "        alls[k]=v\n",
    "    else:\n",
    "        alls[k]=(v+adc_player[k])/2\n",
    "\n",
    "for k,v in sup_player.items():\n",
    "    if k not in sup_player.keys():\n",
    "        alls[k]=v\n",
    "    else:\n",
    "        alls[k]=(v+sup_player[k])/2\n",
    "    \n",
    "#print(alls)\n",
    "len(alls)"
   ]
  },
  {
   "cell_type": "markdown",
   "metadata": {},
   "source": [
    "___"
   ]
  },
  {
   "cell_type": "markdown",
   "metadata": {},
   "source": [
    "## <font color='#00878A'> Classificador - random forest</font>"
   ]
  },
  {
   "cell_type": "markdown",
   "metadata": {},
   "source": [
    "## <font color=red> LUCIÃO EXPLICAR TABELAS CONCATENADAS</font>"
   ]
  },
  {
   "cell_type": "markdown",
   "metadata": {},
   "source": [
    "### Separando Treinamento e Teste"
   ]
  },
  {
   "cell_type": "code",
   "execution_count": null,
   "metadata": {},
   "outputs": [],
   "source": [
    "columnsb=['bResult', 'blueTeamTag', 'blueTop', 'blueTopChamp', 'blueJungle','blueJungleChamp', 'blueMiddle', 'blueMiddleChamp', 'blueADC','blueADCChamp', 'blueSupport', 'blueSupportChamp']\n",
    "columnsr=['rResult', 'redTeamTag', 'redTop','redTopChamp', 'redJungle', 'redJungleChamp', 'redMiddle','redMiddleChamp', 'redADC', 'redADCChamp', 'redSupport','redSupportChamp']\n",
    "columns=['Result', 'TeamTag', 'Top','TopChamp', 'Jungle', 'JungleChamp', 'Middle','MiddleChamp', 'ADC', 'ADCChamp', 'Support','SupportChamp']\n"
   ]
  },
  {
   "cell_type": "code",
   "execution_count": null,
   "metadata": {},
   "outputs": [],
   "source": [
    "dados_b = dados[columnsb]\n",
    "dados_b.columns = columns\n",
    "dados_r = dados[columnsr]\n",
    "dados_r.columns = columns"
   ]
  },
  {
   "cell_type": "code",
   "execution_count": null,
   "metadata": {
    "scrolled": true
   },
   "outputs": [
    {
     "data": {
      "text/html": [
       "<div>\n",
       "<style scoped>\n",
       "    .dataframe tbody tr th:only-of-type {\n",
       "        vertical-align: middle;\n",
       "    }\n",
       "\n",
       "    .dataframe tbody tr th {\n",
       "        vertical-align: top;\n",
       "    }\n",
       "\n",
       "    .dataframe thead th {\n",
       "        text-align: right;\n",
       "    }\n",
       "</style>\n",
       "<table border=\"1\" class=\"dataframe\">\n",
       "  <thead>\n",
       "    <tr style=\"text-align: right;\">\n",
       "      <th></th>\n",
       "      <th>Result</th>\n",
       "      <th>TeamTag</th>\n",
       "      <th>Top</th>\n",
       "      <th>TopChamp</th>\n",
       "      <th>Jungle</th>\n",
       "      <th>JungleChamp</th>\n",
       "      <th>Middle</th>\n",
       "      <th>MiddleChamp</th>\n",
       "      <th>ADC</th>\n",
       "      <th>ADCChamp</th>\n",
       "      <th>Support</th>\n",
       "      <th>SupportChamp</th>\n",
       "    </tr>\n",
       "  </thead>\n",
       "  <tbody>\n",
       "    <tr>\n",
       "      <th>0</th>\n",
       "      <td>0</td>\n",
       "      <td>TSM</td>\n",
       "      <td>Hauntzer</td>\n",
       "      <td>Trundle</td>\n",
       "      <td>Svenskeren</td>\n",
       "      <td>Elise</td>\n",
       "      <td>Bjergsen</td>\n",
       "      <td>Lulu</td>\n",
       "      <td>Doublelift</td>\n",
       "      <td>Jhin</td>\n",
       "      <td>Yellowstar</td>\n",
       "      <td>Braum</td>\n",
       "    </tr>\n",
       "    <tr>\n",
       "      <th>1</th>\n",
       "      <td>1</td>\n",
       "      <td>BJK</td>\n",
       "      <td>Thaldrin</td>\n",
       "      <td>Gnar</td>\n",
       "      <td>Theokoles</td>\n",
       "      <td>JarvanIV</td>\n",
       "      <td>Energy</td>\n",
       "      <td>Xerath</td>\n",
       "      <td>Nardeus</td>\n",
       "      <td>Graves</td>\n",
       "      <td>Dumbledoge</td>\n",
       "      <td>Annie</td>\n",
       "    </tr>\n",
       "  </tbody>\n",
       "</table>\n",
       "</div>"
      ],
      "text/plain": [
       "   Result TeamTag       Top TopChamp      Jungle JungleChamp    Middle  \\\n",
       "0       0     TSM  Hauntzer  Trundle  Svenskeren       Elise  Bjergsen   \n",
       "1       1     BJK  Thaldrin     Gnar   Theokoles    JarvanIV    Energy   \n",
       "\n",
       "  MiddleChamp         ADC ADCChamp     Support SupportChamp  \n",
       "0        Lulu  Doublelift     Jhin  Yellowstar        Braum  \n",
       "1      Xerath     Nardeus   Graves  Dumbledoge        Annie  "
      ]
     },
     "execution_count": 24,
     "metadata": {},
     "output_type": "execute_result"
    }
   ],
   "source": [
    "dados_concat = pd.concat([dados_b, dados_r]).dropna()\n",
    "dados_concat.head(2)"
   ]
  },
  {
   "cell_type": "code",
   "execution_count": null,
   "metadata": {},
   "outputs": [],
   "source": [
    "dados_bt = dados_testes[columnsb]\n",
    "dados_bt.columns = columns\n",
    "dados_rt = dados_testes[columnsr]\n",
    "dados_rt.columns = columns"
   ]
  },
  {
   "cell_type": "code",
   "execution_count": null,
   "metadata": {
    "scrolled": true
   },
   "outputs": [
    {
     "data": {
      "text/html": [
       "<div>\n",
       "<style scoped>\n",
       "    .dataframe tbody tr th:only-of-type {\n",
       "        vertical-align: middle;\n",
       "    }\n",
       "\n",
       "    .dataframe tbody tr th {\n",
       "        vertical-align: top;\n",
       "    }\n",
       "\n",
       "    .dataframe thead th {\n",
       "        text-align: right;\n",
       "    }\n",
       "</style>\n",
       "<table border=\"1\" class=\"dataframe\">\n",
       "  <thead>\n",
       "    <tr style=\"text-align: right;\">\n",
       "      <th></th>\n",
       "      <th>Result</th>\n",
       "      <th>TeamTag</th>\n",
       "      <th>Top</th>\n",
       "      <th>TopChamp</th>\n",
       "      <th>Jungle</th>\n",
       "      <th>JungleChamp</th>\n",
       "      <th>Middle</th>\n",
       "      <th>MiddleChamp</th>\n",
       "      <th>ADC</th>\n",
       "      <th>ADCChamp</th>\n",
       "      <th>Support</th>\n",
       "      <th>SupportChamp</th>\n",
       "    </tr>\n",
       "  </thead>\n",
       "  <tbody>\n",
       "    <tr>\n",
       "      <th>0</th>\n",
       "      <td>1</td>\n",
       "      <td>GCU</td>\n",
       "      <td>Solo</td>\n",
       "      <td>Shen</td>\n",
       "      <td>Santorin</td>\n",
       "      <td>JarvanIV</td>\n",
       "      <td>Fly</td>\n",
       "      <td>Orianna</td>\n",
       "      <td>Rikara</td>\n",
       "      <td>Sivir</td>\n",
       "      <td>Whyin</td>\n",
       "      <td>Thresh</td>\n",
       "    </tr>\n",
       "    <tr>\n",
       "      <th>1</th>\n",
       "      <td>1</td>\n",
       "      <td>CNB</td>\n",
       "      <td>Lep</td>\n",
       "      <td>Maokai</td>\n",
       "      <td>Minerva</td>\n",
       "      <td>Graves</td>\n",
       "      <td>Tinowns</td>\n",
       "      <td>Syndra</td>\n",
       "      <td>pbO</td>\n",
       "      <td>Jhin</td>\n",
       "      <td>Woswos</td>\n",
       "      <td>Malzahar</td>\n",
       "    </tr>\n",
       "  </tbody>\n",
       "</table>\n",
       "</div>"
      ],
      "text/plain": [
       "   Result TeamTag   Top TopChamp    Jungle JungleChamp   Middle MiddleChamp  \\\n",
       "0       1     GCU  Solo     Shen  Santorin    JarvanIV      Fly     Orianna   \n",
       "1       1     CNB   Lep   Maokai   Minerva      Graves  Tinowns      Syndra   \n",
       "\n",
       "      ADC ADCChamp Support SupportChamp  \n",
       "0  Rikara    Sivir   Whyin       Thresh  \n",
       "1     pbO     Jhin  Woswos     Malzahar  "
      ]
     },
     "execution_count": 26,
     "metadata": {},
     "output_type": "execute_result"
    }
   ],
   "source": [
    "teste_concat = pd.concat([dados_bt, dados_rt]).dropna()\n",
    "teste_concat.head(2)"
   ]
  },
  {
   "cell_type": "code",
   "execution_count": null,
   "metadata": {},
   "outputs": [],
   "source": [
    "y_train = dados_concat['Result']\n",
    "x_train = dados_concat.drop(columns='Result')\n",
    "y_test = teste_concat['Result']\n",
    "x_test = teste_concat.drop(columns='Result')"
   ]
  },
  {
   "cell_type": "markdown",
   "metadata": {},
   "source": [
    "### Convertendo as variáveis categóricas em qualitativas"
   ]
  },
  {
   "cell_type": "code",
   "execution_count": null,
   "metadata": {},
   "outputs": [],
   "source": [
    "# utilizamos o OneHotEncoder para fazer essa conversão\n",
    "encoder = OneHotEncoder(handle_unknown='ignore')\n",
    "x_train_encoded = encoder.fit_transform(x_train.astype(str).values)"
   ]
  },
  {
   "cell_type": "markdown",
   "metadata": {},
   "source": [
    "### Implementando o Modelo"
   ]
  },
  {
   "cell_type": "code",
   "execution_count": null,
   "metadata": {},
   "outputs": [
    {
     "name": "stderr",
     "output_type": "stream",
     "text": [
      "C:\\Users\\nicol\\Anaconda3\\lib\\site-packages\\sklearn\\ensemble\\forest.py:245: FutureWarning: The default value of n_estimators will change from 10 in version 0.20 to 100 in 0.22.\n",
      "  \"10 in version 0.20 to 100 in 0.22.\", FutureWarning)\n"
     ]
    },
    {
     "data": {
      "text/plain": [
       "RandomForestClassifier(bootstrap=True, class_weight=None, criterion='gini',\n",
       "                       max_depth=None, max_features='auto', max_leaf_nodes=None,\n",
       "                       min_impurity_decrease=0.0, min_impurity_split=None,\n",
       "                       min_samples_leaf=1, min_samples_split=2,\n",
       "                       min_weight_fraction_leaf=0.0, n_estimators=10,\n",
       "                       n_jobs=None, oob_score=False, random_state=0, verbose=0,\n",
       "                       warm_start=False)"
      ]
     },
     "execution_count": 29,
     "metadata": {},
     "output_type": "execute_result"
    }
   ],
   "source": [
    "model = RandomForestClassifier(random_state = 0)\n",
    "model.fit(x_train_encoded, y_train)"
   ]
  },
  {
   "cell_type": "markdown",
   "metadata": {},
   "source": [
    "### Agora vamos testar a acurácia do modelo:"
   ]
  },
  {
   "cell_type": "code",
   "execution_count": null,
   "metadata": {},
   "outputs": [],
   "source": [
    "x_test_encoded = encoder.transform(x_test)"
   ]
  },
  {
   "cell_type": "code",
   "execution_count": null,
   "metadata": {},
   "outputs": [],
   "source": [
    "# Testa modelo\n",
    "y_predict = model.predict(x_test_encoded)"
   ]
  },
  {
   "cell_type": "code",
   "execution_count": null,
   "metadata": {},
   "outputs": [
    {
     "name": "stdout",
     "output_type": "stream",
     "text": [
      "Acurácia: 0.5698924731182796\n"
     ]
    }
   ],
   "source": [
    "# Cálcula acurácia\n",
    "acc = accuracy_score(y_test, y_predict)\n",
    "print(\"Acurácia: {0}\".format(acc))"
   ]
  },
  {
   "cell_type": "markdown",
   "metadata": {},
   "source": [
    "### Considerando os dois times"
   ]
  },
  {
   "cell_type": "markdown",
   "metadata": {},
   "source": [
    "#### Segunda iteração - random forest"
   ]
  },
  {
   "cell_type": "markdown",
   "metadata": {},
   "source": [
    "### Separando Treinamento e Teste"
   ]
  },
  {
   "cell_type": "code",
   "execution_count": null,
   "metadata": {},
   "outputs": [],
   "source": [
    "y_train = dados['bResult']\n",
    "x_train = dados.drop(columns=['bResult', 'rResult'])\n",
    "y_test = dados_testes['bResult']\n",
    "x_test = dados_testes.drop(columns=['bResult', 'rResult'])"
   ]
  },
  {
   "cell_type": "markdown",
   "metadata": {},
   "source": [
    "### Convertendo as variáveis categóricas em quantitativas"
   ]
  },
  {
   "cell_type": "code",
   "execution_count": null,
   "metadata": {},
   "outputs": [],
   "source": [
    "# utilizamos o OneHotEncoder para fazer essa conversão\n",
    "encoder = OneHotEncoder(handle_unknown='ignore')\n",
    "x_train_encoded = encoder.fit_transform(x_train.astype(str).values)"
   ]
  },
  {
   "cell_type": "markdown",
   "metadata": {},
   "source": [
    "### Implementando o modelo"
   ]
  },
  {
   "cell_type": "code",
   "execution_count": null,
   "metadata": {},
   "outputs": [],
   "source": [
    "model = RandomForestClassifier(n_estimators = 100, random_state = 0)\n",
    "model.fit(x_train_encoded, y_train)"
   ]
  },
  {
   "cell_type": "code",
   "execution_count": null,
   "metadata": {},
   "outputs": [],
   "source": [
    "dados_testes.dropna(inplace=True)"
   ]
  },
  {
   "cell_type": "markdown",
   "metadata": {},
   "source": [
    "### Agora vamos testar a acurácia do modelo:"
   ]
  },
  {
   "cell_type": "code",
   "execution_count": null,
   "metadata": {},
   "outputs": [],
   "source": [
    "x_test_encoded = encoder.transform(x_test.astype(str).values)"
   ]
  },
  {
   "cell_type": "code",
   "execution_count": null,
   "metadata": {},
   "outputs": [],
   "source": [
    "# Testa modelo\n",
    "y_predict = model.predict(x_test_encoded)"
   ]
  },
  {
   "cell_type": "code",
   "execution_count": null,
   "metadata": {},
   "outputs": [],
   "source": [
    "model.score(x_test_encoded, y_test)"
   ]
  },
  {
   "cell_type": "code",
   "execution_count": null,
   "metadata": {},
   "outputs": [],
   "source": [
    "acc = accuracy_score(y_test, y_predict)"
   ]
  },
  {
   "cell_type": "code",
   "execution_count": null,
   "metadata": {},
   "outputs": [],
   "source": [
    "acc"
   ]
  },
  {
   "cell_type": "code",
   "execution_count": null,
   "metadata": {},
   "outputs": [],
   "source": [
    "matrix = confusion_matrix(y_test, y_predict, labels=None, sample_weight=None)"
   ]
  },
  {
   "cell_type": "code",
   "execution_count": null,
   "metadata": {},
   "outputs": [],
   "source": [
    "matrix"
   ]
  },
  {
   "cell_type": "code",
   "execution_count": null,
   "metadata": {},
   "outputs": [],
   "source": [
    "dados_testes['bPredict'] = y_predict"
   ]
  },
  {
   "cell_type": "code",
   "execution_count": null,
   "metadata": {},
   "outputs": [],
   "source": [
    "y_predict_proba = model.predict_proba(x_test_encoded)"
   ]
  },
  {
   "cell_type": "code",
   "execution_count": null,
   "metadata": {},
   "outputs": [],
   "source": [
    "y_predict_proba"
   ]
  },
  {
   "cell_type": "code",
   "execution_count": null,
   "metadata": {},
   "outputs": [],
   "source": [
    "dados_testes['bPredictProba'] = y_predict_proba[:,1]"
   ]
  },
  {
   "cell_type": "code",
   "execution_count": null,
   "metadata": {},
   "outputs": [],
   "source": [
    "dados_testes.sort_values(by='bPredictProba')[['blueTeamTag', 'redTeamTag', 'bPredictProba', 'bResult']].head(30)"
   ]
  },
  {
   "cell_type": "code",
   "execution_count": null,
   "metadata": {},
   "outputs": [],
   "source": [
    "comp_erros = dados_testes[dados_testes['bResult'] != dados_testes[\"bPredict\"]]\n",
    "comp_acertos = dados_testes[dados_testes['bResult'] == dados_testes[\"bPredict\"]]"
   ]
  },
  {
   "cell_type": "code",
   "execution_count": null,
   "metadata": {},
   "outputs": [],
   "source": [
    "comp_acertos['bPredictProba'].value_counts().head()"
   ]
  },
  {
   "cell_type": "code",
   "execution_count": null,
   "metadata": {},
   "outputs": [],
   "source": [
    "comp_erros['blueTeamTag'].value_counts().head()"
   ]
  },
  {
   "cell_type": "code",
   "execution_count": null,
   "metadata": {},
   "outputs": [],
   "source": [
    "import matplotlib.pyplot as plt\n",
    "a=0\n",
    "alfa=[]\n",
    "alf=[]\n",
    "acc=[]\n",
    "while a<=50:\n",
    "    alfa.append(a)\n",
    "    a+=1\n",
    "for a in alfa:    \n",
    "    alf.append(a/100)\n",
    "for a in alf:\n",
    "    acertos=len(comp_acertos[comp_acertos.bPredictProba<a])+len(comp_acertos[comp_acertos.bPredictProba>=1-a])\n",
    "    total=len(dados_testes[dados_testes.bPredictProba<a])+len(dados_testes[dados_testes.bPredictProba>=1-a])\n",
    "    if total==0:\n",
    "        total=1\n",
    "    if acertos==0:\n",
    "        acertos=1\n",
    "    acc.append(acertos*100/total)\n",
    "plt.plot(100 - np.array(alfa),acc)\n",
    "plt.ylabel('Acurácia(%)')\n",
    "plt.xlabel('Probabilidade de acerto(%)')\n",
    "plt.title('Acuracia por probalidade de acerto')\n",
    "plt.grid()\n",
    "# plt.axis(0.5)\n",
    "plt.show()\n",
    "acc    "
   ]
  },
  {
   "cell_type": "markdown",
   "metadata": {},
   "source": [
    "___"
   ]
  },
  {
   "cell_type": "markdown",
   "metadata": {},
   "source": [
    "## <font color='#00878A'>Logistic regression</font>"
   ]
  },
  {
   "cell_type": "code",
   "execution_count": null,
   "metadata": {},
   "outputs": [],
   "source": [
    "dados_testes = pd.read_excel('matchinfo-testes.xlsx')"
   ]
  },
  {
   "cell_type": "code",
   "execution_count": null,
   "metadata": {},
   "outputs": [],
   "source": [
    "y_train2 = dados['bResult']\n",
    "x_train2 = dados.drop(columns = ['bResult', 'rResult'])"
   ]
  },
  {
   "cell_type": "code",
   "execution_count": null,
   "metadata": {},
   "outputs": [],
   "source": [
    "encoder2 = OneHotEncoder(handle_unknown='ignore')\n",
    "x_train2_encoded = encoder.fit_transform(x_train2.astype(str).values)"
   ]
  },
  {
   "cell_type": "code",
   "execution_count": null,
   "metadata": {},
   "outputs": [],
   "source": [
    "model2 = LogisticRegression(solver='lbfgs', multi_class='auto')"
   ]
  },
  {
   "cell_type": "code",
   "execution_count": null,
   "metadata": {
    "scrolled": false
   },
   "outputs": [],
   "source": [
    "model2.fit(x_train2_encoded, y_train2)"
   ]
  },
  {
   "cell_type": "code",
   "execution_count": null,
   "metadata": {},
   "outputs": [],
   "source": [
    "model2.score(x_train_encoded,y_train)"
   ]
  },
  {
   "cell_type": "code",
   "execution_count": null,
   "metadata": {},
   "outputs": [],
   "source": [
    "y_train.value_counts(True)"
   ]
  },
  {
   "cell_type": "markdown",
   "metadata": {},
   "source": [
    "#### <font color='#00878A'>Testes</font>"
   ]
  },
  {
   "cell_type": "code",
   "execution_count": null,
   "metadata": {},
   "outputs": [],
   "source": [
    "dados_testes = pd.read_excel('matchinfo-testes.xlsx')\n",
    "dados_testes.dropna(inplace=True)"
   ]
  },
  {
   "cell_type": "code",
   "execution_count": null,
   "metadata": {},
   "outputs": [],
   "source": [
    "y_test2 = dados_testes['bResult']\n",
    "x_test2 = dados_testes.drop(columns=['bResult','rResult'])"
   ]
  },
  {
   "cell_type": "code",
   "execution_count": null,
   "metadata": {},
   "outputs": [],
   "source": [
    "x_test2_encoded = encoder.transform(x_test2.astype(str).values)"
   ]
  },
  {
   "cell_type": "code",
   "execution_count": null,
   "metadata": {},
   "outputs": [],
   "source": [
    "y_pred2 = model2.predict(x_test2_encoded)"
   ]
  },
  {
   "cell_type": "code",
   "execution_count": null,
   "metadata": {},
   "outputs": [],
   "source": [
    "len(dados_testes)"
   ]
  },
  {
   "cell_type": "code",
   "execution_count": null,
   "metadata": {},
   "outputs": [],
   "source": [
    "acc = accuracy_score(y_test2, y_pred2)"
   ]
  },
  {
   "cell_type": "code",
   "execution_count": null,
   "metadata": {},
   "outputs": [],
   "source": [
    "y_pred2"
   ]
  },
  {
   "cell_type": "code",
   "execution_count": null,
   "metadata": {},
   "outputs": [],
   "source": [
    "acc"
   ]
  },
  {
   "cell_type": "code",
   "execution_count": null,
   "metadata": {},
   "outputs": [],
   "source": [
    "dados_testes['bPredict'] = y_pred2"
   ]
  },
  {
   "cell_type": "code",
   "execution_count": null,
   "metadata": {},
   "outputs": [],
   "source": [
    "y_predict_proba2 = model2.predict_proba(x_test2_encoded)"
   ]
  },
  {
   "cell_type": "code",
   "execution_count": null,
   "metadata": {},
   "outputs": [],
   "source": [
    "y_predict_proba2"
   ]
  },
  {
   "cell_type": "code",
   "execution_count": null,
   "metadata": {},
   "outputs": [],
   "source": [
    "dados_testes['bPredictProba'] = y_predict_proba[:,1]"
   ]
  },
  {
   "cell_type": "code",
   "execution_count": null,
   "metadata": {},
   "outputs": [],
   "source": [
    "dados_testes.sort_values(by='bPredictProba')[['blueTeamTag', 'redTeamTag', 'bPredictProba', 'bResult']].head(30)"
   ]
  },
  {
   "cell_type": "code",
   "execution_count": null,
   "metadata": {},
   "outputs": [],
   "source": [
    "comp_erros2 = dados_testes[dados_testes['bResult'] != dados_testes[\"bPredict\"]]\n",
    "comp_acertos2 = dados_testes[dados_testes['bResult'] == dados_testes[\"bPredict\"]]"
   ]
  },
  {
   "cell_type": "code",
   "execution_count": null,
   "metadata": {},
   "outputs": [],
   "source": [
    "comp_acertos['bPredictProba'].value_counts().head()"
   ]
  },
  {
   "cell_type": "markdown",
   "metadata": {},
   "source": [
    "## Exemplo Aposta\n",
    "Para uma aplicação prática, vamos supor que você goste de apostar na equipe azul em partidas de LOL. Como visto pelo nosso classificador acima, a chance de vitória é de aproximadamente 64%. Porém, agora você decidiu que irá apenas apostar naquelas partidas que tenham uma grande chance de vitória. \n",
    "...\n",
    "Como podemos observar no gráfico abaixo, sempre que a probabilidade de acerto"
   ]
  },
  {
   "cell_type": "code",
   "execution_count": null,
   "metadata": {
    "scrolled": true
   },
   "outputs": [],
   "source": [
    "import matplotlib.pyplot as plt\n",
    "a=0\n",
    "alfa=[]\n",
    "alf=[]\n",
    "acc=[]\n",
    "while a<=50:\n",
    "    alfa.append(a)\n",
    "    a+=1\n",
    "for a in alfa:    \n",
    "    alf.append(a/100)\n",
    "for a in alf:\n",
    "    acertos=len(comp_acertos[comp_acertos.bPredictProba<a])+len(comp_acertos[comp_acertos.bPredictProba>=1-a])\n",
    "    total=len(dados_testes[dados_testes.bPredictProba<a])+len(dados_testes[dados_testes.bPredictProba>=1-a])\n",
    "    if total==0:\n",
    "        total=1\n",
    "    if acertos==0:\n",
    "        acertos=1\n",
    "    acc.append(acertos*100/total)\n",
    "plt.plot(alfa,acc)\n",
    "plt.ylabel('Acurácia(%)')\n",
    "plt.xlabel('Probabilidade de acerto(%)')\n",
    "plt.title('Acuracia por probalidade de acerto')\n",
    "plt.grid()\n",
    "# plt.axis(0.5)\n",
    "plt.show()\n",
    "acc"
   ]
  },
  {
   "cell_type": "markdown",
   "metadata": {},
   "source": [
    "___"
   ]
  },
  {
   "cell_type": "markdown",
   "metadata": {},
   "source": [
    "### Dados concatenados X Dados não concatenados\n",
    "##### Porque a análise com os dados não concatenados funcionou melhor que os dados não concatenados?\n",
    "\n",
    "Como observado pelos resultados dos três classificadores acima, fica claro que a análise com os dados não concatenados possui uma acurácia maior do que a acurácia dos dados concatenados.\n",
    "\n",
    "Isso occore pois...\n",
    "\n",
    "## <font color=red>ALGUÈM LE AQUI E ESCREVE MELHOR O PQ PLEASE<\\font>\n",
    "(A análise com os dados do resultado concatenados não levavam em conta o adversário da partida, já com os dados não concatenados temos uma análise mais precisa uma vez que podemos prever o resultado baseado no desmpenho do time e do time o qual eles estão jogando contra.  ???)"
   ]
  },
  {
   "cell_type": "markdown",
   "metadata": {},
   "source": [
    "## <font color='#00878A'>Lucião Bayes</font>"
   ]
  },
  {
   "cell_type": "markdown",
   "metadata": {},
   "source": [
    "Este classificador foi criado pelo grupo, cujo objetivo foi obter os resultados probabilísticos e compará-los aos obtidos com os classificadores passados em aula pelo professor.\n",
    "<p>\n",
    "A priori, foram definidos dados nos quais o classificador iria basear-se, sendo eles: win rate de cada jogador, win rate de cada Champion e, por fim, o win rate de cada time. Para calculá-los, foi usada a planilha contendo os resultados e os dados de cada partida. Desta forma, foram calculadas as probabilidades de cada time para ganhar o jogo, as quais foram comparadas. O time que tivesse, pois, maior probabilidade de vitória seria o vencedor."
   ]
  },
  {
   "cell_type": "code",
   "execution_count": null,
   "metadata": {},
   "outputs": [],
   "source": [
    "dados_testes = pd.read_excel('matchinfo-testes.xlsx')"
   ]
  },
  {
   "cell_type": "code",
   "execution_count": null,
   "metadata": {},
   "outputs": [],
   "source": [
    "wins=[]\n",
    "for i in range(len(dados_testes)):\n",
    "    probblue=1\n",
    "    probred=1\n",
    "    \n",
    "    for f in columnsb:\n",
    "        if dados_testes.loc[i,f] not in alls.keys():\n",
    "            probblue*=0.5\n",
    "        else:\n",
    "            if alls[dados_testes.loc[i,f]]==0 or alls[dados_testes.loc[i,f]]==1:\n",
    "                probblue*=0.5\n",
    "            else:\n",
    "                probblue*=alls[dados_testes.loc[i,f]]\n",
    "    for f in columnsr:\n",
    "        if dados_testes.loc[i,f] not in alls.keys():\n",
    "            probred*=0.5\n",
    "        else:\n",
    "            if alls[dados_testes.loc[i,f]]==0 or alls[dados_testes.loc[i,f]]==1:\n",
    "                probred*=0.5\n",
    "            else:\n",
    "                probred*=alls[dados_testes.loc[i,f]]\n",
    "    if probblue<probred:\n",
    "        wins.append(0)\n",
    "    else:\n",
    "        wins.append(1)"
   ]
  },
  {
   "cell_type": "code",
   "execution_count": null,
   "metadata": {},
   "outputs": [],
   "source": [
    "#teste de qualidade\n",
    "certo=0\n",
    "total=0\n",
    "for i in range(len(dados_testes)):\n",
    "    if dados_testes.loc[i,'bResult']==wins[i]:\n",
    "        certo+=1\n",
    "        total+=1\n",
    "    else:\n",
    "        total+=1\n",
    "print(100*certo/total,'%')\n",
    "        "
   ]
  },
  {
   "cell_type": "code",
   "execution_count": null,
   "metadata": {},
   "outputs": [],
   "source": [
    "print(\"Acurácia: {}\".format(certo/total))"
   ]
  },
  {
   "cell_type": "markdown",
   "metadata": {},
   "source": [
    "## Conclusão\n",
    "\n",
    "Ao se comparar as diversas técnicas de classificação, chegamos à conclusão de que o classificador _Random Forrest_ é o que retornou a maior acurácia. Isso se dá porque ...\n",
    "\n",
    "## <font color=red>COMPLETAR AQUI EM CIMA"
   ]
  }
 ],
 "metadata": {
  "kernelspec": {
   "display_name": "Python 3",
   "language": "python",
   "name": "python3"
  },
  "language_info": {
   "codemirror_mode": {
    "name": "ipython",
    "version": 3
   },
   "file_extension": ".py",
   "mimetype": "text/x-python",
   "name": "python",
   "nbconvert_exporter": "python",
   "pygments_lexer": "ipython3",
   "version": "3.7.1"
  }
 },
 "nbformat": 4,
 "nbformat_minor": 2
}
