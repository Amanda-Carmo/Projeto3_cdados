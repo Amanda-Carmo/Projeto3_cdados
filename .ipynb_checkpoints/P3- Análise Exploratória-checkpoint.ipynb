{
 "cells": [
  {
   "cell_type": "markdown",
   "metadata": {},
   "source": [
    "# <font color='#00878A'>Análise Explorartória</font>\n"
   ]
  },
  {
   "cell_type": "code",
   "execution_count": 1,
   "metadata": {},
   "outputs": [],
   "source": [
    "%matplotlib inline\n",
    "import pandas as pd\n",
    "import matplotlib.pyplot as plt\n",
    "import numpy as np\n",
    "import seaborn as sns"
   ]
  },
  {
   "cell_type": "code",
   "execution_count": 2,
   "metadata": {},
   "outputs": [],
   "source": [
    "dados = pd.read_csv('matchinfo.csv')"
   ]
  },
  {
   "cell_type": "code",
   "execution_count": 3,
   "metadata": {},
   "outputs": [
    {
     "data": {
      "text/html": [
       "<div>\n",
       "<style scoped>\n",
       "    .dataframe tbody tr th:only-of-type {\n",
       "        vertical-align: middle;\n",
       "    }\n",
       "\n",
       "    .dataframe tbody tr th {\n",
       "        vertical-align: top;\n",
       "    }\n",
       "\n",
       "    .dataframe thead th {\n",
       "        text-align: right;\n",
       "    }\n",
       "</style>\n",
       "<table border=\"1\" class=\"dataframe\">\n",
       "  <thead>\n",
       "    <tr style=\"text-align: right;\">\n",
       "      <th></th>\n",
       "      <th>League</th>\n",
       "      <th>Year</th>\n",
       "      <th>Season</th>\n",
       "      <th>Type</th>\n",
       "      <th>blueTeamTag</th>\n",
       "      <th>bResult</th>\n",
       "      <th>rResult</th>\n",
       "      <th>redTeamTag</th>\n",
       "      <th>gamelength</th>\n",
       "      <th>blueTop</th>\n",
       "      <th>...</th>\n",
       "      <th>redTopChamp</th>\n",
       "      <th>redJungle</th>\n",
       "      <th>redJungleChamp</th>\n",
       "      <th>redMiddle</th>\n",
       "      <th>redMiddleChamp</th>\n",
       "      <th>redADC</th>\n",
       "      <th>redADCChamp</th>\n",
       "      <th>redSupport</th>\n",
       "      <th>redSupportChamp</th>\n",
       "      <th>Address</th>\n",
       "    </tr>\n",
       "  </thead>\n",
       "  <tbody>\n",
       "    <tr>\n",
       "      <th>0</th>\n",
       "      <td>NALCS</td>\n",
       "      <td>2015</td>\n",
       "      <td>Spring</td>\n",
       "      <td>Season</td>\n",
       "      <td>TSM</td>\n",
       "      <td>1</td>\n",
       "      <td>0</td>\n",
       "      <td>C9</td>\n",
       "      <td>40</td>\n",
       "      <td>Dyrus</td>\n",
       "      <td>...</td>\n",
       "      <td>Gnar</td>\n",
       "      <td>Meteos</td>\n",
       "      <td>Elise</td>\n",
       "      <td>Hai</td>\n",
       "      <td>Fizz</td>\n",
       "      <td>Sneaky</td>\n",
       "      <td>Sivir</td>\n",
       "      <td>LemonNation</td>\n",
       "      <td>Thresh</td>\n",
       "      <td>http://matchhistory.na.leagueoflegends.com/en/...</td>\n",
       "    </tr>\n",
       "    <tr>\n",
       "      <th>1</th>\n",
       "      <td>NALCS</td>\n",
       "      <td>2015</td>\n",
       "      <td>Spring</td>\n",
       "      <td>Season</td>\n",
       "      <td>CST</td>\n",
       "      <td>0</td>\n",
       "      <td>1</td>\n",
       "      <td>DIG</td>\n",
       "      <td>38</td>\n",
       "      <td>Cris</td>\n",
       "      <td>...</td>\n",
       "      <td>Irelia</td>\n",
       "      <td>Crumbzz</td>\n",
       "      <td>JarvanIV</td>\n",
       "      <td>Shiphtur</td>\n",
       "      <td>Azir</td>\n",
       "      <td>CoreJJ</td>\n",
       "      <td>Corki</td>\n",
       "      <td>KiWiKiD</td>\n",
       "      <td>Annie</td>\n",
       "      <td>http://matchhistory.na.leagueoflegends.com/en/...</td>\n",
       "    </tr>\n",
       "    <tr>\n",
       "      <th>2</th>\n",
       "      <td>NALCS</td>\n",
       "      <td>2015</td>\n",
       "      <td>Spring</td>\n",
       "      <td>Season</td>\n",
       "      <td>WFX</td>\n",
       "      <td>1</td>\n",
       "      <td>0</td>\n",
       "      <td>GV</td>\n",
       "      <td>40</td>\n",
       "      <td>Flaresz</td>\n",
       "      <td>...</td>\n",
       "      <td>Sion</td>\n",
       "      <td>Saintvicious</td>\n",
       "      <td>LeeSin</td>\n",
       "      <td>Keane</td>\n",
       "      <td>Azir</td>\n",
       "      <td>Cop</td>\n",
       "      <td>Corki</td>\n",
       "      <td>BunnyFuFuu</td>\n",
       "      <td>Janna</td>\n",
       "      <td>http://matchhistory.na.leagueoflegends.com/en/...</td>\n",
       "    </tr>\n",
       "    <tr>\n",
       "      <th>3</th>\n",
       "      <td>NALCS</td>\n",
       "      <td>2015</td>\n",
       "      <td>Spring</td>\n",
       "      <td>Season</td>\n",
       "      <td>TIP</td>\n",
       "      <td>0</td>\n",
       "      <td>1</td>\n",
       "      <td>TL</td>\n",
       "      <td>41</td>\n",
       "      <td>Rhux</td>\n",
       "      <td>...</td>\n",
       "      <td>Gnar</td>\n",
       "      <td>IWDominate</td>\n",
       "      <td>Nunu</td>\n",
       "      <td>Fenix</td>\n",
       "      <td>Lulu</td>\n",
       "      <td>KEITH</td>\n",
       "      <td>KogMaw</td>\n",
       "      <td>Xpecial</td>\n",
       "      <td>Janna</td>\n",
       "      <td>http://matchhistory.na.leagueoflegends.com/en/...</td>\n",
       "    </tr>\n",
       "  </tbody>\n",
       "</table>\n",
       "<p>4 rows × 30 columns</p>\n",
       "</div>"
      ],
      "text/plain": [
       "  League  Year  Season    Type blueTeamTag  bResult  rResult redTeamTag  \\\n",
       "0  NALCS  2015  Spring  Season         TSM        1        0         C9   \n",
       "1  NALCS  2015  Spring  Season         CST        0        1        DIG   \n",
       "2  NALCS  2015  Spring  Season         WFX        1        0         GV   \n",
       "3  NALCS  2015  Spring  Season         TIP        0        1         TL   \n",
       "\n",
       "   gamelength  blueTop                        ...                          \\\n",
       "0          40    Dyrus                        ...                           \n",
       "1          38     Cris                        ...                           \n",
       "2          40  Flaresz                        ...                           \n",
       "3          41     Rhux                        ...                           \n",
       "\n",
       "  redTopChamp     redJungle redJungleChamp redMiddle redMiddleChamp  redADC  \\\n",
       "0        Gnar        Meteos          Elise       Hai           Fizz  Sneaky   \n",
       "1      Irelia       Crumbzz       JarvanIV  Shiphtur           Azir  CoreJJ   \n",
       "2        Sion  Saintvicious         LeeSin     Keane           Azir     Cop   \n",
       "3        Gnar    IWDominate           Nunu     Fenix           Lulu   KEITH   \n",
       "\n",
       "  redADCChamp   redSupport redSupportChamp  \\\n",
       "0       Sivir  LemonNation          Thresh   \n",
       "1       Corki      KiWiKiD           Annie   \n",
       "2       Corki   BunnyFuFuu           Janna   \n",
       "3      KogMaw      Xpecial           Janna   \n",
       "\n",
       "                                             Address  \n",
       "0  http://matchhistory.na.leagueoflegends.com/en/...  \n",
       "1  http://matchhistory.na.leagueoflegends.com/en/...  \n",
       "2  http://matchhistory.na.leagueoflegends.com/en/...  \n",
       "3  http://matchhistory.na.leagueoflegends.com/en/...  \n",
       "\n",
       "[4 rows x 30 columns]"
      ]
     },
     "execution_count": 3,
     "metadata": {},
     "output_type": "execute_result"
    }
   ],
   "source": [
    "dados.head(4)"
   ]
  },
  {
   "cell_type": "code",
   "execution_count": 4,
   "metadata": {},
   "outputs": [],
   "source": [
    "porcent_vitorias = dados.bResult.value_counts(True)*100"
   ]
  },
  {
   "cell_type": "code",
   "execution_count": 5,
   "metadata": {},
   "outputs": [
    {
     "data": {
      "text/plain": [
       "Text(0, 0.5, 'Frequência Relativa de Vitórias (em %)')"
      ]
     },
     "execution_count": 5,
     "metadata": {},
     "output_type": "execute_result"
    },
    {
     "data": {
      "image/png": "[encoded data removed]",
      "text/plain": [
       "<Figure size 432x288 with 1 Axes>"
      ]
     },
     "metadata": {
      "needs_background": "light"
     },
     "output_type": "display_data"
    }
   ],
   "source": [
    "porcent_vitorias.plot(kind='bar', color=('blue', 'red'), legend=False)\n",
    "plt.ylabel(\"Frequência Relativa de Vitórias (em %)\")\n"
   ]
  },
  {
   "cell_type": "code",
   "execution_count": 6,
   "metadata": {},
   "outputs": [
    {
     "data": {
      "text/plain": [
       "<matplotlib.axes._subplots.AxesSubplot at 0x265501c8400>"
      ]
     },
     "execution_count": 6,
     "metadata": {},
     "output_type": "execute_result"
    },
    {
     "data": {
      "image/png": "[encoded data removed]",
      "text/plain": [
       "<Figure size 432x288 with 1 Axes>"
      ]
     },
     "metadata": {
      "needs_background": "light"
     },
     "output_type": "display_data"
    }
   ],
   "source": [
    "dados.bResult.plot.hist()"
   ]
  },
  {
   "cell_type": "code",
   "execution_count": 7,
   "metadata": {},
   "outputs": [],
   "source": [
    "red_win = dados.redTeamTag[dados.rResult == 1].value_counts(True)*100\n",
    "top10_red = red_win.head(10)"
   ]
  },
  {
   "cell_type": "code",
   "execution_count": 8,
   "metadata": {},
   "outputs": [
    {
     "data": {
      "text/plain": [
       "<matplotlib.axes._subplots.AxesSubplot at 0x2655020c320>"
      ]
     },
     "execution_count": 8,
     "metadata": {},
     "output_type": "execute_result"
    },
    {
     "data": {
      "image/png": "[encoded data removed]",
      "text/plain": [
       "<Figure size 432x288 with 1 Axes>"
      ]
     },
     "metadata": {
      "needs_background": "light"
     },
     "output_type": "display_data"
    }
   ],
   "source": [
    "#GRÁFICO TOP 10 TIMES VENCEDORES RED TEAM\n",
    "top10_red.plot(kind='bar',legend=False)"
   ]
  },
  {
   "cell_type": "code",
   "execution_count": 9,
   "metadata": {},
   "outputs": [],
   "source": [
    "blue_win = dados.blueTeamTag[dados.bResult == 1].value_counts(True)*100\n",
    "top10_blue = blue_win.head(10)"
   ]
  },
  {
   "cell_type": "code",
   "execution_count": 10,
   "metadata": {},
   "outputs": [
    {
     "data": {
      "text/plain": [
       "<matplotlib.axes._subplots.AxesSubplot at 0x265515e03c8>"
      ]
     },
     "execution_count": 10,
     "metadata": {},
     "output_type": "execute_result"
    },
    {
     "data": {
      "image/png": "[encoded data removed]",
      "text/plain": [
       "<Figure size 432x288 with 1 Axes>"
      ]
     },
     "metadata": {
      "needs_background": "light"
     },
     "output_type": "display_data"
    }
   ],
   "source": [
    "#GRÁFICO TOP 10 TIMES VENCEDORES BLUE TEAM\n",
    "top10_blue.plot(kind='bar',legend=False)"
   ]
  },
  {
   "cell_type": "code",
   "execution_count": 11,
   "metadata": {},
   "outputs": [],
   "source": [
    "champ_red_win = dados.redTopChamp[dados.rResult == 1].value_counts(True)*100\n",
    "top10_champ_red = champ_red_win.head(10)"
   ]
  },
  {
   "cell_type": "code",
   "execution_count": 12,
   "metadata": {},
   "outputs": [
    {
     "data": {
      "text/plain": [
       "<matplotlib.axes._subplots.AxesSubplot at 0x26551651f98>"
      ]
     },
     "execution_count": 12,
     "metadata": {},
     "output_type": "execute_result"
    },
    {
     "data": {
      "image/png": "[encoded data removed]",
      "text/plain": [
       "<Figure size 432x288 with 1 Axes>"
      ]
     },
     "metadata": {
      "needs_background": "light"
     },
     "output_type": "display_data"
    }
   ],
   "source": [
    "#GRÁFICO TOP 10 CHAMP DO TOP VENCEDORES RED TEAM\n",
    "top10_champ_red.plot(kind='bar',legend=False)"
   ]
  },
  {
   "cell_type": "code",
   "execution_count": 13,
   "metadata": {},
   "outputs": [
    {
     "data": {
      "text/plain": [
       "Maokai      11.191510\n",
       "Shen         8.297154\n",
       "Gnar         8.200675\n",
       "Rumble       8.007718\n",
       "Poppy        5.185721\n",
       "Nautilus     5.137482\n",
       "Trundle      4.148577\n",
       "Renekton     3.859141\n",
       "JarvanIV     3.545586\n",
       "Camille      3.400868\n",
       "Name: blueTopChamp, dtype: float64"
      ]
     },
     "execution_count": 13,
     "metadata": {},
     "output_type": "execute_result"
    }
   ],
   "source": [
    "champ_blue_win = dados.blueTopChamp[dados.bResult == 1].value_counts(True)*100\n",
    "top10_champ_blue = champ_blue_win.head(10)\n",
    "top10_champ_blue"
   ]
  },
  {
   "cell_type": "code",
   "execution_count": 14,
   "metadata": {},
   "outputs": [
    {
     "data": {
      "text/plain": [
       "<matplotlib.axes._subplots.AxesSubplot at 0x265516d78d0>"
      ]
     },
     "execution_count": 14,
     "metadata": {},
     "output_type": "execute_result"
    },
    {
     "data": {
      "image/png": "[encoded data removed]",
      "text/plain": [
       "<Figure size 432x288 with 1 Axes>"
      ]
     },
     "metadata": {
      "needs_background": "light"
     },
     "output_type": "display_data"
    }
   ],
   "source": [
    "#GRÁFICO TOP 10 CHAMP DO TOP VENCEDORES BLUE TEAM\n",
    "top10_champ_blue.plot(kind='bar',legend=False)\n"
   ]
  },
  {
   "cell_type": "code",
   "execution_count": 15,
   "metadata": {},
   "outputs": [],
   "source": [
    "top10_champ_red_df = pd.DataFrame(top10_champ_red)\n",
    "top10_champ_blue_df = pd.DataFrame(top10_champ_blue)"
   ]
  },
  {
   "cell_type": "code",
   "execution_count": 16,
   "metadata": {},
   "outputs": [],
   "source": [
    "top10champs = top10_champ_red_df.join(top10_champ_blue_df,how=\"inner\")"
   ]
  },
  {
   "cell_type": "code",
   "execution_count": 17,
   "metadata": {},
   "outputs": [
    {
     "data": {
      "text/plain": [
       "Text(0, 0.5, 'Frequência Relativa (em %)')"
      ]
     },
     "execution_count": 17,
     "metadata": {},
     "output_type": "execute_result"
    },
    {
     "data": {
      "image/png": "[encoded data removed]",
      "text/plain": [
       "<Figure size 432x288 with 1 Axes>"
      ]
     },
     "metadata": {
      "needs_background": "light"
     },
     "output_type": "display_data"
    }
   ],
   "source": [
    "#RELAÇAO ENTRE BLUE E RED SIDE PER CHAMP DO TOP\n",
    "top10champs.plot(kind='bar', color=('red', 'blue'))\n",
    "plt.ylabel('Frequência Relativa (em %)')"
   ]
  },
  {
   "cell_type": "code",
   "execution_count": 18,
   "metadata": {},
   "outputs": [
    {
     "data": {
      "text/plain": [
       "Text(0, 0.5, 'Frequência Relativa (em %)')"
      ]
     },
     "execution_count": 18,
     "metadata": {},
     "output_type": "execute_result"
    },
    {
     "data": {
      "image/png": "[encoded data removed]",
      "text/plain": [
       "<Figure size 432x288 with 1 Axes>"
      ]
     },
     "metadata": {
      "needs_background": "light"
     },
     "output_type": "display_data"
    }
   ],
   "source": [
    "jungle_champ_blue_win = dados.blueJungleChamp[dados.bResult == 1].value_counts(True)*100\n",
    "jungle_champ_red_win = dados.redJungleChamp[dados.bResult == 1].value_counts(True)*100\n",
    "top10_jungle_champ_blue = jungle_champ_blue_win.head(10)\n",
    "top10_jungle_champ_red = jungle_champ_red_win.head(10)\n",
    "top10_jungle_champ_blue_df = pd.DataFrame(top10_jungle_champ_blue)\n",
    "top10_jungle_champ_red_df = pd.DataFrame(top10_jungle_champ_red)\n",
    "top10junglechamps = top10_jungle_champ_red_df.join(top10_jungle_champ_blue_df,how=\"inner\")\n",
    "#RELAÇAO ENTRE BLUE E RED SIDE PER CHAMP DO JUNGLE\n",
    "top10junglechamps.plot(kind='bar', color=('red', 'blue'))\n",
    "plt.ylabel('Frequência Relativa (em %)')"
   ]
  },
  {
   "cell_type": "code",
   "execution_count": 19,
   "metadata": {},
   "outputs": [
    {
     "data": {
      "text/plain": [
       "Text(0, 0.5, 'Frequência Relativa (em %)')"
      ]
     },
     "execution_count": 19,
     "metadata": {},
     "output_type": "execute_result"
    },
    {
     "data": {
      "image/png": "[encoded data removed]",
      "text/plain": [
       "<Figure size 432x288 with 1 Axes>"
      ]
     },
     "metadata": {
      "needs_background": "light"
     },
     "output_type": "display_data"
    }
   ],
   "source": [
    "middle_champ_blue_win = dados.blueMiddleChamp[dados.bResult == 1].value_counts(True)*100\n",
    "middle_champ_red_win = dados.redMiddleChamp[dados.bResult == 1].value_counts(True)*100\n",
    "top10_middle_champ_blue = middle_champ_blue_win.head(10)\n",
    "top10_middle_champ_red = middle_champ_red_win.head(10)\n",
    "top10_middle_champ_blue_df = pd.DataFrame(top10_middle_champ_blue)\n",
    "top10_middle_champ_red_df = pd.DataFrame(top10_middle_champ_red)\n",
    "top10middlechamps = top10_middle_champ_red_df.join(top10_middle_champ_blue_df,how=\"inner\")\n",
    "#RELAÇAO ENTRE BLUE E RED SIDE PER CHAMP DO MIDDLE\n",
    "top10junglechamps.plot(kind='bar', color=('red', 'blue'))\n",
    "plt.ylabel('Frequência Relativa (em %)')"
   ]
  },
  {
   "cell_type": "code",
   "execution_count": 20,
   "metadata": {},
   "outputs": [
    {
     "data": {
      "text/plain": [
       "Text(0, 0.5, 'Frequência Relativa (em %)')"
      ]
     },
     "execution_count": 20,
     "metadata": {},
     "output_type": "execute_result"
    },
    {
     "data": {
      "image/png": "[encoded data removed]",
      "text/plain": [
       "<Figure size 432x288 with 1 Axes>"
      ]
     },
     "metadata": {
      "needs_background": "light"
     },
     "output_type": "display_data"
    }
   ],
   "source": [
    "ADC_champ_blue_win = dados.blueADCChamp[dados.bResult == 1].value_counts(True)*100\n",
    "ADC_champ_red_win = dados.redADCChamp[dados.bResult == 1].value_counts(True)*100\n",
    "top10_ADC_champ_blue = ADC_champ_blue_win.head(10)\n",
    "top10_ADC_champ_red = ADC_champ_red_win.head(10)\n",
    "top10_ADC_champ_blue_df = pd.DataFrame(top10_ADC_champ_blue)\n",
    "top10_ADC_champ_red_df = pd.DataFrame(top10_ADC_champ_red)\n",
    "top10ADCchamps = top10_ADC_champ_red_df.join(top10_ADC_champ_blue_df,how=\"inner\")\n",
    "#RELAÇAO ENTRE BLUE E RED SIDE PER CHAMP DO ADC\n",
    "top10ADCchamps.plot(kind='bar', color=('red', 'blue'))\n",
    "plt.ylabel('Frequência Relativa (em %)')"
   ]
  },
  {
   "cell_type": "code",
   "execution_count": 21,
   "metadata": {},
   "outputs": [
    {
     "data": {
      "text/plain": [
       "Index(['League', 'Year', 'Season', 'Type', 'blueTeamTag', 'bResult', 'rResult',\n",
       "       'redTeamTag', 'gamelength', 'blueTop', 'blueTopChamp', 'blueJungle',\n",
       "       'blueJungleChamp', 'blueMiddle', 'blueMiddleChamp', 'blueADC',\n",
       "       'blueADCChamp', 'blueSupport', 'blueSupportChamp', 'redTop',\n",
       "       'redTopChamp', 'redJungle', 'redJungleChamp', 'redMiddle',\n",
       "       'redMiddleChamp', 'redADC', 'redADCChamp', 'redSupport',\n",
       "       'redSupportChamp', 'Address'],\n",
       "      dtype='object')"
      ]
     },
     "execution_count": 21,
     "metadata": {},
     "output_type": "execute_result"
    }
   ],
   "source": [
    "dados.columns"
   ]
  },
  {
   "cell_type": "code",
   "execution_count": 22,
   "metadata": {},
   "outputs": [],
   "source": [
    "team={}\n",
    "for i in dados.blueTeamTag:\n",
    "    team[i]=0\n",
    "for i in dados.redTeamTag:\n",
    "    team[i]=0\n",
    "for k,v in team.items():\n",
    "    wins=len(dados[(dados.blueTeamTag==k) & (dados.bResult==1)])+len(dados[(dados.redTeamTag==k) & (dados.rResult==1)])\n",
    "    matchs=len(dados[dados.blueTeamTag==k])+ len(dados[dados.redTeamTag==k])\n",
    "    if matchs!=0:\n",
    "        team[k]=wins/matchs"
   ]
  },
  {
   "cell_type": "code",
   "execution_count": 23,
   "metadata": {},
   "outputs": [
    {
     "name": "stdout",
     "output_type": "stream",
     "text": [
      "{'Irelia': 0.4966139954853273, 'Gnar': 0.5, 'Renekton': 0.4597156398104265, 'Kassadin': 0.5555555555555556, 'Sion': 0.5454545454545454, 'Jax': 0.4807692307692308, 'Lulu': 0.45054945054945056, 'Maokai': 0.5125951962507322, 'Rumble': 0.5050136736554239, 'Lissandra': 0.48066298342541436, 'RekSai': 0.25, 'Fizz': 0.5436893203883495, 'Morgana': 0.5263157894736842, 'Kennen': 0.4336569579288026, 'Gragas': 0.45701357466063347, 'DrMundo': 0.27586206896551724, 'Vladimir': 0.43529411764705883, 'Hecarim': 0.4600760456273764, 'Ryze': 0.5, 'Ekko': 0.5184331797235023, 'Shen': 0.4964314036478985, 'Nautilus': 0.5012562814070352, 'Khazix': 0.3333333333333333, 'Riven': 0.5, 'Olaf': 0.4473684210526316, 'Shyvana': 0.47368421052631576, 'Yasuo': 0.5517241379310345, 'Malphite': 0.47619047619047616, 'Fiora': 0.5009416195856874, 'TahmKench': 0.5471698113207547, 'Poppy': 0.4883116883116883, 'Gangplank': 0.52, 'Graves': 0.47540983606557374, 'Quinn': 0.5, 'Trundle': 0.5252679938744257, 'Pantheon': 0.75, 'Rammus': 0.6078431372549019, 'Swain': 0.4578313253012048, 'JarvanIV': 0.5522388059701493, 'Illaoi': 0.5135135135135135, 'Lucian': 0.64, 'Jayce': 0.48638132295719844, 'Camille': 0.5813953488372093, 'Singed': 0.5806451612903226, 'Kled': 0.5220883534136547, 'Galio': 0.44171779141104295, 'Chogath': 0.5294117647058824, 'Nasus': 0.375, 'Cassiopeia': 0.5217391304347826, 'Azir': 0.6666666666666666, 'Yorick': 0.25, 'Diana': 0.0, 'Nocturne': 1.0, 'LeeSin': 0.2, 'Zac': 0.42857142857142855, 'Taliyah': 0.6666666666666666, 'Malzahar': 0.8, 'Akali': 0.36363636363636365, 'Teemo': 0.0, 'Bard': 0.0, 'Nidalee': 0.38461538461538464, 'Nunu': 1.0, 'Rengar': 0.16666666666666666, 'Sejuani': 0.5294117647058824, 'Mordekaiser': 0.3333333333333333, 'Varus': 0.0, 'Kayle': 0.43478260869565216, 'Darius': 0.5102040816326531, 'Zed': 0.75, 'XinZhao': 1.0, 'Blitzcrank': 0.0, 'Talon': 0.25, 'Urgot': 0.5714285714285714, 'Alistar': 0.6, 'Warwick': 0.0, 'Ornn': 0.6181818181818182, 'Karma': 0.6666666666666666, 'Katarina': 0.0, 'Aatrox': 0.3333333333333333, 'Shaco': 1.0, 'Heimerdinger': 0.0, 'Ashe': 0.0, 'MasterYi': 0.0, 'Tryndamere': 1.0, 'MonkeyKing': 0.0, 'Kayn': 0.0, 'Viktor': 1.0, 'Annie': 0.0}\n"
     ]
    }
   ],
   "source": [
    "top = {}\n",
    "for i in dados.blueTopChamp:\n",
    "    top[i]=0\n",
    "for i in dados.redTopChamp:\n",
    "    top[i]=0\n",
    "for k,v in  top.items():\n",
    "    wins=len(dados[(dados.blueTopChamp==k) & (dados.bResult==1)])+len(dados[(dados.redTopChamp==k) & (dados.rResult==1)])\n",
    "    matchs=len(dados[dados.blueTopChamp==k])+ len(dados[dados.redTopChamp==k])      \n",
    "    if matchs!=0:\n",
    "        top[k]=wins/matchs\n",
    "print(top)"
   ]
  },
  {
   "cell_type": "code",
   "execution_count": 24,
   "metadata": {},
   "outputs": [
    {
     "name": "stdout",
     "output_type": "stream",
     "text": [
      "{'RekSai': 0.48406546080964685, 'Rengar': 0.5221674876847291, 'JarvanIV': 0.4847605224963715, 'Nocturne': 0.4827586206896552, 'Vi': 0.5443037974683544, 'LeeSin': 0.4710344827586207, 'Nidalee': 0.5403973509933775, 'Sejuani': 0.503584229390681, 'Gragas': 0.5386819484240688, 'Zac': 0.5924657534246576, 'Nunu': 0.5241379310344828, 'Evelynn': 0.40350877192982454, 'Ekko': 0.46601941747572817, 'XinZhao': 0.5714285714285714, 'Nautilus': 0.3333333333333333, 'Shyvana': 0.32, 'Elise': 0.5053398058252427, 'Amumu': 0.2857142857142857, 'Khazix': 0.5102239532619279, 'Kindred': 0.4362745098039216, 'Graves': 0.4721254355400697, 'Poppy': 0.56, 'Udyr': 0.4583333333333333, 'Olaf': 0.49050632911392406, 'Hecarim': 0.4720496894409938, 'Mordekaiser': 1.0, 'Ivern': 0.5521739130434783, 'Warwick': 0.52, 'Shaco': 0.3333333333333333, 'Maokai': 0.4794520547945205, 'Kayn': 0.4375, 'Chogath': 0.5116279069767442, 'Rumble': 0.4146341463414634, 'Camille': 0.4, 'Draven': 1.0, 'Malphite': 0.0, 'Fiddlesticks': 0.0, 'Bard': 0.6666666666666666, 'Sion': 0.5, 'Pantheon': 0.37037037037037035, 'Fizz': 0.16666666666666666, 'Trundle': 0.4, 'Skarner': 0.47058823529411764, 'Jax': 0.7058823529411765, 'DrMundo': 0.5263157894736842, 'Syndra': 0.0, 'Darius': 0.0, 'Illaoi': 0.0, 'Kassadin': 0.0, 'Shen': 1.0, 'Rammus': 0.6666666666666666, 'Leblanc': 0.0, 'Lulu': 0.5, 'Alistar': 1.0, 'Ezreal': 0.3333333333333333, 'FiddleSticks': 0.5, 'Karthus': 0.5, 'Aatrox': 1.0, 'Volibear': 0.0, 'MonkeyKing': 0.6666666666666666, 'Gnar': 1.0, 'Quinn': 1.0, 'MasterYi': 0.0, 'Jayce': 0.5, 'Galio': 0.0, 'Malzahar': 1.0, 'Rakan': 0.0, 'MissFortune': 0.0, 'Karma': 0.0, 'Riven': 1.0}\n"
     ]
    }
   ],
   "source": [
    "jg = {}\n",
    "for i in dados.blueJungleChamp:\n",
    "    jg[i]=0\n",
    "for i in dados.redJungleChamp:\n",
    "    jg[i]=0\n",
    "for k,v in  jg.items():\n",
    "    wins=len(dados[(dados.blueJungleChamp==k) & (dados.bResult==1)])+len(dados[(dados.redJungleChamp==k) & (dados.rResult==1)])\n",
    "    matchs=len(dados[dados.blueJungleChamp==k])+ len(dados[dados.redJungleChamp==k])      \n",
    "    if matchs!=0:\n",
    "        jg[k]=wins/matchs\n",
    "print(jg)"
   ]
  },
  {
   "cell_type": "code",
   "execution_count": 25,
   "metadata": {},
   "outputs": [
    {
     "name": "stdout",
     "output_type": "stream",
     "text": [
      "{'Ahri': 0.5036818851251841, 'Fizz': 0.544, 'Leblanc': 0.5106382978723404, 'Lissandra': 0.5125628140703518, 'Xerath': 0.4485294117647059, 'Azir': 0.5475923852183651, 'Orianna': 0.4786910197869102, 'Kassadin': 0.4961439588688946, 'Zed': 0.5742857142857143, 'Corki': 0.483402489626556, 'Ezreal': 0.45588235294117646, 'Lulu': 0.4784688995215311, 'Syndra': 0.5258358662613982, 'Viktor': 0.4440816326530612, 'Karthus': 0.475, 'Kennen': 0.6, 'Chogath': 0.4222222222222222, 'Cassiopeia': 0.5267260579064588, 'Yasuo': 0.48, 'Rumble': 0.0, 'Diana': 0.5844155844155844, 'Vladimir': 0.4816849816849817, 'JarvanIV': 0.6153846153846154, 'KogMaw': 0.6304347826086957, 'Ziggs': 0.4838709677419355, 'Varus': 0.5172413793103449, 'Ekko': 0.43119266055045874, 'TwistedFate': 0.5098684210526315, 'Jayce': 0.4308176100628931, 'Urgot': 0.38461538461538464, 'Nidalee': 0.8571428571428571, 'Velkoz': 0.5, 'Anivia': 0.4961832061068702, 'Ryze': 0.5049928673323824, 'Lux': 0.4148936170212766, 'Zilean': 0.5476190476190477, 'Gangplank': 0.4823529411764706, 'Karma': 0.4375, 'Swain': 0.5294117647058824, 'Taliyah': 0.5258855585831063, 'Malzahar': 0.5933609958506224, 'Pantheon': 0.16666666666666666, 'AurelionSol': 0.6428571428571429, 'Katarina': 0.3620689655172414, 'Talon': 0.4803921568627451, 'Galio': 0.5116279069767442, 'Fiora': 0.5, 'Lucian': 0.46621621621621623, 'Irelia': 0.6666666666666666, 'Morgana': 0.45161290322580644, 'Quinn': 0.6666666666666666, 'Mordekaiser': 0.5, 'Kayle': 0.2727272727272727, 'Kayn': 0.5, 'Nunu': 1.0, 'Heimerdinger': 0.75, 'MasterYi': 0.6666666666666666, 'Riven': 0.3333333333333333, 'Nautilus': 0.5555555555555556, 'Veigar': 0.36363636363636365, 'Graves': 0.3333333333333333, 'Camille': 0.6666666666666666, 'Teemo': 1.0, 'LeeSin': 0.0, 'Elise': 0.0, 'Jhin': 0.42857142857142855, 'Kindred': 0.5, 'Zoe': 0.5833333333333334, 'Tristana': 1.0, 'Draven': 0.0, 'Akali': 1.0, 'Malphite': 0.5, 'Hecarim': 0.75, 'Brand': 0.0, 'Nasus': 0.5, 'Twitch': 1.0, 'Sion': 1.0, 'Nocturne': 1.0, 'Zyra': 0.0, 'Alistar': 1.0, 'Thresh': 0.0, 'Gragas': 0.0, 'Renekton': 0.0, 'Olaf': 1.0, 'Fiddlesticks': 0.3333333333333333, 'Sona': 0.0}\n"
     ]
    }
   ],
   "source": [
    "mid = {}\n",
    "for i in dados.blueMiddleChamp:\n",
    "    mid[i]=0\n",
    "for i in dados.redMiddleChamp:\n",
    "    mid[i]=0\n",
    "for k,v in  mid.items():\n",
    "    wins=len(dados[(dados.blueMiddleChamp==k) & (dados.bResult==1)])+len(dados[(dados.redMiddleChamp==k) & (dados.rResult==1)])\n",
    "    matchs=len(dados[dados.blueMiddleChamp==k])+ len(dados[dados.redMiddleChamp==k])      \n",
    "    if matchs!=0:\n",
    "        mid[k]=wins/matchs\n",
    "print(mid)"
   ]
  },
  {
   "cell_type": "code",
   "execution_count": 26,
   "metadata": {},
   "outputs": [
    {
     "name": "stdout",
     "output_type": "stream",
     "text": [
      "{'Jinx': 0.46825396825396826, 'Caitlyn': 0.4982363315696649, 'Sivir': 0.5249702734839476, 'Tristana': 0.49765258215962443, 'Corki': 0.4948717948717949, 'KogMaw': 0.4618249534450652, 'Graves': 0.4878048780487805, 'Kalista': 0.5460122699386503, 'Vayne': 0.4786729857819905, 'Draven': 0.4838709677419355, 'Lucian': 0.47398119122257054, 'Twitch': 0.5607843137254902, 'Ashe': 0.5051020408163265, 'Urgot': 0.5616438356164384, 'Ezreal': 0.4827850038255547, 'Varus': 0.4884437596302003, 'MissFortune': 0.4235294117647059, 'Jhin': 0.508400292184076, 'Ziggs': 0.45614035087719296, 'Mordekaiser': 0.75, 'Xayah': 0.48863636363636365, 'Kennen': 0.48148148148148145, 'Heimerdinger': 1.0, 'Blitzcrank': 0.0, 'Irelia': 1.0, 'Alistar': 1.0, 'Viktor': 0.0, 'Karma': 0.0, 'Quinn': 0.5, 'Janna': 0.0, 'Kindred': 0.5, 'Jayce': 0.0, 'Lulu': 0.0, 'Karthus': 1.0, 'Thresh': 0.0, 'Nunu': 1.0, 'Teemo': 0.0, 'Kled': 0.0, 'Taliyah': 0.0}\n"
     ]
    }
   ],
   "source": [
    "adc = {}\n",
    "for i in dados.blueADCChamp:\n",
    "    adc[i]=0\n",
    "for i in dados.redADCChamp:\n",
    "    adc[i]=0\n",
    "for k,v in  adc.items():\n",
    "    wins=len(dados[(dados.blueADCChamp==k) & (dados.bResult==1)])+len(dados[(dados.redADCChamp==k) & (dados.rResult==1)])\n",
    "    matchs=len(dados[dados.blueADCChamp==k])+ len(dados[dados.redADCChamp==k])      \n",
    "    if matchs!=0:\n",
    "        adc[k]=wins/matchs\n",
    "print(adc)"
   ]
  },
  {
   "cell_type": "code",
   "execution_count": 27,
   "metadata": {},
   "outputs": [
    {
     "name": "stdout",
     "output_type": "stream",
     "text": [
      "{'Janna': 0.5338691159586682, 'Leona': 0.46060606060606063, 'Annie': 0.5302491103202847, 'Thresh': 0.5231650182196772, 'Nami': 0.4638364779874214, 'Morgana': 0.5342205323193916, 'Alistar': 0.48982109808760027, 'Braum': 0.4836879432624113, 'Veigar': 0.631578947368421, 'Lulu': 0.4671916010498688, 'Nautilus': 0.47246376811594204, 'Bard': 0.5316265060240963, 'Karma': 0.46452084857351866, 'Shen': 0.5584415584415584, 'Kennen': 0.5555555555555556, 'Soraka': 0.5205479452054794, 'Trundle': 0.51931330472103, 'Zyra': 0.49657064471879286, 'Taric': 0.5071428571428571, 'Sona': 0.3877551020408163, 'TahmKench': 0.5070028011204482, 'Malzahar': 0.5794871794871795, 'MissFortune': 0.47333333333333333, 'Zilean': 0.38461538461538464, 'Camille': 0.48, 'Blitzcrank': 0.5714285714285714, 'Maokai': 0.42857142857142855, 'Rakan': 0.4869109947643979, 'Sejuani': 0.2, 'Galio': 0.5, 'Poppy': 0.41304347826086957, 'Sion': 0.25, 'Fiddlesticks': 0.2, 'Brand': 0.5272727272727272, 'Gragas': 0.5555555555555556, 'LeeSin': 0.6666666666666666, 'Garen': 0.0, 'Irelia': 0.0, 'Nunu': 0.0, 'Lissandra': 0.2, 'Velkoz': 0.75, 'Kayle': 0.0, 'Elise': 0.75, 'Lux': 0.6666666666666666, 'Syndra': 0.5, 'Taliyah': 0.0, 'Cassiopeia': 1.0, 'Kalista': 0.5, 'Ahri': 0.0, 'Malphite': 0.3333333333333333, 'Ashe': 0.6666666666666666, 'Zac': 1.0, 'Evelynn': 0.0, 'Ornn': 0.5, 'DrMundo': 0.0, 'Kled': 0.0, 'Vayne': 1.0, 'TwistedFate': 0.0, 'Ziggs': 0.5, 'Ivern': 0.0, 'Jinx': 0.0, 'Udyr': 1.0, 'Rengar': 1.0}\n"
     ]
    }
   ],
   "source": [
    "sup = {}\n",
    "for i in dados.blueSupportChamp:\n",
    "    sup[i]=0\n",
    "for i in dados.redSupportChamp:\n",
    "    sup[i]=0\n",
    "for k,v in  sup.items():\n",
    "    wins=len(dados[(dados.blueSupportChamp==k) & (dados.bResult==1)])+len(dados[(dados.redSupportChamp==k) & (dados.rResult==1)])\n",
    "    matchs=len(dados[dados.blueSupportChamp==k])+ len(dados[dados.redSupportChamp==k])      \n",
    "    if matchs!=0:\n",
    "        sup[k]=wins/matchs\n",
    "print(sup)"
   ]
  },
  {
   "cell_type": "code",
   "execution_count": 28,
   "metadata": {},
   "outputs": [
    {
     "name": "stdout",
     "output_type": "stream",
     "text": [
      "{'Dyrus': 0.5952380952380952, 'Cris': 0.44, 'Flaresz': 0.4050632911392405, 'Rhux': 0.5333333333333333, 'Benny': 0.5, 'Gamsu': 0.4956521739130435, 'Quas': 0.45535714285714285, 'Balls': 0.49074074074074076, 'CaliTrlolz8': 0.42857142857142855, 'Hauntzer': 0.6484641638225256, 'Impact': 0.5943775100401606, 'ZionSpartan': 0.6274509803921569, 'Avalon': 0.35, 'Seraph': 0.4158415841584158, 'Smittyj': 0.47619047619047616, 'RF Legendary': 0.1, 'kfo': 0.3076923076923077, 'Huni': 0.7075098814229249, 'Lourlo': 0.42424242424242425, 'BillyBoss': 0.15789473684210525, 'Darshan': 0.5443037974683544, 'Solo': 0.3611111111111111, 'Feng': 0.2631578947368421, 'Ray': 0.48717948717948717, 'zig': 0.46296296296296297, 'Brandini': 0.3333333333333333, 'Looper': 0.4915254237288136, 'Flame': 0.5328467153284672, 'Ssumday': 0.559748427672956, 'Wickd': 0.4482758620689655, 'Werlyb': 0.4084507042253521, 'YoungBuck': 0.3225806451612903, 'fredy122': 0.45121951219512196, 'Cabochard': 0.4491017964071856, 'Mimer': 0.125, 'Overpow': 0.42857142857142855, 'Vizicsacsi': 0.5172413793103449, 'Odoamne': 0.6136363636363636, 'kev1n': 0.3333333333333333, 'Jwaow': 0.4117647058823529, 'Soaz': 0.5961538461538461, 'Steve': 0.4020618556701031, 'Lenny': 0.25, 'Wunderwear': 0.34782608695652173, 'Atom': 0.42857142857142855, 'Kikis': 0.5, 'sOAZ': 0.5392670157068062, 'Wunder': 0.5303030303030303, 'Parang': 0.35555555555555557, 'Expect': 0.6265060240963856, 'SmittyJ': 0.5, 'Satorius': 0.058823529411764705, 'Alphari': 0.5181818181818182, 'Phaxi': 0.4375, 'Flaxxish': 0.2765957446808511, 'Send0o': 0.6666666666666666, 'Profit': 0.40384615384615385, 'Jisu': 0.375, 'Shy': 0.5298013245033113, 'TrAce': 0.510989010989011, 'MaRin': 0.6681614349775785, 'Smeb': 0.6706586826347305, 'Duke': 0.6116071428571429, 'Lil4c': 0.25806451612903225, 'CuVee': 0.5648148148148148, 'ikssu': 0.43315508021390375, 'Soul': 0.25252525252525254, 'Apple': 0.32142857142857145, 'cvMax': 0.375, 'Lilac': 0.6, 'Expession': 0.43609022556390975, 'Helper': 0.36585365853658536, 'SoaR': 0.14285714285714285, 'ssumday': 0.6, 'Untara': 0.45217391304347826, 'SoHwan': 0.48, 'Hipo': 0.2, 'Roach': 0.4, 'Crazy': 0.40718562874251496, 'ADD': 0.4105960264900662, 'Lindarang': 0.3780487804878049, 'Part': 0.3333333333333333, 'Khan': 0.7288135593220338, 'Rascal': 0.5, 'Kiin': 0.3611111111111111, 'Ziv': 0.7041666666666667, 'HanShao': 0.0, 'Morning': 0.5843373493975904, 'S CCB': 0.5, 'MapleSnow': 0.4, 'LOFS': 0.31666666666666665, 'ArJuan': 0.0, 'Stanley': 0.6444444444444445, 'S Achie': 0.3, 'Steak': 0.65, 'Lat': 0.21428571428571427, 'Zonda': 0.16666666666666666, 'BoBo': 0.4431818181818182, 'MMD': 0.6983240223463687, 'Yue': 0.4666666666666667, 'Achie': 0.125, 'May': 0.5238095238095238, 'AJun': 0.0, 'Julian': 0.25, 'exciting': 0.3333333333333333, 'Ninuo': 0.2711864406779661, 'AJ': 0.0, 'Nexus': 0.3333333333333333, 'Rins': 0.39344262295081966, 'XUE': 0.0, 'Never': 0.0, 'Syuan': 0.07142857142857142, 'Vayn3z': 0.3, 'K': 0.0, 'XiaoLiang': 0.0, '3z': 0.5263157894736842, 'Pk': 0.5714285714285714, 'Moonblackk': 0.0, 'Riris': 0.5609756097560976, 'Rest': 0.5454545454545454, 'Mylon': 0.5375, 'Yang': 0.5858585858585859, 'Aoshi': 0.3, 'SkyBart': 0.48148148148148145, 'Robo': 0.6222222222222222, 'LEP': 0.5576923076923077, 'Ayel': 0.5223880597014925, 'Zantins': 0.3404255319148936, 'brTT RX': 0.0, 'Leko': 1.0, 'Eryon': 0.0, 'Ranger': 0.3125, 'Verto': 0.0, 'beansu': 1.0, 'ayel': 0.5, 'Lep': 0.32142857142857145, 'Thulz': 0.21428571428571427, 'b4dd': 0.0, 'VVvert': 0.6071428571428571, 'Thaldrin': 0.6227544910179641, 'LongB': 0.4090909090909091, 'Jer0m': 0.4, 'Realen': 0.16666666666666666, 'fabfabulous': 0.625, 'Crisange': 0.0, 'Elwind': 0.6201117318435754, 'NasesUyno': 0.4117647058823529, 'Crimson': 0.3333333333333333, 'Marshall': 0.42574257425742573, 'Brolia': 0.38461538461538464, 'aprox': 0.3181818181818182, 'Unknown': 0.35, 'Xyraz': 0.5, 'jer0m': 0.5074626865671642, 'numlocked': 0.25, 'Hioss': 0.5633802816901409, 'Fencer': 0.36666666666666664, 'Panky': 0.32075471698113206, 'Fabfabulous': 0.675, 'fabFabulous': 0.6477272727272727, 'Darlik': 0.4166666666666667, 'iScarface': 0.25, 'Rare': 0.375, 'Bwipo': 0.3333333333333333, 'Broken Blade': 0.34545454545454546, 'PANKY': 0.5316455696202531, 'Kirito': 0.25, 'Smoke': 0.25, 'Mayhem': 0.3, 'Jakattack': 0.19047619047619047, 'Sharp': 0.5, 'Tally': 0.6974789915966386, 'Chippys': 0.6581196581196581, 'Pacman': 0.4246575342465753, 'Swip3rR': 0.6771653543307087, 'Ryoo': 0.16279069767441862, 'Malaz': 0.375, 'Raintear': 0.6, 'Rippii': 0.0, 'Skwiggle': 0.34615384615384615, 'SazaHu': 0.5, 'Paradise': 0.5, 'Minkywhale': 0.6666666666666666, 'Kulo': 0.3333333333333333, 'Survivalone': 0.6666666666666666, 'DDD': 0.0, 'Praedyth': 0.2898550724637681, 'paradise': 1.0, 'FivetoEight': 0.09090909090909091, 'Ceres': 0.5245901639344263, 'Pabu': 0.2972972972972973, 'ZZZ': 0.22727272727272727, 'Dhokla': 0.5897435897435898, 'Pride': 0.6349206349206349, 'Buggax': 0.38636363636363635, 'Acce': 0.5633802816901409, 'MANTARRAYA': 0.6153846153846154, 'Nipphu': 0.5471698113207547, 'Relenus': 0.2, 'Fitz': 0.4230769230769231, 'Gos': 0.25, 'Relic': 0.39344262295081966, 'Porky': 0.4794520547945205, 'Jirall': 0.8933333333333333, 'Akunma': 0.5087719298245614, 'Eledion': 0.4642857142857143, 'Voltigore': 0.3103448275862069, 'Mazino': 0.6, 'Fearless': 0.45454545454545453, 'Snow': 0.0, 'xSWRD': 0.10714285714285714, 'ChumpJohn': 0.43333333333333335, 'Evi': 0.6708860759493671, 'apaMEN': 0.5925925925925926, 'Yutapon': 0.7959183673469388, 'Paz': 0.75, 'cogcog': 0.3181818181818182, 'Arfoad': 0.12903225806451613, 'BonziN': 0.6666666666666666, 'Aotaka': 0.2, nan: 0, 'Atyamomo': 0.2857142857142857, 'SatoRy': 0.34615384615384615, 'Rokenia': 0.42857142857142855, 'Kazu': 0.0, 'Air': 0.2, 'Taki': 0.375, 'MayZ': 0.2, 'raizin': 0.5, 'Akasi': 0.18181818181818182, 'alleycat': 0.5714285714285714, 'Astarore': 0.0, 'Smurf': 0.6237623762376238, 'h4rdeath': 0.0, 'NoNholy': 0.5058823529411764, 'FIRees': 0.4186046511627907, 'Ques': 0.4375, 'Zvene': 0.38, 'Lord ZaK': 0.47058823529411764, 'mumus100': 0.4666666666666667, 'Doxy': 0.5671641791044776, 'Resu': 0.0, 'JustNo0b': 0.15789473684210525, 'StarForgerZak': 0.5, 'Aoi Haru': 0.0, 'BloodFenix': 0.42857142857142855, 'Tornell': 0.0, 'Charger': 0.14285714285714285, 'Dark Solece': 0.47619047619047616, 'BOSS': 0.45454545454545453, 'PvPStejos': 0.8636363636363636, 'Koro1': 0.53125, 'Cola': 0.6, 'Prydz': 0.42857142857142855, 'ackerman': 0.3333333333333333, 'Save': 0.5, 'Acorn': 0.47058823529411764, 'Gogoing': 0.5714285714285714, 'Zz1tai': 0.3333333333333333, 'AmazingJ': 0.5, 'WarL0cK': 0.0, 'Mouse': 0.4666666666666667, 'Archie': 0.5, 'Letme': 0.6842105263157895, '957': 0.5882352941176471, 'Stark': 0.3, 'Aluka': 0.4444444444444444, 'V': 0.5, 'Ever Crazy': 0.25, 'Xiyang': 0.25, 'Cuvee': 0.6666666666666666, 'Kaigu': 0.0, 'Renrin': 0.0, 'WhiteKnight': 0.0, 'Ruin': 0.6923076923076923, 'Armut': 0.25, 'Papryze': 0.0, 'Artaphernes': 0.0, 'Liang': 0.4666666666666667, 'takeshi': 0.6, 'InnoX': 1.0, 'Miracle': 0.0, 'Westrice': 0.4, 'calitrlolz8': 0.6, 'TheSoloKing': 0.0, 'i KeNNy u': 0.0, 'DarkBlight': 0.0, 'Mysterious': 0.0, 'cackgod': 0.5, 'Tonington': 0.0, 'MakNooN': 0.5, 'Chunkyfresh': 0.3333333333333333, 'Youngbuck': 1.0, 'Kubon': 0.5, 'ZvenE': 0.0, 'Zeclipse': 0.6666666666666666, 'Idyiom': 0.0, 'K3nSt3r': 0.0, 'Babunia': 0.3333333333333333, 'Xaxus': 0.3333333333333333, 'WarriorLady': 0.5, 'Beansu': 0.16666666666666666, 'Licorice': 0.38095238095238093, 'Kaze': 0.4, 'Lego77': 0.2, 'KaKaRot': 0.2, 'Cube': 0.25, 'Crazyplay': 0.25, 'Firetrap': 0.2, 'CoolG': 0.0, 'Cyo': 1.0, 'indra': 0.25, 'BD': 0.25, 'M1st': 0.2857142857142857, 'Hazard': 0.5, 'LukasNegro': 0.5, 'Thal': 0.2, 'Hanabi': 1.0, 'PK': 1.0, 'Bushybooboo': 0.0, 'Gate': 1.0, 'Allorim': 0.0, 'Mist': 0.0, 'Rlun': 0.0, 'Nases': 0.0, 'padden': 1.0, 'Moracras': 1.0, 'Audi': 0.0, 'Cejlon': 0.0, 'MaybeNickName': 0.0, 'Morsu': 0.0, 'Helior': 0.5, 'Sunblast': 0.0, 'Nate': 0.0}\n"
     ]
    }
   ],
   "source": [
    "top_player = {}\n",
    "for i in dados.blueTop:\n",
    "    top_player[i]=0\n",
    "for i in dados.redTop:\n",
    "    top_player[i]=0\n",
    "for k,v in  top_player.items():\n",
    "    wins=len(dados[(dados.blueTop==k) & (dados.bResult==1)])+len(dados[(dados.redTop==k) & (dados.rResult==1)])\n",
    "    matchs=len(dados[dados.blueTop==k])+ len(dados[dados.redTop==k])      \n",
    "    if matchs!=0:\n",
    "        top_player[k]=wins/matchs\n",
    "print(top_player)"
   ]
  },
  {
   "cell_type": "code",
   "execution_count": 29,
   "metadata": {},
   "outputs": [
    {
     "name": "stdout",
     "output_type": "stream",
     "text": [
      "{'Santorin': 0.45394736842105265, 'Impaler': 0.4, 'ShorterACE': 0.5, 'Rush': 0.5555555555555556, 'Xmithie': 0.573943661971831, 'Crumbzz': 0.25, 'IWDominate': 0.578125, 'Meteos': 0.5695364238410596, 'Porpoise8': 0.42857142857142855, 'Saintvicious': 0.5555555555555556, 'CloudNguyen': 0.375, 'Helios': 0.425, 'Azingy': 0.42105263157894735, 'WTHeaven': 0.0, 'Kez': 0.2916666666666667, 'Move': 0.6, 'Trashy': 0.4606741573033708, 'Hai': 0.5333333333333333, 'Svenskeren': 0.6494845360824743, 'Kirei': 0.18518518518518517, 'Crumbz': 0.4090909090909091, 'Hard': 0.3275862068965517, 'Reignover': 0.594488188976378, 'beibei': 0.3333333333333333, 'Dardoch': 0.5337078651685393, 'Moon': 0.42028985507246375, 'Grigne': 0.0, 'Procxin': 0.3888888888888889, 'ShrimP': 0.49019607843137253, 'Zentinel': 0.14285714285714285, 'Inori': 0.4634146341463415, 'Arcsecond': 0.0, 'Contractz': 0.6124031007751938, 'Akaadian': 0.37037037037037035, 'Ninja': 0.0, 'Chaser': 0.47474747474747475, 'LirA': 0.45588235294117646, 'Shrimp': 0.5616438356164384, 'Grig': 0.2222222222222222, 'MikeYeung': 0.4406779661016949, 'OmarGod': 0.5151515151515151, 'Shook': 0.39655172413793105, 'Fr3deric': 0.4426229508196721, 'Airwaks': 0.34615384615384615, 'Diamond': 0.5, 'H0R0': 0.25, 'Jankos': 0.5761316872427984, 'Kikis': 0.509090909090909, 'loulex': 0.5949367088607594, 'Diamondprox': 0.6229508196721312, 'Amazing': 0.4879518072289157, 'Dexter': 0.3888888888888889, 'Gilius': 0.40594059405940597, 'Spirit': 0.5046728971962616, 'k0u': 0.35802469135802467, 'Trick': 0.6299559471365639, 'BetongJocke': 0.2727272727272727, 'Djoko': 0.38571428571428573, 'Rudy': 0.42857142857142855, 'Wisdom': 0.4609375, 'Maxlore': 0.4772727272727273, 'Mightybear': 0.39655172413793105, 'Memento': 0.4411764705882353, 'Amazingx': 0.5652173913043478, 'KaKAO': 0.5208333333333334, 'Xerxe': 0.5808823529411765, 'Broxah': 0.5918367346938775, 'Cinkrof': 0.2647058823529412, 'Pridestalker': 0.4878048780487805, 'Loulex': 0.6666666666666666, 'Lamabear': 0.15384615384615385, 'Ambition': 0.6224489795918368, 'Tom': 0.8823529411764706, 'Bengi': 0.7482014388489209, 'LEE': 0.0, 'Watch': 0.5061728395061729, 'Lee': 0.7714285714285715, 'Eve': 0.325, 'Score': 0.60790273556231, 'Peanut': 0.6830357142857143, 'Ares': 0.27586206896551724, 'Winged': 0.4672131147540984, 'lira': 0.38, 'Catch': 0.4583333333333333, 'TusiN': 0.3953488372093023, 'Hojin': 0.6904761904761905, 'HOJIN': 0.5, 'Lilac': 0.0, 'Spooky': 0.4, 'BlisS': 0.0, 'Bubbling': 0.40425531914893614, 'Crush': 0.19148936170212766, 'Flawless': 0.20833333333333334, 'Blank': 0.6944444444444444, 'Crash': 0.4567901234567901, 'Haru': 0.4489795918367347, 'Bless': 0.3673469387755102, 'Beyond': 0.4105960264900662, 'SeongHwan': 0.42857142857142855, 'Seonghwan': 0.39473684210526316, 'UmTi': 0.43010752688172044, 'Punch': 0.39759036144578314, 'Mowgli': 0.5625, 'Raise': 0.5882352941176471, 'Cuzz': 0.711864406779661, 'Malrang': 0.3793103448275862, 'Comeback': 0.0, 'Albis': 0.6923076923076923, 'HanJi': 0.2222222222222222, 'Winds': 0.45, 'S JCain': 0.35714285714285715, 'ILLusion': 0.3076923076923077, 'Empt2': 0.40425531914893614, 'Mountain': 0.695852534562212, 'Smurph': 0.6666666666666666, 'Karsa': 0.6825396825396826, 'Dinter': 0.5663716814159292, 'VII': 0.0, 'illusion': 0.25, 'MiHanna': 0.25, 'Domo': 0.3, 'Fiesta': 0.4166666666666667, 'YO': 0.3333333333333333, 'Achie': 0.5, 'REFRA1N': 0.6355140186915887, 'Zonda': 0.3, 'Morning': 0.5, 'TheFeeling': 0.0, 'RD': 0.08333333333333333, 'Pony': 0.2564102564102564, 'SpeaR': 0.03571428571428571, 'Wulala': 0.32926829268292684, 'Taizan': 0.47183098591549294, 'Yo': 0.25, 'Benny': 0.3333333333333333, 'K': 0.08333333333333333, 'Baybay': 0.9, 'wind': 0.36363636363636365, 'Gemini': 0.3728813559322034, 'Wind': 0.25, 'Breaker': 0.5454545454545454, 'Epic': 0.4126984126984127, 'Alex': 0.5365853658536586, 'Laba': 0.55, 'once1': 0.0, 'GodKwai': 0.8, 'SirT': 0.5166666666666667, 'Revolta': 0.5858585858585859, 'Nappon': 0.5783132530120482, 'Zuao': 0.43333333333333335, 'Turtle': 0.5555555555555556, 'Minerva': 0.5, 'Caos': 0.45, 'Snowlz': 0.3125, 'YoDa SL': 0.375, 'Danagorn': 0.2222222222222222, 'Tierwulf VPP': 0.3125, 'Ranger': 0.48148148148148145, '4LaN': 0.47619047619047616, 'Tay': 0.64, 'Yampi': 0.5, 'Ferchu': 0.0, 'Shini': 0.5333333333333333, 'Vash': 0.375, 'Auspexa': 1.0, 'Halpern': 0.0, 'Dolce': 0.38095238095238093, 'Euphony': 0.16666666666666666, 'Stomaged': 0.6530612244897959, 'Decagon Moon': 0.3333333333333333, 'Crystal': 0.6126126126126126, 'Crimson': 0.25, 'Theokoles': 0.75, 'KonDziSan': 0.29545454545454547, 'Adaniel': 0.3225806451612903, 'Trixucator': 0.42424242424242425, 't4nk': 0.0, 'Astarte': 0.3125, 't4nky': 0.3953488372093023, 'Rawbin': 0.631578947368421, 'Taikki': 0.5172413793103449, 'Akira': 0.0, 'Duxen': 0.0, 'Kanani': 0.4722222222222222, 'Muscle': 0.5, 'Reach': 0.4666666666666667, 'Rawbin IV': 0.4507042253521127, 'Trix': 0.5, 'Clongwen': 0.0, 'Four': 0.45161290322580644, 'Sigma': 0.25, 'tracer': 0.375, 'Kadir': 0.17857142857142858, 'Mojito': 0.5542168674698795, 'xani': 0.25, 'Obvious': 0.35714285714285715, 'Nerroh': 0.0, 'Broken Blade': 0.5, 'Coma': 0.375, 'Seb': 0.31, 'Sybol': 0.5272727272727272, 'Carbon': 0.6774193548387096, 'Juves': 0.5, 'Impaired': 0.24444444444444444, 'Spookz': 0.6904761904761905, 'Cookie': 0.3, 'Chelby': 0.5070422535211268, 'Phantiks': 0.0, 'SoulStrikes': 0.0, 'Zahe': 0.4642857142857143, 'DanDayn': 0.0, 'Guts': 0.09090909090909091, 'Shernfire': 0.7959183673469388, 'Fesh': 0.42857142857142855, 'Only': 0.225, 'Fade': 0.16666666666666666, 'Yaelay': 0.5, 'QQmore': 0.6307692307692307, 'Rod': 0.38636363636363635, 'Juliostito': 0.5833333333333334, 'Khynm': 0.4745762711864407, 'InKos': 0.5490196078431373, 'Leozuxo': 0.6153846153846154, 'Frescolita': 0.0, 'Tierwulf': 0.6190476190476191, 'Ominick': 0.375, 'Totti': 0.30303030303030304, 'Fenec': 0.45161290322580644, 'Kenny': 0.09523809523809523, 'Deps': 0.5294117647058824, 'Oddie': 0.8933333333333333, 'Wikko': 0.47058823529411764, 'SolidSnake': 0.3103448275862069, 'LiquidDiego': 0.4583333333333333, 'ZeroZeroYon': 0.0, 'Julaxe': 0.5208333333333334, 'RafaL0L': 0.6071428571428571, 'FROSTSTRIKE': 0.125, 'FraGio': 0.08333333333333333, 'Acerola': 0.25, 'Awaker': 0.52, 'isurugi': 0.625, 'Tussle': 0.7183098591549296, 'GalB': 0.36363636363636365, 'serick': 0.0, 'Serick': 0.0, 'CarilRui': 0.07692307692307693, 'Corn': 0.5, 'Inu': 0.14285714285714285, 'Paz': 0.4444444444444444, '=': 0.5, nan: 0, 'Mei': 0.5, 'iSeNN': 0.6666666666666666, 'Rokenia': 0.0, 'Neo': 0.5789473684210527, 'Savage': 0.425531914893617, 'WyverN': 0.3191489361702128, 'DayDream': 0.06666666666666667, 'Steal': 0.8148148148148148, 'Astarore': 0.2, 'MayZ': 0.25, 'Ami': 0.0, 'PvPStejos': 0.7027027027027027, 'Punisher': 0.1282051282051282, 'Zanzarah': 0.5111111111111111, 'DimaJke': 0.4186046511627907, 'Neiman': 0.3333333333333333, 'Lasagna': 0.5526315789473685, 'Symphony': 0.42105263157894735, 'kimi': 0.46153846153846156, 'DoubleAiM': 0.5098039215686274, 'Doxy': 0.0, 'Babunia': 0.42857142857142855, 'Svikter': 0.1111111111111111, 'Kreox': 0.5555555555555556, 'Gumbeq': 0.21428571428571427, 'Mess': 0.0, 'SaDJesteRRR': 0.45454545454545453, 'Cboi': 0.3, 'Clearlove': 0.5555555555555556, 'Dandy': 0.8823529411764706, 'inSec': 0.6, 'NAZ': 0.42857142857142855, 'NoName': 0.3333333333333333, 'Cyanide': 0.3333333333333333, 'Loveling': 0.45454545454545453, 'LoveLing': 1.0, 'KAKAO': 0.3333333333333333, '007x': 0.0, 'TBQ': 0.25, 'Avoidless': 0.3333333333333333, 'Mlxg': 0.5882352941176471, 'Clearlove7': 0.3, 'Levi': 0.4166666666666667, 'Condi': 0.5882352941176471, 'mlxg': 0.6428571428571429, 'Swift': 0.5, 'Ever Ares': 0.25, 'Jiekou': 0.25, 'TeamleSS': 0.0, 'shernfire': 0.3333333333333333, 'Hamezz': 0.0, 'Nuni': 0.0, 'Kold': 0.0, 'Wolf': 0.5, 'Viking': 0.4, 'Praelus': 0.8, 'Babip': 0.6, 'Swathe': 0.0, 'Hana': 0.6666666666666666, 'Kongyue': 0.2, 'AnDa': 0.5, 'dexter': 0.6, 'porpoisepops': 0.6, 'MiMo': 0.0, 'xSojin': 0.3333333333333333, 'lucid': 0.0, 'Thinkcard': 0.5, 'Razelock': 0.0, 'NintendudeX': 0.5, 'Nintendude': 0.4, 'Kottenx': 0.4, 'Mister': 0.0, 'Shiage': 0.0, 'MaybeNickName': 0.0, 'Mowarth': 0.3333333333333333, 'Shaunz': 0.0, 'AnOnPsyCkO': 0.5, 'Xayoo': 0.4444444444444444, 'Dan': 0.0, 'DanDy': 0.3333333333333333, 'Potato': 0.2, 'Shaft': 0.2, 'Krvavy': 0.25, 'Flaw': 0.75, 'JgRyan': 0.25, 'bono': 1.0, 'Em1ya': 0.0, 'betty': 1.0, 'HiBon': 0.25, 'Jjun': 0.2857142857142857, 'Omen': 0.42857142857142855, 'Rakyl': 0.5, 'Josedeodo': 1.0, 'Moojin': 0.6666666666666666, 'Empt2y': 1.0, 'Pride': 0.5, 'WIND': 1.0, 'Jcain': 0.0, 'TaY': 0.25, 'Ferit': 0.0, 'Dimajke': 0.0, 'Idyiom': 0.0, 'K3nSt3r': 0.0, 'pony': 0.0, 'ClatoS': 0.5, 'woofi': 0.0, 'U Jun': 0.0}\n"
     ]
    }
   ],
   "source": [
    "jg_player = {}\n",
    "for i in dados.blueJungle:\n",
    "    jg_player[i]=0\n",
    "for i in dados.redJungle:\n",
    "    jg_player[i]=0\n",
    "for k,v in  jg_player.items():\n",
    "    wins=len(dados[(dados.blueJungle==k) & (dados.bResult==1)])+len(dados[(dados.redJungle==k) & (dados.rResult==1)])\n",
    "    matchs=len(dados[dados.blueJungle==k])+ len(dados[dados.redJungle==k])      \n",
    "    if matchs!=0:\n",
    "        jg_player[k]=wins/matchs\n",
    "print(jg_player)"
   ]
  },
  {
   "cell_type": "code",
   "execution_count": 30,
   "metadata": {},
   "outputs": [
    {
     "name": "stdout",
     "output_type": "stream",
     "text": [
      "{'Bjergsen': 0.6509433962264151, 'Jesiz': 0.4666666666666667, 'Pobelter': 0.6111111111111112, 'XiaoWeiXiao': 0.5660377358490566, 'Link': 0.5555555555555556, 'Shiphtur': 0.35294117647058826, 'FeniX': 0.5806451612903226, 'Hai': 0.47096774193548385, 'Slooshi8': 0.4, 'Keane': 0.5021459227467812, 'mancloud': 0.058823529411764705, 'Incarnati0n': 0.475, 'Bischu': 0.0, 'Innox': 0.19047619047619047, 'Goldenglue': 0.3373493975903614, 'Ninja': 0.42028985507246375, 'Gate': 0.47058823529411764, 'Jensen': 0.6116071428571429, 'AlexIch': 0.22727272727272727, 'Froggen': 0.35638297872340424, 'Fenix': 0.5102040816326531, 'GBM': 0.43636363636363634, 'Huhi': 0.5493562231759657, 'Pirean': 0.391304347826087, 'Slooshi': 0.15384615384615385, 'Ryu': 0.5698529411764706, 'Piglet': 0.4666666666666667, 'Nisqy': 0.48936170212765956, 'Damonte': 0.2, 'Mickey': 0.45041322314049587, 'PePiiNeRO': 0.3541666666666667, 'Soren': 0.3076923076923077, 'Fox': 0.43846153846153846, 'niQ': 0.34615384615384615, 'Blizer300': 0.375, 'nukeduck': 0.4716981132075472, 'Febiven': 0.5985130111524164, 'PowerOfEvil': 0.47950819672131145, 'kori': 0.26666666666666666, 'Betsy': 0.4186046511627907, 'xPeke': 0.6, 'Eika': 0.3333333333333333, 'Sencux': 0.5161290322580645, 'Nukeduck': 0.4369747899159664, 'xPePii': 0.4666666666666667, 'Perkz': 0.6338028169014085, 'Selfie': 0.6666666666666666, 'Exileh': 0.5384615384615384, 'Night': 0.45652173913043476, 'Naehyun': 0.3424657534246575, 'Caps': 0.5867768595041323, 'NighT': 0.2727272727272727, 'Blanc': 0.6, 'Nagne': 0.47692307692307695, 'CozQ': 0.2765957446808511, 'Coco': 0.4966887417218543, 'Faker': 0.7041095890410959, 'Kuro': 0.6357827476038339, 'Easyhoon': 0.8108108108108109, 'Ggoong': 0.4936708860759494, 'Frozen': 0.49246231155778897, 'BlisS': 0.09090909090909091, 'Rain': 0.3333333333333333, 'Ace': 0.5714285714285714, 'TANK': 0.5, 'Crown': 0.6, 'do it': 0.0, 'SaSin': 0.23711340206185566, 'Kuzan': 0.4583333333333333, 'Edge': 0.35135135135135137, 'Sky': 0.42, 'Fly': 0.5590062111801242, 'Bdd': 0.5217391304347826, 'Tempt': 0.38922155688622756, 'Ian': 0.4105960264900662, 'Cry': 0.5833333333333334, 'Pawn': 0.6306306306306306, 'Cepted': 0.36666666666666664, 'Lava': 0.41935483870967744, 'westdoor': 0.7391304347826086, 'LeeMid': 0.0, 'Chawy': 0.6, 'S Ysera': 0.3333333333333333, 'CooCooDai': 0.26666666666666666, 'Wish': 0.4166666666666667, 'Kawai': 0.0, 'Toyz': 0.6060606060606061, 'S HoHotDoG': 0.36363636363636365, 'Maple': 0.6846153846153846, 'M1ssion': 0.4351145038167939, 'Breaker': 0.23809523809523808, 'Achie': 0.3181818181818182, 'Republic': 0.4166666666666667, 'Stone': 0.0, 'Apex': 0.4935897435897436, 'caNdy': 0.32, 'K': 0.23809523809523808, 'MapleSnow': 0.0, 'Morning': 0.2727272727272727, 'Westdoor': 0.6517857142857143, 'Chillyz': 1.0, 'KuKu': 0.05555555555555555, 'SuwaKo': 0.3125, 'FoFo': 0.6190476190476191, 'Rokenia': 0.4864864864864865, 'MarS': 0.46153846153846156, 'Gear': 0.4067796610169492, 'Zor': 0.23809523809523808, 'BoBo': 0.0, 'PaSa': 0.0, 'SiuSiu': 0.038461538461538464, 'Chingz': 0.2222222222222222, 'Wako': 0.417910447761194, 'wuji': 0.5714285714285714, 'Wulala': 0.1, 'Wind': 0.0, 'Kami': 0.524390243902439, 'tockers': 0.6464646464646465, 'YoDa SL': 0.3076923076923077, 'Goku': 0.48148148148148145, 'takeshi': 0.5679012345679012, 'tinowns': 0.5263157894736842, 'Brucer': 0.46296296296296297, 'TaeYeon': 0.3125, 'Vash': 0.3142857142857143, 'Rakin VPP': 0.2777777777777778, 'Envy': 0.6097560975609756, 'Tinowns': 0.42857142857142855, 'dyNquedo': 0.42105263157894735, 'Evrot': 0.21428571428571427, 'Titan': 0.25, 'Krastyel': 0.0, 'Marf': 0.7, 'Energy': 0.8064516129032258, 'Elysion': 0.3, 'Lvsyan': 0.42105263157894735, 'Misery': 0.125, 'wtcN': 0.5238095238095238, 'Afrox': 0.0, 'Naru': 0.6358974358974359, 'LEYL U NEHAR': 0.2692307692307692, 'NasesUyno': 0.0, 'Tucake': 0.0, 'Baxauer': 0.5, 'Dumbledoge': 0.0, 'niQ760': 0.631578947368421, 'Immortoru': 0.38345864661654133, 'Ravenno': 0.14285714285714285, 'LongB': 0.4807692307692308, 'Abaria': 0.6136363636363636, 'avenuee': 0.6296296296296297, 'Avenuee': 0.5925925925925926, 'LongB Gncm': 0.42857142857142855, 'Hatrixx': 0.5111111111111111, 'Lukezy': 0.5205479452054794, 'Crossman': 0.4666666666666667, 'React': 0.4489795918367347, 'Godbro': 0.5161290322580645, 'Abbedagge': 0.2857142857142857, 'Soz Purefect': 0.38095238095238093, 'Xico': 0.47368421052631576, 'Shoshin': 0.375, 'umuut': 0.21428571428571427, 'Cheong': 0.25, 'Godbro Sama': 0.6470588235294118, 'Midbeast': 0.17857142857142858, 'Phantiks': 0.6460176991150443, 'ChuChuZ': 0.6455696202531646, 'RYmeister': 0.4230769230769231, 'Bma': 0.14285714285714285, 'Cheese': 0.6190476190476191, 'Bomb': 0.17073170731707318, 'wrekt': 0.3333333333333333, 'Destiny': 0.5, 'Wzrd': 0.4186046511627907, 'Triple': 0.5192307692307693, 'Sybol': 0.0, 'Swiffer': 0.7047619047619048, 'Looch': 0.4117647058823529, 'Omni': 0.4642857142857143, 'Frae': 0.26666666666666666, 'Siuman': 0.23333333333333334, 'Claire': 0.6612903225806451, 'Gluppy': 0.0, 'Glup': 0.0, 'Praedyth': 0.3333333333333333, 'ry0ma': 0.5915492957746479, 'ChrisMisTrees': 0.14285714285714285, 'Shok': 0.14285714285714285, 'emp': 0.6557377049180327, 'Lesmart': 0.38636363636363635, 'uri': 0.5507246376811594, 'Mega': 0.4166666666666667, 'Rakyz': 0.5660377358490566, 'Plugo': 0.52, 'Misteryous': 0.0, 'Kiri': 0.375, 'Sojourn': 0.25, 'Gambite': 0.2727272727272727, 'Icytower': 0.5079365079365079, 'Cotton': 0.0, 'DCStar': 0.125, 'sEiya': 1.0, 'Julaxe': 0.0, 'Cotopaco': 0.6037735849056604, 'MasterJos': 0.3103448275862069, 'Lezaford': 0.46296296296296297, 'Seiya': 0.873015873015873, 'Hobbler': 0.5230769230769231, 'Nobody': 0.543859649122807, 'Akari': 0.5, 'Sony': 0.3333333333333333, 'Seranok': 0.10714285714285714, 'Zelt': 0.2, 'Shinmori': 0.40540540540540543, 'CLOCKDAY': 0.625, 'Ceros': 0.7974683544303798, 'tei': 0.0, 'HW4NG': 0.36363636363636365, 'alps': 0.09090909090909091, 'Roki': 0.52, 'Mugoon': 0.0, 'Estelim': 0.5, 'Ryavka': 0.0, 'aripo': 0.2727272727272727, 'Mueki': 0.0, nan: 0, 'Ramune': 0.7407407407407407, 'Search': 0.19047619047619047, 'alleycat': 0.30434782608695654, 'REMIND': 0.5740740740740741, 'Fate': 0.6666666666666666, 'Broooock': 0.4, 'Lavie': 0.37037037037037035, 'Hollis': 0.13043478260869565, 'Kira': 0.7395833333333334, 'Flashy': 0.07142857142857142, 'Drobovik123': 0.527027027027027, 'bebe': 0.375, 'Marker': 0.3870967741935484, 'Saulius': 0.525, 'Piter Pokir': 0.43478260869565216, 'Paranoia': 0.4875, 'Ekka': 0.3090909090909091, 'Fomko': 0.42857142857142855, 'zoiren': 0.42857142857142855, 'Ripi': 0.4, 'Nomanz': 0.4375, 'U': 0.5, 'PawN': 0.7037037037037037, 'corn': 0.6, 'Dade': 0.6153846153846154, 'cool': 0.5714285714285714, 'TinOwns': 0.16666666666666666, 'Rookie': 0.3333333333333333, 'G4': 0.0, 'GODV': 0.3333333333333333, 'Baeme': 0.5, 'Athena': 0.4375, 'Scout': 0.3333333333333333, 'Xiaohu': 0.5882352941176471, 'BDD': 1.0, 'Optimus': 0.4166666666666667, 'xiye': 0.5581395348837209, 'xiaohu': 0.6428571428571429, 'kurO': 0.6, 'PAinEvil': 0.0, 'Doinb': 0.5, 'Ever Tempt': 0.25, 'Fofo': 0.5, 'GoldenGlue': 0.5714285714285714, 'Icon': 0.25, 'Exosen': 0.0, 'Caedrel': 0.5, 'Grace': 0.4, 'Justice': 0.5, 'Backlund': 0.4, 'huhi': 0.25, 'Bdoink': 0.0, 'Uniboy': 0.4666666666666667, 'Lucete': 0.4, 'CoCo': 0.25, 'Ringer': 0.0, 'pr0lly': 0.2857142857142857, 'slooshi8': 0.6, 'Easy': 0.0, 'goldenglue': 0.4, 'Arcsecond': 0.3333333333333333, 'Environmental': 0.0, 'Yusui': 0.5, 'Abou222': 0.0, 'Wolfe': 0.5, 'Leonard': 0.0, 'HuHi': 0.47619047619047616, 'SorenXD': 1.0, 'Watdefox': 0.25, 'Kerp': 0.4, 'Flezeth': 0.0, 'Sayn': 0.0, 'ocelote': 0.6, 'Heavenstrike': 0.0, 'Tiridus': 0.3333333333333333, 'SozPurefect': 0.3333333333333333, 'ShLaYa': 0.0, 'Magebane': 0.5, 'Takefun': 0.375, 'Takefuned': 1.0, 'Jinsh': 0.0, 'Pekin Woof': 1.0, 'Alex Ich': 0.3333333333333333, 'Pretty': 0.4, 'Jiizuke': 0.6923076923076923, 'Moon': 0.2, 'Kyle': 0.25, 'Candy': 0.4444444444444444, 'CoolCool': 0.25, 'Unified': 0.25, 'Joy': 0.2857142857142857, 'Eli': 0.3333333333333333, 'Sonata': 0.5, 'Emp': 0.5, 'CooN': 0.2, 'Rakin': 0.5, 'Crow': 0.0, 'Gears': 1.0, 'Shernfire': 1.0, 'Shiage': 0.0, 'PerkZ': 0.6, 'Fish': 0.25, 'Kirito': 0.5, 'Magico': 0.0}\n"
     ]
    }
   ],
   "source": [
    "mid_player = {}\n",
    "for i in dados.blueMiddle:\n",
    "    mid_player[i]=0\n",
    "for i in dados.redMiddle:\n",
    "    mid_player[i]=0\n",
    "for k,v in  mid_player.items():\n",
    "    wins=len(dados[(dados.blueMiddle==k) & (dados.bResult==1)])+len(dados[(dados.redMiddle==k) & (dados.rResult==1)])\n",
    "    matchs=len(dados[dados.blueMiddle==k])+ len(dados[dados.redMiddle==k])      \n",
    "    if matchs!=0:\n",
    "        mid_player[k]=wins/matchs\n",
    "print(mid_player)"
   ]
  },
  {
   "cell_type": "code",
   "execution_count": 31,
   "metadata": {},
   "outputs": [
    {
     "name": "stdout",
     "output_type": "stream",
     "text": [
      "{'WildTurtle': 0.5927272727272728, 'Mash': 0.3787878787878788, 'Altec': 0.5, 'Apollo': 0.43373493975903615, 'Doublelift': 0.6639676113360324, 'CoreJJ': 0.4583333333333333, 'KEITH': 0.8571428571428571, 'Sneaky': 0.5836065573770491, 'Maplestreet8': 0.42857142857142855, 'Cop': 0.5517241379310345, 'Piglet': 0.4540540540540541, 'Paragon': 0.3333333333333333, 'Lattman': 0.0, 'otter': 0.24, 'Nien': 0.3333333333333333, 'Nien8': 0.47058823529411764, 'Emperor': 0.5283018867924528, 'Freeze': 0.4111111111111111, 'Keith': 0.3333333333333333, 'Stixxay': 0.548936170212766, 'LOD': 0.448, 'ohq': 0.2857142857142857, 'Slooshi': 0.2, 'Fabbbyyy': 0.5277777777777778, 'Jynthe': 0.2, 'Arrow': 0.5579268292682927, 'Cody Sun': 0.5517241379310345, 'Youngbin': 0.5, 'aphromoo': 0.0, 'Rekkles': 0.5593869731800766, 'Adryh': 0.38666666666666666, 'FORG1VENGRE': 0.6307692307692307, 'P1noy': 0.5, 'MrRalleZ': 0.3888888888888889, 'Woolite': 0.4666666666666667, 'Steeelback': 0.4277456647398844, 'Vardags': 0.463768115942029, 'Hjarnan': 0.5426829268292683, 'FORG1VEN': 0.56, 'Niels': 0.660377358490566, 'Tabzz': 0.25316455696202533, 'CandyPanda': 0.3448275862068966, 'Moopz': 0.0, 'Kobbe': 0.5096774193548387, 'Safir': 0.16666666666666666, 'Zven': 0.6214953271028038, 'SONSTAR': 0.36363636363636365, 'Veritas': 0.4939759036144578, 'S0NSTAR': 0.46511627906976744, 'Police': 0.4523809523809524, 'xPeke': 0.3870967741935484, 'Reje': 0.25, 'Toaster': 0.5, 'Nuclear': 0.42021276595744683, 'Hans Sama': 0.5148514851485149, 'Samux': 0.5087719298245614, 'HeaQ': 0.3058823529411765, 'Yuuki60': 0.32653061224489793, 'Space': 0.5670103092783505, 'Pilot': 0.475, 'Bang': 0.7121588089330024, 'PraY': 0.6550632911392406, 'Ohq': 0.49411764705882355, 'Fury': 0.3511450381679389, 'Zefa': 0.4375, 'Cpt Jack': 0.5964912280701754, 'Sangyoon': 0.4367816091954023, 'dan': 0.0, 'Roar': 0.3611111111111111, 'Sonstar': 0.2857142857142857, '0hq': 0.0, 'Kramer': 0.4481132075471698, 'SSol': 0.34558823529411764, 'Stitch': 0.4807692307692308, 'LokeN': 0.423728813559322, 'Ruler': 0.6802030456852792, 'MaHa': 0.4206896551724138, 'Ghost': 0.36607142857142855, 'Deft': 0.6196319018404908, 'Teddy': 0.43564356435643564, 'deft': 0.6, 'Deul': 0.4117647058823529, 'DeuL': 0.3076923076923077, 'AN': 0.7189542483660131, 'HoNeyRain': 0.0, 'Lupin': 0.44680851063829785, 'S Lat': 0.3333333333333333, 'Unlimited': 0.3333333333333333, 'Tour': 0.0, 'momo': 0.25, 'GodJJ': 0.6, 'CorGi': 0.4166666666666667, 'S RD': 0.4, 'NL': 0.734375, 'NeverLoses': 1.0, 'RD': 0.42857142857142855, 'BeBe': 0.5408805031446541, 'Raison': 0.5333333333333333, 'Dee': 0.4695121951219512, 'K': 0.0, 'KKramer': 0.6111111111111112, 'Breeze': 0.296, 'GodKwai': 0.4431818181818182, 'Rabi2': 0.041666666666666664, 'Payne': 0.16666666666666666, 'OB5': 0.0, 'LBB': 0.2717391304347826, 'M17Dee': 0.0, 'LilV': 0.576271186440678, 'Never': 0.0, 'Deee': 1.0, 'Unified': 0.38961038961038963, 'An': 0.6708860759493671, 'Wako': 0.0, 'Betty': 0.7142857142857143, 'BEBE': 0.5833333333333334, 'Madnesss': 0.0, 'Ran': 0.0, 'Enzz': 0.05263157894736842, 'brTT RX': 0.6808510638297872, 'micaO': 0.6373626373626373, 'pbO': 0.4142857142857143, 'Theusma': 0.4, 'esA': 0.532258064516129, 'Matsukaze': 0.5, 'SacyR': 0.4166666666666667, 'Skyer': 0.3333333333333333, 'The Foxz': 0.0, 'EzPrince': 0.36363636363636365, 'Luskka': 0.3125, 'TaeYeon': 0.5789473684210527, 'LUSKKA': 0.45454545454545453, 'TheFoxz': 0.21428571428571427, 'Sarkis': 0.21428571428571427, 'DudsTheBoy': 0.0, 'Absolut': 0.5714285714285714, 'Juzinho': 0.6842105263157895, 'Sacy': 0.6, 'Nardeus': 0.7818181818181819, 'KillerEs': 0.3409090909090909, 'Ciyansan': 0.42105263157894735, 'Madness': 0.42567567567567566, 'Zeitnot': 0.6914285714285714, 'padden': 0.6046511627906976, 'mean': 0.36666666666666664, 'Ritix': 0.30952380952380953, 'HolyPhoenix': 0.4585987261146497, 'Revanche': 0.5384615384615384, 'Stansfield': 0.5, 'tantrum': 0.125, 'Zaek': 0.4444444444444444, 'Honos': 0.42857142857142855, 'Ruvelius': 0.5058823529411764, 'Achuu': 0.4878048780487805, 'DarkSide': 0.5344827586206896, 'kazze': 0.42857142857142855, 'Ruvelius376': 0.36666666666666664, 'Achuu Cop': 0.6, 'PADDEN': 0.5, 'Sedrion': 0.21052631578947367, 'KillerS': 0.2857142857142857, 'meanTnT': 0.42857142857142855, 'Emtest': 0.47368421052631576, 'Elysion': 0.42857142857142855, 'Lethilion': 0.0, 'Amades': 0.375, 'Endz': 0.1875, 'Ruve sama': 0.5, 'Ruve Sama': 0.6129032258064516, 'reje': 0.5, 'Stealthix': 0.19047619047619047, 'Raes': 0.6324786324786325, 'k1ng': 0.7542372881355932, 'Cardrid': 0.4838709677419355, 'Edition': 0.4166666666666667, 'Raydere': 0.639344262295082, 'Frae': 0.17073170731707318, 'Destiny': 0.4, 'Stark': 0.5, 'Raps': 0.34615384615384615, 'Squidgy': 0.3125, 'Lost': 0.5842696629213483, 'Chenyboy': 0.4318181818181818, 'Raid': 0.38666666666666666, 'Paradise': 0.0, 'Bomb': 0.0, 'Straawbella': 0.0, 'Crayzee': 0.09090909090909091, 'Cake': 0.4444444444444444, 'FBI': 0.5833333333333334, 'Blinky': 0.4918032786885246, 'Grisha': 0.3333333333333333, 'Aladoric': 0.5, 'Low': 0.14285714285714285, 'Fade': 0.0, 'Kedu': 0.25, 'K1ng': 0.6666666666666666, 'Kindless': 0.6307692307692307, 'Zeicro': 0.38636363636363635, 'prodi': 0.5633802816901409, 'Focho': 0.4166666666666667, 'Sou': 0.5490196078431373, 'Tierwulf': 0.0, 'Zealot': 0.2857142857142857, 's0ra': 0.375, 'Fix': 0.7333333333333333, 'Gatocrack': 0.25, 'xpng': 0.5714285714285714, '2020': 0.08, 'Warangelus': 0.5555555555555556, 'WhiteLotus': 0.9344262295081968, 'Donut': 0.4642857142857143, 'Peluchin': 0.4642857142857143, 'VirusFx': 0.5185185185185185, 'N1njA': 0.46296296296296297, 'Medusa': 0.0, 'ZeroZeroYon': 0.0, 'Whitelotus': 1.0, 'Hobbler': 0.0, 'MarioMe': 0.6363636363636364, 'Germoo': 0.12, 'Zeypher': 0.5517241379310345, 'Diesel': 0.6470588235294118, 'Zigu': 0.16666666666666666, 'EvanRL': 0.4594594594594595, 'Manu': 0.2857142857142857, 'Nymue': 0.0, 'YutoriMoyashi': 0.52, 'Haretti': 0.5925925925925926, 'Zerost': 0.5753424657534246, 'Meron': 0.48148148148148145, 'Rkp': 0.3181818181818182, 'RhythmAsalt': 0.047619047619047616, 'nororin': 1.0, nan: 0, 'YutoriMoyasi': 0.7407407407407407, 'Day1': 0.19047619047619047, 'NoA': 0.34, 'NaeMisa': 0.3333333333333333, 'Rokenia': 0.36, 'Yutapon': 0.8148148148148148, 'Broooock': 0.5333333333333333, 'aMiracle': 0.5925925925925926, 'dayruin': 0.07142857142857142, 'Tauren': 0.5, 'Starscream': 0.3333333333333333, 'Blasting': 0.6557377049180327, 'VincentVega': 0.5116279069767442, 'Ekd': 0.4838709677419355, 'BULBAZABP': 0.4, 'Unstop': 0.0, 'LeX': 0.4857142857142857, 'NikSar': 0.45161290322580644, 'XDSMILEY': 0.5833333333333334, 'Stierlitz': 0.5, 'unho1y': 0.47619047619047616, 'pooh': 0.45454545454545453, 'Optimas': 0.391304347826087, 'Kinzu': 0.4, 'NaMei': 0.5, 'imp': 0.68, 'Uzi': 0.56, 'GarnetDevil': 0.42857142857142855, 'Vasilii': 0.3333333333333333, 'san': 0.5714285714285714, 'Minerva': 0.16666666666666666, 'brTT': 0.5333333333333333, 'Kid': 0.2, 'Lloyd': 0.0, 'Jinjiao': 0.3333333333333333, 'iBoy': 0.3333333333333333, 'Pray': 1.0, 'Noway': 0.5, 'Padden': 0.2, 'Mystic': 0.5581395348837209, 'Wuxx': 0.631578947368421, 'Slay': 0.3, 'Wildturtle': 0.875, 'Neverloses': 0.5, 'TnT': 0.5454545454545454, 'Loken': 0.625, 'Ever Loken': 0.25, 'DoubleRed': 0.5714285714285714, 'Breaker': 0.0, 'Bebe': 0.5, 'UpseT': 0.2, 'Vincent': 0.0, 'Ssol': 0.25, 'Smlz': 0.25, 'y4': 0.75, 'Znsho': 0.0, 'Sheriff': 0.25, 'Achu': 0.3333333333333333, 'J1mmy': 1.0, 'Rain': 0.4, 'Phantiks': 0.6, 'Dream': 0.0, 'Tiger': 0.0, 'Lilv': 0.8, 'Titan': 0.8, 'Lactea': 0.4, 'WILDTURTLE': 0.5, 'Deftly': 0.23809523809523808, 'j1mmy': 0.25, 'Impactful': 0.4, 'ROBERTxLEE': 0.2857142857142857, 'maplestreet8': 0.6, 'Prototype': 0.5384615384615384, 'Frost': 0.0, 'MabreyBABY': 0.4, 'Hoofspark': 0.3333333333333333, 'cop': 1.0, 'Rakin': 0.0, 'WizFujiiN': 0.5, 'I Am The IRS': 0.0, 'Nocturnal': 0.0, 'Nientonsoh': 0.5, 'LouisXGeeGee': 0.75, 'Krislund': 0.75, 'Zyzz': 0.25, 'Creaton': 0.375, 'Ladooscuro': 0.0, 'Crykee': 0.6666666666666666, 'Tarky': 0.0, 'SirAlphaQ': 0.0, 'Sa1na': 0.3333333333333333, 'Nono': 0.0, 'Dom1nant': 0.5, 'Celaver': 0.4444444444444444, 'Steeelbackkk': 0.3333333333333333, 'Rikara': 0.25, 'Hans sama': 0.5555555555555556, 'MrRallez': 0.6666666666666666, 'Upset': 0.6, 'Minitroupax': 0.6923076923076923, 'Gankzero': 0.2, 'LuNar': 0.2, 'Chelly': 0.25, 'Bat': 0.0, 'DanDan': 0.25, 'Hologram': 0.2857142857142857, 'PaSa': 0.3333333333333333, 'Rock': 0.6, 'Tomnam': 0.5, 'Kz': 0.5, 'Dalka': 0.2, 'S Ysera': 0.0, 'DANDAN': 0.0, 'Voyna': 1.0, 'Kkramer': 0.0, 'Time': 1.0, 'Maha': 0.3333333333333333, 'Zet': 0.25, 'Vander': 0.5, 'Sayn': 0.0, 'Vizility': 0.0, 'Jesse': 0.6, 'Nothing': 0.5, 'Kimi': 0.0, 'Aiming': 0.0}\n"
     ]
    }
   ],
   "source": [
    "adc_player = {}\n",
    "for i in dados.blueADC:\n",
    "    adc_player[i]=0\n",
    "for i in dados.redADC:\n",
    "    adc_player[i]=0\n",
    "for k,v in  adc_player.items():\n",
    "    wins=len(dados[(dados.blueADC==k) & (dados.bResult==1)])+len(dados[(dados.redADC==k) & (dados.rResult==1)])\n",
    "    matchs=len(dados[dados.blueADC==k])+ len(dados[dados.redADC==k])      \n",
    "    if matchs!=0:\n",
    "        adc_player[k]=wins/matchs\n",
    "print(adc_player)"
   ]
  },
  {
   "cell_type": "code",
   "execution_count": null,
   "metadata": {},
   "outputs": [],
   "source": [
    "sup_player = {}\n",
    "for i in dados.blueSupport:\n",
    "    sup_player[i]=0\n",
    "for i in dados.redSupport:\n",
    "    sup_player[i]=0\n",
    "for k,v in  sup_player.items():\n",
    "    wins=len(dados[(dados.blueSupport==k) & (dados.bResult==1)])+len(dados[(dados.redSupport==k) & (dados.rResult==1)])\n",
    "    matchs=len(dados[dados.blueSupport==k])+ len(dados[dados.redSupport==k])      \n",
    "    if matchs!=0:\n",
    "        sup_player[k]=wins/matchs\n",
    "print(sup_player)"
   ]
  },
  {
   "cell_type": "code",
   "execution_count": null,
   "metadata": {},
   "outputs": [],
   "source": []
  }
 ],
 "metadata": {
  "kernelspec": {
   "display_name": "Python 3",
   "language": "python",
   "name": "python3"
  },
  "language_info": {
   "codemirror_mode": {
    "name": "ipython",
    "version": 3
   },
   "file_extension": ".py",
   "mimetype": "text/x-python",
   "name": "python",
   "nbconvert_exporter": "python",
   "pygments_lexer": "ipython3",
   "version": "3.7.1"
  }
 },
 "nbformat": 4,
 "nbformat_minor": 2
}
