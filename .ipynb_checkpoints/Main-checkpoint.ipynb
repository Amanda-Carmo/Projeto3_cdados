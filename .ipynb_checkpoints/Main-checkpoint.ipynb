{
 "cells": [
  {
   "cell_type": "code",
   "execution_count": 2,
   "metadata": {},
   "outputs": [],
   "source": [
    "%matplotlib inline\n",
    "import pandas as pd\n",
    "import matplotlib.pyplot as plt\n",
    "import numpy as np"
   ]
  },
  {
   "cell_type": "code",
   "execution_count": 3,
   "metadata": {},
   "outputs": [],
   "source": [
    "\n",
    "dados = pd.read_csv('matchinfo.csv')"
   ]
  },
  {
   "cell_type": "code",
   "execution_count": 4,
   "metadata": {},
   "outputs": [
    {
     "data": {
      "text/html": [
       "<div>\n",
       "<style scoped>\n",
       "    .dataframe tbody tr th:only-of-type {\n",
       "        vertical-align: middle;\n",
       "    }\n",
       "\n",
       "    .dataframe tbody tr th {\n",
       "        vertical-align: top;\n",
       "    }\n",
       "\n",
       "    .dataframe thead th {\n",
       "        text-align: right;\n",
       "    }\n",
       "</style>\n",
       "<table border=\"1\" class=\"dataframe\">\n",
       "  <thead>\n",
       "    <tr style=\"text-align: right;\">\n",
       "      <th></th>\n",
       "      <th>League</th>\n",
       "      <th>Year</th>\n",
       "      <th>Season</th>\n",
       "      <th>Type</th>\n",
       "      <th>blueTeamTag</th>\n",
       "      <th>bResult</th>\n",
       "      <th>rResult</th>\n",
       "      <th>redTeamTag</th>\n",
       "      <th>gamelength</th>\n",
       "      <th>blueTop</th>\n",
       "      <th>...</th>\n",
       "      <th>redTopChamp</th>\n",
       "      <th>redJungle</th>\n",
       "      <th>redJungleChamp</th>\n",
       "      <th>redMiddle</th>\n",
       "      <th>redMiddleChamp</th>\n",
       "      <th>redADC</th>\n",
       "      <th>redADCChamp</th>\n",
       "      <th>redSupport</th>\n",
       "      <th>redSupportChamp</th>\n",
       "      <th>Address</th>\n",
       "    </tr>\n",
       "  </thead>\n",
       "  <tbody>\n",
       "    <tr>\n",
       "      <th>0</th>\n",
       "      <td>NALCS</td>\n",
       "      <td>2015</td>\n",
       "      <td>Spring</td>\n",
       "      <td>Season</td>\n",
       "      <td>TSM</td>\n",
       "      <td>1</td>\n",
       "      <td>0</td>\n",
       "      <td>C9</td>\n",
       "      <td>40</td>\n",
       "      <td>Dyrus</td>\n",
       "      <td>...</td>\n",
       "      <td>Gnar</td>\n",
       "      <td>Meteos</td>\n",
       "      <td>Elise</td>\n",
       "      <td>Hai</td>\n",
       "      <td>Fizz</td>\n",
       "      <td>Sneaky</td>\n",
       "      <td>Sivir</td>\n",
       "      <td>LemonNation</td>\n",
       "      <td>Thresh</td>\n",
       "      <td>http://matchhistory.na.leagueoflegends.com/en/...</td>\n",
       "    </tr>\n",
       "  </tbody>\n",
       "</table>\n",
       "<p>1 rows × 30 columns</p>\n",
       "</div>"
      ],
      "text/plain": [
       "  League  Year  Season    Type blueTeamTag  bResult  rResult redTeamTag  \\\n",
       "0  NALCS  2015  Spring  Season         TSM        1        0         C9   \n",
       "\n",
       "   gamelength blueTop                        ...                          \\\n",
       "0          40   Dyrus                        ...                           \n",
       "\n",
       "  redTopChamp redJungle redJungleChamp redMiddle redMiddleChamp  redADC  \\\n",
       "0        Gnar    Meteos          Elise       Hai           Fizz  Sneaky   \n",
       "\n",
       "  redADCChamp   redSupport redSupportChamp  \\\n",
       "0       Sivir  LemonNation          Thresh   \n",
       "\n",
       "                                             Address  \n",
       "0  http://matchhistory.na.leagueoflegends.com/en/...  \n",
       "\n",
       "[1 rows x 30 columns]"
      ]
     },
     "execution_count": 4,
     "metadata": {},
     "output_type": "execute_result"
    }
   ],
   "source": [
    "dados.head(1)"
   ]
  },
  {
   "cell_type": "code",
   "execution_count": 5,
   "metadata": {},
   "outputs": [
    {
     "data": {
      "text/plain": [
       "Index(['League', 'Year', 'Season', 'Type', 'blueTeamTag', 'bResult', 'rResult',\n",
       "       'redTeamTag', 'gamelength', 'blueTop', 'blueTopChamp', 'blueJungle',\n",
       "       'blueJungleChamp', 'blueMiddle', 'blueMiddleChamp', 'blueADC',\n",
       "       'blueADCChamp', 'blueSupport', 'blueSupportChamp', 'redTop',\n",
       "       'redTopChamp', 'redJungle', 'redJungleChamp', 'redMiddle',\n",
       "       'redMiddleChamp', 'redADC', 'redADCChamp', 'redSupport',\n",
       "       'redSupportChamp', 'Address'],\n",
       "      dtype='object')"
      ]
     },
     "execution_count": 5,
     "metadata": {},
     "output_type": "execute_result"
    }
   ],
   "source": [
    "dados.columns"
   ]
  },
  {
   "cell_type": "code",
   "execution_count": null,
   "metadata": {},
   "outputs": [],
   "source": []
  },
  {
   "cell_type": "code",
   "execution_count": 6,
   "metadata": {},
   "outputs": [
    {
     "name": "stdout",
     "output_type": "stream",
     "text": [
      "{'TSM': 0.6509433962264151, 'CST': 0.375, 'WFX': 0.36363636363636365, 'TIP': 0.5, 'CLG': 0.559322033898305, 'DIG': 0.4388888888888889, 'TL': 0.47509578544061304, 'C9': 0.5836065573770491, 'T8': 0.44680851063829785, 'GV': 0.52, 'TDK': 0.2903225806451613, 'NME': 0.24, 'REN': 0.4090909090909091, 'FOX': 0.34375, 'IMT': 0.6197916666666666, 'NRG': 0.3188405797101449, 'NV': 0.4069264069264069, 'APX': 0.4716981132075472, 'P1': 0.463855421686747, 'FLY': 0.45045045045045046, 'EL': 0.37037037037037035, 'GIA': 0.41361256544502617, 'CW': 0.3617021276595745, 'SK': 0.5, 'GMB': 0.5555555555555556, 'MYM': 0.2631578947368421, 'ROC': 0.42021276595744683, 'FNC': 0.5765124555160143, 'UOL': 0.5095785440613027, 'H2K': 0.6124031007751938, 'OG': 0.4382716049382716, 'SPY': 0.5096774193548387, 'VIT': 0.4426229508196721, 'G2': 0.6327433628318584, 'S04': 0.43548387096774194, 'MSF': 0.5181818181818182, 'NIP': 0.28205128205128205, 'MM': 0.19444444444444445, 'CJE': 0.4528301886792453, 'JAG': 0.47735191637630664, 'SKT': 0.7121588089330024, 'GET': 0.7105263157894737, 'NJE': 0.4745762711864407, 'IM': 0.2702702702702703, 'SSG': 0.562111801242236, 'kt': 0.6058631921824105, 'ANC': 0.38, 'SBENU': 0.0, 'Longzhu': 0.6666666666666666, 'SSB': 0.27722772277227725, 'KOO': 0.6176470588235294, 'LZ': 0.48484848484848486, 'NJF': 0.52, 'CJ': 0.40816326530612246, 'AFs': 0.5, 'EMF': 0.16666666666666666, 'ROX': 0.5311355311355311, 'KDM': 0.36885245901639346, 'ESC': 0.43478260869565216, 'MVP': 0.4105960264900662, 'bbq': 0.37272727272727274, 'EEW': 0.32727272727272727, 'ahq': 0.7741935483870968, 'Crew': 0.0, 'TPA': 0.4883720930232558, 'LOG': 0.35714285714285715, 'DLY': 0.5, 'MSE': 0.38613861386138615, 'NGU': 0.23076923076923078, 'DoR': 0.0, 'HKES': 0.6470588235294118, 'yoeFW': 0.8, nan: 0, 'LGS': 0.21428571428571427, 'as': 0.0, 'HKE': 0.5034965034965035, 'FW': 0.6762295081967213, 'Mac': 0.35714285714285715, 'AS': 0.25925925925925924, 'M17': 0.4782608695652174, 'CGE': 0.03225806451612903, 'XG': 0.2608695652173913, 'JT': 0.6228070175438597, 'TM': 0.28703703703703703, 'FB': 0.43333333333333335, 'WS': 0.35714285714285715, 'RG': 0.5405405405405406, 'HKA': 0.5, 'AHQ': 0.45901639344262296, 'PNG': 0.5393258426966292, 'ITZ': 0.6333333333333333, 'CNB': 0.4142857142857143, 'OPK': 0.3877551020408163, 'VFK': 0.5945945945945946, 'KBM': 0.3620689655172414, 'RED': 0.5888888888888889, 'g3x': 0.3125, 'BGG': 0.3125, 'KST': 0.5454545454545454, 'REM': 0.21428571428571427, 'TSW': 0.0, 'PRG': 0.5789473684210527, 'ONE': 0.6071428571428571, 'BJK': 0.5471698113207547, 'TT': 0.43617021276595747, 'A': 0.36363636363636365, 'ZONE': 0.14285714285714285, 'HWA': 0.5384615384615384, 'NR1': 0.28846153846153844, 'DP': 0.5260115606936416, 'BPI': 0.2857142857142857, 'OHM': 0.4, 'CREW': 0.14285714285714285, 'SUP': 0.6558441558441559, 'AUR': 0.5692307692307692, 'CLK': 0.2571428571428571, 'CRW': 0.5315315315315315, 'GS': 0.2857142857142857, 'GAL': 0.38235294117647056, 'P3P': 0.47058823529411764, 'INF': 0.46987951807228917, 'DW': 0.6370967741935484, 'LGC': 0.6875, 'SIN': 0.49264705882352944, 'TRI': 0.4166666666666667, 'CHF': 0.6717557251908397, 'HLN': 0.16279069767441862, 'AV': 0.48739495798319327, 'AE': 0.36, 'X5': 0.09090909090909091, 'RGC': 0.22727272727272727, 'ISG': 0.6307692307692307, 'HAF': 0.391304347826087, 'FG': 0.5633802816901409, 'RBT': 0.42, 'LK': 0.5490196078431373, 'KLG': 0.52, 'B2K': 0.25, 'PDS': 0.5079365079365079, 'IFG': 0.07407407407407407, 'JTH': 0.4794520547945205, 'LYN': 0.8933333333333333, 'D9': 0.5087719298245614, 'ZTG': 0.3103448275862069, 'GG': 0.46296296296296297, 'SCW': 0.10714285714285714, '7h': 0.44594594594594594, 'USG': 0.5925925925925926, 'DFM': 0.7974683544303798, 'RPG': 0.654320987654321, 'CRJ': 0.3181818181818182, 'BE': 0.047619047619047616, 'SZ': 0.19047619047619047, 'RJ': 0.34, 'BC': 0.13043478260869565, 'HR': 0.85, 'DF': 0.07142857142857142, 'VEG': 0.5111111111111111, 'JST': 0.3103448275862069, 'VS': 0.4794520547945205, 'EMP': 0.4, 'ANX': 0.71875, 'M19': 0.46938775510204084, 'VP': 0.5555555555555556, 'JSA': 0.45454545454545453, 'EDG': 0.509090909090909, 'SSW': 0.8823529411764706, 'SHR': 0.6, 'LMQ': 0.3333333333333333, 'NWS': 0.5, 'OMG': 0.5, 'ALL': 0.5, 'IG': 0.3333333333333333, 'BKT': 0.0, 'KT': 0.6363636363636364, 'LGD': 0.25, 'RNG': 0.6041666666666666, 'GAM': 0.4166666666666667, 'WE': 0.5581395348837209, 'QG': 0.5, 'H2k': 0.5, 'INTZ': 0.0, 'JTM': 0.5, 'GlA': 0.2, 'MSK': 0.0, 'ASC': 0.0, '100': 0.75, 'CG': 0.3333333333333333, 'KZ': 0.75, 'KSV': 0.6666666666666666, 'ORD': 1.0, 'TTC': 0.0, 'BMR': 0.0, 'MAD': 0.2, 'VK': 0.5, 'YC': 0.2, 'OPT': 0.25, 'GGS': 0.0, 'CA': 0.6428571428571429, 'EG': 1.0, 'COL': 0.4, 'F5': 0.5384615384615384, 'ZEN': 0.0, 'CLB': 0.0, 'COW': 0.4, 'MKZ': 0.3333333333333333, 'PRO': 0.5, 'FIS': 0.0, 'NTR': 0.0, 'FSN': 0.47619047619047616, 'SKP': 0.2857142857142857, 'MIL': 0.38461538461538464, 'MC': 0.6666666666666666, 'CF': 0.0, 'TS': 0.0, 'TRC': 0.3333333333333333, 'FAC': 0.3333333333333333, 'SPA': 0.0, 'DD': 0.5, 'MOU': 0.0, 'IMG': 0.25, 'TLA': 0.4, 'C9C': 1.0, 'GCU': 0.4090909090909091, 'EUN': 0.29411764705882354, 'HMA': 0.25, 'FNA': 0.6666666666666666, 'MFA': 0.75, 'Winners': 0.2, 'Prime': 0.4, 'Xenics': 0.2, 'EVR': 0.25, 'SBK': 0.25, 'FH': 1.0, 'WOR': 0.25, 'NH': 0.25, 'TY': 0.2857142857142857, '17A': 0.3333333333333333, 'AF': 0.6, 'DH': 0.5, 'AFR': 0.2, 'GRX': 1.0, 'RBE': 0.8, 'CWA': 0.0, 'TPB': 0.25, 'LGT': 0.5, 'UC': 0.0}\n"
     ]
    }
   ],
   "source": [
    "team={}\n",
    "for i in dados.blueTeamTag:\n",
    "    team[i]=0\n",
    "for i in dados.redTeamTag:\n",
    "    team[i]=0\n",
    "for k,v in team.items():\n",
    "    wins=len(dados[(dados.blueTeamTag==k) & (dados.bResult==1)])+len(dados[(dados.redTeamTag==k) & (dados.rResult==1)])\n",
    "    matchs=len(dados[dados.blueTeamTag==k])+ len(dados[dados.redTeamTag==k])\n",
    "    if matchs!=0:\n",
    "        team[k]=wins/matchs\n",
    "print (team)"
   ]
  },
  {
   "cell_type": "code",
   "execution_count": 7,
   "metadata": {},
   "outputs": [
    {
     "name": "stdout",
     "output_type": "stream",
     "text": [
      "{'Irelia': 0.4966139954853273, 'Gnar': 0.5, 'Renekton': 0.4597156398104265, 'Kassadin': 0.5555555555555556, 'Sion': 0.5454545454545454, 'Jax': 0.4807692307692308, 'Lulu': 0.45054945054945056, 'Maokai': 0.5125951962507322, 'Rumble': 0.5050136736554239, 'Lissandra': 0.48066298342541436, 'RekSai': 0.25, 'Fizz': 0.5436893203883495, 'Morgana': 0.5263157894736842, 'Kennen': 0.4336569579288026, 'Gragas': 0.45701357466063347, 'DrMundo': 0.27586206896551724, 'Vladimir': 0.43529411764705883, 'Hecarim': 0.4600760456273764, 'Ryze': 0.5, 'Ekko': 0.5184331797235023, 'Shen': 0.4964314036478985, 'Nautilus': 0.5012562814070352, 'Khazix': 0.3333333333333333, 'Riven': 0.5, 'Olaf': 0.4473684210526316, 'Shyvana': 0.47368421052631576, 'Yasuo': 0.5517241379310345, 'Malphite': 0.47619047619047616, 'Fiora': 0.5009416195856874, 'TahmKench': 0.5471698113207547, 'Poppy': 0.4883116883116883, 'Gangplank': 0.52, 'Graves': 0.47540983606557374, 'Quinn': 0.5, 'Trundle': 0.5252679938744257, 'Pantheon': 0.75, 'Rammus': 0.6078431372549019, 'Swain': 0.4578313253012048, 'JarvanIV': 0.5522388059701493, 'Illaoi': 0.5135135135135135, 'Lucian': 0.64, 'Jayce': 0.48638132295719844, 'Camille': 0.5813953488372093, 'Singed': 0.5806451612903226, 'Kled': 0.5220883534136547, 'Galio': 0.44171779141104295, 'Chogath': 0.5294117647058824, 'Nasus': 0.375, 'Cassiopeia': 0.5217391304347826, 'Azir': 0.6666666666666666, 'Yorick': 0.25, 'Diana': 0.0, 'Nocturne': 1.0, 'LeeSin': 0.2, 'Zac': 0.42857142857142855, 'Taliyah': 0.6666666666666666, 'Malzahar': 0.8, 'Akali': 0.36363636363636365, 'Teemo': 0.0, 'Bard': 0.0, 'Nidalee': 0.38461538461538464, 'Nunu': 1.0, 'Rengar': 0.16666666666666666, 'Sejuani': 0.5294117647058824, 'Mordekaiser': 0.3333333333333333, 'Varus': 0.0, 'Kayle': 0.43478260869565216, 'Darius': 0.5102040816326531, 'Zed': 0.75, 'XinZhao': 1.0, 'Blitzcrank': 0.0, 'Talon': 0.25, 'Urgot': 0.5714285714285714, 'Alistar': 0.6, 'Warwick': 0.0, 'Ornn': 0.6181818181818182, 'Karma': 0.6666666666666666, 'Katarina': 0.0, 'Aatrox': 0.3333333333333333, 'Shaco': 1.0, 'Heimerdinger': 0.0, 'Ashe': 0.0, 'MasterYi': 0.0, 'Tryndamere': 1.0, 'MonkeyKing': 0.0, 'Kayn': 0.0, 'Viktor': 1.0, 'Annie': 0.0}\n"
     ]
    }
   ],
   "source": [
    "top = {}\n",
    "for i in dados.blueTopChamp:\n",
    "    top[i]=0\n",
    "for i in dados.redTopChamp:\n",
    "    top[i]=0\n",
    "for k,v in  top.items():\n",
    "    wins=len(dados[(dados.blueTopChamp==k) & (dados.bResult==1)])+len(dados[(dados.redTopChamp==k) & (dados.rResult==1)])\n",
    "    matchs=len(dados[dados.blueTopChamp==k])+ len(dados[dados.redTopChamp==k])      \n",
    "    if matchs!=0:\n",
    "        top[k]=wins/matchs\n",
    "print(top)"
   ]
  },
  {
   "cell_type": "code",
   "execution_count": 13,
   "metadata": {},
   "outputs": [
    {
     "name": "stdout",
     "output_type": "stream",
     "text": [
      "{'RekSai': 0.48406546080964685, 'Rengar': 0.5221674876847291, 'JarvanIV': 0.4847605224963715, 'Nocturne': 0.4827586206896552, 'Vi': 0.5443037974683544, 'LeeSin': 0.4710344827586207, 'Nidalee': 0.5403973509933775, 'Sejuani': 0.503584229390681, 'Gragas': 0.5386819484240688, 'Zac': 0.5924657534246576, 'Nunu': 0.5241379310344828, 'Evelynn': 0.40350877192982454, 'Ekko': 0.46601941747572817, 'XinZhao': 0.5714285714285714, 'Nautilus': 0.3333333333333333, 'Shyvana': 0.32, 'Elise': 0.5053398058252427, 'Amumu': 0.2857142857142857, 'Khazix': 0.5102239532619279, 'Kindred': 0.4362745098039216, 'Graves': 0.4721254355400697, 'Poppy': 0.56, 'Udyr': 0.4583333333333333, 'Olaf': 0.49050632911392406, 'Hecarim': 0.4720496894409938, 'Mordekaiser': 1.0, 'Ivern': 0.5521739130434783, 'Warwick': 0.52, 'Shaco': 0.3333333333333333, 'Maokai': 0.4794520547945205, 'Kayn': 0.4375, 'Chogath': 0.5116279069767442, 'Rumble': 0.4146341463414634, 'Camille': 0.4, 'Draven': 1.0, 'Malphite': 0.0, 'Fiddlesticks': 0.0, 'Bard': 0.6666666666666666, 'Sion': 0.5, 'Pantheon': 0.37037037037037035, 'Fizz': 0.16666666666666666, 'Trundle': 0.4, 'Skarner': 0.47058823529411764, 'Jax': 0.7058823529411765, 'DrMundo': 0.5263157894736842, 'Syndra': 0.0, 'Darius': 0.0, 'Illaoi': 0.0, 'Kassadin': 0.0, 'Shen': 1.0, 'Rammus': 0.6666666666666666, 'Leblanc': 0.0, 'Lulu': 0.5, 'Alistar': 1.0, 'Ezreal': 0.3333333333333333, 'FiddleSticks': 0.5, 'Karthus': 0.5, 'Aatrox': 1.0, 'Volibear': 0.0, 'MonkeyKing': 0.6666666666666666, 'Gnar': 1.0, 'Quinn': 1.0, 'MasterYi': 0.0, 'Jayce': 0.5, 'Galio': 0.0, 'Malzahar': 1.0, 'Rakan': 0.0, 'MissFortune': 0.0, 'Karma': 0.0, 'Riven': 1.0}\n"
     ]
    }
   ],
   "source": [
    "jg = {}\n",
    "for i in dados.blueJungleChamp:\n",
    "    jg[i]=0\n",
    "for i in dados.redJungleChamp:\n",
    "    jg[i]=0\n",
    "for k,v in  jg.items():\n",
    "    wins=len(dados[(dados.blueJungleChamp==k) & (dados.bResult==1)])+len(dados[(dados.redJungleChamp==k) & (dados.rResult==1)])\n",
    "    matchs=len(dados[dados.blueJungleChamp==k])+ len(dados[dados.redJungleChamp==k])      \n",
    "    if matchs!=0:\n",
    "        jg[k]=wins/matchs\n",
    "print(jg)"
   ]
  },
  {
   "cell_type": "code",
   "execution_count": 8,
   "metadata": {},
   "outputs": [
    {
     "name": "stdout",
     "output_type": "stream",
     "text": [
      "{'Ahri': 0.5036818851251841, 'Fizz': 0.544, 'Leblanc': 0.5106382978723404, 'Lissandra': 0.5125628140703518, 'Xerath': 0.4485294117647059, 'Azir': 0.5475923852183651, 'Orianna': 0.4786910197869102, 'Kassadin': 0.4961439588688946, 'Zed': 0.5742857142857143, 'Corki': 0.483402489626556, 'Ezreal': 0.45588235294117646, 'Lulu': 0.4784688995215311, 'Syndra': 0.5258358662613982, 'Viktor': 0.4440816326530612, 'Karthus': 0.475, 'Kennen': 0.6, 'Chogath': 0.4222222222222222, 'Cassiopeia': 0.5267260579064588, 'Yasuo': 0.48, 'Rumble': 0.0, 'Diana': 0.5844155844155844, 'Vladimir': 0.4816849816849817, 'JarvanIV': 0.6153846153846154, 'KogMaw': 0.6304347826086957, 'Ziggs': 0.4838709677419355, 'Varus': 0.5172413793103449, 'Ekko': 0.43119266055045874, 'TwistedFate': 0.5098684210526315, 'Jayce': 0.4308176100628931, 'Urgot': 0.38461538461538464, 'Nidalee': 0.8571428571428571, 'Velkoz': 0.5, 'Anivia': 0.4961832061068702, 'Ryze': 0.5049928673323824, 'Lux': 0.4148936170212766, 'Zilean': 0.5476190476190477, 'Gangplank': 0.4823529411764706, 'Karma': 0.4375, 'Swain': 0.5294117647058824, 'Taliyah': 0.5258855585831063, 'Malzahar': 0.5933609958506224, 'Pantheon': 0.16666666666666666, 'AurelionSol': 0.6428571428571429, 'Katarina': 0.3620689655172414, 'Talon': 0.4803921568627451, 'Galio': 0.5116279069767442, 'Fiora': 0.5, 'Lucian': 0.46621621621621623, 'Irelia': 0.6666666666666666, 'Morgana': 0.45161290322580644, 'Quinn': 0.6666666666666666, 'Mordekaiser': 0.5, 'Kayle': 0.2727272727272727, 'Kayn': 0.5, 'Nunu': 1.0, 'Heimerdinger': 0.75, 'MasterYi': 0.6666666666666666, 'Riven': 0.3333333333333333, 'Nautilus': 0.5555555555555556, 'Veigar': 0.36363636363636365, 'Graves': 0.3333333333333333, 'Camille': 0.6666666666666666, 'Teemo': 1.0, 'LeeSin': 0.0, 'Elise': 0.0, 'Jhin': 0.42857142857142855, 'Kindred': 0.5, 'Zoe': 0.5833333333333334, 'Tristana': 1.0, 'Draven': 0.0, 'Akali': 1.0, 'Malphite': 0.5, 'Hecarim': 0.75, 'Brand': 0.0, 'Nasus': 0.5, 'Twitch': 1.0, 'Sion': 1.0, 'Nocturne': 1.0, 'Zyra': 0.0, 'Alistar': 1.0, 'Thresh': 0.0, 'Gragas': 0.0, 'Renekton': 0.0, 'Olaf': 1.0, 'Fiddlesticks': 0.3333333333333333, 'Sona': 0.0}\n"
     ]
    }
   ],
   "source": [
    "mid = {}\n",
    "for i in dados.blueMiddleChamp:\n",
    "    mid[i]=0\n",
    "for i in dados.redMiddleChamp:\n",
    "    mid[i]=0\n",
    "for k,v in  mid.items():\n",
    "    wins=len(dados[(dados.blueMiddleChamp==k) & (dados.bResult==1)])+len(dados[(dados.redMiddleChamp==k) & (dados.rResult==1)])\n",
    "    matchs=len(dados[dados.blueMiddleChamp==k])+ len(dados[dados.redMiddleChamp==k])      \n",
    "    if matchs!=0:\n",
    "        mid[k]=wins/matchs\n",
    "print(mid)"
   ]
  },
  {
   "cell_type": "code",
   "execution_count": 14,
   "metadata": {},
   "outputs": [
    {
     "name": "stdout",
     "output_type": "stream",
     "text": [
      "{'Jinx': 0.46825396825396826, 'Caitlyn': 0.4982363315696649, 'Sivir': 0.5249702734839476, 'Tristana': 0.49765258215962443, 'Corki': 0.4948717948717949, 'KogMaw': 0.4618249534450652, 'Graves': 0.4878048780487805, 'Kalista': 0.5460122699386503, 'Vayne': 0.4786729857819905, 'Draven': 0.4838709677419355, 'Lucian': 0.47398119122257054, 'Twitch': 0.5607843137254902, 'Ashe': 0.5051020408163265, 'Urgot': 0.5616438356164384, 'Ezreal': 0.4827850038255547, 'Varus': 0.4884437596302003, 'MissFortune': 0.4235294117647059, 'Jhin': 0.508400292184076, 'Ziggs': 0.45614035087719296, 'Mordekaiser': 0.75, 'Xayah': 0.48863636363636365, 'Kennen': 0.48148148148148145, 'Heimerdinger': 1.0, 'Blitzcrank': 0.0, 'Irelia': 1.0, 'Alistar': 1.0, 'Viktor': 0.0, 'Karma': 0.0, 'Quinn': 0.5, 'Janna': 0.0, 'Kindred': 0.5, 'Jayce': 0.0, 'Lulu': 0.0, 'Karthus': 1.0, 'Thresh': 0.0, 'Nunu': 1.0, 'Teemo': 0.0, 'Kled': 0.0, 'Taliyah': 0.0}\n"
     ]
    }
   ],
   "source": [
    "adc = {}\n",
    "for i in dados.blueADCChamp:\n",
    "    adc[i]=0\n",
    "for i in dados.redADCChamp:\n",
    "    adc[i]=0\n",
    "for k,v in  adc.items():\n",
    "    wins=len(dados[(dados.blueADCChamp==k) & (dados.bResult==1)])+len(dados[(dados.redADCChamp==k) & (dados.rResult==1)])\n",
    "    matchs=len(dados[dados.blueADCChamp==k])+ len(dados[dados.redADCChamp==k])      \n",
    "    if matchs!=0:\n",
    "        adc[k]=wins/matchs\n",
    "print(adc)"
   ]
  },
  {
   "cell_type": "code",
   "execution_count": 15,
   "metadata": {},
   "outputs": [
    {
     "name": "stdout",
     "output_type": "stream",
     "text": [
      "{'Janna': 0.5338691159586682, 'Leona': 0.46060606060606063, 'Annie': 0.5302491103202847, 'Thresh': 0.5231650182196772, 'Nami': 0.4638364779874214, 'Morgana': 0.5342205323193916, 'Alistar': 0.48982109808760027, 'Braum': 0.4836879432624113, 'Veigar': 0.631578947368421, 'Lulu': 0.4671916010498688, 'Nautilus': 0.47246376811594204, 'Bard': 0.5316265060240963, 'Karma': 0.46452084857351866, 'Shen': 0.5584415584415584, 'Kennen': 0.5555555555555556, 'Soraka': 0.5205479452054794, 'Trundle': 0.51931330472103, 'Zyra': 0.49657064471879286, 'Taric': 0.5071428571428571, 'Sona': 0.3877551020408163, 'TahmKench': 0.5070028011204482, 'Malzahar': 0.5794871794871795, 'MissFortune': 0.47333333333333333, 'Zilean': 0.38461538461538464, 'Camille': 0.48, 'Blitzcrank': 0.5714285714285714, 'Maokai': 0.42857142857142855, 'Rakan': 0.4869109947643979, 'Sejuani': 0.2, 'Galio': 0.5, 'Poppy': 0.41304347826086957, 'Sion': 0.25, 'Fiddlesticks': 0.2, 'Brand': 0.5272727272727272, 'Gragas': 0.5555555555555556, 'LeeSin': 0.6666666666666666, 'Garen': 0.0, 'Irelia': 0.0, 'Nunu': 0.0, 'Lissandra': 0.2, 'Velkoz': 0.75, 'Kayle': 0.0, 'Elise': 0.75, 'Lux': 0.6666666666666666, 'Syndra': 0.5, 'Taliyah': 0.0, 'Cassiopeia': 1.0, 'Kalista': 0.5, 'Ahri': 0.0, 'Malphite': 0.3333333333333333, 'Ashe': 0.6666666666666666, 'Zac': 1.0, 'Evelynn': 0.0, 'Ornn': 0.5, 'DrMundo': 0.0, 'Kled': 0.0, 'Vayne': 1.0, 'TwistedFate': 0.0, 'Ziggs': 0.5, 'Ivern': 0.0, 'Jinx': 0.0, 'Udyr': 1.0, 'Rengar': 1.0}\n"
     ]
    }
   ],
   "source": [
    "sup = {}\n",
    "for i in dados.blueSupportChamp:\n",
    "    sup[i]=0\n",
    "for i in dados.redSupportChamp:\n",
    "    sup[i]=0\n",
    "for k,v in  sup.items():\n",
    "    wins=len(dados[(dados.blueSupportChamp==k) & (dados.bResult==1)])+len(dados[(dados.redSupportChamp==k) & (dados.rResult==1)])\n",
    "    matchs=len(dados[dados.blueSupportChamp==k])+ len(dados[dados.redSupportChamp==k])      \n",
    "    if matchs!=0:\n",
    "        sup[k]=wins/matchs\n",
    "print(sup)"
   ]
  },
  {
   "cell_type": "code",
   "execution_count": null,
   "metadata": {},
   "outputs": [],
   "source": []
  }
 ],
 "metadata": {
  "kernelspec": {
   "display_name": "Python 3",
   "language": "python",
   "name": "python3"
  },
  "language_info": {
   "codemirror_mode": {
    "name": "ipython",
    "version": 3
   },
   "file_extension": ".py",
   "mimetype": "text/x-python",
   "name": "python",
   "nbconvert_exporter": "python",
   "pygments_lexer": "ipython3",
   "version": "3.7.1"
  }
 },
 "nbformat": 4,
 "nbformat_minor": 2
}
