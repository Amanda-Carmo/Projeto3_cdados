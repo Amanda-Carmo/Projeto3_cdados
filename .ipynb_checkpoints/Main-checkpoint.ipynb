{
 "cells": [
  {
   "cell_type": "code",
   "execution_count": 2,
   "metadata": {},
   "outputs": [],
   "source": [
    "%matplotlib inline\n",
    "import pandas as pd\n",
    "import matplotlib.pyplot as plt\n",
    "import numpy as np"
   ]
  },
  {
   "cell_type": "code",
   "execution_count": 3,
   "metadata": {},
   "outputs": [],
   "source": [
    "dados = pd.read_excel('matchinfo-treinamento.xlsx')\n",
    "dados_testes = pd.read_excel('matchinfo-testes.xlsx')\n",
    "# dados = pd.read_csv('matchinfo.csv')"
   ]
  },
  {
   "cell_type": "code",
   "execution_count": 4,
   "metadata": {},
   "outputs": [
    {
     "data": {
      "text/html": [
       "<div>\n",
       "<style scoped>\n",
       "    .dataframe tbody tr th:only-of-type {\n",
       "        vertical-align: middle;\n",
       "    }\n",
       "\n",
       "    .dataframe tbody tr th {\n",
       "        vertical-align: top;\n",
       "    }\n",
       "\n",
       "    .dataframe thead th {\n",
       "        text-align: right;\n",
       "    }\n",
       "</style>\n",
       "<table border=\"1\" class=\"dataframe\">\n",
       "  <thead>\n",
       "    <tr style=\"text-align: right;\">\n",
       "      <th></th>\n",
       "      <th>League</th>\n",
       "      <th>Year</th>\n",
       "      <th>Season</th>\n",
       "      <th>Type</th>\n",
       "      <th>blueTeamTag</th>\n",
       "      <th>bResult</th>\n",
       "      <th>rResult</th>\n",
       "      <th>redTeamTag</th>\n",
       "      <th>gamelength</th>\n",
       "      <th>blueTop</th>\n",
       "      <th>...</th>\n",
       "      <th>redTopChamp</th>\n",
       "      <th>redJungle</th>\n",
       "      <th>redJungleChamp</th>\n",
       "      <th>redMiddle</th>\n",
       "      <th>redMiddleChamp</th>\n",
       "      <th>redADC</th>\n",
       "      <th>redADCChamp</th>\n",
       "      <th>redSupport</th>\n",
       "      <th>redSupportChamp</th>\n",
       "      <th>Address</th>\n",
       "    </tr>\n",
       "  </thead>\n",
       "  <tbody>\n",
       "    <tr>\n",
       "      <th>0</th>\n",
       "      <td>NALCS</td>\n",
       "      <td>2016</td>\n",
       "      <td>Spring</td>\n",
       "      <td>Season</td>\n",
       "      <td>TSM</td>\n",
       "      <td>0</td>\n",
       "      <td>1</td>\n",
       "      <td>REN</td>\n",
       "      <td>30</td>\n",
       "      <td>Hauntzer</td>\n",
       "      <td>...</td>\n",
       "      <td>Graves</td>\n",
       "      <td>Crumbz</td>\n",
       "      <td>Gragas</td>\n",
       "      <td>Ninja</td>\n",
       "      <td>Lissandra</td>\n",
       "      <td>Freeze</td>\n",
       "      <td>Caitlyn</td>\n",
       "      <td>Hakuho</td>\n",
       "      <td>Bard</td>\n",
       "      <td>http://matchhistory.na.leagueoflegends.com/en/...</td>\n",
       "    </tr>\n",
       "  </tbody>\n",
       "</table>\n",
       "<p>1 rows × 30 columns</p>\n",
       "</div>"
      ],
      "text/plain": [
       "  League  Year  Season    Type blueTeamTag  bResult  rResult redTeamTag  \\\n",
       "0  NALCS  2016  Spring  Season         TSM        0        1        REN   \n",
       "\n",
       "   gamelength   blueTop                        ...                          \\\n",
       "0          30  Hauntzer                        ...                           \n",
       "\n",
       "  redTopChamp redJungle redJungleChamp redMiddle redMiddleChamp  redADC  \\\n",
       "0      Graves    Crumbz         Gragas     Ninja      Lissandra  Freeze   \n",
       "\n",
       "  redADCChamp redSupport redSupportChamp  \\\n",
       "0     Caitlyn     Hakuho            Bard   \n",
       "\n",
       "                                             Address  \n",
       "0  http://matchhistory.na.leagueoflegends.com/en/...  \n",
       "\n",
       "[1 rows x 30 columns]"
      ]
     },
     "execution_count": 4,
     "metadata": {},
     "output_type": "execute_result"
    }
   ],
   "source": [
    "dados.head(1)"
   ]
  },
  {
   "cell_type": "code",
   "execution_count": 5,
   "metadata": {},
   "outputs": [
    {
     "data": {
      "text/plain": [
       "Index(['League', 'Year', 'Season', 'Type', 'blueTeamTag', 'bResult', 'rResult',\n",
       "       'redTeamTag', 'gamelength', 'blueTop', 'blueTopChamp', 'blueJungle',\n",
       "       'blueJungleChamp', 'blueMiddle', 'blueMiddleChamp', 'blueADC',\n",
       "       'blueADCChamp', 'blueSupport', 'blueSupportChamp', 'redTop',\n",
       "       'redTopChamp', 'redJungle', 'redJungleChamp', 'redMiddle',\n",
       "       'redMiddleChamp', 'redADC', 'redADCChamp', 'redSupport',\n",
       "       'redSupportChamp', 'Address'],\n",
       "      dtype='object')"
      ]
     },
     "execution_count": 5,
     "metadata": {},
     "output_type": "execute_result"
    }
   ],
   "source": [
    "dados.columns"
   ]
  },
  {
   "cell_type": "code",
   "execution_count": null,
   "metadata": {},
   "outputs": [],
   "source": []
  },
  {
   "cell_type": "code",
   "execution_count": 169,
   "metadata": {},
   "outputs": [
    {
     "name": "stdout",
     "output_type": "stream",
     "text": [
      "{'TSM': 0.64, 'BJK': 0.5301204819277109, 'NV': 0.3880597014925373, 'OG': 0.4552238805970149, 'SIN': 0.5045045045045045, 'G2': 0.6354166666666666, 'CGE': 0.041666666666666664, 'CLK': 0.23333333333333334, 'yoeFW': 0.7692307692307693, 'SSG': 0.572463768115942, 'FNC': 0.5523012552301255, 'DIG': 0.4266666666666667, 'C9': 0.5914396887159533, 'NJE': 0.5, 'kt': 0.6045627376425855, 'AF': 0.75, 'M19': 0.5111111111111111, 'T8': 0.43243243243243246, 'FOX': 0.34532374100719426, 'HKE': 0.48360655737704916, 'UOL': 0.5108225108225108, 'FLY': 0.46464646464646464, 'JST': 0.24, 'IMG': 0.25, 'SUP': 0.6691729323308271, 'P1': 0.460431654676259, 'GIA': 0.4107142857142857, 'SKT': 0.7105263157894737, 'VFK': 0.5757575757575758, 'MSF': 0.4948453608247423, 'IMT': 0.6415094339622641, 'CW': 0.3953488372093023, 'VIT': 0.44545454545454544, 'NR1': 0.2777777777777778, 'IM': 0.18181818181818182, 'H2K': 0.6211453744493393, 'XG': 0.2875, 'AUR': 0.5789473684210527, 'KOO': 0.6229508196721312, 'EMF': 0.13333333333333333, 'OHM': 0.47058823529411764, 'EEW': 0.3191489361702128, 'Longzhu': 0.75, 'ANC': 0.35, 'DFM': 0.7727272727272727, 'CLG': 0.5714285714285714, 'FW': 0.6878048780487804, 'TT': 0.4675324675324675, 'CRW': 0.5416666666666666, 'GET': 0.75, 'FB': 0.4186046511627907, 'ROC': 0.4155844155844156, 'ISG': 0.6153846153846154, 'CNB': 0.38181818181818183, 'APX': 0.4318181818181818, 'ITZ': 0.6463414634146342, 'SHR': 0.6111111111111112, 'bbq': 0.3595505617977528, 'LZ': 0.4873096446700508, 'HWA': 0.5634920634920635, 'JAG': 0.4915254237288136, 'TM': 0.2826086956521739, 'LGD': 0.3333333333333333, 'MSE': 0.367816091954023, 'SSB': 0.26373626373626374, 'WE': 0.6052631578947368, 'TIP': 0.5256410256410257, 'PNG': 0.5365853658536586, nan: 0, 'TL': 0.4908256880733945, 'M17': 0.4791666666666667, 'ANX': 0.68, 'KDM': 0.34615384615384615, 'CJE': 0.4411764705882353, 'RPG': 0.6285714285714286, 'Prime': 0.25, 'GV': 0.5121951219512195, 'TY': 0.2857142857142857, 'EDG': 0.5555555555555556, 'DF': 0.0, 'AV': 0.4897959183673469, 'ROX': 0.5219298245614035, 'JTH': 0.4827586206896552, 'LK': 0.5238095238095238, 'RG': 0.5303030303030303, 'RED': 0.5945945945945946, 'HKA': 0.425, 'JSA': 0.5833333333333334, 'SK': 0.5306122448979592, 'LYN': 0.8769230769230769, 'AFs': 0.483695652173913, 'RBT': 0.4523809523809524, 'KBM': 0.40816326530612246, 'NGU': 0.23076923076923078, 'ESC': 0.4375, 'D9': 0.5, 'DP': 0.4861111111111111, 'ahq': 0.7701863354037267, 'VS': 0.5161290322580645, 'KT': 0.5789473684210527, 'TTC': 0.0, 'NRG': 0.29508196721311475, 'LOG': 0.3076923076923077, 'DW': 0.6422018348623854, 'OMG': 0.5, 'ONE': 0.6086956521739131, 'F5': 0.5, 'AE': 0.3333333333333333, 'KST': 0.5135135135135135, 'OPT': 0.3333333333333333, 'LGC': 0.7, 'NJF': 0.5238095238095238, 'CJ': 0.4358974358974359, 'CHF': 0.6578947368421053, 'PDS': 0.52, 'KZ': 0.7142857142857143, 'CLB': 0.0, 'FG': 0.5666666666666667, 'RNG': 0.5609756097560976, 'OPK': 0.325, 'SPY': 0.5112781954887218, 'USG': 0.5942028985507246, 'INF': 0.4666666666666667, 'EUN': 0.3125, 'QG': 0.5, 'RJ': 0.3695652173913043, 'REN': 0.375, 'GCU': 0.42105263157894735, 'CRJ': 0.29411764705882354, 'P3P': 0.5333333333333333, 'VEG': 0.49333333333333335, 'KLG': 0.525, 'EL': 0.3617021276595745, 'ASC': 0.0, 'AHQ': 0.5102040816326531, 'REM': 0.23076923076923078, 'GS': 0.2857142857142857, 'FAC': 0.2727272727272727, 'HAF': 0.42857142857142855, 'TRI': 0.38095238095238093, 'CF': 0.0, 'ALL': 0.4, 'X5': 0.0625, 'NWS': 0.5, 'RGC': 0.23809523809523808, 'JT': 0.6138613861386139, 'MYM': 0.29411764705882354, 'HLN': 0.14285714285714285, 'S04': 0.4444444444444444, 'LMQ': 0.3333333333333333, 'A': 0.3103448275862069, 'MVP': 0.416, '7h': 0.4745762711864407, 'SBK': 0.25, 'ZTG': 0.3333333333333333, 'MIL': 0.3333333333333333, 'NIP': 0.29411764705882354, 'GAL': 0.39344262295081966, 'VP': 0.5476190476190477, 'SZ': 0.23529411764705882, 'SSW': 0.9166666666666666, 'PRG': 0.6153846153846154, 'GMB': 0.525, 'WS': 0.38596491228070173, 'LGS': 0.2, 'FNA': 0.6, 'BC': 0.15789473684210525, 'MFA': 0.75, 'WOR': 0.25, 'EMP': 0.39285714285714285, 'HKES': 0.625, 'MOU': 0.0, 'GG': 0.5111111111111111, 'NME': 0.22727272727272727, 'WFX': 0.42105263157894735, 'as': 0.0, 'g3x': 0.38461538461538464, 'CG': 0.25, 'TPA': 0.5217391304347826, 'YC': 0.2, 'B2K': 0.19047619047619047, 'Mac': 0.3076923076923077, 'IG': 0.25, 'CA': 0.6923076923076923, 'ZONE': 0.0, 'IFG': 0.08, 'BPI': 0.3333333333333333, 'BMR': 0.0, 'FSN': 0.47368421052631576, 'AS': 0.2608695652173913, 'TSW': 0.0, 'HR': 0.9333333333333333, 'MAD': 0.2, 'MM': 0.1875, 'GAM': 0.42857142857142855, 'COW': 0.4, 'SBENU': 0.0, 'HMA': 0.16666666666666666, 'DoR': 0.0, 'BE': 0.05263157894736842, 'BGG': 0.3333333333333333, 'SKP': 0.2857142857142857, 'CST': 0.3333333333333333, 'TDK': 0.2916666666666667, 'SCW': 0.11538461538461539, 'FIS': 0.0, 'H2k': 0.5, 'CREW': 0.18181818181818182, 'GlA': 0.2, 'JTM': 0.5, 'KSV': 0.75, 'MKZ': 0.3333333333333333, 'DH': 0.5, 'DLY': 0.5, 'Winners': 0.3333333333333333, 'TS': 0.0, 'ORD': 1.0, 'C9C': 1.0, 'MSK': 0.0, 'GRX': 1.0, 'NH': 0.3333333333333333, 'EVR': 0.3333333333333333, 'TRC': 0.3333333333333333, 'TLA': 0.4, 'VK': 0.6666666666666666, '17A': 0.2857142857142857, 'AFR': 0.2, 'BKT': 0.0, 100: 0.6666666666666666, 'PRO': 0.3333333333333333, 'GGS': 0.0, 'DD': 0.5, 'SPA': 0.0, 'RBE': 0.75, 'Crew': 0.0, 'NTR': 0.0, 'FH': 1.0, 'COL': 0.5, 'EG': 1.0, 'MC': 0.6666666666666666, 'INTZ': 0.0, 'LGT': 0.5, 'UC': 0.0, 'CWA': 0.0, 'Xenics': 0.3333333333333333, 'TPB': 0.25, 'ZEN': 0.0}\n"
     ]
    }
   ],
   "source": [
    "team={}\n",
    "for i in dados.blueTeamTag:\n",
    "    team[i]=0\n",
    "for i in dados.redTeamTag:\n",
    "    team[i]=0\n",
    "for k,v in team.items():\n",
    "    wins=len(dados[(dados.blueTeamTag==k) & (dados.bResult==1)])+len(dados[(dados.redTeamTag==k) & (dados.rResult==1)])\n",
    "    matchs=len(dados[dados.blueTeamTag==k])+ len(dados[dados.redTeamTag==k])\n",
    "    if matchs!=0:\n",
    "        team[k]=wins/matchs\n",
    "print (team)"
   ]
  },
  {
   "cell_type": "code",
   "execution_count": 170,
   "metadata": {},
   "outputs": [
    {
     "name": "stdout",
     "output_type": "stream",
     "text": [
      "{'Trundle': 0.5467625899280576, 'Gnar': 0.48685403445149594, 'Maokai': 0.5120109814687714, 'Rumble': 0.511400651465798, 'Renekton': 0.4548736462093863, 'Irelia': 0.5105263157894737, 'Lulu': 0.4675324675324675, 'Poppy': 0.4727272727272727, 'Riven': 0.5111111111111111, 'Malphite': 0.44715447154471544, 'Jayce': 0.48148148148148145, 'JarvanIV': 0.5411471321695761, 'Gragas': 0.45646437994722955, 'Shen': 0.5078196872125115, 'Kennen': 0.4448669201520912, 'Galio': 0.42857142857142855, 'Chogath': 0.527363184079602, 'Fiora': 0.4934210526315789, 'Olaf': 0.45588235294117646, 'Hecarim': 0.452914798206278, 'Swain': 0.44776119402985076, 'Nautilus': 0.49240121580547114, 'Camille': 0.5756676557863502, 'Kled': 0.5255813953488372, 'Fizz': 0.5257142857142857, 'Kassadin': 0.5333333333333333, 'Ekko': 0.5274725274725275, 'Illaoi': 0.5, 'Ryze': 0.5, 'Rammus': 0.6136363636363636, 'Morgana': 0.5, 'Graves': 0.49122807017543857, 'DrMundo': 0.2857142857142857, 'Darius': 0.5434782608695652, 'Jax': 0.46706586826347307, 'Quinn': 0.5116279069767442, 'Vladimir': 0.44285714285714284, 'Sion': 0.5555555555555556, 'Shyvana': 0.45714285714285713, 'Yasuo': 0.5652173913043478, 'Nasus': 0.375, 'Gangplank': 0.5344352617079889, 'TahmKench': 0.5567010309278351, 'Lissandra': 0.4900662251655629, 'Cassiopeia': 0.5, 'Ornn': 0.673469387755102, 'Alistar': 0.6666666666666666, 'Nidalee': 0.2222222222222222, 'Sejuani': 0.4666666666666667, 'Yorick': 0.14285714285714285, 'Azir': 0.75, 'Lucian': 0.7, 'Kayle': 0.42857142857142855, 'Nocturne': 1.0, 'Katarina': 0.0, 'Varus': 0.0, 'Teemo': 0.0, 'Singed': 0.6071428571428571, 'Talon': 0.3333333333333333, 'LeeSin': 0.0, 'Akali': 0.375, 'RekSai': 0.2857142857142857, 'Warwick': 0.0, 'Malzahar': 0.75, 'Rengar': 0.16666666666666666, 'Karma': 0.6666666666666666, 'Taliyah': 1.0, 'Zed': 0.6666666666666666, 'Bard': 0.0, 'Diana': 0.0, 'Pantheon': 0.75, 'Blitzcrank': 0.0, 'Khazix': 0.5, 'Mordekaiser': 0.3333333333333333, 'Zac': 0.75, 'Urgot': 0.6666666666666666, 'MasterYi': 0.0, 'XinZhao': 1.0, 'Aatrox': 0.3333333333333333, 'Heimerdinger': 0.0, 'Viktor': 1.0, 'Tryndamere': 1.0, 'Kayn': 0.0, 'MonkeyKing': 0.0, 'Shaco': 1.0, 'Ashe': 0.0, 'Annie': 0.0}\n"
     ]
    }
   ],
   "source": [
    "top = {}\n",
    "for i in dados.blueTopChamp:\n",
    "    top[i]=0\n",
    "for i in dados.redTopChamp:\n",
    "    top[i]=0\n",
    "for k,v in  top.items():\n",
    "    wins=len(dados[(dados.blueTopChamp==k) & (dados.bResult==1)])+len(dados[(dados.redTopChamp==k) & (dados.rResult==1)])\n",
    "    matchs=len(dados[dados.blueTopChamp==k])+ len(dados[dados.redTopChamp==k])      \n",
    "    if matchs!=0:\n",
    "        top[k]=wins/matchs\n",
    "print(top)"
   ]
  },
  {
   "cell_type": "code",
   "execution_count": 171,
   "metadata": {},
   "outputs": [
    {
     "name": "stdout",
     "output_type": "stream",
     "text": [
      "{'Elise': 0.5022727272727273, 'JarvanIV': 0.488013698630137, 'Nidalee': 0.5273010920436817, 'RekSai': 0.4894894894894895, 'Gragas': 0.5360536612632756, 'Hecarim': 0.4755244755244755, 'Kindred': 0.4579710144927536, 'Ivern': 0.5358851674641149, 'Khazix': 0.5119726339794755, 'Graves': 0.46424870466321244, 'LeeSin': 0.47002398081534774, 'Warwick': 0.5348837209302325, 'Evelynn': 0.4189189189189189, 'Zac': 0.5896414342629482, 'Olaf': 0.48880597014925375, 'Pantheon': 0.47619047619047616, 'Sejuani': 0.5186813186813187, 'Rengar': 0.52734375, 'Vi': 0.5416666666666666, 'Draven': 1.0, 'Rumble': 0.4411764705882353, 'Nunu': 0.49586776859504134, 'Maokai': 0.464, 'Rammus': 0.7777777777777778, 'Nocturne': 0.52, 'Ekko': 0.4666666666666667, 'Kayn': 0.46153846153846156, 'Sion': 0.3333333333333333, 'Syndra': 0.0, 'Shyvana': 0.30434782608695654, 'Chogath': 0.48717948717948717, 'Amumu': 0.2857142857142857, 'Nautilus': 0.3333333333333333, 'Udyr': 0.4375, 'Ezreal': 0.0, 'Skarner': 0.5, 'Trundle': 0.4, 'Bard': 0.6666666666666666, 'Camille': 0.42857142857142855, 'Jax': 0.6428571428571429, 'XinZhao': 0.6666666666666666, 'Malphite': 0.0, 'DrMundo': 0.5, 'Shaco': 0.25, 'Karthus': 0.5, 'Poppy': 0.5909090909090909, 'FiddleSticks': 0.5, 'Lulu': 0.4, 'Darius': 0.0, 'Fiddlesticks': 0.0, 'Illaoi': 0.0, 'Kassadin': 0.0, 'Fizz': 0.25, 'Shen': 1.0, 'MasterYi': 0.0, 'MonkeyKing': 0.6666666666666666, 'Galio': 0.0, 'Volibear': 0.0, 'Gnar': 1.0, 'Aatrox': 1.0, 'Malzahar': 1.0, 'Quinn': 1.0, 'Jayce': 0.5, 'MissFortune': 0.0, 'Riven': 1.0, 'Rakan': 0.0, 'Karma': 0.0}\n"
     ]
    }
   ],
   "source": [
    "jg = {}\n",
    "for i in dados.blueJungleChamp:\n",
    "    jg[i]=0\n",
    "for i in dados.redJungleChamp:\n",
    "    jg[i]=0\n",
    "for k,v in  jg.items():\n",
    "    wins=len(dados[(dados.blueJungleChamp==k) & (dados.bResult==1)])+len(dados[(dados.redJungleChamp==k) & (dados.rResult==1)])\n",
    "    matchs=len(dados[dados.blueJungleChamp==k])+ len(dados[dados.redJungleChamp==k])      \n",
    "    if matchs!=0:\n",
    "        jg[k]=wins/matchs\n",
    "print(jg)"
   ]
  },
  {
   "cell_type": "code",
   "execution_count": 172,
   "metadata": {},
   "outputs": [
    {
     "name": "stdout",
     "output_type": "stream",
     "text": [
      "{'Lulu': 0.48066298342541436, 'Xerath': 0.43103448275862066, 'Jayce': 0.43911439114391143, 'Talon': 0.4470588235294118, 'Zed': 0.5808580858085809, 'Cassiopeia': 0.5211640211640212, 'Ekko': 0.4426229508196721, 'Lissandra': 0.4954954954954955, 'Viktor': 0.43755958055290756, 'Azir': 0.5456953642384106, 'Anivia': 0.509090909090909, 'Taliyah': 0.5234375, 'Ahri': 0.5165217391304348, 'Syndra': 0.5166270783847982, 'Orianna': 0.4800354924578527, 'Leblanc': 0.5234806629834254, 'Lucian': 0.43410852713178294, 'Corki': 0.4829683698296837, 'Kassadin': 0.5149700598802395, 'Ezreal': 0.44642857142857145, 'Fizz': 0.5607476635514018, 'TwistedFate': 0.5291828793774319, 'Malzahar': 0.6261682242990654, 'Karma': 0.4369369369369369, 'Vladimir': 0.4675324675324675, 'Nunu': 1.0, 'Diana': 0.5932203389830508, 'Ziggs': 0.46808510638297873, 'Ryze': 0.5163398692810458, 'Zoe': 0.6, 'Urgot': 0.38095238095238093, 'Quinn': 0.625, 'Kennen': 0.6, 'Zilean': 0.5681818181818182, 'Galio': 0.5066079295154186, 'Lux': 0.3611111111111111, 'Varus': 0.5045045045045045, 'Gangplank': 0.4805194805194805, 'Katarina': 0.33962264150943394, 'Nidalee': 0.8571428571428571, 'Swain': 0.5166666666666667, 'AurelionSol': 0.647887323943662, 'Draven': 0.0, 'Yasuo': 0.45161290322580644, 'Irelia': 0.6363636363636364, 'Fiora': 0.6666666666666666, 'Karthus': 0.45714285714285713, 'Velkoz': 0.48717948717948717, 'Chogath': 0.45714285714285713, 'MasterYi': 0.6666666666666666, 'Jhin': 0.5, 'Heimerdinger': 0.6666666666666666, 'Veigar': 0.35, 'Nautilus': 0.625, 'JarvanIV': 0.5454545454545454, 'KogMaw': 0.5833333333333334, 'Rumble': 0.0, 'Morgana': 0.4230769230769231, 'Kindred': 0.5, 'Graves': 0.0, 'Riven': 0.3333333333333333, 'Kayn': 0.5, 'LeeSin': 0.0, 'Pantheon': 0.25, 'Elise': 0.0, 'Teemo': 1.0, 'Mordekaiser': 0.5, 'Akali': 1.0, 'Camille': 0.6666666666666666, 'Alistar': 1.0, 'Kayle': 0.375, 'Nasus': 0.5, 'Fiddlesticks': 0.3333333333333333, 'Hecarim': 0.6666666666666666, 'Thresh': 0.0, 'Malphite': 0.5, 'Zyra': 0.0, 'Brand': 0.0, 'Sona': 0.0, 'Twitch': 1.0, 'Gragas': 0.0, 'Nocturne': 1.0, 'Olaf': 1.0, 'Sion': 1.0, 'Renekton': 0.0}\n"
     ]
    }
   ],
   "source": [
    "mid = {}\n",
    "for i in dados.blueMiddleChamp:\n",
    "    mid[i]=0\n",
    "for i in dados.redMiddleChamp:\n",
    "    mid[i]=0\n",
    "for k,v in  mid.items():\n",
    "    wins=len(dados[(dados.blueMiddleChamp==k) & (dados.bResult==1)])+len(dados[(dados.redMiddleChamp==k) & (dados.rResult==1)])\n",
    "    matchs=len(dados[dados.blueMiddleChamp==k])+ len(dados[dados.redMiddleChamp==k])      \n",
    "    if matchs!=0:\n",
    "        mid[k]=wins/matchs\n",
    "print(mid)"
   ]
  },
  {
   "cell_type": "code",
   "execution_count": 173,
   "metadata": {},
   "outputs": [
    {
     "name": "stdout",
     "output_type": "stream",
     "text": [
      "{'Jhin': 0.51010101010101, 'Graves': 0.47093023255813954, 'Ziggs': 0.46511627906976744, 'Lucian': 0.47333333333333333, 'Kalista': 0.5429087624209575, 'Caitlyn': 0.49742002063983487, 'MissFortune': 0.4189189189189189, 'Sivir': 0.5239417071478141, 'Jinx': 0.4811320754716981, 'Ezreal': 0.4820936639118457, 'Ashe': 0.5119940029985007, 'Xayah': 0.5067264573991032, 'Tristana': 0.4986149584487535, 'Varus': 0.4826666666666667, 'Twitch': 0.5570776255707762, 'KogMaw': 0.45788336933045354, 'Vayne': 0.4857142857142857, 'Heimerdinger': 1.0, 'Corki': 0.48604992657856094, 'Draven': 0.5283018867924528, 'Kennen': 0.46, 'Janna': 0.0, 'Urgot': 0.5535714285714286, 'Mordekaiser': 0.8333333333333334, 'Irelia': 1.0, 'Quinn': 0.5, 'Viktor': 0.0, 'Blitzcrank': 0.0, 'Alistar': 1.0, 'Karma': 0.0, 'Kindred': 0.5, 'Lulu': 0.0, 'Nunu': 1.0, 'Thresh': 0.0, 'Karthus': 1.0, 'Jayce': 0.0, 'Teemo': 0.0, 'Kled': 0.0, 'Taliyah': 0.0}\n"
     ]
    }
   ],
   "source": [
    "adc = {}\n",
    "for i in dados.blueADCChamp:\n",
    "    adc[i]=0\n",
    "for i in dados.redADCChamp:\n",
    "    adc[i]=0\n",
    "for k,v in  adc.items():\n",
    "    wins=len(dados[(dados.blueADCChamp==k) & (dados.bResult==1)])+len(dados[(dados.redADCChamp==k) & (dados.rResult==1)])\n",
    "    matchs=len(dados[dados.blueADCChamp==k])+ len(dados[dados.redADCChamp==k])      \n",
    "    if matchs!=0:\n",
    "        adc[k]=wins/matchs\n",
    "print(adc)"
   ]
  },
  {
   "cell_type": "code",
   "execution_count": 174,
   "metadata": {},
   "outputs": [
    {
     "name": "stdout",
     "output_type": "stream",
     "text": [
      "{'Braum': 0.47768595041322315, 'Annie': 0.5474137931034483, 'Lulu': 0.45648854961832064, 'TahmKench': 0.5105008077544426, 'Alistar': 0.4869753979739508, 'Janna': 0.5380507343124166, 'Karma': 0.4694560669456067, 'Thresh': 0.526060606060606, 'Blitzcrank': 0.5590062111801242, 'Nautilus': 0.4697986577181208, 'Nami': 0.46037735849056605, 'Morgana': 0.5300925925925926, 'Taric': 0.5170940170940171, 'Leona': 0.44285714285714284, 'Malzahar': 0.581039755351682, 'Zyra': 0.48450244698205547, 'Bard': 0.5338078291814946, 'LeeSin': 0.5, 'Trundle': 0.5331632653061225, 'Shen': 0.59375, 'Kennen': 0.5454545454545454, 'Rakan': 0.5062111801242236, 'Zilean': 0.3888888888888889, 'MissFortune': 0.5158730158730159, 'Soraka': 0.512, 'Poppy': 0.4, 'Ashe': 0.6666666666666666, 'Brand': 0.5102040816326531, 'Kayle': 0.0, 'Lissandra': 0.2, 'Sona': 0.3902439024390244, 'DrMundo': 0.0, 'Veigar': 0.625, 'Maokai': 0.42857142857142855, 'Irelia': 0.0, 'Zac': 1.0, 'Fiddlesticks': 0.2, 'Malphite': 0.5, 'Camille': 0.5, 'Galio': 0.5263157894736842, 'Sejuani': 0.2, 'Gragas': 0.625, 'Ornn': 0.5, 'Velkoz': 0.6666666666666666, 'Lux': 0.6666666666666666, 'Garen': 0.0, 'Kalista': 0.5, 'Ahri': 0.0, 'Cassiopeia': 1.0, 'Elise': 0.75, 'Sion': 0.0, 'Taliyah': 0.0, 'Kled': 0.0, 'Nunu': 0.0, 'Ziggs': 0.5, 'TwistedFate': 0.0, 'Vayne': 1.0, 'Syndra': 0.3333333333333333, 'Ivern': 0.0, 'Udyr': 1.0, 'Jinx': 0.0, 'Rengar': 1.0}\n"
     ]
    }
   ],
   "source": [
    "sup = {}\n",
    "for i in dados.blueSupportChamp:\n",
    "    sup[i]=0\n",
    "for i in dados.redSupportChamp:\n",
    "    sup[i]=0\n",
    "for k,v in  sup.items():\n",
    "    wins=len(dados[(dados.blueSupportChamp==k) & (dados.bResult==1)])+len(dados[(dados.redSupportChamp==k) & (dados.rResult==1)])\n",
    "    matchs=len(dados[dados.blueSupportChamp==k])+ len(dados[dados.redSupportChamp==k])      \n",
    "    if matchs!=0:\n",
    "        sup[k]=wins/matchs\n",
    "print(sup)"
   ]
  },
  {
   "cell_type": "code",
   "execution_count": 175,
   "metadata": {},
   "outputs": [
    {
     "name": "stdout",
     "output_type": "stream",
     "text": [
      "{'Hauntzer': 0.640625, 'Thaldrin': 0.5899280575539568, 'Seraph': 0.39655172413793105, 'Soaz': 0.5869565217391305, 'Dhokla': 0.6, 'Expect': 0.6338028169014085, 'AJun': 0.0, 'Panky': 0.3, 'Steak': 0.6153846153846154, 'CuVee': 0.579136690647482, 'Huni': 0.697560975609756, 'Smittyj': 0.49333333333333335, 'Ray': 0.4626865671641791, 'Duke': 0.6256410256410256, 'Smeb': 0.6736111111111112, 'Liang': 0.5384615384615384, 'Smurf': 0.6352941176470588, 'CaliTrlolz8': 0.42857142857142855, 'kfo': 0.3275862068965517, 'MapleSnow': 0.3620689655172414, 'Vizicsacsi': 0.5151515151515151, 'Balls': 0.4946808510638298, 'Ques': 0.35714285714285715, 'Chunkyfresh': 0.3333333333333333, 'fabFabulous': 0.6883116883116883, 'zig': 0.47058823529411764, 'Werlyb': 0.38333333333333336, 'Untara': 0.4673913043478261, 'Robo': 0.631578947368421, 'Alphari': 0.4948453608247423, 'YoungBuck': 0.37037037037037035, 'Cabochard': 0.44594594594594594, 'sOAZ': 0.5272727272727272, 'Flame': 0.5517241379310345, 'Ssumday': 0.5387453874538746, 'Crisange': 0.0, 'Lil4c': 0.17857142857142858, 'Odoamne': 0.6170212765957447, 'Nexus': 0.3577981651376147, 'PANKY': 0.56, 'Roach': 0.37349397590361444, 'numlocked': 0.3, 'Helper': 0.35135135135135137, 'Apple': 0.3076923076923077, 'ikssu': 0.4230769230769231, 'Paz': 0.7368421052631579, 'Darshan': 0.5631067961165048, 'MMD': 0.7114093959731543, 'Xyraz': 0.5423728813559322, 'Elwind': 0.6122448979591837, 'Gamsu': 0.5252525252525253, 'Phaxi': 0.40384615384615385, 'Pride': 0.62, 'Flaxxish': 0.30952380952380953, 'Lep': 0.3181818181818182, 'Cris': 0.391304347826087, 'Atom': 0.38235294117647056, 'Yang': 0.5977011494252874, 'Cola': 0.6111111111111112, 'MaRin': 0.6702702702702703, 'Crazy': 0.4027777777777778, 'Brandini': 0.2222222222222222, 'Expession': 0.41818181818181815, 'Marshall': 0.4367816091954023, 'TrAce': 0.5197368421052632, 'Dyrus': 0.5882352941176471, 'Praedyth': 0.29508196721311475, 'LOFS': 0.3018867924528302, 'Soul': 0.24719101123595505, 957: 0.6333333333333333, 'Feng': 0.2777777777777778, 'Mylon': 0.5333333333333333, nan: 0, 'Lourlo': 0.45180722891566266, 'BoBo': 0.4430379746835443, 'Zvene': 0.3333333333333333, 'Impact': 0.6190476190476191, 'Shy': 0.5079365079365079, 'Evi': 0.6716417910447762, 'M1st': 0.2857142857142857, 'Koro1': 0.5833333333333334, 'SmittyJ': 0.42857142857142855, 'h4rdeath': 0.0, 'Ceres': 0.5283018867924528, 'Porky': 0.4827586206896552, 'aprox': 0.4, 'Stanley': 0.65, 'Ruin': 0.6363636363636364, 'Nipphu': 0.5227272727272727, 'Pk': 0.56, 'LEP': 0.5609756097560976, 'Riris': 0.5, 'Kiin': 0.3548387096774194, 'Khan': 0.7592592592592593, 'Quas': 0.4166666666666667, 'BOSS': 0.5833333333333334, 'fredy122': 0.49230769230769234, 'Paradise': 0.5555555555555556, 'Jirall': 0.8769230769230769, 'Lindarang': 0.39436619718309857, 'SoHwan': 0.5121951219512195, 'MANTARRAYA': 0.6341463414634146, 'Firetrap': 0.0, 'Akunma': 0.5, 'Kikis': 0.4642857142857143, 'Hioss': 0.5873015873015873, 'Ziv': 0.7156862745098039, 'Dark Solece': 0.47368421052631576, 'Papryze': 0.0, 'S Achie': 0.2222222222222222, 'Chippys': 0.67, 'Gogoing': 0.5833333333333334, 'VVvert': 0.6086956521739131, 'Smoke': 0.21052631578947367, 'Satorius': 0.045454545454545456, 'Rhux': 0.5, 'Fencer': 0.36, 'Pabu': 0.2571428571428571, 'iScarface': 0.2222222222222222, 'Tally': 0.6990291262135923, 'Julian': 0.25, 'May': 0.5, 'Swip3rR': 0.6666666666666666, 'Wickd': 0.41509433962264153, 'jer0m': 0.509090909090909, 'Rascal': 0.5, 'i KeNNy u': 0.0, 'Acce': 0.5666666666666667, 'Looper': 0.4791666666666667, 'SkyBart': 0.4523809523809524, 'Yutapon': 0.775, 'Wunder': 0.5267857142857143, 'apaMEN': 0.5942028985507246, 'Relic': 0.38596491228070173, 'Licorice': 0.4, 'Fitz': 0.4782608695652174, 'V': 0.5, 'Atyamomo': 0.3125, 'Parang': 0.3783783783783784, 'Ninuo': 0.26262626262626265, 'Jakattack': 0.21052631578947367, 'Solo': 0.34375, 'cogcog': 0.29411764705882354, 'Rins': 0.4230769230769231, 'Pacman': 0.39344262295081966, 'NoNholy': 0.4794520547945205, 'Wunderwear': 0.4, 'Renrin': 0.0, 'Doxy': 0.5932203389830508, 'Profit': 0.38636363636363635, 'Thulz': 0.23076923076923078, 'Mayhem': 0.3333333333333333, 'Broken Blade': 0.32653061224489793, 'Xaxus': 0.2727272727272727, 'Buggax': 0.425, 'Idyiom': 0.0, 'Malaz': 0.46153846153846156, 'Eledion': 0.4583333333333333, 'fabfabulous': 0.6666666666666666, 'FivetoEight': 0.0625, 'Flaresz': 0.417910447761194, 'Save': 0.5, 'ZZZ': 0.23809523809523808, 'Vayn3z': 0.25, 'SazaHu': 0.4, 'Morning': 0.6028368794326241, 'NasesUyno': 0.38461538461538464, 'Mimer': 0.16666666666666666, 'Ryoo': 0.14285714285714285, 'Steve': 0.38823529411764707, 'ackerman': 0.3333333333333333, 'Jer0m': 0.3333333333333333, 'ADD': 0.416, 'raizin': 0.5714285714285714, 'Jwaow': 0.4375, '3z': 0.5217391304347826, 'LukasNegro': 0.5, 'Voltigore': 0.3333333333333333, 'Kaze': 0.3333333333333333, 'Acorn': 0.4666666666666667, 'Brolia': 0.391304347826087, 'Rokenia': 0.6, 'Verto': 0.0, 'Arfoad': 0.14814814814814814, 'Aoi Haru': 0.0, 'JustNo0b': 0.06666666666666667, 'PvPStejos': 0.8, 'Letme': 0.6470588235294118, 'Fabfabulous': 0.6857142857142857, 'Ever Crazy': 0.25, 'Ayel': 0.4918032786885246, 'ZionSpartan': 0.6, 'Lat': 0.2, 'Sharp': 0.4782608695652174, 'Survivalone': 0.5, 'SoaR': 0.08333333333333333, 'Relenus': 0.1875, 'Bwipo': 0.2608695652173913, 'MayZ': 0.25, 'Overpow': 0.3888888888888889, 'Jisu': 0.375, 'indra': 0.25, 'mumus100': 0.4782608695652174, 'Skwiggle': 0.3157894736842105, 'DDD': 0.0, 'Beansu': 0.16666666666666666, 'BillyBoss': 0.2, 'Unknown': 0.3888888888888889, 'ChumpJohn': 0.48148148148148145, 'kev1n': 0.375, 'Prydz': 0.5, 'Rare': 0.4, 'Avalon': 0.4117647058823529, 'Zonda': 0.2, 'Zantins': 0.3902439024390244, 'DarkBlight': 0.0, 'Gos': 0.19047619047619047, 'Syuan': 0.09090909090909091, 'cvMax': 0.16666666666666666, 'Zz1tai': 0.25, 'Realen': 0.0, 'FIRees': 0.40540540540540543, 'Xiyang': 0.25, 'AmazingJ': 0.45454545454545453, 'RF Legendary': 0.0, 'LongB': 0.45, 'exciting': 0.3333333333333333, 'Crimson': 0.3333333333333333, 'Bushybooboo': 0.0, 'Kirito': 0.25, 'calitrlolz8': 0.5, 'Hipo': 0.19444444444444445, 'MakNooN': 0.5, 'Yue': 0.46153846153846156, 'b4dd': 0.0, 'Lenny': 0.25, 'Achie': 0.14285714285714285, 'Rest': 0.5263157894736842, 'Archie': 0.5384615384615384, 'Westrice': 0.42857142857142855, 'cackgod': 0.5, 'K': 0.0, 'ArJuan': 0.0, 'Akasi': 0.2, 'alleycat': 0.5714285714285714, 'paradise': 1.0, 'Aoshi': 0.22727272727272727, 'S CCB': 0.5, 'Aluka': 0.5, 'Ranger': 0.3333333333333333, 'Hanabi': 1.0, 'Tornell': 0.0, 'Stark': 0.25, 'xSWRD': 0.11538461538461539, 'Mysterious': 0.0, 'ssumday': 0.75, 'StarForgerZak': 0.5, 'AJ': 0.0, 'Charger': 0.15384615384615385, 'Darlik': 0.45454545454545453, 'Kubon': 0.5, 'Fearless': 0.5, 'Raintear': 0.5, 'Minkywhale': 0.8, 'Thal': 0.2, 'Hazard': 0.5, 'BloodFenix': 0.45454545454545453, 'Mouse': 0.5, 'ayel': 0.6, 'Lego77': 0.3333333333333333, 'K3nSt3r': 0.0, 'takeshi': 0.6, 'Lilac': 0.6, 'Kaigu': 0.0, 'Lord ZaK': 0.6666666666666666, 'PK': 1.0, 'BD': 0.3333333333333333, 'Crazyplay': 0.3333333333333333, 'Babunia': 0.3333333333333333, 'Aotaka': 0.1111111111111111, 'Kazu': 0.0, 'Taki': 0.42857142857142855, 'Moonblackk': 0.0, 'Never': 0.0, 'BonziN': 0.6666666666666666, 'WarL0cK': 0.0, 'Part': 0.5, 'Armut': 0.3333333333333333, 'SatoRy': 0.2631578947368421, 'beansu': 1.0, 'WarriorLady': 0.5, 'Snow': 0.0, 'HanShao': 0.0, 'CoolG': 0.0, 'Air': 0.2, 'Mazino': 0.6, 'Cuvee': 0.6666666666666666, 'Youngbuck': 1.0, 'Send0o': 0.6666666666666666, 'Tonington': 0.0, 'Astarore': 0.0, 'Cyo': 1.0, 'XiaoLiang': 0.0, 'WhiteKnight': 0.0, 'InnoX': 1.0, 'brTT RX': 0.0, 'Resu': 0.0, 'Rippii': 0.0, 'Benny': 1.0, 'Zeclipse': 0.6666666666666666, 'Miracle': 0.0, 'Kulo': 0.5, 'Cube': 0.3333333333333333, 'Helior': 0.5, 'Sunblast': 0.0, 'ZvenE': 0.0, 'Rlun': 0.0, 'MaybeNickName': 0.0, 'XUE': 0.0, 'Morsu': 0.0, 'Leko': 1.0, 'KaKaRot': 0.3333333333333333, 'Nases': 0.0, 'Nate': 0.0, 'Moracras': 1.0, 'Allorim': 0.0, 'Eryon': 0.0, 'Audi': 0.0, 'padden': 1.0, 'TheSoloKing': 0.0, 'Cejlon': 0.0, 'Artaphernes': 0.0}\n"
     ]
    }
   ],
   "source": [
    "top_player = {}\n",
    "for i in dados.blueTop:\n",
    "    top_player[i]=0\n",
    "for i in dados.redTop:\n",
    "    top_player[i]=0\n",
    "for k,v in  top_player.items():\n",
    "    wins=len(dados[(dados.blueTop==k) & (dados.bResult==1)])+len(dados[(dados.redTop==k) & (dados.rResult==1)])\n",
    "    matchs=len(dados[dados.blueTop==k])+ len(dados[dados.redTop==k])      \n",
    "    if matchs!=0:\n",
    "        top_player[k]=wins/matchs\n",
    "print(top_player)"
   ]
  },
  {
   "cell_type": "code",
   "execution_count": 176,
   "metadata": {},
   "outputs": [
    {
     "name": "stdout",
     "output_type": "stream",
     "text": [
      "{'Svenskeren': 0.6431372549019608, 'Theokoles': 0.68, 'LirA': 0.425414364640884, 'Amazing': 0.4825174825174825, 'Juves': 0.509090909090909, 'Trick': 0.6288659793814433, 'SpeaR': 0.045454545454545456, 'Rawbin IV': 0.45614035087719296, 'Karsa': 0.6901408450704225, 'Ambition': 0.616600790513834, 'Reignover': 0.6057692307692307, 'Kirei': 0.19047619047619047, 'Contractz': 0.6238532110091743, 'Watch': 0.5277777777777778, 'Score': 0.6028368794326241, 'Benny': 0.38461538461538464, 'PvPStejos': 0.7166666666666667, 'Porpoise8': 0.42857142857142855, 'Hard': 0.35294117647058826, 'Gemini': 0.2916666666666667, 'Xerxe': 0.5648854961832062, 'Moon': 0.43548387096774194, 'kimi': 0.36363636363636365, 'Stomaged': 0.6726190476190477, 'Inori': 0.4626865671641791, 'Fr3deric': 0.4230769230769231, 'Peanut': 0.675531914893617, 'Nappon': 0.5970149253731343, 'Maxlore': 0.46956521739130436, 'Airwaks': 0.3968253968253968, 'Djoko': 0.38095238095238093, 'Dardoch': 0.5394736842105263, 'Decagon Moon': 0.3333333333333333, 'Wisdom': 0.4864864864864865, 'KaKAO': 0.4634146341463415, 'Jankos': 0.5821596244131455, 'Yo': 0.28, 'Hojin': 0.6756756756756757, 'Crush': 0.17073170731707318, 'Astarte': 0.3333333333333333, 'Comeback': 0.0, 'TusiN': 0.375, 'lira': 0.35, 'Steal': 0.782608695652174, 'Xmithie': 0.5882352941176471, 'Rawbin': 0.6875, 'Mojito': 0.5714285714285714, 'Lee': 0.8181818181818182, 'Blank': 0.6916666666666667, 'Chaser': 0.46706586826347307, 'Azingy': 0.5, 'Crash': 0.4375, 'Pridestalker': 0.4722222222222222, 'QQmore': 0.6153846153846154, 'Pony': 0.28125, 'Memento': 0.46511627906976744, 'Minerva': 0.47058823529411764, 'ShrimP': 0.4523809523809524, 'Taikki': 0.5, 'Revolta': 0.5977011494252874, 'inSec': 0.6111111111111112, 'Spirit': 0.5027932960893855, 'Bengi': 0.7540983606557377, 'Broxah': 0.5662650602409639, 'Bless': 0.368, 'Move': 0.5703125, 'Akaadian': 0.373134328358209, 'Trix': 0.5333333333333333, 'Winged': 0.49504950495049505, 'Santorin': 0.4444444444444444, 'Zahe': 0.43478260869565216, 'BetongJocke': 0.25, 'Shrimp': 0.5161290322580645, 'TBQ': 0.3333333333333333, 'Mightybear': 0.43478260869565216, 'Empt2': 0.37209302325581395, 'Flawless': 0.2, 'Condi': 0.6333333333333333, 'Procxin': 0.3770491803278688, 'Tay': 0.6666666666666666, '=': 0.55, 'Taizan': 0.46511627906976744, 'Lasagna': 0.5333333333333333, 'Rush': 0.5679012345679012, 'Punch': 0.38028169014084506, nan: 0, 'Tussle': 0.7049180327868853, 'Catch': 0.43548387096774194, 'Saintvicious': 0.5625, 'Jjun': 0.2857142857142857, 'Clearlove': 0.5945945945945946, 'Punisher': 0.08571428571428572, 'Trixucator': 0.36, 'Chelby': 0.5263157894736842, 'Reach': 0.4782608695652174, 't4nky': 0.42857142857142855, 'Dinter': 0.5612244897959183, 'Gilius': 0.39325842696629215, 'InKos': 0.5238095238095238, 'Laba': 0.5370370370370371, 'Malrang': 0.3673469387755102, 'MikeYeung': 0.46153846153846156, 'Cuzz': 0.7547169811320755, 'IWDominate': 0.5555555555555556, 'SaDJesteRRR': 0.5833333333333334, 'Oddie': 0.8769230769230769, 'SeongHwan': 0.4473684210526316, 'Khynm': 0.5, 'UmTi': 0.4657534246575342, 'Vash': 0.5, 'SirT': 0.5, 'Wulala': 0.3235294117647059, 'ILLusion': 0.3076923076923077, 'Ares': 0.2222222222222222, 'Only': 0.21212121212121213, 'Julaxe': 0.5, 'Kanani': 0.46875, 'Shook': 0.39, 'Mountain': 0.7119565217391305, 'DoubleAiM': 0.5333333333333333, 'Crystal': 0.6136363636363636, 'Swathe': 0.0, 'S JCain': 0.3076923076923077, 'Sybol': 0.5319148936170213, 'LoveLing': 1.0, 'Grigne': 0.0, 'Seonghwan': 0.34375, '4LaN': 0.4722222222222222, 'Kadir': 0.19230769230769232, 'ShorterACE': 0.47619047619047616, 'Seb': 0.29545454545454547, 'Cinkrof': 0.3076923076923077, 'Carbon': 0.6886792452830188, 'Bubbling': 0.42105263157894735, 'Spookz': 0.6818181818181818, 'Four': 0.4482758620689655, 'RafaL0L': 0.631578947368421, 'CloudNguyen': 0.6, 'Josedeodo': 1.0, 'mlxg': 0.6, 'Zuao': 0.34782608695652173, 'Trashy': 0.45751633986928103, 'Neo': 0.5714285714285714, 'Leozuxo': 0.5945945945945946, 'DanDy': 0.3333333333333333, 'Swift': 0.5, 'WyverN': 0.3488372093023256, 'Meteos': 0.5737704918032787, 'Crumbz': 0.375, 'Wind': 0.23809523809523808, 'GalB': 0.3333333333333333, 'K': 0.05555555555555555, 'Turtle': 0.5535714285714286, 'k0u': 0.3835616438356164, 'Zanzarah': 0.49333333333333335, 'Tierwulf': 0.65625, 'Mlxg': 0.5483870967741935, 'Shernfire': 0.7777777777777778, 'Nuni': 0.0, 'Wolf': 0.3333333333333333, 'Obvious': 0.3076923076923077, 'Rod': 0.425, 'Impaired': 0.20512820512820512, 'Shiage': 0.0, 'Haru': 0.475, 'Grig': 0.2222222222222222, 'Wikko': 0.4666666666666667, 'Guts': 0.0625, 'Yaelay': 0.5, 'Arcsecond': 0.0, 'Praelus': 0.8, 'KonDziSan': 0.3055555555555556, 'Raise': 0.5384615384615384, 'Alex': 0.5277777777777778, 'loulex': 0.6, 'H0R0': 0.2903225806451613, 'Cookie': 0.29411764705882354, 'NoName': 0.3333333333333333, 'Dolce': 0.35, 'Beyond': 0.416, 'Savage': 0.43243243243243246, 'Kikis': 0.5217391304347826, 'Dexter': 0.4117647058823529, 'Eve': 0.3472222222222222, 'SolidSnake': 0.3333333333333333, 'Fenec': 0.4642857142857143, 'Kreox': 0.5476190476190477, 'Rudy': 0.3333333333333333, 'Mei': 0.5, 'REFRA1N': 0.6363636363636364, 'Dandy': 0.9166666666666666, 'Doxy': 0.0, 'Hai': 0.5384615384615384, 'Ranger': 0.45454545454545453, 'Diamondprox': 0.58, 'Juliostito': 0.5517241379310345, 'Ever Ares': 0.25, 'Gumbeq': 0.21428571428571427, 'Caos': 0.3888888888888889, 'RD': 0.09090909090909091, 'Amazingx': 0.5238095238095238, 'Astarore': 0.25, 'Helios': 0.45714285714285713, 'Crumbzz': 0.25, 'HiBon': 0.25, 'DanDayn': 0.0, 'Mowgli': 0.5, 'Epic': 0.4339622641509434, 'Baybay': 0.875, 'YO': 0.3, 'Dan': 0.0, 'LiquidDiego': 0.5128205128205128, 'Kottenx': 0.3333333333333333, 'NAZ': 0.5, 'MiHanna': 0.3333333333333333, 'DimaJke': 0.3888888888888889, 'Snowlz': 0.38461538461538464, 'lucid': 0.0, 'Domo': 0.375, 'Totti': 0.27586206896551724, 'Fiesta': 0.36363636363636365, 'KAKAO': 0.25, 'Euphony': 0.13333333333333333, 'Jiekou': 0.25, 'Kenny': 0.1, 'Fade': 0.17647058823529413, 'Avoidless': 0.2, 'Loveling': 0.4444444444444444, 'Svikter': 0.125, 'Adaniel': 0.2916666666666667, 'Lamabear': 0.15384615384615385, 'xani': 0.25, 'porpoisepops': 0.5, 'NintendudeX': 0.5, 'isurugi': 0.65, 'Viking': 0.4, 'Muscle': 1.0, 'Zonda': 0.2777777777777778, 'Ferchu': 0.0, 'Kongyue': 0.2, 'Zentinel': 0.16666666666666666, 'HOJIN': 0.5, 'Winds': 0.5, 'Breaker': 0.5454545454545454, 'Levi': 0.42857142857142855, 'Kez': 0.2894736842105263, 'OmarGod': 0.5333333333333333, 'Awaker': 0.5714285714285714, 'HanJi': 0.2857142857142857, 'Broken Blade': 0.5, 'Ami': 0.0, 'Serick': 0.0, 'Deps': 0.5, 'Ominick': 0.42857142857142855, 'Tierwulf VPP': 0.3333333333333333, 'Moojin': 0.6666666666666666, 'Ninja': 0.0, 'shernfire': 0.3333333333333333, 'Diamond': 0.4782608695652174, 'Lilac': 0.0, 'Cyanide': 0.4, 'GodKwai': 0.8, 'Albis': 0.6666666666666666, 'Cboi': 0.2777777777777778, 'TeamleSS': 0.0, 'ZeroZeroYon': 0.0, 'FraGio': 0.09090909090909091, 'once1': 0.0, 'Shini': 0.5, 'YoDa SL': 0.38461538461538464, 'Nerroh': 0.0, 'Babip': 0.6, 'wind': 0.3333333333333333, 'Achie': 0.5333333333333333, 'Paz': 0.36363636363636365, 'Halpern': 0.0, 'xSojin': 0.3333333333333333, 'Impaler': 0.3333333333333333, 'MayZ': 0.25, 'Spooky': 0.4, 'Clongwen': 0.0, 'Danagorn': 0.25806451612903225, 'Rakyl': 0.5, 'Inu': 0.0, 'DayDream': 0.09090909090909091, 'CarilRui': 0.08333333333333333, 'Babunia': 0.45454545454545453, 'Nintendude': 0.4, 'tracer': 0.2857142857142857, 'Clearlove7': 0.375, 'Potato': 0.3333333333333333, 'MaybeNickName': 0.0, 'Coma': 0.3333333333333333, 'Xayoo': 0.4375, 'Hamezz': 0.0, 'Fesh': 0.3333333333333333, 'Symphony': 0.6153846153846154, 'Tom': 0.8571428571428571, 'Empt2y': 1.0, 'JgRyan': 0.3333333333333333, 'iSeNN': 0.6666666666666666, 'Mowarth': 0.3333333333333333, 'FROSTSTRIKE': 0.13333333333333333, 'Omen': 0.4, '007x': 0.0, 'Yampi': 1.0, 'Crimson': 0.25, 'Rokenia': 0.0, 'Mess': 0.0, 'Thinkcard': 0.3333333333333333, 'LEE': 0.0, 'Neiman': 0.3333333333333333, 'Frescolita': 0.0, 'Flaw': 0.6666666666666666, 'Hana': 0.6666666666666666, 'WTHeaven': 0.0, 'beibei': 0.5, 'Smurph': 0.5, 'AnOnPsyCkO': 0.5, 'Shaunz': 0.0, 'Acerola': 0.3333333333333333, 'Corn': 0.5, 'Auspexa': 1.0, 'TheFeeling': 0.0, 'Em1ya': 0.0, 'Loulex': 0.6666666666666666, 'Sigma': 0.25, 'dexter': 0.6, 'Razelock': 0.0, 'VII': 0.0, 'Pride': 0.3333333333333333, 'betty': 1.0, 'Phantiks': 0.0, 'illusion': 0.25, 'Morning': 0.6666666666666666, 'Kold': 0.0, 'AnDa': 0.5, 'Krvavy': 0.3333333333333333, 'bono': 1.0, 't4nk': 0.0, 'ClatoS': 0.5, 'woofi': 0.0, 'Mister': 0.0, 'TaY': 0.25, 'Jcain': 0.0, 'K3nSt3r': 0.0, 'Ferit': 0.0, 'Shaft': 0.3333333333333333, 'Dimajke': 0.0, 'U Jun': 0.0, 'serick': 0.0, 'Duxen': 0.0, 'Akira': 0.0, 'MiMo': 0.0, 'Idyiom': 0.0, 'pony': 0.0}\n"
     ]
    }
   ],
   "source": [
    "jg_player = {}\n",
    "for i in dados.blueJungle:\n",
    "    jg_player[i]=0\n",
    "for i in dados.redJungle:\n",
    "    jg_player[i]=0\n",
    "for k,v in  jg_player.items():\n",
    "    wins=len(dados[(dados.blueJungle==k) & (dados.bResult==1)])+len(dados[(dados.redJungle==k) & (dados.rResult==1)])\n",
    "    matchs=len(dados[dados.blueJungle==k])+ len(dados[dados.redJungle==k])      \n",
    "    if matchs!=0:\n",
    "        jg_player[k]=wins/matchs\n",
    "print(jg_player)"
   ]
  },
  {
   "cell_type": "code",
   "execution_count": 177,
   "metadata": {},
   "outputs": [
    {
     "name": "stdout",
     "output_type": "stream",
     "text": [
      "{'Bjergsen': 0.64, 'Energy': 0.75, 'Ninja': 0.39316239316239315, 'PowerOfEvil': 0.4857142857142857, 'ry0ma': 0.6290322580645161, 'Perkz': 0.6353591160220995, 'KuKu': 0.06976744186046512, 'Lukezy': 0.5373134328358209, 'Maple': 0.6940639269406392, 'Crown': 0.610236220472441, 'Febiven': 0.5869565217391305, 'Shiphtur': 0.39285714285714285, 'Jensen': 0.6210526315789474, 'Ggoong': 0.5070422535211268, 'Pawn': 0.6276595744680851, 'Uniboy': 0.5384615384615384, 'Kira': 0.7333333333333333, 'Slooshi8': 0.4, 'Froggen': 0.36419753086419754, 'Goldenglue': 0.352112676056338, 'Gear': 0.3617021276595745, 'Exileh': 0.5222929936305732, 'Hai': 0.47794117647058826, 'Marker': 0.40816326530612246, 'mancloud': 0.0625, 'Naru': 0.6415094339622641, 'Ryu': 0.5672268907563025, 'PePiiNeRO': 0.34146341463414637, 'Faker': 0.698051948051948, 'takeshi': 0.5428571428571428, 'Pobelter': 0.6310679611650486, 'Soren': 0.34285714285714286, 'Nukeduck': 0.4339622641509434, 'Fly': 0.5419847328244275, 'Afrox': 0.0, 'Frozen': 0.4602272727272727, 'SuwaKo': 0.3448275862068966, 'Godbro Sama': 0.6666666666666666, 'Kuro': 0.6412213740458015, 'Edge': 0.33070866141732286, 'Immortoru': 0.37272727272727274, 'Cepted': 0.35294117647058826, 'Mickey': 0.43414634146341463, 'Ceros': 0.7727272727272727, 'Huhi': 0.5665024630541872, 'LongB': 0.55, 'Naehyun': 0.36538461538461536, 'Keane': 0.4744897959183674, 'Betsy': 0.4142857142857143, 'emp': 0.6458333333333334, 'NighT': 0.3, 'Tinowns': 0.36363636363636365, 'avenuee': 0.64, 'tockers': 0.6823529411764706, 'corn': 0.6111111111111112, 'Caps': 0.5619047619047619, 'Tempt': 0.3829787234042553, 'Godbro': 0.5454545454545454, 'Kuzan': 0.4838709677419355, 'Omni': 0.43478260869565216, 'xPePii': 0.4358974358974359, 'GODV': 0.5, 'M1ssion': 0.41818181818181815, 'SaSin': 0.21839080459770116, 'xiye': 0.6052631578947368, 'Pirean': 0.38461538461538464, 'Kami': 0.52, nan: 0, 'GoldenGlue': 0.5714285714285714, 'Apex': 0.48936170212765956, 'Saulius': 0.5, 'Gate': 0.5, 'Coco': 0.48412698412698413, 'Ramune': 0.717391304347826, 'Joy': 0.2857142857142857, 'PawN': 0.7045454545454546, 'Nisqy': 0.45454545454545453, 'Night': 0.47619047619047616, 'Flashy': 0.0, 'Hatrixx': 0.5128205128205128, 'Triple': 0.5172413793103449, 'Fenix': 0.5375, 'U': 0.5555555555555556, 'Hobbler': 0.5192307692307693, 'Toyz': 0.6, 'Easyhoon': 0.8484848484848485, 'Jiizuke': 0.6666666666666666, 'Rakyz': 0.5454545454545454, 'wuji': 0.56, 'Sky': 0.43902439024390244, 'Chawy': 0.6630434782608695, 'Nagne': 0.49122807017543857, 'Bdd': 0.54, 'FeniX': 0.5471698113207547, 'Fox': 0.44954128440366975, 'Seiya': 0.8571428571428571, 'Mega': 0.42105263157894735, 'tinowns': 0.5319148936170213, 'CooCooDai': 0.26666666666666666, 'Shok': 0.13636363636363635, 'kurO': 0.6, 'Nobody': 0.54, 'Abaria': 0.5945945945945946, 'Avenuee': 0.6170212765957447, 'Westdoor': 0.6703296703296703, 'GBM': 0.4178082191780822, 'S HoHotDoG': 0.3, 'Phantiks': 0.6464646464646465, 'cool': 0.5833333333333334, 'Marf': 0.75, 'xPeke': 0.5882352941176471, 'umuut': 0.19230769230769232, 'LongB Gncm': 0.36363636363636365, 'Frae': 0.23076923076923078, 'ChuChuZ': 0.6666666666666666, 'Selfie': 0.6666666666666666, 'westdoor': 0.7288135593220338, 'caNdy': 0.3181818181818182, 'Swiffer': 0.6956521739130435, 'React': 0.4186046511627907, 'Icytower': 0.52, 'pr0lly': 0.3333333333333333, 'xiaohu': 0.6, 'Goku': 0.4523809523809524, 'Sencux': 0.5151515151515151, 'Claire': 0.660377358490566, 'REMIND': 0.5652173913043478, 'Cotopaco': 0.5957446808510638, 'Doinb': 0.5, 'Lavie': 0.4, 'Slooshi': 0.16666666666666666, 'Midbeast': 0.17391304347826086, 'HW4NG': 0.3333333333333333, 'Zor': 0.1875, 'Candy': 0.5, 'Crossman': 0.5384615384615384, 'Blanc': 0.6363636363636364, 'TANK': 0.5454545454545454, 'uri': 0.5517241379310345, 'Drobovik123': 0.5166666666666667, 'Plugo': 0.525, 'Xiaohu': 0.5483870967741935, 'G4': 0.0, 'Evrot': 0.23076923076923078, 'Abbedagge': 0.2857142857142857, 'SozPurefect': 0.2727272727272727, 'Lesmart': 0.425, 'Bma': 0.0, 'Sayn': 0.0, 'Damonte': 0.2, 'wrekt': 0.4, 'wtcN': 0.5555555555555556, 'XiaoWeiXiao': 0.5833333333333334, 'niQ760': 0.6428571428571429, 'Wish': 0.36363636363636365, 'ChrisMisTrees': 0.16666666666666666, 'Siuman': 0.21428571428571427, 'RYmeister': 0.40540540540540543, 'Wzrd': 0.4, 'Rokenia': 0.5151515151515151, 'FoFo': 0.6046511627906976, 'kori': 0.3076923076923077, 'Bomb': 0.15151515151515152, 'sEiya': 1.0, 'Lvsyan': 0.3888888888888889, 'Ian': 0.416, 'Ace': 0.7, 'BlisS': 0.1, 'Gambite': 0.21052631578947367, 'MasterJos': 0.3333333333333333, 'Pretty': 0.3333333333333333, 'Lava': 0.41379310344827586, 'Caedrel': 0.6111111111111112, 'Soz Purefect': 0.39285714285714285, 'Shinmori': 0.4444444444444444, 'Vash': 0.3103448275862069, 'Paranoia': 0.4857142857142857, 'Search': 0.23529411764705882, 'Incarnati0n': 0.48484848484848486, 'Xico': 0.5, 'Looch': 0.37777777777777777, 'Ever Tempt': 0.25, 'niQ': 0.3333333333333333, 'SiuSiu': 0.05, 'Brucer': 0.43478260869565216, 'Breaker': 0.25, 'Bdoink': 0.0, 'Envy': 0.5945945945945946, 'Hollis': 0.15789473684210525, 'Rakin': 0.5, 'nukeduck': 0.45652173913043476, 'CozQ': 0.2857142857142857, 'CoolCool': 0.25, 'Athena': 0.4666666666666667, 'Wako': 0.43636363636363634, 'Nomanz': 0.4, 'YoDa SL': 0.4444444444444444, 'Jinsh': 0.0, 'Rain': 0.3333333333333333, 'LEYL U NEHAR': 0.21951219512195122, 'Destiny': 0.6666666666666666, 'Lezaford': 0.5111111111111111, 'Innox': 0.16666666666666666, 'Kerp': 0.3333333333333333, 'Piglet': 0.5416666666666666, 'Achie': 0.3, 'Ripi': 0.3333333333333333, 'TaeYeon': 0.38461538461538464, 'Environmental': 0.0, 'CoCo': 0.2857142857142857, 'Dade': 0.5833333333333334, 'Republic': 0.36363636363636365, 'Rookie': 0.25, 'K': 0.2222222222222222, 'Misery': 0.0, 'huhi': 0.3333333333333333, 'Cry': 0.5833333333333334, 'bebe': 0.42857142857142855, 'Icon': 0.25, 'Roki': 0.4782608695652174, 'Cotton': 0.0, 'AlexIch': 0.06666666666666667, 'Elysion': 0.3076923076923077, 'NasesUyno': 0.0, 'slooshi8': 0.5, 'zoiren': 0.4166666666666667, 'HuHi': 0.47368421052631576, 'CLOCKDAY': 0.65, 'Backlund': 0.4, 'Morning': 0.2727272727272727, 'Krastyel': 0.0, 'ocelote': 0.75, 'Optimus': 0.42857142857142855, 'goldenglue': 0.4, 'do it': 0.0, 'alleycat': 0.3333333333333333, 'Cheese': 0.6111111111111112, 'Wolfe': 0.5, 'LeeMid': 0.0, 'Ekka': 0.2857142857142857, 'Mugoon': 0.0, 'Akari': 0.5, 'Zelt': 0.2, 'MapleSnow': 0.0, 'Estelim': 0.5, 'S Ysera': 0.3333333333333333, 'Kiri': 0.42857142857142855, 'Rakin VPP': 0.2857142857142857, 'Pekin Woof': 1.0, 'PaSa': 0.0, 'Piter Pokir': 0.5135135135135135, 'Kawai': 0.0, 'Misteryous': 0.0, 'Seranok': 0.11538461538461539, 'Abou222': 0.0, 'Wind': 0.0, 'Julaxe': 0.0, 'Ravenno': 0.18181818181818182, 'MarS': 0.36363636363636365, 'Fofo': 0.5, 'Wulala': 0.0, 'Link': 0.5454545454545454, 'Chillyz': 1.0, 'Watdefox': 0.25, 'Alex Ich': 0.42857142857142855, 'Arcsecond': 0.3333333333333333, 'Jesiz': 0.4230769230769231, 'Sojourn': 0.25, 'dyNquedo': 0.375, 'Sonata': 0.5, 'aripo': 0.25, 'alps': 0.1111111111111111, 'Fomko': 0.45454545454545453, 'Scout': 0.4, 'Moon': 0.3333333333333333, 'Heavenstrike': 0.0, 'Takefun': 0.4, 'Glup': 0.0, 'BDD': 1.0, 'Bischu': 0.0, 'Exosen': 0.0, 'Grace': 0.5, 'Praedyth': 0.3333333333333333, 'Unified': 0.3333333333333333, 'Tiridus': 0.3333333333333333, 'BoBo': 0.0, 'Blizer300': 0.375, 'Titan': 0.25, 'PAinEvil': 0.0, 'Gluppy': 0.0, 'Chingz': 0.16666666666666666, 'Eli': 0.2857142857142857, 'CooN': 0.2, 'DCStar': 0.16666666666666666, 'Shoshin': 0.375, 'Yusui': 0.3333333333333333, 'TinOwns': 0.25, 'Baeme': 0.0, 'Magebane': 0.5, 'ShLaYa': 0.0, 'Dumbledoge': 0.0, 'Eika': 0.25, 'Sony': 0.4, 'Broooock': 0.2857142857142857, 'SorenXD': 1.0, 'Leonard': 0.0, 'Fate': 0.6666666666666666, 'Sybol': 0.0, 'Lucete': 0.25, 'Justice': 0.5, 'Cheong': 0.3333333333333333, 'Mueki': 0.0, 'Baxauer': 0.5, 'Stone': 0.0, 'Ringer': 0.0, 'Ryavka': 0.0, 'Kyle': 0.3333333333333333, 'Emp': 0.5, 'Kirito': 0.5, 'Gears': 1.0, 'Magico': 0.0, 'Flezeth': 0.0, 'PerkZ': 0.5, 'tei': 0.0, 'Fish': 0.25, 'Takefuned': 1.0, 'Shernfire': 1.0, 'Easy': 0.0, 'Shiage': 0.0}\n"
     ]
    }
   ],
   "source": [
    "mid_player = {}\n",
    "for i in dados.blueMiddle:\n",
    "    mid_player[i]=0\n",
    "for i in dados.redMiddle:\n",
    "    mid_player[i]=0\n",
    "for k,v in  mid_player.items():\n",
    "    wins=len(dados[(dados.blueMiddle==k) & (dados.bResult==1)])+len(dados[(dados.redMiddle==k) & (dados.rResult==1)])\n",
    "    matchs=len(dados[dados.blueMiddle==k])+ len(dados[dados.redMiddle==k])      \n",
    "    if matchs!=0:\n",
    "        mid_player[k]=wins/matchs\n",
    "print(mid_player)"
   ]
  },
  {
   "cell_type": "code",
   "execution_count": 178,
   "metadata": {},
   "outputs": [
    {
     "name": "stdout",
     "output_type": "stream",
     "text": [
      "{'Doublelift': 0.6729857819905213, 'Nardeus': 0.7727272727272727, 'Apollo': 0.423963133640553, 'Zven': 0.6243093922651933, 'FBI': 0.6081081081081081, 'Rabi2': 0.05555555555555555, 'Madness': 0.4274193548387097, 'NL': 0.7570093457943925, 'Stitch': 0.4772727272727273, 'Rekkles': 0.54337899543379, 'Sneaky': 0.5914396887159533, 'Ohq': 0.52, 'Deft': 0.6170212765957447, 'Rock': 0.75, 'VincentVega': 0.527027027027027, 'Nien': 0.375, 'Keith': 0.344, 'Nien8': 0.4666666666666667, 'GodKwai': 0.41025641025641024, 'Samux': 0.4953271028037383, 'WildTurtle': 0.5877192982456141, 'Blasting': 0.6, 'Steeelback': 0.423841059602649, 'Zeitnot': 0.6993464052287581, 'Arrow': 0.5587188612099644, 'Adryh': 0.36507936507936506, 'Bang': 0.7105263157894737, 'esA': 0.5272727272727272, 'Hans Sama': 0.48863636363636365, 'Freeze': 0.41333333333333333, 'xPeke': 0.4074074074074074, 'Ruler': 0.6804733727810651, 'Cody Sun': 0.5555555555555556, 'padden': 0.589041095890411, 'SONSTAR': 0.3, 'Nuclear': 0.41566265060240964, 'LBB': 0.3, 'Ruve Sama': 0.6333333333333333, 'PraY': 0.6678966789667896, 'SSol': 0.3217391304347826, 'Deul': 0.41379310344827586, 'Roar': 0.35294117647058826, 'Sangyoon': 0.42272727272727273, 'Yutapon': 0.782608695652174, 'Stixxay': 0.5686274509803921, 'Betty': 0.7142857142857143, 'Revanche': 0.5581395348837209, 'LOD': 0.44339622641509435, 'CoreJJ': 0.5161290322580645, 'Padden': 0.25, 'Hjarnan': 0.5285714285714286, 'Kindless': 0.6153846153846154, 'HeaQ': 0.32432432432432434, 'pbO': 0.38181818181818183, 'Police': 0.4722222222222222, 'Ruvelius': 0.5151515151515151, 'micaO': 0.6585365853658537, 'Uzi': 0.5434782608695652, 'Ghost': 0.35555555555555557, 'Mash': 0.35398230088495575, 'HolyPhoenix': 0.44360902255639095, 'Pilot': 0.47761194029850745, 'Lost': 0.5733333333333334, 'Altec': 0.4966887417218543, 'imp': 0.7222222222222222, 'CorGi': 0.4, 'Mystic': 0.6052631578947368, 'Matsukaze': 0.5070422535211268, nan: 0, 'Veritas': 0.4794520547945205, 'Piglet': 0.44654088050314467, 'Dee': 0.46621621621621623, 'aMiracle': 0.582089552238806, 'Space': 0.5487804878048781, 'YutoriMoyasi': 0.717391304347826, 'Cop': 0.56, 'Hologram': 0.2857142857142857, 'S0NSTAR': 0.475, 'dayruin': 0.0, 'Blinky': 0.4807692307692308, 'NaMei': 0.5555555555555556, 'EvanRL': 0.4838709677419355, 'GodJJ': 0.5862068965517241, 'Minitroupax': 0.6666666666666666, 'Sou': 0.5238095238095238, 'Ran': 0.0, 'Sacy': 0.6363636363636364, 'Unified': 0.36363636363636365, 'DeuL': 0.2857142857142857, 'pooh': 0.5833333333333334, 'CandyPanda': 0.4090909090909091, 'Toaster': 0.5, 'Chenyboy': 0.4444444444444444, 'WhiteLotus': 0.9230769230769231, 'Focho': 0.42105263157894735, 'Teddy': 0.4625, 'momo': 0.25, 'LokeN': 0.42592592592592593, 'Low': 0.13636363636363635, 'TaeYeon': 0.5789473684210527, 'FORG1VENGRE': 0.6166666666666667, 'Donut': 0.48, 'DarkSide': 0.5471698113207547, 'AN': 0.7131782945736435, 'unho1y': 0.47368421052631576, 'S RD': 0.3333333333333333, 'k1ng': 0.7619047619047619, 'san': 0.5833333333333334, 'Whitelotus': 1.0, 'Lactea': 0.4, 'Niels': 0.6595744680851063, 'Endz': 0.13333333333333333, 'Tabzz': 0.27586206896551724, 'Prototype': 0.5, 'Kramer': 0.4425287356321839, 'kazze': 0.36363636363636365, 'Raid': 0.36764705882352944, 'Ruvelius376': 0.3076923076923077, 'Payne': 0.2, 'An': 0.7058823529411765, 'Raydere': 0.6363636363636364, 'DoubleRed': 0.5714285714285714, 'PADDEN': 0.46153846153846156, 'xpng': 0.55, 'ROBERTxLEE': 0.3333333333333333, 'prodi': 0.5666666666666667, 'Wuxx': 0.6, 'EzPrince': 0.3333333333333333, 'Zerost': 0.5737704918032787, 'Kobbe': 0.5112781954887218, 'Haretti': 0.5942028985507246, 'Diesel': 0.625, 'Deftly': 0.25, 'Warangelus': 0.5357142857142857, 'NoA': 0.3695652173913043, 'Stealthix': 0.21052631578947367, 'Juzinho': 0.6, 'Rikara': 0.16666666666666666, 'Rkp': 0.29411764705882354, 'brTT': 0.5, 'Emperor': 0.5333333333333333, 'Breeze': 0.2980769230769231, 'reje': 0.5909090909090909, 'ohq': 0.23809523809523808, 'LeX': 0.4482758620689655, 'Fix': 0.75, 'K1ng': 0.6666666666666666, 'Lloyd': 0.0, 'Cpt Jack': 0.5714285714285714, 'Sarkis': 0.23076923076923078, 'KillerS': 0.2857142857142857, 'Sedrion': 0.17647058823529413, 'Zeicro': 0.425, 'Edition': 0.38095238095238093, 'Tarky': 0.0, 'Destiny': 0.4444444444444444, 'KEITH': 0.8333333333333334, 'Peluchin': 0.4583333333333333, 'Zefa': 0.4666666666666667, 'Crayzee': 0.0625, 'Raes': 0.6288659793814433, 'Tauren': 0.5789473684210527, 'Kedu': 0.25, 'Cardrid': 0.4782608695652174, 'Jynthe': 0.25, 'BeBe': 0.5255474452554745, 'Stansfield': 0.5, 'brTT RX': 0.7, 'MrRalleZ': 0.37894736842105264, 'Frae': 0.15151515151515152, 'Vasilii': 0.3333333333333333, 'Ciyansan': 0.3888888888888889, 'Fury': 0.375, 'MaHa': 0.42857142857142855, 'Broooock': 0.6153846153846154, 'Vardags': 0.5, 'Kz': 0.5, 'Wildturtle': 0.8333333333333334, 'LilV': 0.5555555555555556, 'VirusFx': 0.56, 'Achuu': 0.5, 'KKramer': 0.6, 'FORG1VEN': 0.5555555555555556, 'P1noy': 0.4791666666666667, 'meanTnT': 0.4375, 'NaeMisa': 0.5, 'Day1': 0.23529411764705882, 'LUSKKA': 0.4166666666666667, 'Emtest': 0.5, 'Achuu Cop': 0.5294117647058824, 'Ever Loken': 0.25, 'SacyR': 0.3870967741935484, 'Maplestreet8': 0.4117647058823529, 'TnT': 0.5454545454545454, 'Raison': 0.5217391304347826, 'K': 0.0, 'Dream': 0.0, 'MrRallez': 0.6, 'Zealot': 0.3, 'Skyer': 0.38461538461538464, 'Woolite': 0.4444444444444444, 'Medusa': 0.0, 'Yuuki60': 0.3409090909090909, 'DanDan': 0.25, 'BULBAZABP': 0.39285714285714285, 'Raps': 0.3157894736842105, 'Fabbbyyy': 0.6206896551724138, 'Loken': 0.625, 'Optimas': 0.3333333333333333, 'RD': 0.45, 'Bomb': 0.0, 'Paradise': 0.0, 'mean': 0.36, 'Ritix': 0.34285714285714286, 'Stark': 0.5, 'Upset': 0.6666666666666666, 'y4': 0.6666666666666666, 'N1njA': 0.5111111111111111, 'otter': 0.22727272727272727, 'Creaton': 0.3333333333333333, 'GarnetDevil': 0.5, 'Absolut': 0.5652173913043478, 'Moopz': 0.0, 'Kinzu': 0.3333333333333333, 'Rakin': 0.0, 'Zeypher': 0.52, 'Lupin': 0.5428571428571428, 'Gatocrack': 0.19047619047619047, 'Squidgy': 0.2857142857142857, 'Kid': 0.25, 'cop': 1.0, 'Starscream': 0.36363636363636365, 'Smlz': 0.25, 'Meron': 0.4583333333333333, 2020: 0.08695652173913043, 'Jinjiao': 0.2, 'Zigu': 0.15789473684210525, 'KillerEs': 0.36764705882352944, 'Tiger': 0.0, 'Neverloses': 0.4, 'Unstop': 0.0, 'Hans sama': 0.5555555555555556, 'maplestreet8': 0.5, 'NikSar': 0.4230769230769231, 'Nientonsoh': 0.5, 'deft': 0.6666666666666666, 'j1mmy': 0.25, 'DudsTheBoy': 0.0, 'Noway': 0.5384615384615384, 'MabreyBABY': 0.4, 'dan': 0.0, 'YutoriMoyashi': 0.5714285714285714, 'HoNeyRain': 0.0, 'RhythmAsalt': 0.05263157894736842, 'ZeroZeroYon': 0.0, 'S Lat': 0.3333333333333333, 'BEBE': 0.5833333333333334, 's0ra': 0.42857142857142855, 'Luskka': 0.3333333333333333, 'Steeelbackkk': 0.3333333333333333, 'Ssol': 0.25, 'M17Dee': 0.0, 'Manu': 0.4, 'Slay': 0.25, 'Germoo': 0.13043478260869565, 'Ruve sama': 0.5555555555555556, 'I Am The IRS': 0.0, 'Lilv': 0.8, 'Ekd': 0.5833333333333334, 'Tour': 0.0, 'Pray': 1.0, 'Phantiks': 0.6, 'UpseT': 0.2, 'Bebe': 0.5, 'Cake': 0.4444444444444444, 'Zyzz': 0.25, 'Enzz': 0.0, 'Safir': 0.2, 'Hoofspark': 0.3333333333333333, 'Krislund': 0.75, 'Titan': 0.8, 'Tomnam': 0.5, 'Zaek': 0.42857142857142855, 'Unlimited': 0.3333333333333333, 'Elysion': 0.42857142857142855, 'Never': 0.0, 'iBoy': 0.4, 'Gankzero': 0.3333333333333333, 'Theusma': 0.25, 'SirAlphaQ': 0.0, 'Celaver': 0.4375, 'Paragon': 0.3333333333333333, 'Lattman': 0.0, 'Znsho': 0.0, 'Grisha': 0.3333333333333333, '0hq': 0.0, 'Sa1na': 0.3333333333333333, 'Breaker': 0.0, 'TheFoxz': 0.2727272727272727, 'Madnesss': 0.0, 'Stierlitz': 0.0, 'PaSa': 0.2857142857142857, 'Dalka': 0.2, 'OB5': 0.0, 'Impactful': 0.4, 'Wako': 0.0, 'J1mmy': 1.0, 'Achu': 0.5, 'Honos': 0.3333333333333333, 'Amades': 0.375, 'WizFujiiN': 0.3333333333333333, 'Minerva': 0.25, 'MarioMe': 0.6, 'Dom1nant': 0.5, 'Rokenia': 0.2631578947368421, 'Nono': 0.0, 'tantrum': 0.0, 'Lethilion': 0.0, 'Bat': 0.0, 'Reje': 0.25, 'Straawbella': 0.0, 'NeverLoses': 1.0, 'Sonstar': 0.2857142857142857, 'Nymue': 0.0, 'Nocturnal': 0.0, 'LouisXGeeGee': 0.5, 'Deee': 1.0, 'Tierwulf': 0.0, 'Vincent': 0.0, 'aphromoo': 0.0, 'Rain': 0.5, 'Slooshi': 0.2, 'The Foxz': 0.0, 'Sheriff': 0.5, 'Fade': 0.0, 'Crykee': 0.6666666666666666, 'XDSMILEY': 0.5555555555555556, 'Youngbin': 0.5, 'WILDTURTLE': 0.5, 'Chelly': 0.3333333333333333, 'Aladoric': 0.3333333333333333, 'S Ysera': 0.0, 'Nothing': 0.5, 'Kimi': 0.0, 'Ladooscuro': 0.0, 'Maha': 0.3333333333333333, 'Vizility': 0.0, 'LuNar': 0.3333333333333333, 'Jesse': 0.5, 'nororin': 1.0, 'Vander': 0.5, 'DANDAN': 0.0, 'Aiming': 0.0, 'Zet': 0.3333333333333333, 'Voyna': 1.0, 'Kkramer': 0.0, 'Frost': 0.0, 'Sayn': 0.0, 'Hobbler': 0.0}\n"
     ]
    }
   ],
   "source": [
    "adc_player = {}\n",
    "for i in dados.blueADC:\n",
    "    adc_player[i]=0\n",
    "for i in dados.redADC:\n",
    "    adc_player[i]=0\n",
    "for k,v in  adc_player.items():\n",
    "    wins=len(dados[(dados.blueADC==k) & (dados.bResult==1)])+len(dados[(dados.redADC==k) & (dados.rResult==1)])\n",
    "    matchs=len(dados[dados.blueADC==k])+ len(dados[dados.redADC==k])      \n",
    "    if matchs!=0:\n",
    "        adc_player[k]=wins/matchs\n",
    "print(adc_player)"
   ]
  },
  {
   "cell_type": "code",
   "execution_count": 179,
   "metadata": {},
   "outputs": [
    {
     "name": "stdout",
     "output_type": "stream",
     "text": [
      "{'Yellowstar': 0.5581395348837209, 'Dumbledoge': 0.6865671641791045, 'Hakuho': 0.3860759493670886, 'Mithy': 0.5675675675675675, 'Rogue': 0.5263157894736842, 'mithy': 0.6623376623376623, 'Never': 0.0, 'Cognac': 0.42045454545454547, 'SwordArT': 0.7476635514018691, 'Wraith': 0.49295774647887325, 'YellOwStaR': 0.5888888888888889, 'KiWiKiD': 0.3263157894736842, 'Smoothie': 0.6011904761904762, 'Cain': 0.3684210526315789, 'Mata': 0.6285714285714286, 'Tuna': 0.7, 'Likkrit': 0.6463414634146342, 'Dodo8': 0.42857142857142855, 'Big': 0.3563218390804598, 'Nestea': 0.3684210526315789, 'Hylissang': 0.5172413793103449, 'LemonNation': 0.4880952380952381, 'Antariys': 0.25, 'Baby': 0.16666666666666666, 'Shady': 0.1875, 'Rydle': 0.5555555555555556, 'Wolf': 0.7258566978193146, 'Baiano': 0.4666666666666667, 'IgNar': 0.461038961038961, 'Adrian': 0.6298342541436464, 'Unlimited': 0.43333333333333335, 'AoD': 0.18181818181818182, 'Hybrid': 0.47297297297297297, 'CoreJJ': 0.7076923076923077, 'Olleh': 0.5507246376811594, 'Hachani': 0.5631067961165048, 'Swanepoel': 0.29411764705882354, 'TusiN': 0.4344262295081967, 'Chei': 0.5523809523809524, 'SuKi': 0.2875, 'Zergsting': 0.5714285714285714, 'GorillA': 0.6701754385964912, 'GuGer': 0.2857142857142857, 'rogu': 0.37777777777777777, 'Ella': 0.3076923076923077, 'SnowFlower': 0.44660194174757284, 'viviD': 0.6346153846153846, 'aphromoo': 0.5767634854771784, 'SwordArt': 0.6428571428571429, 'un1tback': 0.45161290322580644, 'Mocha': 0.6, 'Xpecial': 0.48066298342541436, 'Japone': 0.6060606060606061, 'Wadid': 0.4, 'Newbie': 0.6153846153846154, 'Hustlin': 0.41964285714285715, 'Woswos': 0.36363636363636365, 'Jockster': 0.6585365853658537, 'Zero': 0.6521739130434783, 'Klaj': 0.5348837209302325, 'Totoro': 0.34, 'Gate': 0.3511450381679389, 'Visdom': 0.5185185185185185, 'Lustboy': 0.5882352941176471, 'Rosey': 0.3508771929824561, 'G0DFRED': 0.20588235294117646, 'Pyl': 0.3333333333333333, 'KaSing': 0.5098039215686274, 'Chunx': 0.3076923076923077, 'Secret': 0.2736842105263158, 'Ben': 0.6, 'Loop': 0.5714285714285714, nan: 0, 'Matt': 0.4620253164556962, 'Dreamer': 0.46496815286624205, 'skash': 0.5, 'MadLife': 0.45977011494252873, 'Dara': 0.7049180327868853, 'Tolerant': 0.6521739130434783, 'Bunny FuFuu': 0.578125, 'Coool': 0.2857142857142857, 'Meiko': 0.5555555555555556, 'Gemp': 0.0, 'Jayke': 0.46938775510204084, 'Fzzf': 0.5555555555555556, 'DCStar': 0.45161290322580644, 'Jactroll': 0.6666666666666666, 'sonyky': 0.4375, 'Koala': 0.5689655172413793, 'Cabu': 0.75, 'Kaiwing': 0.42105263157894735, 'Comeback': 0.375, 'Fixer': 0.5454545454545454, 'Jestkui Max': 0.5833333333333334, 'nRated': 0.5333333333333333, 'Genthix': 0.8852459016393442, 'Slow': 0.6046511627906976, 'Ziriguidun': 0.4838709677419355, 'Veki': 0.3, 'QuietRain': 0.26666666666666666, 'Key': 0.43703703703703706, 'tgun': 0.14285714285714285, 'Vander': 0.5279503105590062, 'Suppa': 0.4782608695652174, 'Un1tback': 0.5, 'Albis': 0.7195767195767195, 'Dimonko': 0.65, 'Arphan': 0.5454545454545454, 'Piccaboo': 0.660377358490566, 'Tilting': 0.2222222222222222, 'KonKwon': 0.4230769230769231, 'S Ysera': 0.3333333333333333, 'Destiny': 0.6438356164383562, 'Cloud': 0.625, 'RedBert': 0.6086956521739131, 'Kairos Plz': 0.21739130434782608, 'Hiiva': 0.0, 'Rule18': 0.5, 'Cuden': 0.4492753623188406, 'xPeke': 0.07142857142857142, 'Biofrost': 0.6766467065868264, 'Regret9': 0.7777777777777778, 'SkuLL': 0.1896551724137931, 'Pure': 0.4744525547445255, 'Noxiak': 0.45, 'EGym': 0.6698113207547169, 'Corpse': 0.36666666666666664, 'Choisix': 0.52, 'Bubbadub': 0.3333333333333333, 'Tulz': 0.56, 'Professor': 0.4523809523809524, 'Mikyx': 0.5357142857142857, 'Cupcake': 0.6379310344827587, 'Enty': 0.5942028985507246, 'Baula': 0.5666666666666667, 'Zeyzal': 0.3125, 'Shadow': 1.0, 'Mor': 0.36363636363636365, 'Eternal': 0.9047619047619048, 'Yuki': 0.3695652173913043, 'konkwon': 0.3333333333333333, 'Raise': 0.3783783783783784, 'Yuzuki': 0.3125, 'esA': 0.6428571428571429, 'Corn': 0.3333333333333333, 'Wendelbo': 0.6, 'Dioud': 0.6304347826086957, 'Rain': 0.2413793103448276, 'Sweet': 0.47368421052631576, 'EDward': 0.6388888888888888, 'extinkt': 0.16666666666666666, 'Nisbeth': 0.3333333333333333, 'Nyph': 0.45454545454545453, 'WarL0cK': 0.0, 'Effort': 0.2222222222222222, 'Cabuloso': 0.23076923076923078, 'Madagger': 0.25, 'MounTain': 0.21428571428571427, 'Badmilk': 0.42857142857142855, 'Cejlon': 0.0, 'Blindturkey': 0.5, 'Gralou': 0.2978723404255319, 'Hai': 0.5714285714285714, 'Lelouch': 0.7142857142857143, 'Jesiz': 0.5483870967741935, 'SuperAZE': 0.6428571428571429, 'WildHeart': 0.5555555555555556, 'Chenxuan': 0.2727272727272727, 'Jay': 0.5853658536585366, 'kaSing': 0.625, 'Picoca': 0.4666666666666667, 'Denian': 0.29411764705882354, 'sprattel': 0.32222222222222224, 'Terap1st': 0.3103448275862069, 'Max': 0.40310077519379844, 'ThintoN': 0.4827586206896552, 'promisQ': 0.16666666666666666, 'lehends': 0.25, 'Masterwork': 0.3333333333333333, 'Touch': 0.5, 'GreenTea': 0.631578947368421, 'SirNukesAlot': 0.4, 'Veux': 0.40625, 'Rogu': 0.3225806451612903, 'Verfix': 0.42857142857142855, 'SaNTS': 0.5862068965517241, 'Kazu': 0.5, 'Revanche': 0.4642857142857143, 'Ming': 0.6470588235294118, 'Tusin': 1.0, 'Ever Key': 0.25, 'Skash': 0.2962962962962963, 'Eryon': 0.3888888888888889, 'TcT': 0.5454545454545454, 'Ysera': 0.3, 'Kpop': 0.125, 'SaNTaS': 0.46153846153846156, 'Filopo': 0.21428571428571427, 'Legato': 0.15789473684210525, 'Krepo': 0.5555555555555556, 'Tgun': 0.45454545454545453, 'Dreams': 0.3, 'Cola': 0.25, 'Legion': 0.75, 'K': 0.4489795918367347, 'delord': 0.3333333333333333, 'hibiki': 0.6, 'Luna': 0.15789473684210525, 'Rogu sama': 0.4, 'Edward': 0.4864864864864865, 'Norskeren': 0.7142857142857143, 'NerzhuL': 0.5111111111111111, 'Bodydrop': 0.22727272727272727, 'Jree': 0.3333333333333333, 'Gleeb': 0.5384615384615384, 'Wei': 0.5, 'GoSu Pepper': 0.47368421052631576, 'Saviour': 0.5, 'Alocs': 0.38461538461538464, 'Stuntopolis': 0.0, 'Zzus': 0.375, 'Lfante': 0.19047619047619047, 'Heart': 0.5833333333333334, 'Melon': 0.14285714285714285, 'Voidle': 0.6666666666666666, 'Kitties': 0.25, 'Tyresse': 0.0, 'Five': 0.25, 'Sony': 0.0, 'Decoy': 0.5, 'Road': 0.2, 'Wiffle': 0.0, 'Denden': 0.75, 'DaDa777': 0.5, 'masterwork': 0.16666666666666666, 'GetCrazy': 0.09090909090909091, 'dodo8': 0.5, 'Archie2b': 0.6666666666666666, 'Gleebglarbu': 0.4166666666666667, 'Weiiii': 0.22727272727272727, 'Caos': 0.5833333333333334, 'Ceos': 0.0, 'hachani': 0.35714285714285715, 'SimSin': 0.3333333333333333, 'Je suis Kaas': 0.25, 'Wos': 0.4473684210526316, 'Sya': 0.6, 'Lohpally': 0.4, 'je suis kaas': 0.16666666666666666, 'NeedLess': 0.75, 'Rhuckz': 0.6, 'Stunt': 0.625, 'ThreshMelon': 0.0, 'Raxxo': 0.41025641025641024, 'Targamas': 0.6666666666666666, 'Yoshiaki': 0.07142857142857142, 'Keoo': 0.5185185185185185, 'S HoHotDoG': 0.3333333333333333, 'YuZhe': 0.5, 'Codpiece': 0.42857142857142855, 'RedBert VPP': 0.3333333333333333, 'BarneyD': 0.3333333333333333, 'Guger': 0.25, 'SaNTas': 0.25, 'YellOwStar': 0.4, 'Archie': 0.3684210526315789, 'Grisen': 0.2777777777777778, 'DevilPancake': 0.11538461538461539, 'Indivisible': 0.0, 'sOnyky': 0.8888888888888888, 'Barcode': 0.2857142857142857, 'kazze': 0.4444444444444444, 'HusTlin': 0.2, 'Zytan': 0.25, 'Bischu': 0.0, 'Hanjaro': 0.3333333333333333, 'EdWard': 0.75, 'Sheep': 0.3103448275862069, 'Riyev': 0.4375, 'Farfetch': 0.4, 'Hayha': 0.5, 'Lillebelt': 0.25, 'Mei': 0.14285714285714285, 'Trance': 0.5, 'Rabi2': 0.0, 'Xavieles': 0.16666666666666666, 'Minkywhale': 1.0, 'Bokgu': 0.3333333333333333, 'Vioreleeee': 0.0, 'Blumigan': 0.0, 'Libik': 0.4375, 'Regret': 0.0, 'Rogu Sama': 0.42857142857142855, 'Altec': 0.0, 'BocaJunior': 0.18181818181818182, 'XD': 0.6666666666666666, 'Tgee': 0.0, 'Ryavka': 0.0, 'Broler': 0.25, 'Candy': 0.3333333333333333, 'Niko3333': 0.3333333333333333, 'Remi': 0.0, 'tei': 0.1111111111111111, 'Air': 0.0, 'Yue': 0.0, 'Scatz': 0.5, 'Breaker': 0.5, 'CandyBB': 0.0, 'Gorilla': 0.5, 'Eason': 0.2857142857142857, 'Zest': 0.2222222222222222, 'Moss': 0.0, 'BunnyFuFuu': 0.3333333333333333, 'KEITHMCBRIEF': 0.3333333333333333, 'dans': 0.25, 'Tierwulf': 0.0, 'Bonjour': 0.75, 'Aphromoo': 0.6666666666666666, 'Ken': 0.5, 'Wildpanda': 0.5, 'Mallek': 0.0, 'Lounet': 0.0, 'Straawbella': 1.0, 'Cotton': 0.4, 'Sky': 0.0, 'SaZeD': 0.16666666666666666, 'Primoo': 0.0, 'Chunkyfresh': 1.0, 'Ralara': 0.0, 'Joey': 0.0, 'Promisq': 0.0, 'Nukeduck': 0.3333333333333333, 'Sweetr': 1.0, 'Imagine': 0.25, 'Nevan': 0.3333333333333333, 'Bluz0r': 0.0, 'Jelly': 0.3333333333333333, 'promisq': 1.0, 'S RD': 0.0, 'Whyin': 0.0, 'Nekhazten': 0.0, 'Angelas': 0.0, 'TML': 0.25, 'PromisQ': 1.0, 'Rippii': 1.0, 'Madlife': 0.5, 'Boris': 0.5, 'Makro': 0.0, 'Beni': 0.0, 'k1': 0.0, 'Tarky': 0.0}\n"
     ]
    }
   ],
   "source": [
    "sup_player = {}\n",
    "for i in dados.blueSupport:\n",
    "    sup_player[i]=0\n",
    "for i in dados.redSupport:\n",
    "    sup_player[i]=0\n",
    "for k,v in  sup_player.items():\n",
    "    wins=len(dados[(dados.blueSupport==k) & (dados.bResult==1)])+len(dados[(dados.redSupport==k) & (dados.rResult==1)])\n",
    "    matchs=len(dados[dados.blueSupport==k])+ len(dados[dados.redSupport==k])      \n",
    "    if matchs!=0:\n",
    "        sup_player[k]=wins/matchs\n",
    "print(sup_player)"
   ]
  },
  {
   "cell_type": "markdown",
   "metadata": {},
   "source": [
    "Naive baiyes\n",
    "\n"
   ]
  },
  {
   "cell_type": "code",
   "execution_count": 180,
   "metadata": {},
   "outputs": [
    {
     "name": "stdout",
     "output_type": "stream",
     "text": [
      "{'TSM': 0.64, 'BJK': 0.5301204819277109, 'NV': 0.3880597014925373, 'OG': 0.4552238805970149, 'SIN': 0.5045045045045045, 'G2': 0.6354166666666666, 'CGE': 0.041666666666666664, 'CLK': 0.23333333333333334, 'yoeFW': 0.7692307692307693, 'SSG': 0.572463768115942, 'FNC': 0.5523012552301255, 'DIG': 0.4266666666666667, 'C9': 0.5914396887159533, 'NJE': 0.5, 'kt': 0.6045627376425855, 'AF': 0.75, 'M19': 0.5111111111111111, 'T8': 0.43243243243243246, 'FOX': 0.34532374100719426, 'HKE': 0.48360655737704916, 'UOL': 0.5108225108225108, 'FLY': 0.46464646464646464, 'JST': 0.24, 'IMG': 0.25, 'SUP': 0.6691729323308271, 'P1': 0.460431654676259, 'GIA': 0.4107142857142857, 'SKT': 0.7105263157894737, 'VFK': 0.5757575757575758, 'MSF': 0.4948453608247423, 'IMT': 0.6415094339622641, 'CW': 0.3953488372093023, 'VIT': 0.44545454545454544, 'NR1': 0.2777777777777778, 'IM': 0.18181818181818182, 'H2K': 0.6211453744493393, 'XG': 0.2875, 'AUR': 0.5789473684210527, 'KOO': 0.6229508196721312, 'EMF': 0.13333333333333333, 'OHM': 0.47058823529411764, 'EEW': 0.3191489361702128, 'Longzhu': 0.75, 'ANC': 0.35, 'DFM': 0.7727272727272727, 'CLG': 0.5714285714285714, 'FW': 0.6878048780487804, 'TT': 0.4675324675324675, 'CRW': 0.5416666666666666, 'GET': 0.75, 'FB': 0.4186046511627907, 'ROC': 0.4155844155844156, 'ISG': 0.6153846153846154, 'CNB': 0.38181818181818183, 'APX': 0.4318181818181818, 'ITZ': 0.6463414634146342, 'SHR': 0.6111111111111112, 'bbq': 0.3595505617977528, 'LZ': 0.4873096446700508, 'HWA': 0.5634920634920635, 'JAG': 0.4915254237288136, 'TM': 0.2826086956521739, 'LGD': 0.3333333333333333, 'MSE': 0.367816091954023, 'SSB': 0.26373626373626374, 'WE': 0.6052631578947368, 'TIP': 0.5256410256410257, 'PNG': 0.5365853658536586, nan: 0.0, 'TL': 0.4908256880733945, 'M17': 0.4791666666666667, 'ANX': 0.68, 'KDM': 0.34615384615384615, 'CJE': 0.4411764705882353, 'RPG': 0.6285714285714286, 'Prime': 0.25, 'GV': 0.5121951219512195, 'TY': 0.2857142857142857, 'EDG': 0.5555555555555556, 'DF': 0.0, 'AV': 0.4897959183673469, 'ROX': 0.5219298245614035, 'JTH': 0.4827586206896552, 'LK': 0.5238095238095238, 'RG': 0.5303030303030303, 'RED': 0.5945945945945946, 'HKA': 0.425, 'JSA': 0.5833333333333334, 'SK': 0.5306122448979592, 'LYN': 0.8769230769230769, 'AFs': 0.483695652173913, 'RBT': 0.4523809523809524, 'KBM': 0.40816326530612246, 'NGU': 0.23076923076923078, 'ESC': 0.4375, 'D9': 0.5, 'DP': 0.4861111111111111, 'ahq': 0.7701863354037267, 'VS': 0.5161290322580645, 'KT': 0.5789473684210527, 'TTC': 0.0, 'NRG': 0.29508196721311475, 'LOG': 0.3076923076923077, 'DW': 0.6422018348623854, 'OMG': 0.5, 'ONE': 0.6086956521739131, 'F5': 0.5, 'AE': 0.3333333333333333, 'KST': 0.5135135135135135, 'OPT': 0.3333333333333333, 'LGC': 0.7, 'NJF': 0.5238095238095238, 'CJ': 0.4358974358974359, 'CHF': 0.6578947368421053, 'PDS': 0.52, 'KZ': 0.7142857142857143, 'CLB': 0.0, 'FG': 0.5666666666666667, 'RNG': 0.5609756097560976, 'OPK': 0.325, 'SPY': 0.5112781954887218, 'USG': 0.5942028985507246, 'INF': 0.4666666666666667, 'EUN': 0.3125, 'QG': 0.5, 'RJ': 0.3695652173913043, 'REN': 0.375, 'GCU': 0.42105263157894735, 'CRJ': 0.29411764705882354, 'P3P': 0.5333333333333333, 'VEG': 0.49333333333333335, 'KLG': 0.525, 'EL': 0.3617021276595745, 'ASC': 0.0, 'AHQ': 0.5102040816326531, 'REM': 0.23076923076923078, 'GS': 0.2857142857142857, 'FAC': 0.2727272727272727, 'HAF': 0.42857142857142855, 'TRI': 0.38095238095238093, 'CF': 0.0, 'ALL': 0.4, 'X5': 0.0625, 'NWS': 0.5, 'RGC': 0.23809523809523808, 'JT': 0.6138613861386139, 'MYM': 0.29411764705882354, 'HLN': 0.14285714285714285, 'S04': 0.4444444444444444, 'LMQ': 0.3333333333333333, 'A': 0.3103448275862069, 'MVP': 0.416, '7h': 0.4745762711864407, 'SBK': 0.25, 'ZTG': 0.3333333333333333, 'MIL': 0.3333333333333333, 'NIP': 0.29411764705882354, 'GAL': 0.39344262295081966, 'VP': 0.5476190476190477, 'SZ': 0.23529411764705882, 'SSW': 0.9166666666666666, 'PRG': 0.6153846153846154, 'GMB': 0.525, 'WS': 0.38596491228070173, 'LGS': 0.2, 'FNA': 0.6, 'BC': 0.15789473684210525, 'MFA': 0.75, 'WOR': 0.25, 'EMP': 0.39285714285714285, 'HKES': 0.625, 'MOU': 0.0, 'GG': 0.5111111111111111, 'NME': 0.22727272727272727, 'WFX': 0.42105263157894735, 'as': 0.0, 'g3x': 0.38461538461538464, 'CG': 0.25, 'TPA': 0.5217391304347826, 'YC': 0.2, 'B2K': 0.19047619047619047, 'Mac': 0.3076923076923077, 'IG': 0.25, 'CA': 0.6923076923076923, 'ZONE': 0.0, 'IFG': 0.08, 'BPI': 0.3333333333333333, 'BMR': 0.0, 'FSN': 0.47368421052631576, 'AS': 0.2608695652173913, 'TSW': 0.0, 'HR': 0.9333333333333333, 'MAD': 0.2, 'MM': 0.1875, 'GAM': 0.42857142857142855, 'COW': 0.4, 'SBENU': 0.0, 'HMA': 0.16666666666666666, 'DoR': 0.0, 'BE': 0.05263157894736842, 'BGG': 0.3333333333333333, 'SKP': 0.2857142857142857, 'CST': 0.3333333333333333, 'TDK': 0.2916666666666667, 'SCW': 0.11538461538461539, 'FIS': 0.0, 'H2k': 0.5, 'CREW': 0.18181818181818182, 'GlA': 0.2, 'JTM': 0.5, 'KSV': 0.75, 'MKZ': 0.3333333333333333, 'DH': 0.5, 'DLY': 0.5, 'Winners': 0.3333333333333333, 'TS': 0.0, 'ORD': 1.0, 'C9C': 1.0, 'MSK': 0.0, 'GRX': 1.0, 'NH': 0.3333333333333333, 'EVR': 0.3333333333333333, 'TRC': 0.3333333333333333, 'TLA': 0.4, 'VK': 0.6666666666666666, '17A': 0.2857142857142857, 'AFR': 0.2, 'BKT': 0.0, 100: 0.6666666666666666, 'PRO': 0.3333333333333333, 'GGS': 0.0, 'DD': 0.5, 'SPA': 0.0, 'RBE': 0.75, 'Crew': 0.0, 'NTR': 0.0, 'FH': 1.0, 'COL': 0.5, 'EG': 1.0, 'MC': 0.6666666666666666, 'INTZ': 0.0, 'LGT': 0.5, 'UC': 0.0, 'CWA': 0.0, 'Xenics': 0.3333333333333333, 'TPB': 0.25, 'ZEN': 0.0, 'Trundle': 0.5331632653061225, 'Gnar': 1.0, 'Maokai': 0.42857142857142855, 'Rumble': 0.4411764705882353, 'Renekton': 0.0, 'Irelia': 0.0, 'Lulu': 0.45648854961832064, 'Poppy': 0.4, 'Riven': 1.0, 'Malphite': 0.5, 'Jayce': 0.0, 'JarvanIV': 0.488013698630137, 'Gragas': 0.625, 'Shen': 0.59375, 'Kennen': 0.5454545454545454, 'Galio': 0.5263157894736842, 'Chogath': 0.48717948717948717, 'Fiora': 0.6666666666666666, 'Olaf': 0.48880597014925375, 'Hecarim': 0.4755244755244755, 'Swain': 0.5166666666666667, 'Nautilus': 0.4697986577181208, 'Camille': 0.5, 'Kled': 0.0, 'Fizz': 0.25, 'Kassadin': 0.0, 'Ekko': 0.4666666666666667, 'Illaoi': 0.0, 'Ryze': 0.5163398692810458, 'Rammus': 0.7777777777777778, 'Morgana': 0.5300925925925926, 'Graves': 0.47093023255813954, 'DrMundo': 0.0, 'Darius': 0.0, 'Jax': 0.6428571428571429, 'Quinn': 0.5, 'Vladimir': 0.4675324675324675, 'Sion': 0.0, 'Shyvana': 0.30434782608695654, 'Yasuo': 0.45161290322580644, 'Nasus': 0.5, 'Gangplank': 0.4805194805194805, 'TahmKench': 0.5105008077544426, 'Lissandra': 0.2, 'Cassiopeia': 1.0, 'Ornn': 0.5, 'Alistar': 0.4869753979739508, 'Nidalee': 0.5273010920436817, 'Sejuani': 0.2, 'Yorick': 0.14285714285714285, 'Azir': 0.5456953642384106, 'Lucian': 0.47333333333333333, 'Kayle': 0.0, 'Nocturne': 0.52, 'Katarina': 0.33962264150943394, 'Varus': 0.4826666666666667, 'Teemo': 0.0, 'Singed': 0.6071428571428571, 'Talon': 0.4470588235294118, 'LeeSin': 0.5, 'Akali': 1.0, 'RekSai': 0.4894894894894895, 'Warwick': 0.5348837209302325, 'Malzahar': 0.581039755351682, 'Rengar': 1.0, 'Karma': 0.4694560669456067, 'Taliyah': 0.0, 'Zed': 0.5808580858085809, 'Bard': 0.5338078291814946, 'Diana': 0.5932203389830508, 'Pantheon': 0.47619047619047616, 'Blitzcrank': 0.5590062111801242, 'Khazix': 0.5119726339794755, 'Mordekaiser': 0.8333333333333334, 'Zac': 1.0, 'Urgot': 0.5535714285714286, 'MasterYi': 0.0, 'XinZhao': 0.6666666666666666, 'Aatrox': 1.0, 'Heimerdinger': 1.0, 'Viktor': 0.0, 'Tryndamere': 1.0, 'Kayn': 0.46153846153846156, 'MonkeyKing': 0.6666666666666666, 'Shaco': 0.25, 'Ashe': 0.6666666666666666, 'Annie': 0.5474137931034483, 'Xerath': 0.43103448275862066, 'Anivia': 0.509090909090909, 'Ahri': 0.0, 'Syndra': 0.3333333333333333, 'Orianna': 0.4800354924578527, 'Leblanc': 0.5234806629834254, 'Corki': 0.48604992657856094, 'Ezreal': 0.4820936639118457, 'TwistedFate': 0.0, 'Nunu': 0.0, 'Ziggs': 0.5, 'Zoe': 0.6, 'Zilean': 0.3888888888888889, 'Lux': 0.6666666666666666, 'AurelionSol': 0.647887323943662, 'Draven': 0.5283018867924528, 'Karthus': 1.0, 'Velkoz': 0.6666666666666666, 'Jhin': 0.51010101010101, 'Veigar': 0.625, 'KogMaw': 0.45788336933045354, 'Kindred': 0.5, 'Elise': 0.75, 'Fiddlesticks': 0.2, 'Thresh': 0.526060606060606, 'Zyra': 0.48450244698205547, 'Brand': 0.5102040816326531, 'Sona': 0.3902439024390244, 'Twitch': 0.5570776255707762, 'Ivern': 0.0, 'Evelynn': 0.4189189189189189, 'Vi': 0.5416666666666666, 'Amumu': 0.2857142857142857, 'Udyr': 1.0, 'Skarner': 0.5, 'FiddleSticks': 0.5, 'Volibear': 0.0, 'MissFortune': 0.5158730158730159, 'Rakan': 0.5062111801242236, 'Kalista': 0.5, 'Caitlyn': 0.49742002063983487, 'Sivir': 0.5239417071478141, 'Jinx': 0.0, 'Xayah': 0.5067264573991032, 'Tristana': 0.4986149584487535, 'Vayne': 1.0, 'Janna': 0.5380507343124166, 'Braum': 0.47768595041322315, 'Nami': 0.46037735849056605, 'Taric': 0.5170940170940171, 'Leona': 0.44285714285714284, 'Soraka': 0.512, 'Garen': 0.0, 'Hauntzer': 0.640625, 'Thaldrin': 0.5899280575539568, 'Seraph': 0.39655172413793105, 'Soaz': 0.5869565217391305, 'Dhokla': 0.6, 'Expect': 0.6338028169014085, 'AJun': 0.0, 'Panky': 0.3, 'Steak': 0.6153846153846154, 'CuVee': 0.579136690647482, 'Huni': 0.697560975609756, 'Smittyj': 0.49333333333333335, 'Ray': 0.4626865671641791, 'Duke': 0.6256410256410256, 'Smeb': 0.6736111111111112, 'Liang': 0.5384615384615384, 'Smurf': 0.6352941176470588, 'CaliTrlolz8': 0.42857142857142855, 'kfo': 0.3275862068965517, 'MapleSnow': 0.0, 'Vizicsacsi': 0.5151515151515151, 'Balls': 0.4946808510638298, 'Ques': 0.35714285714285715, 'Chunkyfresh': 1.0, 'fabFabulous': 0.6883116883116883, 'zig': 0.47058823529411764, 'Werlyb': 0.38333333333333336, 'Untara': 0.4673913043478261, 'Robo': 0.631578947368421, 'Alphari': 0.4948453608247423, 'YoungBuck': 0.37037037037037035, 'Cabochard': 0.44594594594594594, 'sOAZ': 0.5272727272727272, 'Flame': 0.5517241379310345, 'Ssumday': 0.5387453874538746, 'Crisange': 0.0, 'Lil4c': 0.17857142857142858, 'Odoamne': 0.6170212765957447, 'Nexus': 0.3577981651376147, 'PANKY': 0.56, 'Roach': 0.37349397590361444, 'numlocked': 0.3, 'Helper': 0.35135135135135137, 'Apple': 0.3076923076923077, 'ikssu': 0.4230769230769231, 'Paz': 0.36363636363636365, 'Darshan': 0.5631067961165048, 'MMD': 0.7114093959731543, 'Xyraz': 0.5423728813559322, 'Elwind': 0.6122448979591837, 'Gamsu': 0.5252525252525253, 'Phaxi': 0.40384615384615385, 'Pride': 0.3333333333333333, 'Flaxxish': 0.30952380952380953, 'Lep': 0.3181818181818182, 'Cris': 0.391304347826087, 'Atom': 0.38235294117647056, 'Yang': 0.5977011494252874, 'Cola': 0.25, 'MaRin': 0.6702702702702703, 'Crazy': 0.4027777777777778, 'Brandini': 0.2222222222222222, 'Expession': 0.41818181818181815, 'Marshall': 0.4367816091954023, 'TrAce': 0.5197368421052632, 'Dyrus': 0.5882352941176471, 'Praedyth': 0.3333333333333333, 'LOFS': 0.3018867924528302, 'Soul': 0.24719101123595505, 957: 0.6333333333333333, 'Feng': 0.2777777777777778, 'Mylon': 0.5333333333333333, 'Lourlo': 0.45180722891566266, 'BoBo': 0.0, 'Zvene': 0.3333333333333333, 'Impact': 0.6190476190476191, 'Shy': 0.5079365079365079, 'Evi': 0.6716417910447762, 'M1st': 0.2857142857142857, 'Koro1': 0.5833333333333334, 'SmittyJ': 0.42857142857142855, 'h4rdeath': 0.0, 'Ceres': 0.5283018867924528, 'Porky': 0.4827586206896552, 'aprox': 0.4, 'Stanley': 0.65, 'Ruin': 0.6363636363636364, 'Nipphu': 0.5227272727272727, 'Pk': 0.56, 'LEP': 0.5609756097560976, 'Riris': 0.5, 'Kiin': 0.3548387096774194, 'Khan': 0.7592592592592593, 'Quas': 0.4166666666666667, 'BOSS': 0.5833333333333334, 'fredy122': 0.49230769230769234, 'Paradise': 0.0, 'Jirall': 0.8769230769230769, 'Lindarang': 0.39436619718309857, 'SoHwan': 0.5121951219512195, 'MANTARRAYA': 0.6341463414634146, 'Firetrap': 0.0, 'Akunma': 0.5, 'Kikis': 0.5217391304347826, 'Hioss': 0.5873015873015873, 'Ziv': 0.7156862745098039, 'Dark Solece': 0.47368421052631576, 'Papryze': 0.0, 'S Achie': 0.2222222222222222, 'Chippys': 0.67, 'Gogoing': 0.5833333333333334, 'VVvert': 0.6086956521739131, 'Smoke': 0.21052631578947367, 'Satorius': 0.045454545454545456, 'Rhux': 0.5, 'Fencer': 0.36, 'Pabu': 0.2571428571428571, 'iScarface': 0.2222222222222222, 'Tally': 0.6990291262135923, 'Julian': 0.25, 'May': 0.5, 'Swip3rR': 0.6666666666666666, 'Wickd': 0.41509433962264153, 'jer0m': 0.509090909090909, 'Rascal': 0.5, 'i KeNNy u': 0.0, 'Acce': 0.5666666666666667, 'Looper': 0.4791666666666667, 'SkyBart': 0.4523809523809524, 'Yutapon': 0.782608695652174, 'Wunder': 0.5267857142857143, 'apaMEN': 0.5942028985507246, 'Relic': 0.38596491228070173, 'Licorice': 0.4, 'Fitz': 0.4782608695652174, 'V': 0.5, 'Atyamomo': 0.3125, 'Parang': 0.3783783783783784, 'Ninuo': 0.26262626262626265, 'Jakattack': 0.21052631578947367, 'Solo': 0.34375, 'cogcog': 0.29411764705882354, 'Rins': 0.4230769230769231, 'Pacman': 0.39344262295081966, 'NoNholy': 0.4794520547945205, 'Wunderwear': 0.4, 'Renrin': 0.0, 'Doxy': 0.0, 'Profit': 0.38636363636363635, 'Thulz': 0.23076923076923078, 'Mayhem': 0.3333333333333333, 'Broken Blade': 0.5, 'Xaxus': 0.2727272727272727, 'Buggax': 0.425, 'Idyiom': 0.0, 'Malaz': 0.46153846153846156, 'Eledion': 0.4583333333333333, 'fabfabulous': 0.6666666666666666, 'FivetoEight': 0.0625, 'Flaresz': 0.417910447761194, 'Save': 0.5, 'ZZZ': 0.23809523809523808, 'Vayn3z': 0.25, 'SazaHu': 0.4, 'Morning': 0.2727272727272727, 'NasesUyno': 0.0, 'Mimer': 0.16666666666666666, 'Ryoo': 0.14285714285714285, 'Steve': 0.38823529411764707, 'ackerman': 0.3333333333333333, 'Jer0m': 0.3333333333333333, 'ADD': 0.416, 'raizin': 0.5714285714285714, 'Jwaow': 0.4375, '3z': 0.5217391304347826, 'LukasNegro': 0.5, 'Voltigore': 0.3333333333333333, 'Kaze': 0.3333333333333333, 'Acorn': 0.4666666666666667, 'Brolia': 0.391304347826087, 'Rokenia': 0.2631578947368421, 'Verto': 0.0, 'Arfoad': 0.14814814814814814, 'Aoi Haru': 0.0, 'JustNo0b': 0.06666666666666667, 'PvPStejos': 0.7166666666666667, 'Letme': 0.6470588235294118, 'Fabfabulous': 0.6857142857142857, 'Ever Crazy': 0.25, 'Ayel': 0.4918032786885246, 'ZionSpartan': 0.6, 'Lat': 0.2, 'Sharp': 0.4782608695652174, 'Survivalone': 0.5, 'SoaR': 0.08333333333333333, 'Relenus': 0.1875, 'Bwipo': 0.2608695652173913, 'MayZ': 0.25, 'Overpow': 0.3888888888888889, 'Jisu': 0.375, 'indra': 0.25, 'mumus100': 0.4782608695652174, 'Skwiggle': 0.3157894736842105, 'DDD': 0.0, 'Beansu': 0.16666666666666666, 'BillyBoss': 0.2, 'Unknown': 0.3888888888888889, 'ChumpJohn': 0.48148148148148145, 'kev1n': 0.375, 'Prydz': 0.5, 'Rare': 0.4, 'Avalon': 0.4117647058823529, 'Zonda': 0.2777777777777778, 'Zantins': 0.3902439024390244, 'DarkBlight': 0.0, 'Gos': 0.19047619047619047, 'Syuan': 0.09090909090909091, 'cvMax': 0.16666666666666666, 'Zz1tai': 0.25, 'Realen': 0.0, 'FIRees': 0.40540540540540543, 'Xiyang': 0.25, 'AmazingJ': 0.45454545454545453, 'RF Legendary': 0.0, 'LongB': 0.55, 'exciting': 0.3333333333333333, 'Crimson': 0.25, 'Bushybooboo': 0.0, 'Kirito': 0.5, 'calitrlolz8': 0.5, 'Hipo': 0.19444444444444445, 'MakNooN': 0.5, 'Yue': 0.0, 'b4dd': 0.0, 'Lenny': 0.25, 'Achie': 0.3, 'Rest': 0.5263157894736842, 'Archie': 0.3684210526315789, 'Westrice': 0.42857142857142855, 'cackgod': 0.5, 'K': 0.4489795918367347, 'ArJuan': 0.0, 'Akasi': 0.2, 'alleycat': 0.3333333333333333, 'paradise': 1.0, 'Aoshi': 0.22727272727272727, 'S CCB': 0.5, 'Aluka': 0.5, 'Ranger': 0.45454545454545453, 'Hanabi': 1.0, 'Tornell': 0.0, 'Stark': 0.5, 'xSWRD': 0.11538461538461539, 'Mysterious': 0.0, 'ssumday': 0.75, 'StarForgerZak': 0.5, 'AJ': 0.0, 'Charger': 0.15384615384615385, 'Darlik': 0.45454545454545453, 'Kubon': 0.5, 'Fearless': 0.5, 'Raintear': 0.5, 'Minkywhale': 1.0, 'Thal': 0.2, 'Hazard': 0.5, 'BloodFenix': 0.45454545454545453, 'Mouse': 0.5, 'ayel': 0.6, 'Lego77': 0.3333333333333333, 'K3nSt3r': 0.0, 'takeshi': 0.5428571428571428, 'Lilac': 0.0, 'Kaigu': 0.0, 'Lord ZaK': 0.6666666666666666, 'PK': 1.0, 'BD': 0.3333333333333333, 'Crazyplay': 0.3333333333333333, 'Babunia': 0.45454545454545453, 'Aotaka': 0.1111111111111111, 'Kazu': 0.5, 'Taki': 0.42857142857142855, 'Moonblackk': 0.0, 'Never': 0.0, 'BonziN': 0.6666666666666666, 'WarL0cK': 0.0, 'Part': 0.5, 'Armut': 0.3333333333333333, 'SatoRy': 0.2631578947368421, 'beansu': 1.0, 'WarriorLady': 0.5, 'Snow': 0.0, 'HanShao': 0.0, 'CoolG': 0.0, 'Air': 0.0, 'Mazino': 0.6, 'Cuvee': 0.6666666666666666, 'Youngbuck': 1.0, 'Send0o': 0.6666666666666666, 'Tonington': 0.0, 'Astarore': 0.25, 'Cyo': 1.0, 'XiaoLiang': 0.0, 'WhiteKnight': 0.0, 'InnoX': 1.0, 'brTT RX': 0.7, 'Resu': 0.0, 'Rippii': 1.0, 'Benny': 0.38461538461538464, 'Zeclipse': 0.6666666666666666, 'Miracle': 0.0, 'Kulo': 0.5, 'Cube': 0.3333333333333333, 'Helior': 0.5, 'Sunblast': 0.0, 'ZvenE': 0.0, 'Rlun': 0.0, 'MaybeNickName': 0.0, 'XUE': 0.0, 'Morsu': 0.0, 'Leko': 1.0, 'KaKaRot': 0.3333333333333333, 'Nases': 0.0, 'Nate': 0.0, 'Moracras': 1.0, 'Allorim': 0.0, 'Eryon': 0.3888888888888889, 'Audi': 0.0, 'padden': 0.589041095890411, 'TheSoloKing': 0.0, 'Cejlon': 0.0, 'Artaphernes': 0.0, 'Svenskeren': 0.6431372549019608, 'Theokoles': 0.68, 'LirA': 0.425414364640884, 'Amazing': 0.4825174825174825, 'Juves': 0.509090909090909, 'Trick': 0.6288659793814433, 'SpeaR': 0.045454545454545456, 'Rawbin IV': 0.45614035087719296, 'Karsa': 0.6901408450704225, 'Ambition': 0.616600790513834, 'Reignover': 0.6057692307692307, 'Kirei': 0.19047619047619047, 'Contractz': 0.6238532110091743, 'Watch': 0.5277777777777778, 'Score': 0.6028368794326241, 'Porpoise8': 0.42857142857142855, 'Hard': 0.35294117647058826, 'Gemini': 0.2916666666666667, 'Xerxe': 0.5648854961832062, 'Moon': 0.3333333333333333, 'kimi': 0.36363636363636365, 'Stomaged': 0.6726190476190477, 'Inori': 0.4626865671641791, 'Fr3deric': 0.4230769230769231, 'Peanut': 0.675531914893617, 'Nappon': 0.5970149253731343, 'Maxlore': 0.46956521739130436, 'Airwaks': 0.3968253968253968, 'Djoko': 0.38095238095238093, 'Dardoch': 0.5394736842105263, 'Decagon Moon': 0.3333333333333333, 'Wisdom': 0.4864864864864865, 'KaKAO': 0.4634146341463415, 'Jankos': 0.5821596244131455, 'Yo': 0.28, 'Hojin': 0.6756756756756757, 'Crush': 0.17073170731707318, 'Astarte': 0.3333333333333333, 'Comeback': 0.375, 'TusiN': 0.4344262295081967, 'lira': 0.35, 'Steal': 0.782608695652174, 'Xmithie': 0.5882352941176471, 'Rawbin': 0.6875, 'Mojito': 0.5714285714285714, 'Lee': 0.8181818181818182, 'Blank': 0.6916666666666667, 'Chaser': 0.46706586826347307, 'Azingy': 0.5, 'Crash': 0.4375, 'Pridestalker': 0.4722222222222222, 'QQmore': 0.6153846153846154, 'Pony': 0.28125, 'Memento': 0.46511627906976744, 'Minerva': 0.25, 'ShrimP': 0.4523809523809524, 'Taikki': 0.5, 'Revolta': 0.5977011494252874, 'inSec': 0.6111111111111112, 'Spirit': 0.5027932960893855, 'Bengi': 0.7540983606557377, 'Broxah': 0.5662650602409639, 'Bless': 0.368, 'Move': 0.5703125, 'Akaadian': 0.373134328358209, 'Trix': 0.5333333333333333, 'Winged': 0.49504950495049505, 'Santorin': 0.4444444444444444, 'Zahe': 0.43478260869565216, 'BetongJocke': 0.25, 'Shrimp': 0.5161290322580645, 'TBQ': 0.3333333333333333, 'Mightybear': 0.43478260869565216, 'Empt2': 0.37209302325581395, 'Flawless': 0.2, 'Condi': 0.6333333333333333, 'Procxin': 0.3770491803278688, 'Tay': 0.6666666666666666, '=': 0.55, 'Taizan': 0.46511627906976744, 'Lasagna': 0.5333333333333333, 'Rush': 0.5679012345679012, 'Punch': 0.38028169014084506, 'Tussle': 0.7049180327868853, 'Catch': 0.43548387096774194, 'Saintvicious': 0.5625, 'Jjun': 0.2857142857142857, 'Clearlove': 0.5945945945945946, 'Punisher': 0.08571428571428572, 'Trixucator': 0.36, 'Chelby': 0.5263157894736842, 'Reach': 0.4782608695652174, 't4nky': 0.42857142857142855, 'Dinter': 0.5612244897959183, 'Gilius': 0.39325842696629215, 'InKos': 0.5238095238095238, 'Laba': 0.5370370370370371, 'Malrang': 0.3673469387755102, 'MikeYeung': 0.46153846153846156, 'Cuzz': 0.7547169811320755, 'IWDominate': 0.5555555555555556, 'SaDJesteRRR': 0.5833333333333334, 'Oddie': 0.8769230769230769, 'SeongHwan': 0.4473684210526316, 'Khynm': 0.5, 'UmTi': 0.4657534246575342, 'Vash': 0.3103448275862069, 'SirT': 0.5, 'Wulala': 0.0, 'ILLusion': 0.3076923076923077, 'Ares': 0.2222222222222222, 'Only': 0.21212121212121213, 'Julaxe': 0.0, 'Kanani': 0.46875, 'Shook': 0.39, 'Mountain': 0.7119565217391305, 'DoubleAiM': 0.5333333333333333, 'Crystal': 0.6136363636363636, 'Swathe': 0.0, 'S JCain': 0.3076923076923077, 'Sybol': 0.0, 'LoveLing': 1.0, 'Grigne': 0.0, 'Seonghwan': 0.34375, '4LaN': 0.4722222222222222, 'Kadir': 0.19230769230769232, 'ShorterACE': 0.47619047619047616, 'Seb': 0.29545454545454547, 'Cinkrof': 0.3076923076923077, 'Carbon': 0.6886792452830188, 'Bubbling': 0.42105263157894735, 'Spookz': 0.6818181818181818, 'Four': 0.4482758620689655, 'RafaL0L': 0.631578947368421, 'CloudNguyen': 0.6, 'Josedeodo': 1.0, 'mlxg': 0.6, 'Zuao': 0.34782608695652173, 'Trashy': 0.45751633986928103, 'Neo': 0.5714285714285714, 'Leozuxo': 0.5945945945945946, 'DanDy': 0.3333333333333333, 'Swift': 0.5, 'WyverN': 0.3488372093023256, 'Meteos': 0.5737704918032787, 'Crumbz': 0.375, 'Wind': 0.0, 'GalB': 0.3333333333333333, 'Turtle': 0.5535714285714286, 'k0u': 0.3835616438356164, 'Zanzarah': 0.49333333333333335, 'Tierwulf': 0.0, 'Mlxg': 0.5483870967741935, 'Shernfire': 1.0, 'Nuni': 0.0, 'Wolf': 0.7258566978193146, 'Obvious': 0.3076923076923077, 'Rod': 0.425, 'Impaired': 0.20512820512820512, 'Shiage': 0.0, 'Haru': 0.475, 'Grig': 0.2222222222222222, 'Wikko': 0.4666666666666667, 'Guts': 0.0625, 'Yaelay': 0.5, 'Arcsecond': 0.3333333333333333, 'Praelus': 0.8, 'KonDziSan': 0.3055555555555556, 'Raise': 0.3783783783783784, 'Alex': 0.5277777777777778, 'loulex': 0.6, 'H0R0': 0.2903225806451613, 'Cookie': 0.29411764705882354, 'NoName': 0.3333333333333333, 'Dolce': 0.35, 'Beyond': 0.416, 'Savage': 0.43243243243243246, 'Dexter': 0.4117647058823529, 'Eve': 0.3472222222222222, 'SolidSnake': 0.3333333333333333, 'Fenec': 0.4642857142857143, 'Kreox': 0.5476190476190477, 'Rudy': 0.3333333333333333, 'Mei': 0.14285714285714285, 'REFRA1N': 0.6363636363636364, 'Dandy': 0.9166666666666666, 'Hai': 0.5714285714285714, 'Diamondprox': 0.58, 'Juliostito': 0.5517241379310345, 'Ever Ares': 0.25, 'Gumbeq': 0.21428571428571427, 'Caos': 0.5833333333333334, 'RD': 0.45, 'Amazingx': 0.5238095238095238, 'Helios': 0.45714285714285713, 'Crumbzz': 0.25, 'HiBon': 0.25, 'DanDayn': 0.0, 'Mowgli': 0.5, 'Epic': 0.4339622641509434, 'Baybay': 0.875, 'YO': 0.3, 'Dan': 0.0, 'LiquidDiego': 0.5128205128205128, 'Kottenx': 0.3333333333333333, 'NAZ': 0.5, 'MiHanna': 0.3333333333333333, 'DimaJke': 0.3888888888888889, 'Snowlz': 0.38461538461538464, 'lucid': 0.0, 'Domo': 0.375, 'Totti': 0.27586206896551724, 'Fiesta': 0.36363636363636365, 'KAKAO': 0.25, 'Euphony': 0.13333333333333333, 'Jiekou': 0.25, 'Kenny': 0.1, 'Fade': 0.0, 'Avoidless': 0.2, 'Loveling': 0.4444444444444444, 'Svikter': 0.125, 'Adaniel': 0.2916666666666667, 'Lamabear': 0.15384615384615385, 'xani': 0.25, 'porpoisepops': 0.5, 'NintendudeX': 0.5, 'isurugi': 0.65, 'Viking': 0.4, 'Muscle': 1.0, 'Ferchu': 0.0, 'Kongyue': 0.2, 'Zentinel': 0.16666666666666666, 'HOJIN': 0.5, 'Winds': 0.5, 'Breaker': 0.5, 'Levi': 0.42857142857142855, 'Kez': 0.2894736842105263, 'OmarGod': 0.5333333333333333, 'Awaker': 0.5714285714285714, 'HanJi': 0.2857142857142857, 'Ami': 0.0, 'Serick': 0.0, 'Deps': 0.5, 'Ominick': 0.42857142857142855, 'Tierwulf VPP': 0.3333333333333333, 'Moojin': 0.6666666666666666, 'Ninja': 0.39316239316239315, 'shernfire': 0.3333333333333333, 'Diamond': 0.4782608695652174, 'Cyanide': 0.4, 'GodKwai': 0.41025641025641024, 'Albis': 0.7195767195767195, 'Cboi': 0.2777777777777778, 'TeamleSS': 0.0, 'ZeroZeroYon': 0.0, 'FraGio': 0.09090909090909091, 'once1': 0.0, 'Shini': 0.5, 'YoDa SL': 0.4444444444444444, 'Nerroh': 0.0, 'Babip': 0.6, 'wind': 0.3333333333333333, 'Halpern': 0.0, 'xSojin': 0.3333333333333333, 'Impaler': 0.3333333333333333, 'Spooky': 0.4, 'Clongwen': 0.0, 'Danagorn': 0.25806451612903225, 'Rakyl': 0.5, 'Inu': 0.0, 'DayDream': 0.09090909090909091, 'CarilRui': 0.08333333333333333, 'Nintendude': 0.4, 'tracer': 0.2857142857142857, 'Clearlove7': 0.375, 'Potato': 0.3333333333333333, 'Coma': 0.3333333333333333, 'Xayoo': 0.4375, 'Hamezz': 0.0, 'Fesh': 0.3333333333333333, 'Symphony': 0.6153846153846154, 'Tom': 0.8571428571428571, 'Empt2y': 1.0, 'JgRyan': 0.3333333333333333, 'iSeNN': 0.6666666666666666, 'Mowarth': 0.3333333333333333, 'FROSTSTRIKE': 0.13333333333333333, 'Omen': 0.4, '007x': 0.0, 'Yampi': 1.0, 'Mess': 0.0, 'Thinkcard': 0.3333333333333333, 'LEE': 0.0, 'Neiman': 0.3333333333333333, 'Frescolita': 0.0, 'Flaw': 0.6666666666666666, 'Hana': 0.6666666666666666, 'WTHeaven': 0.0, 'beibei': 0.5, 'Smurph': 0.5, 'AnOnPsyCkO': 0.5, 'Shaunz': 0.0, 'Acerola': 0.3333333333333333, 'Corn': 0.3333333333333333, 'Auspexa': 1.0, 'TheFeeling': 0.0, 'Em1ya': 0.0, 'Loulex': 0.6666666666666666, 'Sigma': 0.25, 'dexter': 0.6, 'Razelock': 0.0, 'VII': 0.0, 'betty': 1.0, 'Phantiks': 0.6, 'illusion': 0.25, 'Kold': 0.0, 'AnDa': 0.5, 'Krvavy': 0.3333333333333333, 'bono': 1.0, 't4nk': 0.0, 'ClatoS': 0.5, 'woofi': 0.0, 'Mister': 0.0, 'TaY': 0.25, 'Jcain': 0.0, 'Ferit': 0.0, 'Shaft': 0.3333333333333333, 'Dimajke': 0.0, 'U Jun': 0.0, 'serick': 0.0, 'Duxen': 0.0, 'Akira': 0.0, 'MiMo': 0.0, 'pony': 0.0, 'Bjergsen': 0.64, 'Energy': 0.75, 'PowerOfEvil': 0.4857142857142857, 'ry0ma': 0.6290322580645161, 'Perkz': 0.6353591160220995, 'KuKu': 0.06976744186046512, 'Lukezy': 0.5373134328358209, 'Maple': 0.6940639269406392, 'Crown': 0.610236220472441, 'Febiven': 0.5869565217391305, 'Shiphtur': 0.39285714285714285, 'Jensen': 0.6210526315789474, 'Ggoong': 0.5070422535211268, 'Pawn': 0.6276595744680851, 'Uniboy': 0.5384615384615384, 'Kira': 0.7333333333333333, 'Slooshi8': 0.4, 'Froggen': 0.36419753086419754, 'Goldenglue': 0.352112676056338, 'Gear': 0.3617021276595745, 'Exileh': 0.5222929936305732, 'Marker': 0.40816326530612246, 'mancloud': 0.0625, 'Naru': 0.6415094339622641, 'Ryu': 0.5672268907563025, 'PePiiNeRO': 0.34146341463414637, 'Faker': 0.698051948051948, 'Pobelter': 0.6310679611650486, 'Soren': 0.34285714285714286, 'Nukeduck': 0.3333333333333333, 'Fly': 0.5419847328244275, 'Afrox': 0.0, 'Frozen': 0.4602272727272727, 'SuwaKo': 0.3448275862068966, 'Godbro Sama': 0.6666666666666666, 'Kuro': 0.6412213740458015, 'Edge': 0.33070866141732286, 'Immortoru': 0.37272727272727274, 'Cepted': 0.35294117647058826, 'Mickey': 0.43414634146341463, 'Ceros': 0.7727272727272727, 'Huhi': 0.5665024630541872, 'Naehyun': 0.36538461538461536, 'Keane': 0.4744897959183674, 'Betsy': 0.4142857142857143, 'emp': 0.6458333333333334, 'NighT': 0.3, 'Tinowns': 0.36363636363636365, 'avenuee': 0.64, 'tockers': 0.6823529411764706, 'corn': 0.6111111111111112, 'Caps': 0.5619047619047619, 'Tempt': 0.3829787234042553, 'Godbro': 0.5454545454545454, 'Kuzan': 0.4838709677419355, 'Omni': 0.43478260869565216, 'xPePii': 0.4358974358974359, 'GODV': 0.5, 'M1ssion': 0.41818181818181815, 'SaSin': 0.21839080459770116, 'xiye': 0.6052631578947368, 'Pirean': 0.38461538461538464, 'Kami': 0.52, 'GoldenGlue': 0.5714285714285714, 'Apex': 0.48936170212765956, 'Saulius': 0.5, 'Gate': 0.3511450381679389, 'Coco': 0.48412698412698413, 'Ramune': 0.717391304347826, 'Joy': 0.2857142857142857, 'PawN': 0.7045454545454546, 'Nisqy': 0.45454545454545453, 'Night': 0.47619047619047616, 'Flashy': 0.0, 'Hatrixx': 0.5128205128205128, 'Triple': 0.5172413793103449, 'Fenix': 0.5375, 'U': 0.5555555555555556, 'Hobbler': 0.0, 'Toyz': 0.6, 'Easyhoon': 0.8484848484848485, 'Jiizuke': 0.6666666666666666, 'Rakyz': 0.5454545454545454, 'wuji': 0.56, 'Sky': 0.0, 'Chawy': 0.6630434782608695, 'Nagne': 0.49122807017543857, 'Bdd': 0.54, 'FeniX': 0.5471698113207547, 'Fox': 0.44954128440366975, 'Seiya': 0.8571428571428571, 'Mega': 0.42105263157894735, 'tinowns': 0.5319148936170213, 'CooCooDai': 0.26666666666666666, 'Shok': 0.13636363636363635, 'kurO': 0.6, 'Nobody': 0.54, 'Abaria': 0.5945945945945946, 'Avenuee': 0.6170212765957447, 'Westdoor': 0.6703296703296703, 'GBM': 0.4178082191780822, 'S HoHotDoG': 0.3333333333333333, 'cool': 0.5833333333333334, 'Marf': 0.75, 'xPeke': 0.07142857142857142, 'umuut': 0.19230769230769232, 'LongB Gncm': 0.36363636363636365, 'Frae': 0.15151515151515152, 'ChuChuZ': 0.6666666666666666, 'Selfie': 0.6666666666666666, 'westdoor': 0.7288135593220338, 'caNdy': 0.3181818181818182, 'Swiffer': 0.6956521739130435, 'React': 0.4186046511627907, 'Icytower': 0.52, 'pr0lly': 0.3333333333333333, 'xiaohu': 0.6, 'Goku': 0.4523809523809524, 'Sencux': 0.5151515151515151, 'Claire': 0.660377358490566, 'REMIND': 0.5652173913043478, 'Cotopaco': 0.5957446808510638, 'Doinb': 0.5, 'Lavie': 0.4, 'Slooshi': 0.2, 'Midbeast': 0.17391304347826086, 'HW4NG': 0.3333333333333333, 'Zor': 0.1875, 'Candy': 0.3333333333333333, 'Crossman': 0.5384615384615384, 'Blanc': 0.6363636363636364, 'TANK': 0.5454545454545454, 'uri': 0.5517241379310345, 'Drobovik123': 0.5166666666666667, 'Plugo': 0.525, 'Xiaohu': 0.5483870967741935, 'G4': 0.0, 'Evrot': 0.23076923076923078, 'Abbedagge': 0.2857142857142857, 'SozPurefect': 0.2727272727272727, 'Lesmart': 0.425, 'Bma': 0.0, 'Sayn': 0.0, 'Damonte': 0.2, 'wrekt': 0.4, 'wtcN': 0.5555555555555556, 'XiaoWeiXiao': 0.5833333333333334, 'niQ760': 0.6428571428571429, 'Wish': 0.36363636363636365, 'ChrisMisTrees': 0.16666666666666666, 'Siuman': 0.21428571428571427, 'RYmeister': 0.40540540540540543, 'Wzrd': 0.4, 'FoFo': 0.6046511627906976, 'kori': 0.3076923076923077, 'Bomb': 0.0, 'sEiya': 1.0, 'Lvsyan': 0.3888888888888889, 'Ian': 0.416, 'Ace': 0.7, 'BlisS': 0.1, 'Gambite': 0.21052631578947367, 'MasterJos': 0.3333333333333333, 'Pretty': 0.3333333333333333, 'Lava': 0.41379310344827586, 'Caedrel': 0.6111111111111112, 'Soz Purefect': 0.39285714285714285, 'Shinmori': 0.4444444444444444, 'Paranoia': 0.4857142857142857, 'Search': 0.23529411764705882, 'Incarnati0n': 0.48484848484848486, 'Xico': 0.5, 'Looch': 0.37777777777777777, 'Ever Tempt': 0.25, 'niQ': 0.3333333333333333, 'SiuSiu': 0.05, 'Brucer': 0.43478260869565216, 'Bdoink': 0.0, 'Envy': 0.5945945945945946, 'Hollis': 0.15789473684210525, 'Rakin': 0.0, 'nukeduck': 0.45652173913043476, 'CozQ': 0.2857142857142857, 'CoolCool': 0.25, 'Athena': 0.4666666666666667, 'Wako': 0.0, 'Nomanz': 0.4, 'Jinsh': 0.0, 'Rain': 0.2413793103448276, 'LEYL U NEHAR': 0.21951219512195122, 'Destiny': 0.6438356164383562, 'Lezaford': 0.5111111111111111, 'Innox': 0.16666666666666666, 'Kerp': 0.3333333333333333, 'Piglet': 0.44654088050314467, 'Ripi': 0.3333333333333333, 'TaeYeon': 0.5789473684210527, 'Environmental': 0.0, 'CoCo': 0.2857142857142857, 'Dade': 0.5833333333333334, 'Republic': 0.36363636363636365, 'Rookie': 0.25, 'Misery': 0.0, 'huhi': 0.3333333333333333, 'Cry': 0.5833333333333334, 'bebe': 0.42857142857142855, 'Icon': 0.25, 'Roki': 0.4782608695652174, 'Cotton': 0.4, 'AlexIch': 0.06666666666666667, 'Elysion': 0.42857142857142855, 'slooshi8': 0.5, 'zoiren': 0.4166666666666667, 'HuHi': 0.47368421052631576, 'CLOCKDAY': 0.65, 'Backlund': 0.4, 'Krastyel': 0.0, 'ocelote': 0.75, 'Optimus': 0.42857142857142855, 'goldenglue': 0.4, 'do it': 0.0, 'Cheese': 0.6111111111111112, 'Wolfe': 0.5, 'LeeMid': 0.0, 'Ekka': 0.2857142857142857, 'Mugoon': 0.0, 'Akari': 0.5, 'Zelt': 0.2, 'Estelim': 0.5, 'S Ysera': 0.3333333333333333, 'Kiri': 0.42857142857142855, 'Rakin VPP': 0.2857142857142857, 'Pekin Woof': 1.0, 'PaSa': 0.2857142857142857, 'Piter Pokir': 0.5135135135135135, 'Kawai': 0.0, 'Misteryous': 0.0, 'Seranok': 0.11538461538461539, 'Abou222': 0.0, 'Ravenno': 0.18181818181818182, 'MarS': 0.36363636363636365, 'Fofo': 0.5, 'Link': 0.5454545454545454, 'Chillyz': 1.0, 'Watdefox': 0.25, 'Alex Ich': 0.42857142857142855, 'Jesiz': 0.5483870967741935, 'Sojourn': 0.25, 'dyNquedo': 0.375, 'Sonata': 0.5, 'aripo': 0.25, 'alps': 0.1111111111111111, 'Fomko': 0.45454545454545453, 'Scout': 0.4, 'Heavenstrike': 0.0, 'Takefun': 0.4, 'Glup': 0.0, 'BDD': 1.0, 'Bischu': 0.0, 'Exosen': 0.0, 'Grace': 0.5, 'Unified': 0.36363636363636365, 'Tiridus': 0.3333333333333333, 'Blizer300': 0.375, 'Titan': 0.8, 'PAinEvil': 0.0, 'Gluppy': 0.0, 'Chingz': 0.16666666666666666, 'Eli': 0.2857142857142857, 'CooN': 0.2, 'DCStar': 0.45161290322580644, 'Shoshin': 0.375, 'Yusui': 0.3333333333333333, 'TinOwns': 0.25, 'Baeme': 0.0, 'Magebane': 0.5, 'ShLaYa': 0.0, 'Dumbledoge': 0.6865671641791045, 'Eika': 0.25, 'Sony': 0.0, 'Broooock': 0.6153846153846154, 'SorenXD': 1.0, 'Leonard': 0.0, 'Fate': 0.6666666666666666, 'Lucete': 0.25, 'Justice': 0.5, 'Cheong': 0.3333333333333333, 'Mueki': 0.0, 'Baxauer': 0.5, 'Stone': 0.0, 'Ringer': 0.0, 'Ryavka': 0.0, 'Kyle': 0.3333333333333333, 'Emp': 0.5, 'Gears': 1.0, 'Magico': 0.0, 'Flezeth': 0.0, 'PerkZ': 0.5, 'tei': 0.1111111111111111, 'Fish': 0.25, 'Takefuned': 1.0, 'Easy': 0.0, 'Doublelift': 0.6729857819905213, 'Nardeus': 0.7727272727272727, 'Apollo': 0.423963133640553, 'Zven': 0.6243093922651933, 'FBI': 0.6081081081081081, 'Rabi2': 0.0, 'Madness': 0.4274193548387097, 'NL': 0.7570093457943925, 'Stitch': 0.4772727272727273, 'Rekkles': 0.54337899543379, 'Sneaky': 0.5914396887159533, 'Ohq': 0.52, 'Deft': 0.6170212765957447, 'Rock': 0.75, 'VincentVega': 0.527027027027027, 'Nien': 0.375, 'Keith': 0.344, 'Nien8': 0.4666666666666667, 'Samux': 0.4953271028037383, 'WildTurtle': 0.5877192982456141, 'Blasting': 0.6, 'Steeelback': 0.423841059602649, 'Zeitnot': 0.6993464052287581, 'Arrow': 0.5587188612099644, 'Adryh': 0.36507936507936506, 'Bang': 0.7105263157894737, 'esA': 0.6428571428571429, 'Hans Sama': 0.48863636363636365, 'Freeze': 0.41333333333333333, 'Ruler': 0.6804733727810651, 'Cody Sun': 0.5555555555555556, 'SONSTAR': 0.3, 'Nuclear': 0.41566265060240964, 'LBB': 0.3, 'Ruve Sama': 0.6333333333333333, 'PraY': 0.6678966789667896, 'SSol': 0.3217391304347826, 'Deul': 0.41379310344827586, 'Roar': 0.35294117647058826, 'Sangyoon': 0.42272727272727273, 'Stixxay': 0.5686274509803921, 'Betty': 0.7142857142857143, 'Revanche': 0.4642857142857143, 'LOD': 0.44339622641509435, 'CoreJJ': 0.7076923076923077, 'Padden': 0.25, 'Hjarnan': 0.5285714285714286, 'Kindless': 0.6153846153846154, 'HeaQ': 0.32432432432432434, 'pbO': 0.38181818181818183, 'Police': 0.4722222222222222, 'Ruvelius': 0.5151515151515151, 'micaO': 0.6585365853658537, 'Uzi': 0.5434782608695652, 'Ghost': 0.35555555555555557, 'Mash': 0.35398230088495575, 'HolyPhoenix': 0.44360902255639095, 'Pilot': 0.47761194029850745, 'Lost': 0.5733333333333334, 'Altec': 0.0, 'imp': 0.7222222222222222, 'CorGi': 0.4, 'Mystic': 0.6052631578947368, 'Matsukaze': 0.5070422535211268, 'Veritas': 0.4794520547945205, 'Dee': 0.46621621621621623, 'aMiracle': 0.582089552238806, 'Space': 0.5487804878048781, 'YutoriMoyasi': 0.717391304347826, 'Cop': 0.56, 'Hologram': 0.2857142857142857, 'S0NSTAR': 0.475, 'dayruin': 0.0, 'Blinky': 0.4807692307692308, 'NaMei': 0.5555555555555556, 'EvanRL': 0.4838709677419355, 'GodJJ': 0.5862068965517241, 'Minitroupax': 0.6666666666666666, 'Sou': 0.5238095238095238, 'Ran': 0.0, 'Sacy': 0.6363636363636364, 'DeuL': 0.2857142857142857, 'pooh': 0.5833333333333334, 'CandyPanda': 0.4090909090909091, 'Toaster': 0.5, 'Chenyboy': 0.4444444444444444, 'WhiteLotus': 0.9230769230769231, 'Focho': 0.42105263157894735, 'Teddy': 0.4625, 'momo': 0.25, 'LokeN': 0.42592592592592593, 'Low': 0.13636363636363635, 'FORG1VENGRE': 0.6166666666666667, 'Donut': 0.48, 'DarkSide': 0.5471698113207547, 'AN': 0.7131782945736435, 'unho1y': 0.47368421052631576, 'S RD': 0.0, 'k1ng': 0.7619047619047619, 'san': 0.5833333333333334, 'Whitelotus': 1.0, 'Lactea': 0.4, 'Niels': 0.6595744680851063, 'Endz': 0.13333333333333333, 'Tabzz': 0.27586206896551724, 'Prototype': 0.5, 'Kramer': 0.4425287356321839, 'kazze': 0.4444444444444444, 'Raid': 0.36764705882352944, 'Ruvelius376': 0.3076923076923077, 'Payne': 0.2, 'An': 0.7058823529411765, 'Raydere': 0.6363636363636364, 'DoubleRed': 0.5714285714285714, 'PADDEN': 0.46153846153846156, 'xpng': 0.55, 'ROBERTxLEE': 0.3333333333333333, 'prodi': 0.5666666666666667, 'Wuxx': 0.6, 'EzPrince': 0.3333333333333333, 'Zerost': 0.5737704918032787, 'Kobbe': 0.5112781954887218, 'Haretti': 0.5942028985507246, 'Diesel': 0.625, 'Deftly': 0.25, 'Warangelus': 0.5357142857142857, 'NoA': 0.3695652173913043, 'Stealthix': 0.21052631578947367, 'Juzinho': 0.6, 'Rikara': 0.16666666666666666, 'Rkp': 0.29411764705882354, 'brTT': 0.5, 'Emperor': 0.5333333333333333, 'Breeze': 0.2980769230769231, 'reje': 0.5909090909090909, 'ohq': 0.23809523809523808, 'LeX': 0.4482758620689655, 'Fix': 0.75, 'K1ng': 0.6666666666666666, 'Lloyd': 0.0, 'Cpt Jack': 0.5714285714285714, 'Sarkis': 0.23076923076923078, 'KillerS': 0.2857142857142857, 'Sedrion': 0.17647058823529413, 'Zeicro': 0.425, 'Edition': 0.38095238095238093, 'Tarky': 0.0, 'KEITH': 0.8333333333333334, 'Peluchin': 0.4583333333333333, 'Zefa': 0.4666666666666667, 'Crayzee': 0.0625, 'Raes': 0.6288659793814433, 'Tauren': 0.5789473684210527, 'Kedu': 0.25, 'Cardrid': 0.4782608695652174, 'Jynthe': 0.25, 'BeBe': 0.5255474452554745, 'Stansfield': 0.5, 'MrRalleZ': 0.37894736842105264, 'Vasilii': 0.3333333333333333, 'Ciyansan': 0.3888888888888889, 'Fury': 0.375, 'MaHa': 0.42857142857142855, 'Vardags': 0.5, 'Kz': 0.5, 'Wildturtle': 0.8333333333333334, 'LilV': 0.5555555555555556, 'VirusFx': 0.56, 'Achuu': 0.5, 'KKramer': 0.6, 'FORG1VEN': 0.5555555555555556, 'P1noy': 0.4791666666666667, 'meanTnT': 0.4375, 'NaeMisa': 0.5, 'Day1': 0.23529411764705882, 'LUSKKA': 0.4166666666666667, 'Emtest': 0.5, 'Achuu Cop': 0.5294117647058824, 'Ever Loken': 0.25, 'SacyR': 0.3870967741935484, 'Maplestreet8': 0.4117647058823529, 'TnT': 0.5454545454545454, 'Raison': 0.5217391304347826, 'Dream': 0.0, 'MrRallez': 0.6, 'Zealot': 0.3, 'Skyer': 0.38461538461538464, 'Woolite': 0.4444444444444444, 'Medusa': 0.0, 'Yuuki60': 0.3409090909090909, 'DanDan': 0.25, 'BULBAZABP': 0.39285714285714285, 'Raps': 0.3157894736842105, 'Fabbbyyy': 0.6206896551724138, 'Loken': 0.625, 'Optimas': 0.3333333333333333, 'mean': 0.36, 'Ritix': 0.34285714285714286, 'Upset': 0.6666666666666666, 'y4': 0.6666666666666666, 'N1njA': 0.5111111111111111, 'otter': 0.22727272727272727, 'Creaton': 0.3333333333333333, 'GarnetDevil': 0.5, 'Absolut': 0.5652173913043478, 'Moopz': 0.0, 'Kinzu': 0.3333333333333333, 'Zeypher': 0.52, 'Lupin': 0.5428571428571428, 'Gatocrack': 0.19047619047619047, 'Squidgy': 0.2857142857142857, 'Kid': 0.25, 'cop': 1.0, 'Starscream': 0.36363636363636365, 'Smlz': 0.25, 'Meron': 0.4583333333333333, 2020: 0.08695652173913043, 'Jinjiao': 0.2, 'Zigu': 0.15789473684210525, 'KillerEs': 0.36764705882352944, 'Tiger': 0.0, 'Neverloses': 0.4, 'Unstop': 0.0, 'Hans sama': 0.5555555555555556, 'maplestreet8': 0.5, 'NikSar': 0.4230769230769231, 'Nientonsoh': 0.5, 'deft': 0.6666666666666666, 'j1mmy': 0.25, 'DudsTheBoy': 0.0, 'Noway': 0.5384615384615384, 'MabreyBABY': 0.4, 'dan': 0.0, 'YutoriMoyashi': 0.5714285714285714, 'HoNeyRain': 0.0, 'RhythmAsalt': 0.05263157894736842, 'S Lat': 0.3333333333333333, 'BEBE': 0.5833333333333334, 's0ra': 0.42857142857142855, 'Luskka': 0.3333333333333333, 'Steeelbackkk': 0.3333333333333333, 'Ssol': 0.25, 'M17Dee': 0.0, 'Manu': 0.4, 'Slay': 0.25, 'Germoo': 0.13043478260869565, 'Ruve sama': 0.5555555555555556, 'I Am The IRS': 0.0, 'Lilv': 0.8, 'Ekd': 0.5833333333333334, 'Tour': 0.0, 'Pray': 1.0, 'UpseT': 0.2, 'Bebe': 0.5, 'Cake': 0.4444444444444444, 'Zyzz': 0.25, 'Enzz': 0.0, 'Safir': 0.2, 'Hoofspark': 0.3333333333333333, 'Krislund': 0.75, 'Tomnam': 0.5, 'Zaek': 0.42857142857142855, 'Unlimited': 0.43333333333333335, 'iBoy': 0.4, 'Gankzero': 0.3333333333333333, 'Theusma': 0.25, 'SirAlphaQ': 0.0, 'Celaver': 0.4375, 'Paragon': 0.3333333333333333, 'Lattman': 0.0, 'Znsho': 0.0, 'Grisha': 0.3333333333333333, '0hq': 0.0, 'Sa1na': 0.3333333333333333, 'TheFoxz': 0.2727272727272727, 'Madnesss': 0.0, 'Stierlitz': 0.0, 'Dalka': 0.2, 'OB5': 0.0, 'Impactful': 0.4, 'J1mmy': 1.0, 'Achu': 0.5, 'Honos': 0.3333333333333333, 'Amades': 0.375, 'WizFujiiN': 0.3333333333333333, 'MarioMe': 0.6, 'Dom1nant': 0.5, 'Nono': 0.0, 'tantrum': 0.0, 'Lethilion': 0.0, 'Bat': 0.0, 'Reje': 0.25, 'Straawbella': 1.0, 'NeverLoses': 1.0, 'Sonstar': 0.2857142857142857, 'Nymue': 0.0, 'Nocturnal': 0.0, 'LouisXGeeGee': 0.5, 'Deee': 1.0, 'Vincent': 0.0, 'aphromoo': 0.5767634854771784, 'The Foxz': 0.0, 'Sheriff': 0.5, 'Crykee': 0.6666666666666666, 'XDSMILEY': 0.5555555555555556, 'Youngbin': 0.5, 'WILDTURTLE': 0.5, 'Chelly': 0.3333333333333333, 'Aladoric': 0.3333333333333333, 'Nothing': 0.5, 'Kimi': 0.0, 'Ladooscuro': 0.0, 'Maha': 0.3333333333333333, 'Vizility': 0.0, 'LuNar': 0.3333333333333333, 'Jesse': 0.5, 'nororin': 1.0, 'Vander': 0.5279503105590062, 'DANDAN': 0.0, 'Aiming': 0.0, 'Zet': 0.3333333333333333, 'Voyna': 1.0, 'Kkramer': 0.0, 'Frost': 0.0, 'Yellowstar': 0.5581395348837209, 'Hakuho': 0.3860759493670886, 'Mithy': 0.5675675675675675, 'Rogue': 0.5263157894736842, 'mithy': 0.6623376623376623, 'Cognac': 0.42045454545454547, 'SwordArT': 0.7476635514018691, 'Wraith': 0.49295774647887325, 'YellOwStaR': 0.5888888888888889, 'KiWiKiD': 0.3263157894736842, 'Smoothie': 0.6011904761904762, 'Cain': 0.3684210526315789, 'Mata': 0.6285714285714286, 'Tuna': 0.7, 'Likkrit': 0.6463414634146342, 'Dodo8': 0.42857142857142855, 'Big': 0.3563218390804598, 'Nestea': 0.3684210526315789, 'Hylissang': 0.5172413793103449, 'LemonNation': 0.4880952380952381, 'Antariys': 0.25, 'Baby': 0.16666666666666666, 'Shady': 0.1875, 'Rydle': 0.5555555555555556, 'Baiano': 0.4666666666666667, 'IgNar': 0.461038961038961, 'Adrian': 0.6298342541436464, 'AoD': 0.18181818181818182, 'Hybrid': 0.47297297297297297, 'Olleh': 0.5507246376811594, 'Hachani': 0.5631067961165048, 'Swanepoel': 0.29411764705882354, 'Chei': 0.5523809523809524, 'SuKi': 0.2875, 'Zergsting': 0.5714285714285714, 'GorillA': 0.6701754385964912, 'GuGer': 0.2857142857142857, 'rogu': 0.37777777777777777, 'Ella': 0.3076923076923077, 'SnowFlower': 0.44660194174757284, 'viviD': 0.6346153846153846, 'SwordArt': 0.6428571428571429, 'un1tback': 0.45161290322580644, 'Mocha': 0.6, 'Xpecial': 0.48066298342541436, 'Japone': 0.6060606060606061, 'Wadid': 0.4, 'Newbie': 0.6153846153846154, 'Hustlin': 0.41964285714285715, 'Woswos': 0.36363636363636365, 'Jockster': 0.6585365853658537, 'Zero': 0.6521739130434783, 'Klaj': 0.5348837209302325, 'Totoro': 0.34, 'Visdom': 0.5185185185185185, 'Lustboy': 0.5882352941176471, 'Rosey': 0.3508771929824561, 'G0DFRED': 0.20588235294117646, 'Pyl': 0.3333333333333333, 'KaSing': 0.5098039215686274, 'Chunx': 0.3076923076923077, 'Secret': 0.2736842105263158, 'Ben': 0.6, 'Loop': 0.5714285714285714, 'Matt': 0.4620253164556962, 'Dreamer': 0.46496815286624205, 'skash': 0.5, 'MadLife': 0.45977011494252873, 'Dara': 0.7049180327868853, 'Tolerant': 0.6521739130434783, 'Bunny FuFuu': 0.578125, 'Coool': 0.2857142857142857, 'Meiko': 0.5555555555555556, 'Gemp': 0.0, 'Jayke': 0.46938775510204084, 'Fzzf': 0.5555555555555556, 'Jactroll': 0.6666666666666666, 'sonyky': 0.4375, 'Koala': 0.5689655172413793, 'Cabu': 0.75, 'Kaiwing': 0.42105263157894735, 'Fixer': 0.5454545454545454, 'Jestkui Max': 0.5833333333333334, 'nRated': 0.5333333333333333, 'Genthix': 0.8852459016393442, 'Slow': 0.6046511627906976, 'Ziriguidun': 0.4838709677419355, 'Veki': 0.3, 'QuietRain': 0.26666666666666666, 'Key': 0.43703703703703706, 'tgun': 0.14285714285714285, 'Suppa': 0.4782608695652174, 'Un1tback': 0.5, 'Dimonko': 0.65, 'Arphan': 0.5454545454545454, 'Piccaboo': 0.660377358490566, 'Tilting': 0.2222222222222222, 'KonKwon': 0.4230769230769231, 'Cloud': 0.625, 'RedBert': 0.6086956521739131, 'Kairos Plz': 0.21739130434782608, 'Hiiva': 0.0, 'Rule18': 0.5, 'Cuden': 0.4492753623188406, 'Biofrost': 0.6766467065868264, 'Regret9': 0.7777777777777778, 'SkuLL': 0.1896551724137931, 'Pure': 0.4744525547445255, 'Noxiak': 0.45, 'EGym': 0.6698113207547169, 'Corpse': 0.36666666666666664, 'Choisix': 0.52, 'Bubbadub': 0.3333333333333333, 'Tulz': 0.56, 'Professor': 0.4523809523809524, 'Mikyx': 0.5357142857142857, 'Cupcake': 0.6379310344827587, 'Enty': 0.5942028985507246, 'Baula': 0.5666666666666667, 'Zeyzal': 0.3125, 'Shadow': 1.0, 'Mor': 0.36363636363636365, 'Eternal': 0.9047619047619048, 'Yuki': 0.3695652173913043, 'konkwon': 0.3333333333333333, 'Yuzuki': 0.3125, 'Wendelbo': 0.6, 'Dioud': 0.6304347826086957, 'Sweet': 0.47368421052631576, 'EDward': 0.6388888888888888, 'extinkt': 0.16666666666666666, 'Nisbeth': 0.3333333333333333, 'Nyph': 0.45454545454545453, 'Effort': 0.2222222222222222, 'Cabuloso': 0.23076923076923078, 'Madagger': 0.25, 'MounTain': 0.21428571428571427, 'Badmilk': 0.42857142857142855, 'Blindturkey': 0.5, 'Gralou': 0.2978723404255319, 'Lelouch': 0.7142857142857143, 'SuperAZE': 0.6428571428571429, 'WildHeart': 0.5555555555555556, 'Chenxuan': 0.2727272727272727, 'Jay': 0.5853658536585366, 'kaSing': 0.625, 'Picoca': 0.4666666666666667, 'Denian': 0.29411764705882354, 'sprattel': 0.32222222222222224, 'Terap1st': 0.3103448275862069, 'Max': 0.40310077519379844, 'ThintoN': 0.4827586206896552, 'promisQ': 0.16666666666666666, 'lehends': 0.25, 'Masterwork': 0.3333333333333333, 'Touch': 0.5, 'GreenTea': 0.631578947368421, 'SirNukesAlot': 0.4, 'Veux': 0.40625, 'Rogu': 0.3225806451612903, 'Verfix': 0.42857142857142855, 'SaNTS': 0.5862068965517241, 'Ming': 0.6470588235294118, 'Tusin': 1.0, 'Ever Key': 0.25, 'Skash': 0.2962962962962963, 'TcT': 0.5454545454545454, 'Ysera': 0.3, 'Kpop': 0.125, 'SaNTaS': 0.46153846153846156, 'Filopo': 0.21428571428571427, 'Legato': 0.15789473684210525, 'Krepo': 0.5555555555555556, 'Tgun': 0.45454545454545453, 'Dreams': 0.3, 'Legion': 0.75, 'delord': 0.3333333333333333, 'hibiki': 0.6, 'Luna': 0.15789473684210525, 'Rogu sama': 0.4, 'Edward': 0.4864864864864865, 'Norskeren': 0.7142857142857143, 'NerzhuL': 0.5111111111111111, 'Bodydrop': 0.22727272727272727, 'Jree': 0.3333333333333333, 'Gleeb': 0.5384615384615384, 'Wei': 0.5, 'GoSu Pepper': 0.47368421052631576, 'Saviour': 0.5, 'Alocs': 0.38461538461538464, 'Stuntopolis': 0.0, 'Zzus': 0.375, 'Lfante': 0.19047619047619047, 'Heart': 0.5833333333333334, 'Melon': 0.14285714285714285, 'Voidle': 0.6666666666666666, 'Kitties': 0.25, 'Tyresse': 0.0, 'Five': 0.25, 'Decoy': 0.5, 'Road': 0.2, 'Wiffle': 0.0, 'Denden': 0.75, 'DaDa777': 0.5, 'masterwork': 0.16666666666666666, 'GetCrazy': 0.09090909090909091, 'dodo8': 0.5, 'Archie2b': 0.6666666666666666, 'Gleebglarbu': 0.4166666666666667, 'Weiiii': 0.22727272727272727, 'Ceos': 0.0, 'hachani': 0.35714285714285715, 'SimSin': 0.3333333333333333, 'Je suis Kaas': 0.25, 'Wos': 0.4473684210526316, 'Sya': 0.6, 'Lohpally': 0.4, 'je suis kaas': 0.16666666666666666, 'NeedLess': 0.75, 'Rhuckz': 0.6, 'Stunt': 0.625, 'ThreshMelon': 0.0, 'Raxxo': 0.41025641025641024, 'Targamas': 0.6666666666666666, 'Yoshiaki': 0.07142857142857142, 'Keoo': 0.5185185185185185, 'YuZhe': 0.5, 'Codpiece': 0.42857142857142855, 'RedBert VPP': 0.3333333333333333, 'BarneyD': 0.3333333333333333, 'Guger': 0.25, 'SaNTas': 0.25, 'YellOwStar': 0.4, 'Grisen': 0.2777777777777778, 'DevilPancake': 0.11538461538461539, 'Indivisible': 0.0, 'sOnyky': 0.8888888888888888, 'Barcode': 0.2857142857142857, 'HusTlin': 0.2, 'Zytan': 0.25, 'Hanjaro': 0.3333333333333333, 'EdWard': 0.75, 'Sheep': 0.3103448275862069, 'Riyev': 0.4375, 'Farfetch': 0.4, 'Hayha': 0.5, 'Lillebelt': 0.25, 'Trance': 0.5, 'Xavieles': 0.16666666666666666, 'Bokgu': 0.3333333333333333, 'Vioreleeee': 0.0, 'Blumigan': 0.0, 'Libik': 0.4375, 'Regret': 0.0, 'Rogu Sama': 0.42857142857142855, 'BocaJunior': 0.18181818181818182, 'XD': 0.6666666666666666, 'Tgee': 0.0, 'Broler': 0.25, 'Niko3333': 0.3333333333333333, 'Remi': 0.0, 'Scatz': 0.5, 'CandyBB': 0.0, 'Gorilla': 0.5, 'Eason': 0.2857142857142857, 'Zest': 0.2222222222222222, 'Moss': 0.0, 'BunnyFuFuu': 0.3333333333333333, 'KEITHMCBRIEF': 0.3333333333333333, 'dans': 0.25, 'Bonjour': 0.75, 'Aphromoo': 0.6666666666666666, 'Ken': 0.5, 'Wildpanda': 0.5, 'Mallek': 0.0, 'Lounet': 0.0, 'SaZeD': 0.16666666666666666, 'Primoo': 0.0, 'Ralara': 0.0, 'Joey': 0.0, 'Promisq': 0.0, 'Sweetr': 1.0, 'Imagine': 0.25, 'Nevan': 0.3333333333333333, 'Bluz0r': 0.0, 'Jelly': 0.3333333333333333, 'promisq': 1.0, 'Whyin': 0.0, 'Nekhazten': 0.0, 'Angelas': 0.0, 'TML': 0.25, 'PromisQ': 1.0, 'Madlife': 0.5, 'Boris': 0.5, 'Makro': 0.0, 'Beni': 0.0, 'k1': 0.0}\n"
     ]
    },
    {
     "data": {
      "text/plain": [
       "1975"
      ]
     },
     "execution_count": 180,
     "metadata": {},
     "output_type": "execute_result"
    }
   ],
   "source": [
    "#dicionarios juntos\n",
    "alls={}\n",
    "\n",
    "for k,v in team.items():\n",
    "    alls[k]=v\n",
    "\n",
    "for k,v in top.items():\n",
    "    alls[k]=v\n",
    "\n",
    "for k,v in mid.items():\n",
    "    if k not in mid.keys():\n",
    "        alls[k]=v\n",
    "    else:\n",
    "        alls[k]=(v+mid[k])/2\n",
    "\n",
    "for k,v in jg.items():\n",
    "    if k not in jg.keys():\n",
    "        alls[k]=v\n",
    "    else:\n",
    "        alls[k]=(v+jg[k])/2\n",
    "\n",
    "for k,v in adc.items():\n",
    "    if k not in adc.keys():\n",
    "        alls[k]=v\n",
    "    else:\n",
    "        alls[k]=(v+adc[k])/2\n",
    "\n",
    "for k,v in sup.items():\n",
    "    if k not in sup.keys():\n",
    "        alls[k]=v\n",
    "    else:\n",
    "        alls[k]=(v+sup[k])/2\n",
    "\n",
    "for k,v in top_player.items():\n",
    "    if k not in top_player.keys():\n",
    "        alls[k]=v\n",
    "    else:\n",
    "        alls[k]=(v+top_player[k])/2\n",
    "\n",
    "for k,v in jg_player.items():\n",
    "    if k not in jg_player.keys():\n",
    "        alls[k]=v\n",
    "    else:\n",
    "        alls[k]=(v+jg_player[k])/2\n",
    "\n",
    "for k,v in mid_player.items():\n",
    "    if k not in mid_player.keys():\n",
    "        alls[k]=v\n",
    "    else:\n",
    "        alls[k]=(v+mid_player[k])/2\n",
    "\n",
    "for k,v in adc_player.items():\n",
    "    if k not in adc_player.keys():\n",
    "        alls[k]=v\n",
    "    else:\n",
    "        alls[k]=(v+adc_player[k])/2\n",
    "\n",
    "for k,v in sup_player.items():\n",
    "    if k not in sup_player.keys():\n",
    "        alls[k]=v\n",
    "    else:\n",
    "        alls[k]=(v+sup_player[k])/2\n",
    "    \n",
    "print(alls)\n",
    "len(alls)"
   ]
  },
  {
   "cell_type": "code",
   "execution_count": 23,
   "metadata": {},
   "outputs": [],
   "source": [
    "#classificador\n",
    "columnsb=['bResult', 'blueTeamTag', 'blueTop', 'blueTopChamp', 'blueJungle','blueJungleChamp', 'blueMiddle', 'blueMiddleChamp', 'blueADC','blueADCChamp', 'blueSupport', 'blueSupportChamp']\n",
    "columnsr=['rResult', 'redTeamTag', 'redTop','redTopChamp', 'redJungle', 'redJungleChamp', 'redMiddle','redMiddleChamp', 'redADC', 'redADCChamp', 'redSupport','redSupportChamp']\n",
    "columns=['Result', 'TeamTag', 'Top','TopChamp', 'Jungle', 'JungleChamp', 'Middle','MiddleChamp', 'ADC', 'ADCChamp', 'Support','SupportChamp']\n"
   ]
  },
  {
   "cell_type": "code",
   "execution_count": 24,
   "metadata": {},
   "outputs": [],
   "source": [
    "dados_b = dados[columnsb]\n",
    "dados_b.columns = columns\n",
    "dados_r = dados[columnsr]\n",
    "dados_r.columns = columns"
   ]
  },
  {
   "cell_type": "code",
   "execution_count": 39,
   "metadata": {
    "scrolled": false
   },
   "outputs": [],
   "source": [
    "dados_concat = pd.concat([dados_b, dados_r]).dropna()"
   ]
  },
  {
   "cell_type": "code",
   "execution_count": 40,
   "metadata": {},
   "outputs": [],
   "source": [
    "y_train = dados_concat['Result']\n",
    "X_train = dados_concat.drop(columns='Result')"
   ]
  },
  {
   "cell_type": "code",
   "execution_count": 47,
   "metadata": {},
   "outputs": [
    {
     "data": {
      "text/plain": [
       "array([['TSM', 'Hauntzer', 'Trundle', ..., 'Jhin', 'Yellowstar', 'Braum'],\n",
       "       ['BJK', 'Thaldrin', 'Gnar', ..., 'Graves', 'Dumbledoge', 'Annie'],\n",
       "       ['NV', 'Seraph', 'Maokai', ..., 'Ziggs', 'Hakuho', 'Lulu'],\n",
       "       ...,\n",
       "       ['TL', 'Lourlo', 'Nautilus', ..., 'Vayne', 'Matt', 'Karma'],\n",
       "       ['GIA', 'Flaxxish', 'Rumble', ..., 'Ashe', 'Hustlin', 'Zyra'],\n",
       "       ['FNC', 'Huni', 'Riven', ..., 'Jinx', 'YellOwStaR', 'TahmKench']],\n",
       "      dtype=object)"
      ]
     },
     "execution_count": 47,
     "metadata": {},
     "output_type": "execute_result"
    }
   ],
   "source": [
    "X_train.values"
   ]
  },
  {
   "cell_type": "code",
   "execution_count": 53,
   "metadata": {},
   "outputs": [],
   "source": [
    "from sklearn.preprocessing import OneHotEncoder\n",
    "encoder = OneHotEncoder()\n",
    "X_train_encoded = encoder.fit_transform(X_train.astype(str).values)"
   ]
  },
  {
   "cell_type": "code",
   "execution_count": 54,
   "metadata": {},
   "outputs": [
    {
     "data": {
      "text/plain": [
       "<12933x2306 sparse matrix of type '<class 'numpy.float64'>'\n",
       "\twith 142263 stored elements in Compressed Sparse Row format>"
      ]
     },
     "execution_count": 54,
     "metadata": {},
     "output_type": "execute_result"
    }
   ],
   "source": [
    "X_train_encoded"
   ]
  },
  {
   "cell_type": "code",
   "execution_count": 57,
   "metadata": {},
   "outputs": [
    {
     "data": {
      "text/plain": [
       "RandomForestClassifier(bootstrap=True, class_weight=None, criterion='gini',\n",
       "            max_depth=None, max_features='auto', max_leaf_nodes=None,\n",
       "            min_impurity_decrease=0.0, min_impurity_split=None,\n",
       "            min_samples_leaf=1, min_samples_split=2,\n",
       "            min_weight_fraction_leaf=0.0, n_estimators=100, n_jobs=None,\n",
       "            oob_score=False, random_state=None, verbose=0,\n",
       "            warm_start=False)"
      ]
     },
     "execution_count": 57,
     "metadata": {},
     "output_type": "execute_result"
    }
   ],
   "source": [
    "from sklearn.ensemble import RandomForestClassifier\n",
    "model = RandomForestClassifier(n_estimators=100)\n",
    "model.fit(X_train_encoded, y_train)"
   ]
  },
  {
   "cell_type": "code",
   "execution_count": 60,
   "metadata": {},
   "outputs": [
    {
     "data": {
      "text/plain": [
       "0.9986082115518441"
      ]
     },
     "execution_count": 60,
     "metadata": {},
     "output_type": "execute_result"
    }
   ],
   "source": [
    "model.score(X_train_encoded, y_train)"
   ]
  },
  {
   "cell_type": "code",
   "execution_count": 189,
   "metadata": {},
   "outputs": [],
   "source": [
    "wins=[]\n",
    "for i in range(len(dados_testes)):\n",
    "    probblue=1\n",
    "    probred=1\n",
    "    \n",
    "    for f in columnsb:\n",
    "        if dados_testes.loc[i,f] not in alls.keys():\n",
    "            probblue*=0.5\n",
    "        else:\n",
    "            if alls[dados_testes.loc[i,f]]==0 or alls[dados_testes.loc[i,f]]==1:\n",
    "                probblue*=0.5\n",
    "            else:\n",
    "                probblue*=alls[dados_testes.loc[i,f]]\n",
    "    for f in columnsr:\n",
    "        if dados_testes.loc[i,f] not in alls.keys():\n",
    "            probred*=0.5\n",
    "        else:\n",
    "            if alls[dados_testes.loc[i,f]]==0 or alls[dados_testes.loc[i,f]]==1:\n",
    "                probred*=0.5\n",
    "            else:\n",
    "                probred*=alls[dados_testes.loc[i,f]]\n",
    "    if probblue<probred:\n",
    "        wins.append(0)\n",
    "    else:\n",
    "        wins.append(1)"
   ]
  },
  {
   "cell_type": "code",
   "execution_count": 190,
   "metadata": {},
   "outputs": [
    {
     "name": "stdout",
     "output_type": "stream",
     "text": [
      "64.58519179304193 %\n"
     ]
    }
   ],
   "source": [
    "#teste de qualidade\n",
    "certo=0\n",
    "total=0\n",
    "for i in range(len(dados_testes)):\n",
    "    if dados_testes.loc[i,'bResult']==wins[i]:\n",
    "        certo+=1\n",
    "        total+=1\n",
    "    else:\n",
    "        total+=1\n",
    "print(100*certo/total,'%')\n",
    "        "
   ]
  },
  {
   "cell_type": "code",
   "execution_count": null,
   "metadata": {},
   "outputs": [],
   "source": []
  }
 ],
 "metadata": {
  "kernelspec": {
   "display_name": "Python 3",
   "language": "python",
   "name": "python3"
  },
  "language_info": {
   "codemirror_mode": {
    "name": "ipython",
    "version": 3
   },
   "file_extension": ".py",
   "mimetype": "text/x-python",
   "name": "python",
   "nbconvert_exporter": "python",
   "pygments_lexer": "ipython3",
   "version": "3.7.1"
  }
 },
 "nbformat": 4,
 "nbformat_minor": 2
}
