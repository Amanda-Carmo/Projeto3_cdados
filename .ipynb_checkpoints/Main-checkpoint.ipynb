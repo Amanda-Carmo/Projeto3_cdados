{
 "cells": [
  {
   "cell_type": "code",
   "execution_count": 2,
   "metadata": {},
   "outputs": [],
   "source": [
    "%matplotlib inline\n",
    "import pandas as pd\n",
    "import matplotlib.pyplot as plt\n",
    "import numpy as np"
   ]
  },
  {
   "cell_type": "code",
   "execution_count": 7,
   "metadata": {},
   "outputs": [],
   "source": [
    "\n",
    "dados = pd.read_csv('matchinfo.csv')"
   ]
  },
  {
   "cell_type": "code",
   "execution_count": 10,
   "metadata": {},
   "outputs": [
    {
     "data": {
      "text/html": [
       "<div>\n",
       "<style scoped>\n",
       "    .dataframe tbody tr th:only-of-type {\n",
       "        vertical-align: middle;\n",
       "    }\n",
       "\n",
       "    .dataframe tbody tr th {\n",
       "        vertical-align: top;\n",
       "    }\n",
       "\n",
       "    .dataframe thead th {\n",
       "        text-align: right;\n",
       "    }\n",
       "</style>\n",
       "<table border=\"1\" class=\"dataframe\">\n",
       "  <thead>\n",
       "    <tr style=\"text-align: right;\">\n",
       "      <th></th>\n",
       "      <th>League</th>\n",
       "      <th>Year</th>\n",
       "      <th>Season</th>\n",
       "      <th>Type</th>\n",
       "      <th>blueTeamTag</th>\n",
       "      <th>bResult</th>\n",
       "      <th>rResult</th>\n",
       "      <th>redTeamTag</th>\n",
       "      <th>gamelength</th>\n",
       "      <th>blueTop</th>\n",
       "      <th>...</th>\n",
       "      <th>redTopChamp</th>\n",
       "      <th>redJungle</th>\n",
       "      <th>redJungleChamp</th>\n",
       "      <th>redMiddle</th>\n",
       "      <th>redMiddleChamp</th>\n",
       "      <th>redADC</th>\n",
       "      <th>redADCChamp</th>\n",
       "      <th>redSupport</th>\n",
       "      <th>redSupportChamp</th>\n",
       "      <th>Address</th>\n",
       "    </tr>\n",
       "  </thead>\n",
       "  <tbody>\n",
       "    <tr>\n",
       "      <th>0</th>\n",
       "      <td>NALCS</td>\n",
       "      <td>2015</td>\n",
       "      <td>Spring</td>\n",
       "      <td>Season</td>\n",
       "      <td>TSM</td>\n",
       "      <td>1</td>\n",
       "      <td>0</td>\n",
       "      <td>C9</td>\n",
       "      <td>40</td>\n",
       "      <td>Dyrus</td>\n",
       "      <td>...</td>\n",
       "      <td>Gnar</td>\n",
       "      <td>Meteos</td>\n",
       "      <td>Elise</td>\n",
       "      <td>Hai</td>\n",
       "      <td>Fizz</td>\n",
       "      <td>Sneaky</td>\n",
       "      <td>Sivir</td>\n",
       "      <td>LemonNation</td>\n",
       "      <td>Thresh</td>\n",
       "      <td>http://matchhistory.na.leagueoflegends.com/en/...</td>\n",
       "    </tr>\n",
       "    <tr>\n",
       "      <th>1</th>\n",
       "      <td>NALCS</td>\n",
       "      <td>2015</td>\n",
       "      <td>Spring</td>\n",
       "      <td>Season</td>\n",
       "      <td>CST</td>\n",
       "      <td>0</td>\n",
       "      <td>1</td>\n",
       "      <td>DIG</td>\n",
       "      <td>38</td>\n",
       "      <td>Cris</td>\n",
       "      <td>...</td>\n",
       "      <td>Irelia</td>\n",
       "      <td>Crumbzz</td>\n",
       "      <td>JarvanIV</td>\n",
       "      <td>Shiphtur</td>\n",
       "      <td>Azir</td>\n",
       "      <td>CoreJJ</td>\n",
       "      <td>Corki</td>\n",
       "      <td>KiWiKiD</td>\n",
       "      <td>Annie</td>\n",
       "      <td>http://matchhistory.na.leagueoflegends.com/en/...</td>\n",
       "    </tr>\n",
       "  </tbody>\n",
       "</table>\n",
       "<p>2 rows × 30 columns</p>\n",
       "</div>"
      ],
      "text/plain": [
       "  League  Year  Season    Type blueTeamTag  bResult  rResult redTeamTag  \\\n",
       "0  NALCS  2015  Spring  Season         TSM        1        0         C9   \n",
       "1  NALCS  2015  Spring  Season         CST        0        1        DIG   \n",
       "\n",
       "   gamelength blueTop                        ...                          \\\n",
       "0          40   Dyrus                        ...                           \n",
       "1          38    Cris                        ...                           \n",
       "\n",
       "  redTopChamp redJungle redJungleChamp redMiddle redMiddleChamp  redADC  \\\n",
       "0        Gnar    Meteos          Elise       Hai           Fizz  Sneaky   \n",
       "1      Irelia   Crumbzz       JarvanIV  Shiphtur           Azir  CoreJJ   \n",
       "\n",
       "  redADCChamp   redSupport redSupportChamp  \\\n",
       "0       Sivir  LemonNation          Thresh   \n",
       "1       Corki      KiWiKiD           Annie   \n",
       "\n",
       "                                             Address  \n",
       "0  http://matchhistory.na.leagueoflegends.com/en/...  \n",
       "1  http://matchhistory.na.leagueoflegends.com/en/...  \n",
       "\n",
       "[2 rows x 30 columns]"
      ]
     },
     "execution_count": 10,
     "metadata": {},
     "output_type": "execute_result"
    }
   ],
   "source": [
    "dados.head(2)"
   ]
  },
  {
   "cell_type": "code",
   "execution_count": 9,
   "metadata": {},
   "outputs": [
    {
     "data": {
      "text/plain": [
       "Index(['League', 'Year', 'Season', 'Type', 'blueTeamTag', 'bResult', 'rResult',\n",
       "       'redTeamTag', 'gamelength', 'blueTop', 'blueTopChamp', 'blueJungle',\n",
       "       'blueJungleChamp', 'blueMiddle', 'blueMiddleChamp', 'blueADC',\n",
       "       'blueADCChamp', 'blueSupport', 'blueSupportChamp', 'redTop',\n",
       "       'redTopChamp', 'redJungle', 'redJungleChamp', 'redMiddle',\n",
       "       'redMiddleChamp', 'redADC', 'redADCChamp', 'redSupport',\n",
       "       'redSupportChamp', 'Address'],\n",
       "      dtype='object')"
      ]
     },
     "execution_count": 9,
     "metadata": {},
     "output_type": "execute_result"
    }
   ],
   "source": [
    "dados.columns"
   ]
  },
  {
   "cell_type": "code",
   "execution_count": 19,
   "metadata": {},
   "outputs": [
    {
     "data": {
      "text/plain": [
       "SKT        195\n",
       "SSG        167\n",
       "kt         163\n",
       "CLG        154\n",
       "C9         153\n",
       "FNC        151\n",
       "TSM        146\n",
       "H2K        146\n",
       "JAG        137\n",
       "ROX        137\n",
       "TL         133\n",
       "FW         124\n",
       "UOL        122\n",
       "LZ         119\n",
       "G2         114\n",
       "AFs        111\n",
       "NV         111\n",
       "ahq         96\n",
       "GIA         96\n",
       "IMT         94\n",
       "ROC         94\n",
       "DIG         91\n",
       "FOX         88\n",
       "M17         83\n",
       "P1          81\n",
       "DP          80\n",
       "CJE         80\n",
       "FB          79\n",
       "OG          78\n",
       "HWA         76\n",
       "          ... \n",
       "VK           2\n",
       "GlA          2\n",
       "BMR          2\n",
       "MOU          2\n",
       "Xenics       2\n",
       "Winners      2\n",
       "TRC          2\n",
       "NH           2\n",
       "AFR          2\n",
       "DD           2\n",
       "EG           2\n",
       "Crew         1\n",
       "SPA          1\n",
       "ZEN          1\n",
       "RBE          1\n",
       "CF           1\n",
       "SBENU        1\n",
       "FH           1\n",
       "MKZ          1\n",
       "DLY          1\n",
       "CLB          1\n",
       "WOR          1\n",
       "TLA          1\n",
       "TS           1\n",
       "C9C          1\n",
       "MC           1\n",
       "INTZ         1\n",
       "FIS          1\n",
       "NTR          1\n",
       "as           1\n",
       "Name: blueTeamTag, Length: 242, dtype: int64"
      ]
     },
     "execution_count": 19,
     "metadata": {},
     "output_type": "execute_result"
    }
   ],
   "source": [
    "dados['blueTeamTag'].value_counts()"
   ]
  },
  {
   "cell_type": "code",
   "execution_count": null,
   "metadata": {},
   "outputs": [],
   "source": []
  }
 ],
 "metadata": {
  "kernelspec": {
   "display_name": "Python 3",
   "language": "python",
   "name": "python3"
  },
  "language_info": {
   "codemirror_mode": {
    "name": "ipython",
    "version": 3
   },
   "file_extension": ".py",
   "mimetype": "text/x-python",
   "name": "python",
   "nbconvert_exporter": "python",
   "pygments_lexer": "ipython3",
   "version": "3.7.1"
  }
 },
 "nbformat": 4,
 "nbformat_minor": 2
}
