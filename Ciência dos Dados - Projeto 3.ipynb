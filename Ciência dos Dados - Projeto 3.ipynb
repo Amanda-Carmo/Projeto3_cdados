{
 "cells": [
  {
   "cell_type": "markdown",
   "metadata": {},
   "source": [
    "# <font color='#00878A'>Ciência dos Dados</font>\n",
    "## Projeto 3\n",
    "Amanda Carmo    | \n",
    "Lucio Hallage    |\n",
    "Nicole Costa    |\n",
    "Vitor Miada"
   ]
  },
  {
   "cell_type": "markdown",
   "metadata": {},
   "source": [
    "# <font color='#00878A'>Objetivo do projeto:</font>\n",
    "<p>\n",
    "Conduzir análise de dados utilizando técnicas como: regressão linear, decision tree e random forest regression.\n",
    "<p>\n",
    "Em nosso projeto iremos analizar a base de dados do jogo League of Legends da Riot Games, explicado mais a seguir, para fazer a previsão de vitórias de uma partida considerando-se os times e seus respectivos jogadores, além dos champions usados, que também serão definidos a seguir.\n",
    "\n"
   ]
  },
  {
   "cell_type": "markdown",
   "metadata": {},
   "source": [
    "- ## O que é League of Legends: ##"
   ]
  },
  {
   "cell_type": "markdown",
   "metadata": {},
   "source": [
    "League of Legends é um jogo online MOBA (Multiplayer Online Battle Arena) competitivo, no qual dez jogadores, divididos em dois times,  batalham com diferentes personagens que exercem inúmeras funções durante a partida. O jogo, que permanece em constante atualização, oferece competitividade e entretenimento para todos os jogadores de diferentes níveis de habilidade, havendo servidores que cobrem praticamente todas as regiões do mundo, havendo, pois, competições  internacionais anuais. O jogo, também conhecido como LOL é um dos digital games mais jogados no planeta.\n"
   ]
  },
  {
   "cell_type": "markdown",
   "metadata": {},
   "source": [
    "- ## O funcionamento do jogo :\n"
   ]
  },
  {
   "cell_type": "markdown",
   "metadata": {},
   "source": [
    "No League of Legends, o objetivo do jogo é destruir o néxus (o núcleo) da base inimiga. Para isso, serão 10 jogadores divididos em 2 times, o azul e o vermelho, que se enfrentarão num campo de batalha. Para cada jogador, existe uma função principal, na qual pode ser dividida em 5 funções: o Topo (Top-lane), o Caçador (Jungler), o Meio (Mid-lane), o Atirador (ADC) e o Suporte (SUP). Para saber qual posição cada competidor exercerá, serão escolhidos dentre dos 150 campeões (personagens), apenas 5 para cada time, no qual cada jogador selecionará um para jogar. Cada personagem escolhido, tem seu estilo, e portanto sua função dentre as 5 antes mencionadas.\n"
   ]
  },
  {
   "cell_type": "markdown",
   "metadata": {},
   "source": [
    "- ## Data-Set ##"
   ]
  },
  {
   "cell_type": "markdown",
   "metadata": {},
   "source": [
    "O dataset é constituido de apenas partidas profissionais entre 2015 a 2018 de todos os servidores. O documento, mostra principalmente, quais campeões cada time selecionou, por exemplo, o \"redTopChamp\", significa qual campeão o jogador do time vermelho jogou; quais foram os jogadores que jogaram a partida, por exemplo, o \"blueJungle\", que significa quem jogou como Caçador no time azul; qual time jogou e se ele venceu (1) ou perdeu (0), por exemplo \"blueTeamTag\", representa a sigla do time azul, e \"bResult\" igual a 0, significa que ele perdeu. Outros dados como ano, liga, não são relevantes, pois como o objetivo do projeto é estimar quem vai ganhar, quando ocorreu e onde ocorreu não são necessários."
   ]
  },
  {
   "cell_type": "markdown",
   "metadata": {},
   "source": [
    "## Preparando o ambiente no jupyter:"
   ]
  },
  {
   "cell_type": "code",
   "execution_count": 17,
   "metadata": {},
   "outputs": [],
   "source": [
    "%matplotlib inline\n",
    "import sklearn\n",
    "import pandas as pd\n",
    "import matplotlib.pyplot as plt\n",
    "import numpy as np\n",
    "from sklearn.preprocessing import OneHotEncoder\n",
    "from sklearn.metrics import accuracy_score, confusion_matrix\n",
    "from sklearn.ensemble import RandomForestClassifier\n",
    "from sklearn.linear_model import LogisticRegression\n",
    "import warnings"
   ]
  },
  {
   "cell_type": "markdown",
   "metadata": {},
   "source": [
    "# <font color='#00878A'>Análise Explorartória</font>"
   ]
  },
  {
   "cell_type": "code",
   "execution_count": 18,
   "metadata": {},
   "outputs": [],
   "source": [
    "# lendo a base de dados\n",
    "dados = pd.read_excel('matchinfo-treinamento.xlsx')\n",
    "dados_testes = pd.read_excel('matchinfo-testes.xlsx')"
   ]
  },
  {
   "cell_type": "code",
   "execution_count": 19,
   "metadata": {},
   "outputs": [
    {
     "data": {
      "text/html": [
       "<div>\n",
       "<style scoped>\n",
       "    .dataframe tbody tr th:only-of-type {\n",
       "        vertical-align: middle;\n",
       "    }\n",
       "\n",
       "    .dataframe tbody tr th {\n",
       "        vertical-align: top;\n",
       "    }\n",
       "\n",
       "    .dataframe thead th {\n",
       "        text-align: right;\n",
       "    }\n",
       "</style>\n",
       "<table border=\"1\" class=\"dataframe\">\n",
       "  <thead>\n",
       "    <tr style=\"text-align: right;\">\n",
       "      <th></th>\n",
       "      <th>League</th>\n",
       "      <th>Year</th>\n",
       "      <th>Season</th>\n",
       "      <th>Type</th>\n",
       "      <th>blueTeamTag</th>\n",
       "      <th>bResult</th>\n",
       "      <th>rResult</th>\n",
       "      <th>redTeamTag</th>\n",
       "      <th>gamelength</th>\n",
       "      <th>blueTop</th>\n",
       "      <th>...</th>\n",
       "      <th>redTopChamp</th>\n",
       "      <th>redJungle</th>\n",
       "      <th>redJungleChamp</th>\n",
       "      <th>redMiddle</th>\n",
       "      <th>redMiddleChamp</th>\n",
       "      <th>redADC</th>\n",
       "      <th>redADCChamp</th>\n",
       "      <th>redSupport</th>\n",
       "      <th>redSupportChamp</th>\n",
       "      <th>Address</th>\n",
       "    </tr>\n",
       "  </thead>\n",
       "  <tbody>\n",
       "    <tr>\n",
       "      <th>0</th>\n",
       "      <td>NALCS</td>\n",
       "      <td>2016</td>\n",
       "      <td>Spring</td>\n",
       "      <td>Season</td>\n",
       "      <td>TSM</td>\n",
       "      <td>0</td>\n",
       "      <td>1</td>\n",
       "      <td>REN</td>\n",
       "      <td>30</td>\n",
       "      <td>Hauntzer</td>\n",
       "      <td>...</td>\n",
       "      <td>Graves</td>\n",
       "      <td>Crumbz</td>\n",
       "      <td>Gragas</td>\n",
       "      <td>Ninja</td>\n",
       "      <td>Lissandra</td>\n",
       "      <td>Freeze</td>\n",
       "      <td>Caitlyn</td>\n",
       "      <td>Hakuho</td>\n",
       "      <td>Bard</td>\n",
       "      <td>http://matchhistory.na.leagueoflegends.com/en/...</td>\n",
       "    </tr>\n",
       "    <tr>\n",
       "      <th>1</th>\n",
       "      <td>TCL</td>\n",
       "      <td>2015</td>\n",
       "      <td>Spring</td>\n",
       "      <td>Season</td>\n",
       "      <td>BJK</td>\n",
       "      <td>1</td>\n",
       "      <td>0</td>\n",
       "      <td>NR1</td>\n",
       "      <td>43</td>\n",
       "      <td>Thaldrin</td>\n",
       "      <td>...</td>\n",
       "      <td>Maokai</td>\n",
       "      <td>Decagon Moon</td>\n",
       "      <td>RekSai</td>\n",
       "      <td>LEYL U NEHAR</td>\n",
       "      <td>Ahri</td>\n",
       "      <td>Revanche</td>\n",
       "      <td>Sivir</td>\n",
       "      <td>Swanepoel</td>\n",
       "      <td>Janna</td>\n",
       "      <td>http://matchhistory.tr.leagueoflegends.com/tr/...</td>\n",
       "    </tr>\n",
       "    <tr>\n",
       "      <th>2</th>\n",
       "      <td>NALCS</td>\n",
       "      <td>2017</td>\n",
       "      <td>Spring</td>\n",
       "      <td>Season</td>\n",
       "      <td>NV</td>\n",
       "      <td>1</td>\n",
       "      <td>0</td>\n",
       "      <td>C9</td>\n",
       "      <td>38</td>\n",
       "      <td>Seraph</td>\n",
       "      <td>...</td>\n",
       "      <td>Nautilus</td>\n",
       "      <td>Contractz</td>\n",
       "      <td>LeeSin</td>\n",
       "      <td>Jensen</td>\n",
       "      <td>Cassiopeia</td>\n",
       "      <td>Sneaky</td>\n",
       "      <td>Ezreal</td>\n",
       "      <td>Smoothie</td>\n",
       "      <td>Malzahar</td>\n",
       "      <td>http://matchhistory.na.leagueoflegends.com/en/...</td>\n",
       "    </tr>\n",
       "    <tr>\n",
       "      <th>3</th>\n",
       "      <td>IEM</td>\n",
       "      <td>2016</td>\n",
       "      <td>Spring</td>\n",
       "      <td>International</td>\n",
       "      <td>OG</td>\n",
       "      <td>0</td>\n",
       "      <td>1</td>\n",
       "      <td>TSM</td>\n",
       "      <td>33</td>\n",
       "      <td>Soaz</td>\n",
       "      <td>...</td>\n",
       "      <td>Fiora</td>\n",
       "      <td>Svenskeren</td>\n",
       "      <td>LeeSin</td>\n",
       "      <td>Bjergsen</td>\n",
       "      <td>TwistedFate</td>\n",
       "      <td>Doublelift</td>\n",
       "      <td>Ezreal</td>\n",
       "      <td>Yellowstar</td>\n",
       "      <td>Alistar</td>\n",
       "      <td>http://matchhistory.euw.leagueoflegends.com/en...</td>\n",
       "    </tr>\n",
       "  </tbody>\n",
       "</table>\n",
       "<p>4 rows × 30 columns</p>\n",
       "</div>"
      ],
      "text/plain": [
       "  League  Year  Season           Type blueTeamTag  bResult  rResult  \\\n",
       "0  NALCS  2016  Spring         Season         TSM        0        1   \n",
       "1    TCL  2015  Spring         Season         BJK        1        0   \n",
       "2  NALCS  2017  Spring         Season          NV        1        0   \n",
       "3    IEM  2016  Spring  International          OG        0        1   \n",
       "\n",
       "  redTeamTag  gamelength   blueTop  \\\n",
       "0        REN          30  Hauntzer   \n",
       "1        NR1          43  Thaldrin   \n",
       "2         C9          38    Seraph   \n",
       "3        TSM          33      Soaz   \n",
       "\n",
       "                         ...                         redTopChamp  \\\n",
       "0                        ...                              Graves   \n",
       "1                        ...                              Maokai   \n",
       "2                        ...                            Nautilus   \n",
       "3                        ...                               Fiora   \n",
       "\n",
       "      redJungle redJungleChamp     redMiddle redMiddleChamp      redADC  \\\n",
       "0        Crumbz         Gragas         Ninja      Lissandra      Freeze   \n",
       "1  Decagon Moon         RekSai  LEYL U NEHAR           Ahri    Revanche   \n",
       "2     Contractz         LeeSin        Jensen     Cassiopeia      Sneaky   \n",
       "3    Svenskeren         LeeSin      Bjergsen    TwistedFate  Doublelift   \n",
       "\n",
       "  redADCChamp  redSupport redSupportChamp  \\\n",
       "0     Caitlyn      Hakuho            Bard   \n",
       "1       Sivir   Swanepoel           Janna   \n",
       "2      Ezreal    Smoothie        Malzahar   \n",
       "3      Ezreal  Yellowstar         Alistar   \n",
       "\n",
       "                                             Address  \n",
       "0  http://matchhistory.na.leagueoflegends.com/en/...  \n",
       "1  http://matchhistory.tr.leagueoflegends.com/tr/...  \n",
       "2  http://matchhistory.na.leagueoflegends.com/en/...  \n",
       "3  http://matchhistory.euw.leagueoflegends.com/en...  \n",
       "\n",
       "[4 rows x 30 columns]"
      ]
     },
     "execution_count": 19,
     "metadata": {},
     "output_type": "execute_result"
    }
   ],
   "source": [
    "dados.head(4)"
   ]
  },
  {
   "cell_type": "code",
   "execution_count": 20,
   "metadata": {},
   "outputs": [
    {
     "data": {
      "text/plain": [
       "Index(['League', 'Year', 'Season', 'Type', 'blueTeamTag', 'bResult', 'rResult',\n",
       "       'redTeamTag', 'gamelength', 'blueTop', 'blueTopChamp', 'blueJungle',\n",
       "       'blueJungleChamp', 'blueMiddle', 'blueMiddleChamp', 'blueADC',\n",
       "       'blueADCChamp', 'blueSupport', 'blueSupportChamp', 'redTop',\n",
       "       'redTopChamp', 'redJungle', 'redJungleChamp', 'redMiddle',\n",
       "       'redMiddleChamp', 'redADC', 'redADCChamp', 'redSupport',\n",
       "       'redSupportChamp', 'Address'],\n",
       "      dtype='object')"
      ]
     },
     "execution_count": 20,
     "metadata": {},
     "output_type": "execute_result"
    }
   ],
   "source": [
    "dados.columns"
   ]
  },
  {
   "cell_type": "markdown",
   "metadata": {},
   "source": [
    "Apenas por observar nossa base de dados, fica evidente que nossas colunas são majoritariamente qualitativas categóricas. "
   ]
  },
  {
   "cell_type": "code",
   "execution_count": 21,
   "metadata": {},
   "outputs": [],
   "source": [
    "porcent_vitorias = dados.bResult.value_counts(True)*100"
   ]
  },
  {
   "cell_type": "code",
   "execution_count": 22,
   "metadata": {},
   "outputs": [
    {
     "data": {
      "text/plain": [
       "Text(0.5, 1.0, 'Vitórias por Time em %')"
      ]
     },
     "execution_count": 22,
     "metadata": {},
     "output_type": "execute_result"
    },
    {
     "data": {
      "image/png": "[encoded data removed]",
      "text/plain": [
       "<Figure size 432x288 with 1 Axes>"
      ]
     },
     "metadata": {
      "needs_background": "light"
     },
     "output_type": "display_data"
    }
   ],
   "source": [
    "porcent_vitorias.plot(kind='bar', color=('blue', 'red'), legend=False)\n",
    "plt.ylabel(\"Frequência Relativa de Vitórias (em %)\")\n",
    "plt.title('Vitórias por Time em %')"
   ]
  },
  {
   "cell_type": "markdown",
   "metadata": {},
   "source": [
    "Com o gráfico acima podemos concluir que os níveis das partidas foram relativamente equivalente entre os times 'Red' e 'Blue', tendo o time azul ganho um pouco mais de 50% e o vermelho um pouco menos. "
   ]
  },
  {
   "cell_type": "code",
   "execution_count": 23,
   "metadata": {},
   "outputs": [],
   "source": [
    "# Abaixo vamos concatenar as colunas dos times vermelho e azul para determinarmos os top 10 times vencedores gerais\n",
    "\n",
    "columnsb=['bResult', 'blueTeamTag', 'blueTop', 'blueTopChamp', 'blueJungle','blueJungleChamp', 'blueMiddle', 'blueMiddleChamp', 'blueADC','blueADCChamp', 'blueSupport', 'blueSupportChamp']\n",
    "columnsr=['rResult', 'redTeamTag', 'redTop','redTopChamp', 'redJungle', 'redJungleChamp', 'redMiddle','redMiddleChamp', 'redADC', 'redADCChamp', 'redSupport','redSupportChamp']\n",
    "columns=['Result', 'TeamTag', 'Top','TopChamp', 'Jungle', 'JungleChamp', 'Middle','MiddleChamp', 'ADC', 'ADCChamp', 'Support','SupportChamp']"
   ]
  },
  {
   "cell_type": "code",
   "execution_count": 24,
   "metadata": {},
   "outputs": [],
   "source": [
    "dados_b = dados[columnsb]\n",
    "dados_b.columns = columns\n",
    "dados_r = dados[columnsr]\n",
    "dados_r.columns = columns"
   ]
  },
  {
   "cell_type": "code",
   "execution_count": 25,
   "metadata": {},
   "outputs": [
    {
     "data": {
      "text/html": [
       "<div>\n",
       "<style scoped>\n",
       "    .dataframe tbody tr th:only-of-type {\n",
       "        vertical-align: middle;\n",
       "    }\n",
       "\n",
       "    .dataframe tbody tr th {\n",
       "        vertical-align: top;\n",
       "    }\n",
       "\n",
       "    .dataframe thead th {\n",
       "        text-align: right;\n",
       "    }\n",
       "</style>\n",
       "<table border=\"1\" class=\"dataframe\">\n",
       "  <thead>\n",
       "    <tr style=\"text-align: right;\">\n",
       "      <th></th>\n",
       "      <th>Result</th>\n",
       "      <th>TeamTag</th>\n",
       "      <th>Top</th>\n",
       "      <th>TopChamp</th>\n",
       "      <th>Jungle</th>\n",
       "      <th>JungleChamp</th>\n",
       "      <th>Middle</th>\n",
       "      <th>MiddleChamp</th>\n",
       "      <th>ADC</th>\n",
       "      <th>ADCChamp</th>\n",
       "      <th>Support</th>\n",
       "      <th>SupportChamp</th>\n",
       "    </tr>\n",
       "  </thead>\n",
       "  <tbody>\n",
       "    <tr>\n",
       "      <th>0</th>\n",
       "      <td>0</td>\n",
       "      <td>TSM</td>\n",
       "      <td>Hauntzer</td>\n",
       "      <td>Trundle</td>\n",
       "      <td>Svenskeren</td>\n",
       "      <td>Elise</td>\n",
       "      <td>Bjergsen</td>\n",
       "      <td>Lulu</td>\n",
       "      <td>Doublelift</td>\n",
       "      <td>Jhin</td>\n",
       "      <td>Yellowstar</td>\n",
       "      <td>Braum</td>\n",
       "    </tr>\n",
       "    <tr>\n",
       "      <th>1</th>\n",
       "      <td>1</td>\n",
       "      <td>BJK</td>\n",
       "      <td>Thaldrin</td>\n",
       "      <td>Gnar</td>\n",
       "      <td>Theokoles</td>\n",
       "      <td>JarvanIV</td>\n",
       "      <td>Energy</td>\n",
       "      <td>Xerath</td>\n",
       "      <td>Nardeus</td>\n",
       "      <td>Graves</td>\n",
       "      <td>Dumbledoge</td>\n",
       "      <td>Annie</td>\n",
       "    </tr>\n",
       "    <tr>\n",
       "      <th>2</th>\n",
       "      <td>1</td>\n",
       "      <td>NV</td>\n",
       "      <td>Seraph</td>\n",
       "      <td>Maokai</td>\n",
       "      <td>LirA</td>\n",
       "      <td>Nidalee</td>\n",
       "      <td>Ninja</td>\n",
       "      <td>Jayce</td>\n",
       "      <td>Apollo</td>\n",
       "      <td>Ziggs</td>\n",
       "      <td>Hakuho</td>\n",
       "      <td>Lulu</td>\n",
       "    </tr>\n",
       "    <tr>\n",
       "      <th>3</th>\n",
       "      <td>0</td>\n",
       "      <td>OG</td>\n",
       "      <td>Soaz</td>\n",
       "      <td>Trundle</td>\n",
       "      <td>Amazing</td>\n",
       "      <td>Elise</td>\n",
       "      <td>PowerOfEvil</td>\n",
       "      <td>Talon</td>\n",
       "      <td>Zven</td>\n",
       "      <td>Lucian</td>\n",
       "      <td>Mithy</td>\n",
       "      <td>Braum</td>\n",
       "    </tr>\n",
       "    <tr>\n",
       "      <th>4</th>\n",
       "      <td>1</td>\n",
       "      <td>SIN</td>\n",
       "      <td>Dhokla</td>\n",
       "      <td>Rumble</td>\n",
       "      <td>Juves</td>\n",
       "      <td>RekSai</td>\n",
       "      <td>ry0ma</td>\n",
       "      <td>Zed</td>\n",
       "      <td>FBI</td>\n",
       "      <td>Kalista</td>\n",
       "      <td>Rogue</td>\n",
       "      <td>Braum</td>\n",
       "    </tr>\n",
       "  </tbody>\n",
       "</table>\n",
       "</div>"
      ],
      "text/plain": [
       "   Result TeamTag       Top TopChamp      Jungle JungleChamp       Middle  \\\n",
       "0       0     TSM  Hauntzer  Trundle  Svenskeren       Elise     Bjergsen   \n",
       "1       1     BJK  Thaldrin     Gnar   Theokoles    JarvanIV       Energy   \n",
       "2       1      NV    Seraph   Maokai        LirA     Nidalee        Ninja   \n",
       "3       0      OG      Soaz  Trundle     Amazing       Elise  PowerOfEvil   \n",
       "4       1     SIN    Dhokla   Rumble       Juves      RekSai        ry0ma   \n",
       "\n",
       "  MiddleChamp         ADC ADCChamp     Support SupportChamp  \n",
       "0        Lulu  Doublelift     Jhin  Yellowstar        Braum  \n",
       "1      Xerath     Nardeus   Graves  Dumbledoge        Annie  \n",
       "2       Jayce      Apollo    Ziggs      Hakuho         Lulu  \n",
       "3       Talon        Zven   Lucian       Mithy        Braum  \n",
       "4         Zed         FBI  Kalista       Rogue        Braum  "
      ]
     },
     "execution_count": 25,
     "metadata": {},
     "output_type": "execute_result"
    }
   ],
   "source": [
    "dados_concat = pd.concat([dados_b, dados_r]).dropna()\n",
    "dados_concat.head()"
   ]
  },
  {
   "cell_type": "code",
   "execution_count": 26,
   "metadata": {},
   "outputs": [],
   "source": [
    "win_concat = dados_concat.TeamTag[dados_concat.Result == 1].value_counts(True)*100\n",
    "top10_concat = win_concat.head(10)"
   ]
  },
  {
   "cell_type": "code",
   "execution_count": 27,
   "metadata": {},
   "outputs": [
    {
     "data": {
      "text/plain": [
       "Text(0.5, 1.0, 'Top 10 Equipes Vencedoras')"
      ]
     },
     "execution_count": 27,
     "metadata": {},
     "output_type": "execute_result"
    },
    {
     "data": {
      "image/png": "[encoded data removed]",
      "text/plain": [
       "<Figure size 432x288 with 1 Axes>"
      ]
     },
     "metadata": {
      "needs_background": "light"
     },
     "output_type": "display_data"
    }
   ],
   "source": [
    "#GRÁFICO TOP 10 TIMES VENCEDORES\n",
    "top10_concat.plot(kind='bar',legend=False)\n",
    "plt.title(\"Top 10 Equipes Vencedoras\")"
   ]
  },
  {
   "cell_type": "code",
   "execution_count": 28,
   "metadata": {},
   "outputs": [],
   "source": [
    "blue_win = dados.blueTeamTag[dados.bResult == 1].value_counts(True)*100\n",
    "top10_blue = blue_win.head(10)"
   ]
  },
  {
   "cell_type": "code",
   "execution_count": 29,
   "metadata": {},
   "outputs": [
    {
     "data": {
      "text/plain": [
       "Text(0.5, 1.0, 'Top 10 Equipes Vencedoras do Lado Azul')"
      ]
     },
     "execution_count": 29,
     "metadata": {},
     "output_type": "execute_result"
    },
    {
     "data": {
      "image/png": "[encoded data removed]",
      "text/plain": [
       "<Figure size 432x288 with 1 Axes>"
      ]
     },
     "metadata": {
      "needs_background": "light"
     },
     "output_type": "display_data"
    }
   ],
   "source": [
    "#GRÁFICO TOP 10 TIMES VENCEDORES BLUE TEAM\n",
    "top10_blue.plot(kind='bar',legend=False)\n",
    "plt.title(\"Top 10 Equipes Vencedoras do Lado Azul\")"
   ]
  },
  {
   "cell_type": "code",
   "execution_count": 30,
   "metadata": {},
   "outputs": [],
   "source": [
    "red_win = dados.redTeamTag[dados.rResult == 1].value_counts(True)*100\n",
    "top10_red = red_win.head(10)"
   ]
  },
  {
   "cell_type": "code",
   "execution_count": 31,
   "metadata": {},
   "outputs": [
    {
     "data": {
      "text/plain": [
       "Text(0.5, 1.0, 'Top 10 Equipes Vencedoras do Lado Vermelho')"
      ]
     },
     "execution_count": 31,
     "metadata": {},
     "output_type": "execute_result"
    },
    {
     "data": {
      "image/png": "[encoded data removed]",
      "text/plain": [
       "<Figure size 432x288 with 1 Axes>"
      ]
     },
     "metadata": {
      "needs_background": "light"
     },
     "output_type": "display_data"
    }
   ],
   "source": [
    "#GRÁFICO TOP 10 TIMES VENCEDORES RED TEAM\n",
    "top10_red.plot(kind='bar',legend=False)\n",
    "plt.title(\"Top 10 Equipes Vencedoras do Lado Vermelho\")"
   ]
  },
  {
   "cell_type": "markdown",
   "metadata": {},
   "source": [
    "Comparando os gráficos acima, podemos perceber que 7 dos top 10 campeões ocupam uma posição de destaque tanto no lado vermelho como no lado azul, isso demonstra que o lado em que o time joga afeta minimamente o desempenho da equipe.\n"
   ]
  },
  {
   "cell_type": "code",
   "execution_count": 33,
   "metadata": {},
   "outputs": [],
   "source": [
    "blue_win = dados.redTeamTag[dados.rResult == 1].value_counts(True)*100\n",
    "champ_red_win = dados.redTopChamp[dados.rResult == 1].value_counts(True)*100\n",
    "top10_champ_red = champ_red_win.head(10)"
   ]
  },
  {
   "cell_type": "code",
   "execution_count": 34,
   "metadata": {},
   "outputs": [
    {
     "data": {
      "text/plain": [
       "Text(0.5, 1.0, 'Top 10 Champ Vencedores do Lado Vermelho')"
      ]
     },
     "execution_count": 34,
     "metadata": {},
     "output_type": "execute_result"
    },
    {
     "data": {
      "image/png": "[encoded data removed]",
      "text/plain": [
       "<Figure size 432x288 with 1 Axes>"
      ]
     },
     "metadata": {
      "needs_background": "light"
     },
     "output_type": "display_data"
    }
   ],
   "source": [
    "#GRÁFICO TOP 10 CHAMP DO TOP VENCEDORES RED TEAM\n",
    "top10_champ_red.plot(kind='bar',legend=False)\n",
    "plt.title(\"Top 10 Champ Vencedores do Lado Vermelho\")"
   ]
  },
  {
   "cell_type": "code",
   "execution_count": null,
   "metadata": {},
   "outputs": [],
   "source": [
    "champ_blue_win = dados.blueTopChamp[dados.bResult == 1].value_counts(True)*100\n",
    "top10_champ_blue = champ_blue_win.head(10)"
   ]
  },
  {
   "cell_type": "code",
   "execution_count": null,
   "metadata": {},
   "outputs": [],
   "source": [
    "#GRÁFICO TOP 10 CHAMP DO TOP VENCEDORES BLUE TEAM\n",
    "top10_champ_blue.plot(kind='bar',legend=False)\n",
    "plt.title(\"Top 10 Champ Vencedores do Lado Azul\")"
   ]
  },
  {
   "cell_type": "markdown",
   "metadata": {},
   "source": [
    "Isso se comprova analisando os Champs, sendo que 8 deles estão em ambas posições de destaque: do time azul e vermelho."
   ]
  },
  {
   "cell_type": "code",
   "execution_count": null,
   "metadata": {},
   "outputs": [],
   "source": [
    "top10_champ_red_df = pd.DataFrame(top10_champ_red)\n",
    "top10_champ_blue_df = pd.DataFrame(top10_champ_blue)"
   ]
  },
  {
   "cell_type": "code",
   "execution_count": null,
   "metadata": {},
   "outputs": [],
   "source": [
    "top10champs = top10_champ_red_df.join(top10_champ_blue_df,how=\"inner\")"
   ]
  },
  {
   "cell_type": "code",
   "execution_count": null,
   "metadata": {},
   "outputs": [],
   "source": [
    "#RELAÇAO ENTRE BLUE E RED SIDE PER CHAMP DO TOP\n",
    "top10champs.plot(kind='bar', color=('red', 'blue'))\n",
    "plt.ylabel('Frequência Relativa (em %)')\n",
    "plt.title(\"Relação entre o Lado Azul e Vermelho por Champ do Top\")"
   ]
  },
  {
   "cell_type": "code",
   "execution_count": null,
   "metadata": {},
   "outputs": [],
   "source": [
    "jungle_champ_blue_win = dados.blueJungleChamp[dados.bResult == 1].value_counts(True)*100\n",
    "jungle_champ_red_win = dados.redJungleChamp[dados.bResult == 1].value_counts(True)*100\n",
    "top10_jungle_champ_blue = jungle_champ_blue_win.head(10)\n",
    "top10_jungle_champ_red = jungle_champ_red_win.head(10)\n",
    "top10_jungle_champ_blue_df = pd.DataFrame(top10_jungle_champ_blue)\n",
    "top10_jungle_champ_red_df = pd.DataFrame(top10_jungle_champ_red)\n",
    "top10junglechamps = top10_jungle_champ_red_df.join(top10_jungle_champ_blue_df,how=\"inner\")\n",
    "#RELAÇAO ENTRE BLUE E RED SIDE PER CHAMP DO JUNGLE\n",
    "top10junglechamps.plot(kind='bar', color=('red', 'blue'))\n",
    "plt.ylabel('Frequência Relativa (em %)')\n",
    "plt.title(\"Relação entre o Lado Azul e Vermelho por Champ do Jungle\")"
   ]
  },
  {
   "cell_type": "code",
   "execution_count": null,
   "metadata": {},
   "outputs": [],
   "source": [
    "middle_champ_blue_win = dados.blueMiddleChamp[dados.bResult == 1].value_counts(True)*100\n",
    "middle_champ_red_win = dados.redMiddleChamp[dados.bResult == 1].value_counts(True)*100\n",
    "top10_middle_champ_blue = middle_champ_blue_win.head(10)\n",
    "top10_middle_champ_red = middle_champ_red_win.head(10)\n",
    "top10_middle_champ_blue_df = pd.DataFrame(top10_middle_champ_blue)\n",
    "top10_middle_champ_red_df = pd.DataFrame(top10_middle_champ_red)\n",
    "top10middlechamps = top10_middle_champ_red_df.join(top10_middle_champ_blue_df,how=\"inner\")\n",
    "#RELAÇAO ENTRE BLUE E RED SIDE PER CHAMP DO MIDDLE\n",
    "top10junglechamps.plot(kind='bar', color=('red', 'blue'))\n",
    "plt.ylabel('Frequência Relativa (em %)')\n",
    "plt.title(\"Relação entre o Lado Azul e Vermelho por Champ do Middle\")"
   ]
  },
  {
   "cell_type": "code",
   "execution_count": null,
   "metadata": {},
   "outputs": [],
   "source": [
    "ADC_champ_blue_win = dados.blueADCChamp[dados.bResult == 1].value_counts(True)*100\n",
    "ADC_champ_red_win = dados.redADCChamp[dados.bResult == 1].value_counts(True)*100\n",
    "top10_ADC_champ_blue = ADC_champ_blue_win.head(10)\n",
    "top10_ADC_champ_red = ADC_champ_red_win.head(10)\n",
    "top10_ADC_champ_blue_df = pd.DataFrame(top10_ADC_champ_blue)\n",
    "top10_ADC_champ_red_df = pd.DataFrame(top10_ADC_champ_red)\n",
    "top10ADCchamps = top10_ADC_champ_red_df.join(top10_ADC_champ_blue_df,how=\"inner\")\n",
    "#RELAÇAO ENTRE BLUE E RED SIDE PER CHAMP DO ADC\n",
    "top10ADCchamps.plot(kind='bar', color=('red', 'blue'))\n",
    "plt.ylabel('Frequência Relativa (em %)')\n",
    "plt.title(\"Relação entre o Lado Azul e Vermelho por Champ do ADC\")"
   ]
  },
  {
   "cell_type": "markdown",
   "metadata": {},
   "source": [
    "Acima vimos as relações entre os lados azul e vermelho para cada posições do Champ. A seguir nos aprofundaremos em técnicas de análise para melhor estudar nossos dados. "
   ]
  },
  {
   "cell_type": "markdown",
   "metadata": {},
   "source": [
    "## <font color='#00878A'>_Random Forrest_</font>"
   ]
  },
  {
   "cell_type": "markdown",
   "metadata": {},
   "source": [
    "O Random Forest Classifier, é um classificador, que com varias *arvores de decisões*, que trabalham separadamente, geram uma predição. Se tal predição for predominante entre as demais arvores, o resultado do classificador será o mesmo."
   ]
  },
  {
   "cell_type": "markdown",
   "metadata": {},
   "source": [
    "- ####  Primeira iteração: dados concatenados"
   ]
  },
  {
   "cell_type": "markdown",
   "metadata": {},
   "source": [
    "Nesta primeira iteração, o grupo juntou os dados dos adversários em um mesmo jogo, tais como os cinco champions e os nomes dos jogadores dos times e aa duas equipes adversárias, agrupando - os em uma coluna em comum, como mostrado no novo dataframe obtiddo e plotado abaixo."
   ]
  },
  {
   "cell_type": "code",
   "execution_count": null,
   "metadata": {},
   "outputs": [],
   "source": [
    "dados_testes.dropna(inplace=True)\n",
    "columnsb=['bResult', 'blueTeamTag', 'blueTop', 'blueTopChamp', 'blueJungle','blueJungleChamp', 'blueMiddle', 'blueMiddleChamp', 'blueADC','blueADCChamp', 'blueSupport', 'blueSupportChamp']\n",
    "columnsr=['rResult', 'redTeamTag', 'redTop','redTopChamp', 'redJungle', 'redJungleChamp', 'redMiddle','redMiddleChamp', 'redADC', 'redADCChamp', 'redSupport','redSupportChamp']\n",
    "columns=['Result', 'TeamTag', 'Top','TopChamp', 'Jungle', 'JungleChamp', 'Middle','MiddleChamp', 'ADC', 'ADCChamp', 'Support','SupportChamp']\n"
   ]
  },
  {
   "cell_type": "code",
   "execution_count": null,
   "metadata": {},
   "outputs": [],
   "source": [
    "dados_b = dados[columnsb]\n",
    "dados_b.columns = columns\n",
    "dados_r = dados[columnsr]\n",
    "dados_r.columns = columns"
   ]
  },
  {
   "cell_type": "code",
   "execution_count": null,
   "metadata": {
    "scrolled": true
   },
   "outputs": [],
   "source": [
    "dados_concat = pd.concat([dados_b, dados_r]).dropna()\n",
    "dados_concat.head(4)"
   ]
  },
  {
   "cell_type": "code",
   "execution_count": null,
   "metadata": {},
   "outputs": [],
   "source": [
    "dados_bt = dados_testes[columnsb]\n",
    "dados_bt.columns = columns\n",
    "dados_rt = dados_testes[columnsr]\n",
    "dados_rt.columns = columns"
   ]
  },
  {
   "cell_type": "code",
   "execution_count": null,
   "metadata": {
    "scrolled": true
   },
   "outputs": [],
   "source": [
    "teste_concat = pd.concat([dados_bt, dados_rt]).dropna()\n",
    "teste_concat.head(4)"
   ]
  },
  {
   "cell_type": "code",
   "execution_count": null,
   "metadata": {},
   "outputs": [],
   "source": [
    "y_train = dados_concat['Result']\n",
    "x_train = dados_concat.drop(columns='Result')"
   ]
  },
  {
   "cell_type": "code",
   "execution_count": null,
   "metadata": {},
   "outputs": [],
   "source": [
    "y_test = teste_concat['Result']\n",
    "x_test = teste_concat.drop(columns='Result')"
   ]
  },
  {
   "cell_type": "markdown",
   "metadata": {},
   "source": [
    "Convertendo as variáveis categóricas em qualitativas"
   ]
  },
  {
   "cell_type": "code",
   "execution_count": null,
   "metadata": {},
   "outputs": [],
   "source": [
    "# utilizamos o OneHotEncoder para fazer essa conversão\n",
    "encoder = OneHotEncoder(handle_unknown='ignore')\n",
    "x_train_encoded = encoder.fit_transform(x_train.astype(str).values)"
   ]
  },
  {
   "cell_type": "markdown",
   "metadata": {},
   "source": [
    "Implementando o Modelo"
   ]
  },
  {
   "cell_type": "code",
   "execution_count": null,
   "metadata": {},
   "outputs": [],
   "source": [
    "# cria modelo\n",
    "model = RandomForestClassifier(random_state = 0)\n",
    "\n",
    "# treina modelo\n",
    "model.fit(x_train_encoded, y_train)"
   ]
  },
  {
   "cell_type": "code",
   "execution_count": null,
   "metadata": {},
   "outputs": [],
   "source": [
    "model.score(x_train_encoded, y_train)"
   ]
  },
  {
   "cell_type": "markdown",
   "metadata": {},
   "source": [
    "#### <font color='#00878A'>Testes</font>"
   ]
  },
  {
   "cell_type": "markdown",
   "metadata": {},
   "source": [
    "Agora vamos testar a acurácia do modelo:"
   ]
  },
  {
   "cell_type": "code",
   "execution_count": null,
   "metadata": {},
   "outputs": [],
   "source": [
    "x_test_encoded = encoder.transform(x_test)"
   ]
  },
  {
   "cell_type": "code",
   "execution_count": null,
   "metadata": {},
   "outputs": [],
   "source": [
    "# Testa modelo\n",
    "y_predict = model.predict(x_test_encoded)"
   ]
  },
  {
   "cell_type": "code",
   "execution_count": null,
   "metadata": {},
   "outputs": [],
   "source": [
    "# Cálcula acurácia\n",
    "acc = accuracy_score(y_test, y_predict)\n",
    "print(\"Acurácia: {0}\".format(acc))"
   ]
  },
  {
   "cell_type": "markdown",
   "metadata": {},
   "source": [
    "### Considerando os dois times, separadamente em uma partida"
   ]
  },
  {
   "cell_type": "markdown",
   "metadata": {},
   "source": [
    "- #### Segunda iteração: dados não concatenados"
   ]
  },
  {
   "cell_type": "markdown",
   "metadata": {},
   "source": [
    "Separando Treinamento e Teste"
   ]
  },
  {
   "cell_type": "code",
   "execution_count": null,
   "metadata": {},
   "outputs": [],
   "source": [
    "y_train = dados['bResult']\n",
    "x_train = dados.drop(columns=['bResult', 'rResult'])\n",
    "y_test = dados_testes['bResult']\n",
    "x_test = dados_testes.drop(columns=['bResult', 'rResult'])"
   ]
  },
  {
   "cell_type": "markdown",
   "metadata": {},
   "source": [
    "Convertendo as variáveis categóricas em quantitativas"
   ]
  },
  {
   "cell_type": "code",
   "execution_count": null,
   "metadata": {},
   "outputs": [],
   "source": [
    "# utilizamos o OneHotEncoder para fazer essa conversão\n",
    "encoder = OneHotEncoder(handle_unknown='ignore')\n",
    "x_train_encoded = encoder.fit_transform(x_train.astype(str).values)"
   ]
  },
  {
   "cell_type": "markdown",
   "metadata": {},
   "source": [
    "Implementando o modelo"
   ]
  },
  {
   "cell_type": "code",
   "execution_count": null,
   "metadata": {},
   "outputs": [],
   "source": [
    "#cria modelo\n",
    "model = RandomForestClassifier(n_estimators = 100, random_state = 0)\n",
    "# treina modelo\n",
    "model.fit(x_train_encoded, y_train)"
   ]
  },
  {
   "cell_type": "markdown",
   "metadata": {},
   "source": [
    "#### <font color='#00878A'>Testes</font>\n"
   ]
  },
  {
   "cell_type": "markdown",
   "metadata": {},
   "source": [
    "Agora vamos testar a acurácia do modelo:"
   ]
  },
  {
   "cell_type": "code",
   "execution_count": null,
   "metadata": {},
   "outputs": [],
   "source": [
    "x_test_encoded = encoder.transform(x_test.astype(str).values)"
   ]
  },
  {
   "cell_type": "code",
   "execution_count": null,
   "metadata": {},
   "outputs": [],
   "source": [
    "# Testa modelo\n",
    "y_predict2 = model.predict(x_test_encoded)"
   ]
  },
  {
   "cell_type": "code",
   "execution_count": null,
   "metadata": {},
   "outputs": [],
   "source": [
    "acc_RandomForestClassifier= model.score(x_test_encoded, y_test)"
   ]
  },
  {
   "cell_type": "markdown",
   "metadata": {},
   "source": [
    "### Dados concatenados X dados não concatenados\n",
    "##### Porque a análise com os dados não concatenados funcionou melhor que os dados não concatenados?\n",
    "\n",
    "Como observado pelos resultados dos três classificadores acima, fica claro que a análise com os dados não concatenados possui uma acurácia maior do que a acurácia dos dados concatenados.\n",
    "\n",
    "Isso ocorre, pois os dads não concatenados consideram os adversários, havendo as respectivas informações de cada time, ou seja,  de cada um dos lados, determinantes na acurácia, haja vista a interferência do time adversário e sua probabilidade de vitória, importantes para classificar o resultado do jogo. Portanto, comparar as probabilidades de vitória respectivas dos times azul e vermelho em uma partida torna-se fundamental para obter melhoria nos classificadores utilizados."
   ]
  },
  {
   "cell_type": "markdown",
   "metadata": {},
   "source": [
    "___"
   ]
  },
  {
   "cell_type": "markdown",
   "metadata": {},
   "source": [
    "### Análise da probabilidade de acerto do classificador, segundo a segunda iteração"
   ]
  },
  {
   "cell_type": "markdown",
   "metadata": {},
   "source": [
    "A seguir, o grupo criou um dataset contendo as probabilidades de vitórias que o classificador obteve do time azul. Assim, se a probabilidade de vitória for abaixo de 50%, o classificador dirá que o time perdeu e, se for maior que 50%, dirá que venceu. "
   ]
  },
  {
   "cell_type": "code",
   "execution_count": null,
   "metadata": {},
   "outputs": [],
   "source": [
    "dados_testes['bPredict'] = y_predict2"
   ]
  },
  {
   "cell_type": "code",
   "execution_count": null,
   "metadata": {},
   "outputs": [],
   "source": [
    "y_predict_proba = model.predict_proba(x_test_encoded)"
   ]
  },
  {
   "cell_type": "code",
   "execution_count": null,
   "metadata": {},
   "outputs": [],
   "source": [
    "y_predict_proba"
   ]
  },
  {
   "cell_type": "code",
   "execution_count": null,
   "metadata": {},
   "outputs": [],
   "source": [
    "dados_testes['bPredictProba'] = y_predict_proba[:,1]"
   ]
  },
  {
   "cell_type": "code",
   "execution_count": null,
   "metadata": {},
   "outputs": [],
   "source": [
    "dados_testes.sort_values(by='bPredictProba')[['blueTeamTag', 'redTeamTag', 'bPredictProba', 'bResult']].head(20)"
   ]
  },
  {
   "cell_type": "code",
   "execution_count": null,
   "metadata": {},
   "outputs": [],
   "source": [
    "comp_erros = dados_testes[dados_testes['bResult'] != dados_testes[\"bPredict\"]]\n",
    "comp_acertos = dados_testes[dados_testes['bResult'] == dados_testes[\"bPredict\"]]"
   ]
  },
  {
   "cell_type": "code",
   "execution_count": null,
   "metadata": {},
   "outputs": [],
   "source": [
    "comp_acertos['bPredictProba'].value_counts().head(10)"
   ]
  },
  {
   "cell_type": "code",
   "execution_count": null,
   "metadata": {},
   "outputs": [],
   "source": [
    "comp_erros['blueTeamTag'].value_counts().head(10)"
   ]
  },
  {
   "cell_type": "markdown",
   "metadata": {},
   "source": [
    "#### Grau de incerteza x Acurácia"
   ]
  },
  {
   "cell_type": "markdown",
   "metadata": {},
   "source": [
    "A seguir, é plotado o gráfico do grau de incerteza (representado pela probabilidade de acerto) pela acurácia, cujo objetivo pauta-se em ajudar na decisão de pessoas, por exemplo, que desejam apostar em um determinado time (no caso, azul) em um determinado jogo. \n",
    "<p>\n",
    "Como visto no classificador random forest na segunda iteração do grupo, a acurácia é de aproximadamente 65%. Neste comtexto, imagina-se, hipoteticamemte, uma pessoa que deseja apostar se o time azul vai ganhar ou perder. Para aumentar as probabilidades de tal pessoa acertar, assim, ela olhará a tabela contendo a probabilidade de vitória do time. Assim, por critério da pessoa, esta escolherá um determinado alpha: se a probabilidade de vitória do time estiver, por exemplo, entre 0 e 30%, pode-se apostar com maior segurança que o time perderá. Se estiver entre 70% e 100%, pode-se dizer com maior certeza que ganhará. Neste exemplo, o alpha escolhido é de 30%, mas ele pode ficar por critério da pessoa que estiver apostando.\n"
   ]
  },
  {
   "cell_type": "code",
   "execution_count": null,
   "metadata": {},
   "outputs": [],
   "source": [
    "import matplotlib.pyplot as plt\n",
    "a=0\n",
    "alfa=[]\n",
    "alf=[]\n",
    "acc=[]\n",
    "while a<=50:\n",
    "    alfa.append(a)\n",
    "    a+=1\n",
    "for a in alfa:    \n",
    "    alf.append(a/100)\n",
    "for a in alf:\n",
    "    acertos=len(comp_acertos[comp_acertos.bPredictProba<a])+len(comp_acertos[comp_acertos.bPredictProba>=1-a])\n",
    "    total=len(dados_testes[dados_testes.bPredictProba<a])+len(dados_testes[dados_testes.bPredictProba>=1-a])\n",
    "    if total==0:\n",
    "        total=1\n",
    "    if acertos==0:\n",
    "        acertos=1\n",
    "    acc.append(acertos*100/total)\n",
    "plt.plot(100 - np.array(alfa),acc)\n",
    "plt.ylabel('Acurácia(%)')\n",
    "plt.xlabel('Grau de certeza(%)')\n",
    "plt.title('Acurácia por Grau de certeza')\n",
    "plt.grid()\n",
    "plt.show()"
   ]
  },
  {
   "cell_type": "markdown",
   "metadata": {},
   "source": [
    "___"
   ]
  },
  {
   "cell_type": "markdown",
   "metadata": {},
   "source": [
    "## <font color='#00878A'>_Logistic regression_</font>"
   ]
  },
  {
   "cell_type": "markdown",
   "metadata": {},
   "source": [
    "A regressão logística é um método para analisar dados no qual existem uma ou mais variáveis independentes que determinam um resultado. O resultado é medido com uma variável binária."
   ]
  },
  {
   "cell_type": "markdown",
   "metadata": {},
   "source": [
    "#### <font color='#00878A'>Treinamento</font>"
   ]
  },
  {
   "cell_type": "markdown",
   "metadata": {},
   "source": [
    "Como o grupo percebeu, a partir do primeiro classificador, que é melhor utilizar os dados não concatenados, tal estratégia foi adotada no logistic regression."
   ]
  },
  {
   "cell_type": "markdown",
   "metadata": {},
   "source": [
    "Separando Treinamento e Teste"
   ]
  },
  {
   "cell_type": "code",
   "execution_count": null,
   "metadata": {},
   "outputs": [],
   "source": [
    "y_train2 = dados['bResult']\n",
    "x_train2 = dados.drop(columns = ['bResult', 'rResult'])"
   ]
  },
  {
   "cell_type": "markdown",
   "metadata": {},
   "source": [
    "Convertendo as variáveis categóricas em quantitativas"
   ]
  },
  {
   "cell_type": "code",
   "execution_count": null,
   "metadata": {},
   "outputs": [],
   "source": [
    "encoder = OneHotEncoder(handle_unknown='ignore')\n",
    "x_train2_encoded = encoder.fit_transform(x_train2.astype(str).values)"
   ]
  },
  {
   "cell_type": "markdown",
   "metadata": {},
   "source": [
    "Implementando o modelo: "
   ]
  },
  {
   "cell_type": "code",
   "execution_count": null,
   "metadata": {},
   "outputs": [],
   "source": [
    "# cria modelo\n",
    "model2 = LogisticRegression(solver='lbfgs', multi_class='auto')"
   ]
  },
  {
   "cell_type": "code",
   "execution_count": null,
   "metadata": {
    "scrolled": false
   },
   "outputs": [],
   "source": [
    "# treina modelo\n",
    "model2.fit(x_train2_encoded, y_train2)"
   ]
  },
  {
   "cell_type": "code",
   "execution_count": null,
   "metadata": {},
   "outputs": [],
   "source": [
    "model2.score(x_train2_encoded,y_train2)"
   ]
  },
  {
   "cell_type": "markdown",
   "metadata": {},
   "source": [
    "#### <font color='#00878A'>Testes</font>"
   ]
  },
  {
   "cell_type": "code",
   "execution_count": null,
   "metadata": {},
   "outputs": [],
   "source": [
    "dados_testes = pd.read_excel('matchinfo-testes.xlsx')\n",
    "dados_testes.dropna(inplace=True)"
   ]
  },
  {
   "cell_type": "code",
   "execution_count": null,
   "metadata": {},
   "outputs": [],
   "source": [
    "y_test2 = dados_testes['bResult']\n",
    "x_test2 = dados_testes.drop(columns=['bResult','rResult'])"
   ]
  },
  {
   "cell_type": "code",
   "execution_count": null,
   "metadata": {},
   "outputs": [],
   "source": [
    "x_test2_encoded = encoder.transform(x_test2.astype(str).values)"
   ]
  },
  {
   "cell_type": "code",
   "execution_count": null,
   "metadata": {},
   "outputs": [],
   "source": [
    "y_pred2 = model2.predict(x_test2_encoded)"
   ]
  },
  {
   "cell_type": "code",
   "execution_count": null,
   "metadata": {},
   "outputs": [],
   "source": [
    "acc_LogisticRegression = accuracy_score(y_test2, y_pred2)"
   ]
  },
  {
   "cell_type": "code",
   "execution_count": null,
   "metadata": {},
   "outputs": [],
   "source": [
    "y_pred2"
   ]
  },
  {
   "cell_type": "markdown",
   "metadata": {},
   "source": [
    "Obtendo acurácia"
   ]
  },
  {
   "cell_type": "code",
   "execution_count": null,
   "metadata": {},
   "outputs": [],
   "source": [
    "acc_LogisticRegression"
   ]
  },
  {
   "cell_type": "markdown",
   "metadata": {},
   "source": [
    "___"
   ]
  },
  {
   "cell_type": "markdown",
   "metadata": {},
   "source": [
    "### Acurácia x Grau de certeza"
   ]
  },
  {
   "cell_type": "markdown",
   "metadata": {},
   "source": [
    "O grupo repetiu o processo para ajudar na decisão de aposta mostrado no caso do classificador Random Forest"
   ]
  },
  {
   "cell_type": "code",
   "execution_count": null,
   "metadata": {},
   "outputs": [],
   "source": [
    "dados_testes['bPredict'] = y_pred2"
   ]
  },
  {
   "cell_type": "code",
   "execution_count": null,
   "metadata": {},
   "outputs": [],
   "source": [
    "y_predict_proba2 = model2.predict_proba(x_test2_encoded)"
   ]
  },
  {
   "cell_type": "code",
   "execution_count": null,
   "metadata": {},
   "outputs": [],
   "source": [
    "y_predict_proba2"
   ]
  },
  {
   "cell_type": "code",
   "execution_count": null,
   "metadata": {},
   "outputs": [],
   "source": [
    "dados_testes['bPredictProba'] = y_predict_proba2[:,1]"
   ]
  },
  {
   "cell_type": "code",
   "execution_count": null,
   "metadata": {},
   "outputs": [],
   "source": [
    "dados_testes.sort_values(by='bPredictProba')[['blueTeamTag', 'redTeamTag', 'bPredictProba', 'bResult']].head(20)"
   ]
  },
  {
   "cell_type": "code",
   "execution_count": null,
   "metadata": {},
   "outputs": [],
   "source": [
    "comp_erros = dados_testes[dados_testes['bResult'] != dados_testes[\"bPredict\"]]\n",
    "comp_acertos = dados_testes[dados_testes['bResult'] == dados_testes[\"bPredict\"]]"
   ]
  },
  {
   "cell_type": "code",
   "execution_count": null,
   "metadata": {
    "scrolled": true
   },
   "outputs": [],
   "source": [
    "import matplotlib.pyplot as plt\n",
    "a=0\n",
    "alfa=[]\n",
    "alf=[]\n",
    "acc=[]\n",
    "while a<=50:\n",
    "    alfa.append(a)\n",
    "    a+=1\n",
    "for a in alfa:    \n",
    "    alf.append(a/100)\n",
    "for a in alf:\n",
    "    acertos=len(comp_acertos[comp_acertos.bPredictProba<a])+len(comp_acertos[comp_acertos.bPredictProba>=1-a])\n",
    "    total=len(dados_testes[dados_testes.bPredictProba<a])+len(dados_testes[dados_testes.bPredictProba>=1-a])\n",
    "    if total==0:\n",
    "        total=1\n",
    "    if acertos==0:\n",
    "        acertos=1\n",
    "    acc.append(acertos*100/total)\n",
    "plt.plot(100 - np.array(alfa),acc)\n",
    "plt.ylabel('Acurácia(%)')\n",
    "plt.xlabel('Grau de certeza(%)')\n",
    "plt.title('Acurácia por Grau de certeza')\n",
    "plt.grid()\n",
    "plt.show()\n"
   ]
  },
  {
   "cell_type": "markdown",
   "metadata": {},
   "source": [
    "# <font color='#00878A'>_Decision tree_</font>"
   ]
  },
  {
   "cell_type": "markdown",
   "metadata": {},
   "source": [
    "Vamos implementar agora uma técnica chamada Decision Tree. Ela é utilizada para classificadores e regressões, no nosso caso classificação. O objetivo do uso da Decision Tree é criar um modelo que fará uma predição baseado em uma classifição de várias classes."
   ]
  },
  {
   "cell_type": "markdown",
   "metadata": {},
   "source": [
    "\n",
    "### Separando treinamento e teste"
   ]
  },
  {
   "cell_type": "markdown",
   "metadata": {},
   "source": [
    "Com a leitura da base de dados na célula abaixo, já podemos começar a construir o classificador Decision Tree e treiná-lo com o conjunto de treinamento.\n"
   ]
  },
  {
   "cell_type": "code",
   "execution_count": null,
   "metadata": {},
   "outputs": [],
   "source": [
    "\n",
    "dados_testes = pd.read_excel('matchinfo-testes.xlsx')\n",
    "dados_testes.dropna(inplace=True)\n",
    "y_train = dados['bResult']\n",
    "x_train = dados.drop(columns=['bResult', 'rResult'])\n",
    "y_test = dados_testes['bResult']\n",
    "x_test = dados_testes.drop(columns=['bResult', 'rResult'])"
   ]
  },
  {
   "cell_type": "code",
   "execution_count": null,
   "metadata": {},
   "outputs": [],
   "source": [
    "encoder = OneHotEncoder(handle_unknown='ignore')\n",
    "x_train_encoded = encoder.fit_transform(x_train.astype(str).values)"
   ]
  },
  {
   "cell_type": "code",
   "execution_count": null,
   "metadata": {},
   "outputs": [],
   "source": [
    "from sklearn.tree import DecisionTreeRegressor\n",
    "regressor = DecisionTreeRegressor()\n",
    "regressor.fit(x_train_encoded, y_train)"
   ]
  },
  {
   "cell_type": "code",
   "execution_count": null,
   "metadata": {},
   "outputs": [],
   "source": [
    "x_test_encoded3 = encoder.transform(x_test.astype(str).values)"
   ]
  },
  {
   "cell_type": "code",
   "execution_count": null,
   "metadata": {},
   "outputs": [],
   "source": [
    "# Testa modelo\n",
    "y_pred = regressor.predict(x_test_encoded3)\n",
    "\n",
    "# Cálcula acurácia\n",
    "acc_DecisionTreeRegressor = accuracy_score(y_test, y_pred)\n",
    "\n",
    "print(\"Acurácia: {}\".format(acc))"
   ]
  },
  {
   "cell_type": "markdown",
   "metadata": {},
   "source": [
    "___"
   ]
  },
  {
   "cell_type": "markdown",
   "metadata": {},
   "source": [
    "## <font color='#00878A'>_Classificador criado pelo grupo_</font>"
   ]
  },
  {
   "cell_type": "markdown",
   "metadata": {},
   "source": [
    "Este classificador foi criado pelo grupo, cujo objetivo foi obter os resultados probabilísticos e compará-los aos obtidos com os classificadores passados em aula pelo professor.\n",
    "<p>\n",
    "A priori, foram definidos dados nos quais o classificador iria basear-se, sendo eles: win rate de cada jogador, win rate de cada Champion e, por fim, o win rate de cada time. Para calculá-los, foi usada a planilha contendo os resultados e os dados de cada partida. Desta forma, foram calculadas as probabilidades de cada time para ganhar o jogo, as quais foram comparadas. O time que tivesse, pois, maior probabilidade de vitória seria o vencedor."
   ]
  },
  {
   "cell_type": "code",
   "execution_count": null,
   "metadata": {},
   "outputs": [],
   "source": [
    "team={}\n",
    "for i in dados.blueTeamTag:\n",
    "    team[i]=0\n",
    "for i in dados.redTeamTag:\n",
    "    team[i]=0\n",
    "for k,v in team.items():\n",
    "    wins=len(dados[(dados.blueTeamTag==k) & (dados.bResult==1)])+len(dados[(dados.redTeamTag==k) & (dados.rResult==1)])\n",
    "    matchs=len(dados[dados.blueTeamTag==k])+ len(dados[dados.redTeamTag==k])\n",
    "    if matchs!=0:\n",
    "        team[k]=wins/matchs\n"
   ]
  },
  {
   "cell_type": "code",
   "execution_count": null,
   "metadata": {},
   "outputs": [],
   "source": [
    "top = {}\n",
    "for i in dados.blueTopChamp:\n",
    "    top[i]=0\n",
    "for i in dados.redTopChamp:\n",
    "    top[i]=0\n",
    "for k,v in  top.items():\n",
    "    wins=len(dados[(dados.blueTopChamp==k) & (dados.bResult==1)])+len(dados[(dados.redTopChamp==k) & (dados.rResult==1)])\n",
    "    matchs=len(dados[dados.blueTopChamp==k])+ len(dados[dados.redTopChamp==k])      \n",
    "    if matchs!=0:\n",
    "        top[k]=wins/matchs\n"
   ]
  },
  {
   "cell_type": "code",
   "execution_count": null,
   "metadata": {},
   "outputs": [],
   "source": [
    "jg = {}\n",
    "for i in dados.blueJungleChamp:\n",
    "    jg[i]=0\n",
    "for i in dados.redJungleChamp:\n",
    "    jg[i]=0\n",
    "for k,v in  jg.items():\n",
    "    wins=len(dados[(dados.blueJungleChamp==k) & (dados.bResult==1)])+len(dados[(dados.redJungleChamp==k) & (dados.rResult==1)])\n",
    "    matchs=len(dados[dados.blueJungleChamp==k])+ len(dados[dados.redJungleChamp==k])      \n",
    "    if matchs!=0:\n",
    "        jg[k]=wins/matchs\n"
   ]
  },
  {
   "cell_type": "code",
   "execution_count": null,
   "metadata": {},
   "outputs": [],
   "source": [
    "mid = {}\n",
    "for i in dados.blueMiddleChamp:\n",
    "    mid[i]=0\n",
    "for i in dados.redMiddleChamp:\n",
    "    mid[i]=0\n",
    "for k,v in  mid.items():\n",
    "    wins=len(dados[(dados.blueMiddleChamp==k) & (dados.bResult==1)])+len(dados[(dados.redMiddleChamp==k) & (dados.rResult==1)])\n",
    "    matchs=len(dados[dados.blueMiddleChamp==k])+ len(dados[dados.redMiddleChamp==k])      \n",
    "    if matchs!=0:\n",
    "        mid[k]=wins/matchs\n"
   ]
  },
  {
   "cell_type": "code",
   "execution_count": null,
   "metadata": {},
   "outputs": [],
   "source": [
    "adc = {}\n",
    "for i in dados.blueADCChamp:\n",
    "    adc[i]=0\n",
    "for i in dados.redADCChamp:\n",
    "    adc[i]=0\n",
    "for k,v in  adc.items():\n",
    "    wins=len(dados[(dados.blueADCChamp==k) & (dados.bResult==1)])+len(dados[(dados.redADCChamp==k) & (dados.rResult==1)])\n",
    "    matchs=len(dados[dados.blueADCChamp==k])+ len(dados[dados.redADCChamp==k])      \n",
    "    if matchs!=0:\n",
    "        adc[k]=wins/matchs\n"
   ]
  },
  {
   "cell_type": "code",
   "execution_count": null,
   "metadata": {},
   "outputs": [],
   "source": [
    "sup = {}\n",
    "for i in dados.blueSupportChamp:\n",
    "    sup[i]=0\n",
    "for i in dados.redSupportChamp:\n",
    "    sup[i]=0\n",
    "for k,v in  sup.items():\n",
    "    wins=len(dados[(dados.blueSupportChamp==k) & (dados.bResult==1)])+len(dados[(dados.redSupportChamp==k) & (dados.rResult==1)])\n",
    "    matchs=len(dados[dados.blueSupportChamp==k])+ len(dados[dados.redSupportChamp==k])      \n",
    "    if matchs!=0:\n",
    "        sup[k]=wins/matchs\n"
   ]
  },
  {
   "cell_type": "code",
   "execution_count": null,
   "metadata": {},
   "outputs": [],
   "source": [
    "top_player = {}\n",
    "for i in dados.blueTop:\n",
    "    top_player[i]=0\n",
    "for i in dados.redTop:\n",
    "    top_player[i]=0\n",
    "for k,v in  top_player.items():\n",
    "    wins=len(dados[(dados.blueTop==k) & (dados.bResult==1)])+len(dados[(dados.redTop==k) & (dados.rResult==1)])\n",
    "    matchs=len(dados[dados.blueTop==k])+ len(dados[dados.redTop==k])      \n",
    "    if matchs!=0:\n",
    "        top_player[k]=wins/matchs\n"
   ]
  },
  {
   "cell_type": "code",
   "execution_count": null,
   "metadata": {},
   "outputs": [],
   "source": [
    "jg_player = {}\n",
    "for i in dados.blueJungle:\n",
    "    jg_player[i]=0\n",
    "for i in dados.redJungle:\n",
    "    jg_player[i]=0\n",
    "for k,v in  jg_player.items():\n",
    "    wins=len(dados[(dados.blueJungle==k) & (dados.bResult==1)])+len(dados[(dados.redJungle==k) & (dados.rResult==1)])\n",
    "    matchs=len(dados[dados.blueJungle==k])+ len(dados[dados.redJungle==k])      \n",
    "    if matchs!=0:\n",
    "        jg_player[k]=wins/matchs\n"
   ]
  },
  {
   "cell_type": "code",
   "execution_count": null,
   "metadata": {},
   "outputs": [],
   "source": [
    "mid_player = {}\n",
    "for i in dados.blueMiddle:\n",
    "    mid_player[i]=0\n",
    "for i in dados.redMiddle:\n",
    "    mid_player[i]=0\n",
    "for k,v in  mid_player.items():\n",
    "    wins=len(dados[(dados.blueMiddle==k) & (dados.bResult==1)])+len(dados[(dados.redMiddle==k) & (dados.rResult==1)])\n",
    "    matchs=len(dados[dados.blueMiddle==k])+ len(dados[dados.redMiddle==k])      \n",
    "    if matchs!=0:\n",
    "        mid_player[k]=wins/matchs\n"
   ]
  },
  {
   "cell_type": "code",
   "execution_count": null,
   "metadata": {},
   "outputs": [],
   "source": [
    "adc_player = {}\n",
    "for i in dados.blueADC:\n",
    "    adc_player[i]=0\n",
    "for i in dados.redADC:\n",
    "    adc_player[i]=0\n",
    "for k,v in  adc_player.items():\n",
    "    wins=len(dados[(dados.blueADC==k) & (dados.bResult==1)])+len(dados[(dados.redADC==k) & (dados.rResult==1)])\n",
    "    matchs=len(dados[dados.blueADC==k])+ len(dados[dados.redADC==k])      \n",
    "    if matchs!=0:\n",
    "        adc_player[k]=wins/matchs\n"
   ]
  },
  {
   "cell_type": "code",
   "execution_count": null,
   "metadata": {},
   "outputs": [],
   "source": [
    "sup_player = {}\n",
    "for i in dados.blueSupport:\n",
    "    sup_player[i]=0\n",
    "for i in dados.redSupport:\n",
    "    sup_player[i]=0\n",
    "for k,v in  sup_player.items():\n",
    "    wins=len(dados[(dados.blueSupport==k) & (dados.bResult==1)])+len(dados[(dados.redSupport==k) & (dados.rResult==1)])\n",
    "    matchs=len(dados[dados.blueSupport==k])+ len(dados[dados.redSupport==k])      \n",
    "    if matchs!=0:\n",
    "        sup_player[k]=wins/matchs\n"
   ]
  },
  {
   "cell_type": "code",
   "execution_count": null,
   "metadata": {},
   "outputs": [],
   "source": [
    "#dicionarios juntos\n",
    "alls={}\n",
    "\n",
    "for k,v in team.items():\n",
    "    alls[k]=v\n",
    "\n",
    "for k,v in top.items():\n",
    "    alls[k]=v\n",
    "\n",
    "for k,v in mid.items():\n",
    "    if k not in mid.keys():\n",
    "        alls[k]=v\n",
    "    else:\n",
    "        alls[k]=(v+mid[k])/2\n",
    "\n",
    "for k,v in jg.items():\n",
    "    if k not in jg.keys():\n",
    "        alls[k]=v\n",
    "    else:\n",
    "        alls[k]=(v+jg[k])/2\n",
    "\n",
    "for k,v in adc.items():\n",
    "    if k not in adc.keys():\n",
    "        alls[k]=v\n",
    "    else:\n",
    "        alls[k]=(v+adc[k])/2\n",
    "\n",
    "for k,v in sup.items():\n",
    "    if k not in sup.keys():\n",
    "        alls[k]=v\n",
    "    else:\n",
    "        alls[k]=(v+sup[k])/2\n",
    "\n",
    "for k,v in top_player.items():\n",
    "    if k not in top_player.keys():\n",
    "        alls[k]=v\n",
    "    else:\n",
    "        alls[k]=(v+top_player[k])/2\n",
    "\n",
    "for k,v in jg_player.items():\n",
    "    if k not in jg_player.keys():\n",
    "        alls[k]=v\n",
    "    else:\n",
    "        alls[k]=(v+jg_player[k])/2\n",
    "\n",
    "for k,v in mid_player.items():\n",
    "    if k not in mid_player.keys():\n",
    "        alls[k]=v\n",
    "    else:\n",
    "        alls[k]=(v+mid_player[k])/2\n",
    "\n",
    "for k,v in adc_player.items():\n",
    "    if k not in adc_player.keys():\n",
    "        alls[k]=v\n",
    "    else:\n",
    "        alls[k]=(v+adc_player[k])/2\n",
    "\n",
    "for k,v in sup_player.items():\n",
    "    if k not in sup_player.keys():\n",
    "        alls[k]=v\n",
    "    else:\n",
    "        alls[k]=(v+sup_player[k])/2\n",
    "    "
   ]
  },
  {
   "cell_type": "code",
   "execution_count": null,
   "metadata": {},
   "outputs": [],
   "source": [
    "dados_testes = pd.read_excel('matchinfo-testes.xlsx')"
   ]
  },
  {
   "cell_type": "code",
   "execution_count": null,
   "metadata": {},
   "outputs": [],
   "source": [
    "wins=[]\n",
    "for i in range(len(dados_testes)):\n",
    "    probblue=1\n",
    "    probred=1\n",
    "    \n",
    "    for f in columnsb:\n",
    "        if dados_testes.loc[i,f] not in alls.keys():\n",
    "            probblue*=0.5\n",
    "        else:\n",
    "            if alls[dados_testes.loc[i,f]]==0 or alls[dados_testes.loc[i,f]]==1:\n",
    "                probblue*=0.5\n",
    "            else:\n",
    "                probblue*=alls[dados_testes.loc[i,f]]\n",
    "    for f in columnsr:\n",
    "        if dados_testes.loc[i,f] not in alls.keys():\n",
    "            probred*=0.5\n",
    "        else:\n",
    "            if alls[dados_testes.loc[i,f]]==0 or alls[dados_testes.loc[i,f]]==1:\n",
    "                probred*=0.5\n",
    "            else:\n",
    "                probred*=alls[dados_testes.loc[i,f]]\n",
    "    if probblue<probred:\n",
    "        wins.append(0)\n",
    "    else:\n",
    "        wins.append(1)"
   ]
  },
  {
   "cell_type": "code",
   "execution_count": null,
   "metadata": {},
   "outputs": [],
   "source": [
    "#teste de qualidade\n",
    "certo=0\n",
    "total=0\n",
    "for i in range(len(dados_testes)):\n",
    "    if dados_testes.loc[i,'bResult']==wins[i]:\n",
    "        certo+=1\n",
    "        total+=1\n",
    "    else:\n",
    "        total+=1        "
   ]
  },
  {
   "cell_type": "code",
   "execution_count": null,
   "metadata": {},
   "outputs": [],
   "source": [
    "print(\"Acurácia: {}\".format(certo/total))"
   ]
  },
  {
   "cell_type": "markdown",
   "metadata": {},
   "source": [
    "## <font color='#00878A'>Classificador para o usuário</font>"
   ]
  },
  {
   "cell_type": "markdown",
   "metadata": {},
   "source": [
    "### Criando um dataframe para ser lido\n"
   ]
  },
  {
   "cell_type": "markdown",
   "metadata": {},
   "source": [
    "O grupo criou um código com intuito de ajudar uma pessoa no chute em relação à uma vitória ou derrota. Neste caso, havendo os inputs, o usuário escreve uma determinada composição com os champions, escolha dos players e seu respectivo time. Assim, obtendo os dados, é possível que os classificadores analizem-os e retorne o time vencedor e o perdedor."
   ]
  },
  {
   "cell_type": "code",
   "execution_count": null,
   "metadata": {},
   "outputs": [],
   "source": [
    "clas=['League', 'Year', 'Season', 'Type', 'blueTeamTag', \n",
    "       'redTeamTag', 'gamelength', 'blueTop', 'blueTopChamp', 'blueJungle',\n",
    "       'blueJungleChamp', 'blueMiddle', 'blueMiddleChamp', 'blueADC',\n",
    "       'blueADCChamp', 'blueSupport', 'blueSupportChamp', 'redTop',\n",
    "       'redTopChamp', 'redJungle', 'redJungleChamp', 'redMiddle',\n",
    "       'redMiddleChamp', 'redADC', 'redADCChamp', 'redSupport',\n",
    "       'redSupportChamp', 'Address']\n",
    "print('Se voce quiser pode tentar classificar os seus dados')\n",
    "data=[]\n",
    "for i in clas:\n",
    "    a=input('{0} ? '.format(i))\n",
    "    data.append(a)\n",
    "df2 = pd.DataFrame(np.array([data]),columns=clas)\n",
    "df2\n",
    "\n"
   ]
  },
  {
   "cell_type": "markdown",
   "metadata": {},
   "source": [
    "### Analisando o Dataframe nos Classificadores"
   ]
  },
  {
   "cell_type": "code",
   "execution_count": null,
   "metadata": {},
   "outputs": [],
   "source": [
    "df2_encoded = encoder.transform(df2.astype(str).values)\n",
    "ypredict = model.predict(df2_encoded)\n",
    "ypredict2 = model2.predict(df2_encoded)\n",
    "ypredict3 = regressor.predict(df2_encoded)\n",
    "\n",
    "\n",
    "\n",
    "print('Random Forest Classifier:')\n",
    "if ypredict==1:\n",
    "    print('Time Azul Ganhou!!!')\n",
    "else:\n",
    "    print('Time Vermelho Ganhou!!!')\n",
    "print('Logistic Regression:')\n",
    "if ypredict2==1:\n",
    "    print('Time Azul Ganhou!!!')\n",
    "else:\n",
    "    print('Time Vermelho Ganhou!!!')\n",
    "print('Decision Tree Regressor')\n",
    "if ypredict3==1:\n",
    "    print('Time Azul Ganhou!!!')\n",
    "else:\n",
    "    print('Time Vermelho Ganhou!!!')    "
   ]
  },
  {
   "cell_type": "markdown",
   "metadata": {},
   "source": [
    "## Conclusão\n"
   ]
  },
  {
   "cell_type": "markdown",
   "metadata": {},
   "source": [
    "<p>\n",
    "    A partir da base de dados e dos classificadores feitos pelo grupo, conclui-se que o melhor classificador usado para a realização da predição de qual dos times em uma determimnada partida irá ganhar ou perder, com uma determinada composição de champions e um determinado time, é o random forest. \n",
    "<p>\n",
    "    Como justificativa, temos que o random forest analiza um conjunto de árvores, ou seja, pode-se defini-lo como uma conjunto de \"decisions tree\", na qual se agregam maiores informações em relação às probabilidades.\n",
    "<p>\n",
    "    A acurácia de aproximadamente 65% é dada pelo fato de que o jogo League of Legends pode possuir muitas intervenções e variedades em seus resultados. Ademais, o grupo não considerou de forma adequada os matchups possíveis, ou seja, as combinações de campeões entre os times oponentes, pois pela grande quantidade que campeoes haviam poucos dados para analisar todos, tendo em vista, ainda que atualmente o jogo possui um total de 147 campeões.\n"
   ]
  },
  {
   "cell_type": "code",
   "execution_count": null,
   "metadata": {},
   "outputs": [],
   "source": [
    "print('Decision Tree:',acc_DecisionTreeRegressor)\n",
    "print('Logistic Regression:',acc_LogisticRegression)\n",
    "print('Random Forest Classifier:',acc_RandomForestClassifier)"
   ]
  }
 ],
 "metadata": {
  "kernelspec": {
   "display_name": "Python 3",
   "language": "python",
   "name": "python3"
  },
  "language_info": {
   "codemirror_mode": {
    "name": "ipython",
    "version": 3
   },
   "file_extension": ".py",
   "mimetype": "text/x-python",
   "name": "python",
   "nbconvert_exporter": "python",
   "pygments_lexer": "ipython3",
   "version": "3.7.1"
  }
 },
 "nbformat": 4,
 "nbformat_minor": 2
}
